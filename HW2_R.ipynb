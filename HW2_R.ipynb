{
 "cells": [
  {
   "cell_type": "code",
   "execution_count": 38,
   "metadata": {
    "vscode": {
     "languageId": "r"
    }
   },
   "outputs": [
    {
     "data": {
      "text/html": [
       "<table class=\"dataframe\">\n",
       "<caption>A data.frame: 10 × 27</caption>\n",
       "<thead>\n",
       "\t<tr><th></th><th scope=col>listPrice</th><th scope=col>rent</th><th scope=col>livingArea</th><th scope=col>rooms</th><th scope=col>published</th><th scope=col>constructionYear</th><th scope=col>objectType</th><th scope=col>booliId</th><th scope=col>soldDate</th><th scope=col>soldPrice</th><th scope=col>⋯</th><th scope=col>location.position.latitude</th><th scope=col>location.position.longitude</th><th scope=col>location.position.isApproximate</th><th scope=col>location.region.municipalityName</th><th scope=col>location.region.countyName</th><th scope=col>location.distance.ocean</th><th scope=col>source.name</th><th scope=col>source.id</th><th scope=col>source.type</th><th scope=col>source.url</th></tr>\n",
       "\t<tr><th></th><th scope=col>&lt;int&gt;</th><th scope=col>&lt;int&gt;</th><th scope=col>&lt;dbl&gt;</th><th scope=col>&lt;dbl&gt;</th><th scope=col>&lt;chr&gt;</th><th scope=col>&lt;int&gt;</th><th scope=col>&lt;chr&gt;</th><th scope=col>&lt;int&gt;</th><th scope=col>&lt;chr&gt;</th><th scope=col>&lt;int&gt;</th><th scope=col>⋯</th><th scope=col>&lt;dbl&gt;</th><th scope=col>&lt;dbl&gt;</th><th scope=col>&lt;lgl&gt;</th><th scope=col>&lt;chr&gt;</th><th scope=col>&lt;chr&gt;</th><th scope=col>&lt;int&gt;</th><th scope=col>&lt;chr&gt;</th><th scope=col>&lt;int&gt;</th><th scope=col>&lt;chr&gt;</th><th scope=col>&lt;chr&gt;</th></tr>\n",
       "</thead>\n",
       "<tbody>\n",
       "\t<tr><th scope=row>1</th><td>3995000</td><td>4467</td><td> 73.0</td><td>3</td><td>2018-10-15 13:33:18</td><td>1935</td><td>Lägenhet</td><td>3263989</td><td>2018-11-08</td><td>3820000</td><td>⋯</td><td>59.37103</td><td>18.05406</td><td>  NA</td><td>Stockholm</td><td>Stockholms län</td><td>260</td><td>MOHV                       </td><td>  1901865</td><td>Broker</td><td>http://www.mohv.se/                </td></tr>\n",
       "\t<tr><th scope=row>2</th><td>1995000</td><td>1773</td><td> 36.0</td><td>1</td><td>2018-10-05 14:29:28</td><td>1968</td><td>Lägenhet</td><td>3256231</td><td>2018-10-19</td><td>2355000</td><td>⋯</td><td>59.37124</td><td>18.05782</td><td>  NA</td><td>Stockholm</td><td>Stockholms län</td><td>218</td><td>Notar                      </td><td>     1566</td><td>Broker</td><td>http://www.notar.se/               </td></tr>\n",
       "\t<tr><th scope=row>3</th><td>5100000</td><td>3839</td><td> 81.0</td><td>3</td><td>2018-09-11 13:44:43</td><td>1936</td><td>Lägenhet</td><td>3236660</td><td>2018-09-27</td><td>6110000</td><td>⋯</td><td>59.37162</td><td>18.05472</td><td>  NA</td><td>Stockholm</td><td>Stockholms län</td><td>186</td><td>Historiska Hem AB          </td><td> 65645750</td><td>Broker</td><td>http://historiskahem.se/           </td></tr>\n",
       "\t<tr><th scope=row>4</th><td>5495000</td><td>4483</td><td>107.0</td><td>4</td><td>2018-08-25 02:56:56</td><td>1936</td><td>Lägenhet</td><td>3224374</td><td>2018-09-06</td><td>8050000</td><td>⋯</td><td>59.37148</td><td>18.05388</td><td>  NA</td><td>Stockholm</td><td>Stockholms län</td><td>218</td><td>Notar                      </td><td>     1566</td><td>Broker</td><td>http://www.notar.se/               </td></tr>\n",
       "\t<tr><th scope=row>5</th><td>1995000</td><td>1696</td><td> 29.0</td><td>1</td><td>2018-06-15 17:16:19</td><td>1936</td><td>Lägenhet</td><td>3185496</td><td>2018-06-18</td><td>2400000</td><td>⋯</td><td>59.37216</td><td>18.05354</td><td>TRUE</td><td>Stockholm</td><td>Stockholms län</td><td>166</td><td>Mäklarhuset                </td><td>      204</td><td>Broker</td><td>http://www.maklarhuset.se/         </td></tr>\n",
       "\t<tr><th scope=row>6</th><td>7495000</td><td>5923</td><td>125.0</td><td>4</td><td>2018-06-09 10:51:27</td><td>1936</td><td>Lägenhet</td><td>3181135</td><td>2018-06-21</td><td>8950000</td><td>⋯</td><td>59.37148</td><td>18.05388</td><td>  NA</td><td>Stockholm</td><td>Stockholms län</td><td>218</td><td>Notar                      </td><td>     1566</td><td>Broker</td><td>http://www.notar.se/               </td></tr>\n",
       "\t<tr><th scope=row>7</th><td>3975000</td><td>3324</td><td> 79.2</td><td>3</td><td>2018-06-01 20:39:17</td><td>1968</td><td>Lägenhet</td><td>3175733</td><td>2018-06-16</td><td>4200000</td><td>⋯</td><td>59.37105</td><td>18.05837</td><td>TRUE</td><td>Stockholm</td><td>Stockholms län</td><td>246</td><td>Svensk Fastighetsförmedling</td><td>      713</td><td>Broker</td><td>http://www.svenskfast.se/          </td></tr>\n",
       "\t<tr><th scope=row>8</th><td>3250000</td><td>2789</td><td> 64.3</td><td>2</td><td>2018-05-31 20:07:51</td><td>1969</td><td>Lägenhet</td><td>3173741</td><td>2018-06-15</td><td>3300000</td><td>⋯</td><td>59.37095</td><td>18.05863</td><td>TRUE</td><td>Stockholm</td><td>Stockholms län</td><td>264</td><td>Innerstadsspecialisten AB  </td><td>     1130</td><td>Broker</td><td>http://www.innerspec.se/           </td></tr>\n",
       "\t<tr><th scope=row>9</th><td>3250000</td><td>2965</td><td> 64.3</td><td>2</td><td>2018-05-25 20:46:58</td><td>1968</td><td>Lägenhet</td><td>3169052</td><td>2018-06-10</td><td>3150000</td><td>⋯</td><td>59.37095</td><td>18.05863</td><td>TRUE</td><td>Stockholm</td><td>Stockholms län</td><td>264</td><td>Notar                      </td><td>     1566</td><td>Broker</td><td>http://www.notar.se/               </td></tr>\n",
       "\t<tr><th scope=row>10</th><td>5495000</td><td>6465</td><td> 96.0</td><td>3</td><td>2018-05-19 12:47:47</td><td>1936</td><td>Lägenhet</td><td>3154871</td><td>2018-06-04</td><td>5400000</td><td>⋯</td><td>59.37119</td><td>18.05355</td><td>  NA</td><td>Stockholm</td><td>Stockholms län</td><td>255</td><td>Nestor Fastighetsmäkleri   </td><td>186499846</td><td>Broker</td><td>https://nestorfastighetsmakleri.se/</td></tr>\n",
       "</tbody>\n",
       "</table>\n"
      ],
      "text/latex": [
       "A data.frame: 10 × 27\n",
       "\\begin{tabular}{r|lllllllllllllllllllll}\n",
       "  & listPrice & rent & livingArea & rooms & published & constructionYear & objectType & booliId & soldDate & soldPrice & ⋯ & location.position.latitude & location.position.longitude & location.position.isApproximate & location.region.municipalityName & location.region.countyName & location.distance.ocean & source.name & source.id & source.type & source.url\\\\\n",
       "  & <int> & <int> & <dbl> & <dbl> & <chr> & <int> & <chr> & <int> & <chr> & <int> & ⋯ & <dbl> & <dbl> & <lgl> & <chr> & <chr> & <int> & <chr> & <int> & <chr> & <chr>\\\\\n",
       "\\hline\n",
       "\t1 & 3995000 & 4467 &  73.0 & 3 & 2018-10-15 13:33:18 & 1935 & Lägenhet & 3263989 & 2018-11-08 & 3820000 & ⋯ & 59.37103 & 18.05406 &   NA & Stockholm & Stockholms län & 260 & MOHV                        &   1901865 & Broker & http://www.mohv.se/                \\\\\n",
       "\t2 & 1995000 & 1773 &  36.0 & 1 & 2018-10-05 14:29:28 & 1968 & Lägenhet & 3256231 & 2018-10-19 & 2355000 & ⋯ & 59.37124 & 18.05782 &   NA & Stockholm & Stockholms län & 218 & Notar                       &      1566 & Broker & http://www.notar.se/               \\\\\n",
       "\t3 & 5100000 & 3839 &  81.0 & 3 & 2018-09-11 13:44:43 & 1936 & Lägenhet & 3236660 & 2018-09-27 & 6110000 & ⋯ & 59.37162 & 18.05472 &   NA & Stockholm & Stockholms län & 186 & Historiska Hem AB           &  65645750 & Broker & http://historiskahem.se/           \\\\\n",
       "\t4 & 5495000 & 4483 & 107.0 & 4 & 2018-08-25 02:56:56 & 1936 & Lägenhet & 3224374 & 2018-09-06 & 8050000 & ⋯ & 59.37148 & 18.05388 &   NA & Stockholm & Stockholms län & 218 & Notar                       &      1566 & Broker & http://www.notar.se/               \\\\\n",
       "\t5 & 1995000 & 1696 &  29.0 & 1 & 2018-06-15 17:16:19 & 1936 & Lägenhet & 3185496 & 2018-06-18 & 2400000 & ⋯ & 59.37216 & 18.05354 & TRUE & Stockholm & Stockholms län & 166 & Mäklarhuset                 &       204 & Broker & http://www.maklarhuset.se/         \\\\\n",
       "\t6 & 7495000 & 5923 & 125.0 & 4 & 2018-06-09 10:51:27 & 1936 & Lägenhet & 3181135 & 2018-06-21 & 8950000 & ⋯ & 59.37148 & 18.05388 &   NA & Stockholm & Stockholms län & 218 & Notar                       &      1566 & Broker & http://www.notar.se/               \\\\\n",
       "\t7 & 3975000 & 3324 &  79.2 & 3 & 2018-06-01 20:39:17 & 1968 & Lägenhet & 3175733 & 2018-06-16 & 4200000 & ⋯ & 59.37105 & 18.05837 & TRUE & Stockholm & Stockholms län & 246 & Svensk Fastighetsförmedling &       713 & Broker & http://www.svenskfast.se/          \\\\\n",
       "\t8 & 3250000 & 2789 &  64.3 & 2 & 2018-05-31 20:07:51 & 1969 & Lägenhet & 3173741 & 2018-06-15 & 3300000 & ⋯ & 59.37095 & 18.05863 & TRUE & Stockholm & Stockholms län & 264 & Innerstadsspecialisten AB   &      1130 & Broker & http://www.innerspec.se/           \\\\\n",
       "\t9 & 3250000 & 2965 &  64.3 & 2 & 2018-05-25 20:46:58 & 1968 & Lägenhet & 3169052 & 2018-06-10 & 3150000 & ⋯ & 59.37095 & 18.05863 & TRUE & Stockholm & Stockholms län & 264 & Notar                       &      1566 & Broker & http://www.notar.se/               \\\\\n",
       "\t10 & 5495000 & 6465 &  96.0 & 3 & 2018-05-19 12:47:47 & 1936 & Lägenhet & 3154871 & 2018-06-04 & 5400000 & ⋯ & 59.37119 & 18.05355 &   NA & Stockholm & Stockholms län & 255 & Nestor Fastighetsmäkleri    & 186499846 & Broker & https://nestorfastighetsmakleri.se/\\\\\n",
       "\\end{tabular}\n"
      ],
      "text/markdown": [
       "\n",
       "A data.frame: 10 × 27\n",
       "\n",
       "| <!--/--> | listPrice &lt;int&gt; | rent &lt;int&gt; | livingArea &lt;dbl&gt; | rooms &lt;dbl&gt; | published &lt;chr&gt; | constructionYear &lt;int&gt; | objectType &lt;chr&gt; | booliId &lt;int&gt; | soldDate &lt;chr&gt; | soldPrice &lt;int&gt; | ⋯ ⋯ | location.position.latitude &lt;dbl&gt; | location.position.longitude &lt;dbl&gt; | location.position.isApproximate &lt;lgl&gt; | location.region.municipalityName &lt;chr&gt; | location.region.countyName &lt;chr&gt; | location.distance.ocean &lt;int&gt; | source.name &lt;chr&gt; | source.id &lt;int&gt; | source.type &lt;chr&gt; | source.url &lt;chr&gt; |\n",
       "|---|---|---|---|---|---|---|---|---|---|---|---|---|---|---|---|---|---|---|---|---|---|\n",
       "| 1 | 3995000 | 4467 |  73.0 | 3 | 2018-10-15 13:33:18 | 1935 | Lägenhet | 3263989 | 2018-11-08 | 3820000 | ⋯ | 59.37103 | 18.05406 |   NA | Stockholm | Stockholms län | 260 | MOHV                        |   1901865 | Broker | http://www.mohv.se/                 |\n",
       "| 2 | 1995000 | 1773 |  36.0 | 1 | 2018-10-05 14:29:28 | 1968 | Lägenhet | 3256231 | 2018-10-19 | 2355000 | ⋯ | 59.37124 | 18.05782 |   NA | Stockholm | Stockholms län | 218 | Notar                       |      1566 | Broker | http://www.notar.se/                |\n",
       "| 3 | 5100000 | 3839 |  81.0 | 3 | 2018-09-11 13:44:43 | 1936 | Lägenhet | 3236660 | 2018-09-27 | 6110000 | ⋯ | 59.37162 | 18.05472 |   NA | Stockholm | Stockholms län | 186 | Historiska Hem AB           |  65645750 | Broker | http://historiskahem.se/            |\n",
       "| 4 | 5495000 | 4483 | 107.0 | 4 | 2018-08-25 02:56:56 | 1936 | Lägenhet | 3224374 | 2018-09-06 | 8050000 | ⋯ | 59.37148 | 18.05388 |   NA | Stockholm | Stockholms län | 218 | Notar                       |      1566 | Broker | http://www.notar.se/                |\n",
       "| 5 | 1995000 | 1696 |  29.0 | 1 | 2018-06-15 17:16:19 | 1936 | Lägenhet | 3185496 | 2018-06-18 | 2400000 | ⋯ | 59.37216 | 18.05354 | TRUE | Stockholm | Stockholms län | 166 | Mäklarhuset                 |       204 | Broker | http://www.maklarhuset.se/          |\n",
       "| 6 | 7495000 | 5923 | 125.0 | 4 | 2018-06-09 10:51:27 | 1936 | Lägenhet | 3181135 | 2018-06-21 | 8950000 | ⋯ | 59.37148 | 18.05388 |   NA | Stockholm | Stockholms län | 218 | Notar                       |      1566 | Broker | http://www.notar.se/                |\n",
       "| 7 | 3975000 | 3324 |  79.2 | 3 | 2018-06-01 20:39:17 | 1968 | Lägenhet | 3175733 | 2018-06-16 | 4200000 | ⋯ | 59.37105 | 18.05837 | TRUE | Stockholm | Stockholms län | 246 | Svensk Fastighetsförmedling |       713 | Broker | http://www.svenskfast.se/           |\n",
       "| 8 | 3250000 | 2789 |  64.3 | 2 | 2018-05-31 20:07:51 | 1969 | Lägenhet | 3173741 | 2018-06-15 | 3300000 | ⋯ | 59.37095 | 18.05863 | TRUE | Stockholm | Stockholms län | 264 | Innerstadsspecialisten AB   |      1130 | Broker | http://www.innerspec.se/            |\n",
       "| 9 | 3250000 | 2965 |  64.3 | 2 | 2018-05-25 20:46:58 | 1968 | Lägenhet | 3169052 | 2018-06-10 | 3150000 | ⋯ | 59.37095 | 18.05863 | TRUE | Stockholm | Stockholms län | 264 | Notar                       |      1566 | Broker | http://www.notar.se/                |\n",
       "| 10 | 5495000 | 6465 |  96.0 | 3 | 2018-05-19 12:47:47 | 1936 | Lägenhet | 3154871 | 2018-06-04 | 5400000 | ⋯ | 59.37119 | 18.05355 |   NA | Stockholm | Stockholms län | 255 | Nestor Fastighetsmäkleri    | 186499846 | Broker | https://nestorfastighetsmakleri.se/ |\n",
       "\n"
      ],
      "text/plain": [
       "   listPrice rent livingArea rooms published           constructionYear\n",
       "1  3995000   4467  73.0      3     2018-10-15 13:33:18 1935            \n",
       "2  1995000   1773  36.0      1     2018-10-05 14:29:28 1968            \n",
       "3  5100000   3839  81.0      3     2018-09-11 13:44:43 1936            \n",
       "4  5495000   4483 107.0      4     2018-08-25 02:56:56 1936            \n",
       "5  1995000   1696  29.0      1     2018-06-15 17:16:19 1936            \n",
       "6  7495000   5923 125.0      4     2018-06-09 10:51:27 1936            \n",
       "7  3975000   3324  79.2      3     2018-06-01 20:39:17 1968            \n",
       "8  3250000   2789  64.3      2     2018-05-31 20:07:51 1969            \n",
       "9  3250000   2965  64.3      2     2018-05-25 20:46:58 1968            \n",
       "10 5495000   6465  96.0      3     2018-05-19 12:47:47 1936            \n",
       "   objectType booliId soldDate   soldPrice ⋯ location.position.latitude\n",
       "1  Lägenhet   3263989 2018-11-08 3820000   ⋯ 59.37103                  \n",
       "2  Lägenhet   3256231 2018-10-19 2355000   ⋯ 59.37124                  \n",
       "3  Lägenhet   3236660 2018-09-27 6110000   ⋯ 59.37162                  \n",
       "4  Lägenhet   3224374 2018-09-06 8050000   ⋯ 59.37148                  \n",
       "5  Lägenhet   3185496 2018-06-18 2400000   ⋯ 59.37216                  \n",
       "6  Lägenhet   3181135 2018-06-21 8950000   ⋯ 59.37148                  \n",
       "7  Lägenhet   3175733 2018-06-16 4200000   ⋯ 59.37105                  \n",
       "8  Lägenhet   3173741 2018-06-15 3300000   ⋯ 59.37095                  \n",
       "9  Lägenhet   3169052 2018-06-10 3150000   ⋯ 59.37095                  \n",
       "10 Lägenhet   3154871 2018-06-04 5400000   ⋯ 59.37119                  \n",
       "   location.position.longitude location.position.isApproximate\n",
       "1  18.05406                      NA                           \n",
       "2  18.05782                      NA                           \n",
       "3  18.05472                      NA                           \n",
       "4  18.05388                      NA                           \n",
       "5  18.05354                    TRUE                           \n",
       "6  18.05388                      NA                           \n",
       "7  18.05837                    TRUE                           \n",
       "8  18.05863                    TRUE                           \n",
       "9  18.05863                    TRUE                           \n",
       "10 18.05355                      NA                           \n",
       "   location.region.municipalityName location.region.countyName\n",
       "1  Stockholm                        Stockholms län            \n",
       "2  Stockholm                        Stockholms län            \n",
       "3  Stockholm                        Stockholms län            \n",
       "4  Stockholm                        Stockholms län            \n",
       "5  Stockholm                        Stockholms län            \n",
       "6  Stockholm                        Stockholms län            \n",
       "7  Stockholm                        Stockholms län            \n",
       "8  Stockholm                        Stockholms län            \n",
       "9  Stockholm                        Stockholms län            \n",
       "10 Stockholm                        Stockholms län            \n",
       "   location.distance.ocean source.name                 source.id source.type\n",
       "1  260                     MOHV                          1901865 Broker     \n",
       "2  218                     Notar                            1566 Broker     \n",
       "3  186                     Historiska Hem AB            65645750 Broker     \n",
       "4  218                     Notar                            1566 Broker     \n",
       "5  166                     Mäklarhuset                       204 Broker     \n",
       "6  218                     Notar                            1566 Broker     \n",
       "7  246                     Svensk Fastighetsförmedling       713 Broker     \n",
       "8  264                     Innerstadsspecialisten AB        1130 Broker     \n",
       "9  264                     Notar                            1566 Broker     \n",
       "10 255                     Nestor Fastighetsmäkleri    186499846 Broker     \n",
       "   source.url                         \n",
       "1  http://www.mohv.se/                \n",
       "2  http://www.notar.se/               \n",
       "3  http://historiskahem.se/           \n",
       "4  http://www.notar.se/               \n",
       "5  http://www.maklarhuset.se/         \n",
       "6  http://www.notar.se/               \n",
       "7  http://www.svenskfast.se/          \n",
       "8  http://www.innerspec.se/           \n",
       "9  http://www.notar.se/               \n",
       "10 https://nestorfastighetsmakleri.se/"
      ]
     },
     "metadata": {},
     "output_type": "display_data"
    }
   ],
   "source": [
    "library(\"dplyr\")\n",
    "booli_df<-read.csv(\"data/Booli_sold.csv\")\n",
    "booli_df[1:10,]"
   ]
  },
  {
   "cell_type": "markdown",
   "metadata": {},
   "source": [
    "Calculating price per square meter (ppsqm) and sorting in decreasing order"
   ]
  },
  {
   "cell_type": "code",
   "execution_count": null,
   "metadata": {
    "vscode": {
     "languageId": "r"
    }
   },
   "outputs": [],
   "source": [
    "booli_df<-booli_df %>%\n",
    "select(livingArea,soldPrice,booliId,source.name)%>%\n",
    "mutate(ppsqm=soldPrice/livingArea) %>%\n",
    "arrange(desc(ppsqm)) "
   ]
  },
  {
   "cell_type": "markdown",
   "metadata": {},
   "source": [
    "Display rows with highest ppsqm"
   ]
  },
  {
   "cell_type": "code",
   "execution_count": 56,
   "metadata": {
    "vscode": {
     "languageId": "r"
    }
   },
   "outputs": [
    {
     "data": {
      "text/html": [
       "<table class=\"dataframe\">\n",
       "<caption>A data.frame: 5 × 5</caption>\n",
       "<thead>\n",
       "\t<tr><th scope=col>livingArea</th><th scope=col>soldPrice</th><th scope=col>booliId</th><th scope=col>source.name</th><th scope=col>ppsqm</th></tr>\n",
       "\t<tr><th scope=col>&lt;dbl&gt;</th><th scope=col>&lt;int&gt;</th><th scope=col>&lt;int&gt;</th><th scope=col>&lt;chr&gt;</th><th scope=col>&lt;dbl&gt;</th></tr>\n",
       "</thead>\n",
       "<tbody>\n",
       "\t<tr><td>24.0</td><td>2500000</td><td>2018259</td><td>Notar        </td><td>104166.67</td></tr>\n",
       "\t<tr><td>24.0</td><td>2450000</td><td>2125576</td><td>HusmanHagberg</td><td>102083.33</td></tr>\n",
       "\t<tr><td>23.0</td><td>2300000</td><td>2078171</td><td>Notar        </td><td>100000.00</td></tr>\n",
       "\t<tr><td>25.0</td><td>2210000</td><td>2330886</td><td>HusmanHagberg</td><td> 88400.00</td></tr>\n",
       "\t<tr><td>26.9</td><td>2300000</td><td>2067384</td><td>Notar        </td><td> 85501.86</td></tr>\n",
       "</tbody>\n",
       "</table>\n"
      ],
      "text/latex": [
       "A data.frame: 5 × 5\n",
       "\\begin{tabular}{lllll}\n",
       " livingArea & soldPrice & booliId & source.name & ppsqm\\\\\n",
       " <dbl> & <int> & <int> & <chr> & <dbl>\\\\\n",
       "\\hline\n",
       "\t 24.0 & 2500000 & 2018259 & Notar         & 104166.67\\\\\n",
       "\t 24.0 & 2450000 & 2125576 & HusmanHagberg & 102083.33\\\\\n",
       "\t 23.0 & 2300000 & 2078171 & Notar         & 100000.00\\\\\n",
       "\t 25.0 & 2210000 & 2330886 & HusmanHagberg &  88400.00\\\\\n",
       "\t 26.9 & 2300000 & 2067384 & Notar         &  85501.86\\\\\n",
       "\\end{tabular}\n"
      ],
      "text/markdown": [
       "\n",
       "A data.frame: 5 × 5\n",
       "\n",
       "| livingArea &lt;dbl&gt; | soldPrice &lt;int&gt; | booliId &lt;int&gt; | source.name &lt;chr&gt; | ppsqm &lt;dbl&gt; |\n",
       "|---|---|---|---|---|\n",
       "| 24.0 | 2500000 | 2018259 | Notar         | 104166.67 |\n",
       "| 24.0 | 2450000 | 2125576 | HusmanHagberg | 102083.33 |\n",
       "| 23.0 | 2300000 | 2078171 | Notar         | 100000.00 |\n",
       "| 25.0 | 2210000 | 2330886 | HusmanHagberg |  88400.00 |\n",
       "| 26.9 | 2300000 | 2067384 | Notar         |  85501.86 |\n",
       "\n"
      ],
      "text/plain": [
       "  livingArea soldPrice booliId source.name   ppsqm    \n",
       "1 24.0       2500000   2018259 Notar         104166.67\n",
       "2 24.0       2450000   2125576 HusmanHagberg 102083.33\n",
       "3 23.0       2300000   2078171 Notar         100000.00\n",
       "4 25.0       2210000   2330886 HusmanHagberg  88400.00\n",
       "5 26.9       2300000   2067384 Notar          85501.86"
      ]
     },
     "metadata": {},
     "output_type": "display_data"
    }
   ],
   "source": [
    "\n",
    "booli_df %>%\n",
    "filter(min_rank(desc(ppsqm)) <= 5)\n"
   ]
  },
  {
   "cell_type": "markdown",
   "metadata": {},
   "source": [
    "Calculating average price"
   ]
  },
  {
   "cell_type": "code",
   "execution_count": null,
   "metadata": {
    "vscode": {
     "languageId": "r"
    }
   },
   "outputs": [
    {
     "name": "stderr",
     "output_type": "stream",
     "text": [
      "Warning message in mean.default(., ppsqm):\n",
      "\"argument is not numeric or logical: returning NA\"\n"
     ]
    },
    {
     "data": {
      "text/html": [
       "&lt;NA&gt;"
      ],
      "text/latex": [
       "<NA>"
      ],
      "text/markdown": [
       "&lt;NA&gt;"
      ],
      "text/plain": [
       "[1] NA"
      ]
     },
     "metadata": {},
     "output_type": "display_data"
    }
   ],
   "source": [
    "\n",
    "mean(booli_df%>%\n",
    "select(ppsqm))"
   ]
  }
 ],
 "metadata": {
  "kernelspec": {
   "display_name": "R",
   "language": "R",
   "name": "ir"
  },
  "language_info": {
   "codemirror_mode": "r",
   "file_extension": ".r",
   "mimetype": "text/x-r-source",
   "name": "R",
   "pygments_lexer": "r",
   "version": "4.4.1"
  }
 },
 "nbformat": 4,
 "nbformat_minor": 2
}
