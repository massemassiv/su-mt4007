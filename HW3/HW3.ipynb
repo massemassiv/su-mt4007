{
 "cells": [
  {
   "cell_type": "code",
   "execution_count": 2,
   "metadata": {
    "vscode": {
     "languageId": "r"
    }
   },
   "outputs": [
    {
     "name": "stderr",
     "output_type": "stream",
     "text": [
      "\n",
      "Attaching package: 'dplyr'\n",
      "\n",
      "\n",
      "The following objects are masked from 'package:stats':\n",
      "\n",
      "    filter, lag\n",
      "\n",
      "\n",
      "The following objects are masked from 'package:base':\n",
      "\n",
      "    intersect, setdiff, setequal, union\n",
      "\n",
      "\n"
     ]
    },
    {
     "name": "stdout",
     "output_type": "stream",
     "text": [
      "package 'ggpubr' successfully unpacked and MD5 sums checked\n",
      "\n",
      "The downloaded binary packages are in\n",
      "\tC:\\Users\\masip\\AppData\\Local\\Temp\\RtmpsvBff3\\downloaded_packages\n"
     ]
    },
    {
     "name": "stderr",
     "output_type": "stream",
     "text": [
      "Warning message:\n",
      "\"package 'ggpubr' was built under R version 4.4.2\"\n"
     ]
    },
    {
     "name": "stdout",
     "output_type": "stream",
     "text": [
      "package 'GGally' successfully unpacked and MD5 sums checked\n",
      "\n",
      "The downloaded binary packages are in\n",
      "\tC:\\Users\\masip\\AppData\\Local\\Temp\\RtmpsvBff3\\downloaded_packages\n"
     ]
    },
    {
     "name": "stderr",
     "output_type": "stream",
     "text": [
      "Warning message:\n",
      "\"package 'GGally' was built under R version 4.4.2\"\n",
      "Registered S3 method overwritten by 'GGally':\n",
      "  method from   \n",
      "  +.gg   ggplot2\n",
      "\n"
     ]
    },
    {
     "name": "stdout",
     "output_type": "stream",
     "text": [
      "package 'lubridate' successfully unpacked and MD5 sums checked\n",
      "\n",
      "The downloaded binary packages are in\n",
      "\tC:\\Users\\masip\\AppData\\Local\\Temp\\RtmpsvBff3\\downloaded_packages\n"
     ]
    },
    {
     "name": "stderr",
     "output_type": "stream",
     "text": [
      "Warning message:\n",
      "\"package 'lubridate' was built under R version 4.4.2\"\n",
      "\n",
      "Attaching package: 'lubridate'\n",
      "\n",
      "\n",
      "The following objects are masked from 'package:base':\n",
      "\n",
      "    date, intersect, setdiff, union\n",
      "\n",
      "\n"
     ]
    }
   ],
   "source": [
    "library(\"dplyr\")\n",
    "library(\"readr\")\n",
    "library(\"tidyr\")\n",
    "library(\"ggplot2\")\n",
    "#library(\"tidyverse\")\n",
    "\n",
    "install.packages(\"ggpubr\")\n",
    "library(\"ggpubr\")\n",
    "install.packages(\"GGally\")\n",
    "library(\"GGally\")\n",
    "install.packages(\"lubridate\")\n",
    "library(\"lubridate\")\n",
    "\n"
   ]
  },
  {
   "cell_type": "markdown",
   "metadata": {},
   "source": [
    "# IRIS data\n",
    "Start by reading data about difference Iris flowers from the .csv file."
   ]
  },
  {
   "cell_type": "code",
   "execution_count": 3,
   "metadata": {
    "vscode": {
     "languageId": "r"
    }
   },
   "outputs": [
    {
     "name": "stderr",
     "output_type": "stream",
     "text": [
      "\u001b[1mRows: \u001b[22m\u001b[34m150\u001b[39m \u001b[1mColumns: \u001b[22m\u001b[34m5\u001b[39m\n",
      "\u001b[36m──\u001b[39m \u001b[1mColumn specification\u001b[22m \u001b[36m────────────────────────────────────────────────────────\u001b[39m\n",
      "\u001b[1mDelimiter:\u001b[22m \",\"\n",
      "\u001b[31mchr\u001b[39m (1): species\n",
      "\u001b[32mdbl\u001b[39m (4): sepal_length, sepal_width, petal_length, petal_width\n",
      "\n",
      "\u001b[36mℹ\u001b[39m Use `spec()` to retrieve the full column specification for this data.\n",
      "\u001b[36mℹ\u001b[39m Specify the column types or set `show_col_types = FALSE` to quiet this message.\n"
     ]
    }
   ],
   "source": [
    "\n",
    "iris_df<-read_csv(file = \"data/IRIS.csv\")\n",
    "#iris_df"
   ]
  },
  {
   "cell_type": "markdown",
   "metadata": {},
   "source": [
    "To visualize and explore the dataset we start by making two scatterplots, one with sepal-and petal length as the x and y axis respectivly. In the other plot we instead have sepal-and petal width on the x and y axes respectivly. In both plots the color corresponds to the species of flower.\n"
   ]
  },
  {
   "cell_type": "markdown",
   "metadata": {},
   "source": []
  },
  {
   "cell_type": "markdown",
   "metadata": {},
   "source": []
  },
  {
   "cell_type": "code",
   "execution_count": 4,
   "metadata": {
    "vscode": {
     "languageId": "r"
    }
   },
   "outputs": [
    {
     "data": {
      "image/png": "[encoded data removed]",
      "text/plain": [
       "plot without title"
      ]
     },
     "metadata": {
      "image/png": {
       "height": 420,
       "width": 420
      }
     },
     "output_type": "display_data"
    }
   ],
   "source": [
    "length_plot<-ggplot(data=iris_df)+geom_point(mapping=aes(x=sepal_length,y=petal_length,color=species))#+theme(legend.position=\"inside\")\n",
    "width_plot<-ggplot(data=iris_df)+geom_point(mapping=aes(x=sepal_width,y=petal_width,color=species))#+theme(legend.position=\"top inside\")\n",
    "ggarrange(length_plot,width_plot,nrow=1,ncol=2,common.legend = TRUE)"
   ]
  },
  {
   "cell_type": "markdown",
   "metadata": {},
   "source": [
    "From these plots we can explore the correlation between sepal-and petal length as well as sepal-and petal width. \n",
    "It seems that there is some positive correlation between both petal-and sepal length as well as width for the species Versicolor and Virginica.\n",
    "But for the species Setosa there is far less spread and both petal length and width seem to be small independant of the sepal dimensions, which indicates that there is hardly any correlation between petal and sepal dimensions.\n",
    "\n",
    "\n",
    "To roughly understand the distribution of these four characteristics a bar plot for each of them is made, where once again the color corresponds to species. From the barplots we can read the median and the lower and upper quantiles, which can give us both a measure of location and dispersion.\n",
    "\n",
    "Before these distributions can be analyzed the plots first have to be made."
   ]
  },
  {
   "cell_type": "code",
   "execution_count": 5,
   "metadata": {
    "vscode": {
     "languageId": "r"
    }
   },
   "outputs": [
    {
     "data": {
      "image/png": "[encoded data removed]",
      "text/plain": [
       "plot without title"
      ]
     },
     "metadata": {
      "image/png": {
       "height": 420,
       "width": 420
      }
     },
     "output_type": "display_data"
    }
   ],
   "source": [
    "pl_plot<-ggplot(data=iris_df)+geom_boxplot(mapping=aes(x=species,y=petal_length,color=species))\n",
    "sl_plot<-ggplot(data=iris_df)+geom_boxplot(mapping=aes(x=species,y=sepal_length,color=species))\n",
    "pw_plot<-ggplot(data=iris_df)+geom_boxplot(mapping=aes(x=species,y=petal_width,color=species))\n",
    "sw_plot<-ggplot(data=iris_df)+geom_boxplot(mapping=aes(x=species,y=sepal_width,color=species))\n",
    "ggarrange(pl_plot,sl_plot,pw_plot,sw_plot,nrow=2,ncol=2,common.legend = TRUE)"
   ]
  },
  {
   "cell_type": "markdown",
   "metadata": {},
   "source": [
    "We can as excpected see that the barplot agrees with the scatterplot as the petal dimension are far smaller for Setosa then the two other species.\n",
    "For all dimensions except sepal width it seems that Virginica is the largest species followed by Versicolor and the smallest being Setosa.\n",
    "\n",
    "To further explore correlation and other pairwise relationships between the characteristics of the different species we create a pair plot.\n"
   ]
  },
  {
   "cell_type": "code",
   "execution_count": 6,
   "metadata": {
    "vscode": {
     "languageId": "r"
    }
   },
   "outputs": [
    {
     "data": {
      "image/png": "[encoded data removed]",
      "text/plain": [
       "plot without title"
      ]
     },
     "metadata": {
      "image/png": {
       "height": 420,
       "width": 420
      }
     },
     "output_type": "display_data"
    }
   ],
   "source": [
    "ggpairs(data=iris_df,\n",
    "columns=1:4,\n",
    "upper = list(continuous = \"points\", combo = \"box_no_facet\", discrete = \"count\", na = \"na\"),\n",
    "  lower = list(continuous = \"points\", combo = \"facethist\", discrete = \"facetbar\", na =\n",
    "    \"na\"),\n",
    "  diag = list(continuous = \"densityDiag\", discrete = \"barDiag\", na = \"naDiag\"),\n",
    "mapping=aes(color=species))"
   ]
  },
  {
   "cell_type": "markdown",
   "metadata": {},
   "source": [
    "From this plot we can see that sepal width seems to be positively correlated with sepal length for all three species, we can also see an indication that the correlation between petal width and length also is positive. We can also confirm that this plot agrees with the observations made about the previous plots."
   ]
  },
  {
   "cell_type": "markdown",
   "metadata": {},
   "source": [
    "# Birdwatching\n",
    "First we start by reading the data from the .csv file, thereafter we clean the data by first filtering on all events with a start date between January 1st 2022 and 2023 aswell as removing all non numeric counts (i.e the Antal column). After this we can convert the count column Antal to numeric and select only the columns of interest.\n"
   ]
  },
  {
   "cell_type": "code",
   "execution_count": 7,
   "metadata": {
    "vscode": {
     "languageId": "r"
    }
   },
   "outputs": [
    {
     "name": "stderr",
     "output_type": "stream",
     "text": [
      "Warning message:\n",
      "\"\u001b[1m\u001b[22mOne or more parsing issues, call `problems()` on your data frame for details,\n",
      "e.g.:\n",
      "  dat <- vroom(...)\n",
      "  problems(dat)\"\n",
      "\u001b[1mRows: \u001b[22m\u001b[34m21916\u001b[39m \u001b[1mColumns: \u001b[22m\u001b[34m27\u001b[39m\n",
      "\u001b[36m──\u001b[39m \u001b[1mColumn specification\u001b[22m \u001b[36m────────────────────────────────────────────────────────\u001b[39m\n",
      "\u001b[1mDelimiter:\u001b[22m \",\"\n",
      "\u001b[31mchr\u001b[39m  (16): Rödlistade, Artnamn, Vetenskapligt namn, Auktor, Antal, Ålder/sta...\n",
      "\u001b[32mdbl\u001b[39m   (6): Id, Taxonsorteringsordning, Ostkoordinat, Nordkoordinat, Noggrann...\n",
      "\u001b[33mlgl\u001b[39m   (1): Biotop\n",
      "\u001b[34mdate\u001b[39m  (2): Startdatum, Slutdatum\n",
      "\u001b[34mtime\u001b[39m  (2): Starttid, Sluttid\n",
      "\n",
      "\u001b[36mℹ\u001b[39m Use `spec()` to retrieve the full column specification for this data.\n",
      "\u001b[36mℹ\u001b[39m Specify the column types or set `show_col_types = FALSE` to quiet this message.\n"
     ]
    }
   ],
   "source": [
    "art_df<-read_csv(\"data/artportalen.csv\")\n",
    "\n",
    "art_df<-art_df%>%filter(Startdatum>=\"2022-01-01\"&Startdatum<=\"2023-01-01\",Antal!=\"noterad\"&Antal!=\"Ej återfunnen\")%>%mutate(Antal=parse_number(Antal))%>%select(Startdatum,Artnamn,Antal)"
   ]
  },
  {
   "cell_type": "markdown",
   "metadata": {},
   "source": [
    "To determine the most prevalent species overall we can firstly limit the scope to the 15 most prevalent species to make the resulting table easier to interprete. Then the column Andel containing the share of total observations can be added to the dataframe, finally we can group the observations by species and sum up the shares and counts of each individual observation."
   ]
  },
  {
   "cell_type": "code",
   "execution_count": 8,
   "metadata": {
    "vscode": {
     "languageId": "r"
    }
   },
   "outputs": [
    {
     "data": {
      "text/html": [
       "<table class=\"dataframe\">\n",
       "<caption>A tibble: 15 × 3</caption>\n",
       "<thead>\n",
       "\t<tr><th scope=col>Artnamn</th><th scope=col>Andel</th><th scope=col>Antal</th></tr>\n",
       "\t<tr><th scope=col>&lt;chr&gt;</th><th scope=col>&lt;dbl&gt;</th><th scope=col>&lt;dbl&gt;</th></tr>\n",
       "</thead>\n",
       "<tbody>\n",
       "\t<tr><td>Grönsiska    </td><td>0.17454423</td><td>20211</td></tr>\n",
       "\t<tr><td>Sothöna      </td><td>0.07174872</td><td> 8308</td></tr>\n",
       "\t<tr><td>Gräsand      </td><td>0.06189493</td><td> 7167</td></tr>\n",
       "\t<tr><td>Storskrake   </td><td>0.05829368</td><td> 6750</td></tr>\n",
       "\t<tr><td>Vitkindad gås</td><td>0.05479606</td><td> 6345</td></tr>\n",
       "\t<tr><td>Storskarv    </td><td>0.04560725</td><td> 5281</td></tr>\n",
       "\t<tr><td>Björktrast   </td><td>0.02740235</td><td> 3173</td></tr>\n",
       "\t<tr><td>Koltrast     </td><td>0.02374928</td><td> 2750</td></tr>\n",
       "\t<tr><td>Vigg         </td><td>0.02051074</td><td> 2375</td></tr>\n",
       "\t<tr><td>Skrattmås    </td><td>0.02008757</td><td> 2326</td></tr>\n",
       "\t<tr><td>Gråhäger     </td><td>0.01968167</td><td> 2279</td></tr>\n",
       "\t<tr><td>Talgoxe      </td><td>0.01698721</td><td> 1967</td></tr>\n",
       "\t<tr><td>Stare        </td><td>0.01650359</td><td> 1911</td></tr>\n",
       "\t<tr><td>Blåmes       </td><td>0.01621860</td><td> 1878</td></tr>\n",
       "\t<tr><td>Skäggdopping </td><td>0.01584724</td><td> 1835</td></tr>\n",
       "</tbody>\n",
       "</table>\n"
      ],
      "text/latex": [
       "A tibble: 15 × 3\n",
       "\\begin{tabular}{lll}\n",
       " Artnamn & Andel & Antal\\\\\n",
       " <chr> & <dbl> & <dbl>\\\\\n",
       "\\hline\n",
       "\t Grönsiska     & 0.17454423 & 20211\\\\\n",
       "\t Sothöna       & 0.07174872 &  8308\\\\\n",
       "\t Gräsand       & 0.06189493 &  7167\\\\\n",
       "\t Storskrake    & 0.05829368 &  6750\\\\\n",
       "\t Vitkindad gås & 0.05479606 &  6345\\\\\n",
       "\t Storskarv     & 0.04560725 &  5281\\\\\n",
       "\t Björktrast    & 0.02740235 &  3173\\\\\n",
       "\t Koltrast      & 0.02374928 &  2750\\\\\n",
       "\t Vigg          & 0.02051074 &  2375\\\\\n",
       "\t Skrattmås     & 0.02008757 &  2326\\\\\n",
       "\t Gråhäger      & 0.01968167 &  2279\\\\\n",
       "\t Talgoxe       & 0.01698721 &  1967\\\\\n",
       "\t Stare         & 0.01650359 &  1911\\\\\n",
       "\t Blåmes        & 0.01621860 &  1878\\\\\n",
       "\t Skäggdopping  & 0.01584724 &  1835\\\\\n",
       "\\end{tabular}\n"
      ],
      "text/markdown": [
       "\n",
       "A tibble: 15 × 3\n",
       "\n",
       "| Artnamn &lt;chr&gt; | Andel &lt;dbl&gt; | Antal &lt;dbl&gt; |\n",
       "|---|---|---|\n",
       "| Grönsiska     | 0.17454423 | 20211 |\n",
       "| Sothöna       | 0.07174872 |  8308 |\n",
       "| Gräsand       | 0.06189493 |  7167 |\n",
       "| Storskrake    | 0.05829368 |  6750 |\n",
       "| Vitkindad gås | 0.05479606 |  6345 |\n",
       "| Storskarv     | 0.04560725 |  5281 |\n",
       "| Björktrast    | 0.02740235 |  3173 |\n",
       "| Koltrast      | 0.02374928 |  2750 |\n",
       "| Vigg          | 0.02051074 |  2375 |\n",
       "| Skrattmås     | 0.02008757 |  2326 |\n",
       "| Gråhäger      | 0.01968167 |  2279 |\n",
       "| Talgoxe       | 0.01698721 |  1967 |\n",
       "| Stare         | 0.01650359 |  1911 |\n",
       "| Blåmes        | 0.01621860 |  1878 |\n",
       "| Skäggdopping  | 0.01584724 |  1835 |\n",
       "\n"
      ],
      "text/plain": [
       "   Artnamn       Andel      Antal\n",
       "1  Grönsiska     0.17454423 20211\n",
       "2  Sothöna       0.07174872  8308\n",
       "3  Gräsand       0.06189493  7167\n",
       "4  Storskrake    0.05829368  6750\n",
       "5  Vitkindad gås 0.05479606  6345\n",
       "6  Storskarv     0.04560725  5281\n",
       "7  Björktrast    0.02740235  3173\n",
       "8  Koltrast      0.02374928  2750\n",
       "9  Vigg          0.02051074  2375\n",
       "10 Skrattmås     0.02008757  2326\n",
       "11 Gråhäger      0.01968167  2279\n",
       "12 Talgoxe       0.01698721  1967\n",
       "13 Stare         0.01650359  1911\n",
       "14 Blåmes        0.01621860  1878\n",
       "15 Skäggdopping  0.01584724  1835"
      ]
     },
     "metadata": {},
     "output_type": "display_data"
    }
   ],
   "source": [
    "prevalence_df<-art_df%>%mutate(Andel=Antal/sum(Antal))%>%group_by(Artnamn)%>%summarise(Andel=sum(Andel),Antal=sum(Antal))%>%arrange(desc(Andel))\n",
    "prevalence_df%>%filter(min_rank(desc(Andel))<=15)"
   ]
  },
  {
   "cell_type": "markdown",
   "metadata": {},
   "source": [
    "From this table we can see that Grönsiska is by far the most prevalent species, having more than double the observations of the second most prevalent species Sothöna.\n",
    "\n",
    "To further investigate the data we can look at the monthly observations of the three most prevalent species both in a table and in a plot.\n",
    "\n",
    "We can start by creating a new dataframe "
   ]
  },
  {
   "cell_type": "code",
   "execution_count": 9,
   "metadata": {
    "vscode": {
     "languageId": "r"
    }
   },
   "outputs": [
    {
     "name": "stderr",
     "output_type": "stream",
     "text": [
      "\u001b[1m\u001b[22m`summarise()` has grouped output by 'Month'. You can override using the\n",
      "`.groups` argument.\n"
     ]
    },
    {
     "data": {
      "text/html": [
       "<table class=\"dataframe\">\n",
       "<caption>A grouped_df: 18 × 3</caption>\n",
       "<thead>\n",
       "\t<tr><th scope=col>Month</th><th scope=col>Artnamn</th><th scope=col>antal</th></tr>\n",
       "\t<tr><th scope=col>&lt;ord&gt;</th><th scope=col>&lt;chr&gt;</th><th scope=col>&lt;dbl&gt;</th></tr>\n",
       "</thead>\n",
       "<tbody>\n",
       "\t<tr><td>januari </td><td>Gräsand  </td><td> 2953</td></tr>\n",
       "\t<tr><td>januari </td><td>Grönsiska</td><td>19507</td></tr>\n",
       "\t<tr><td>januari </td><td>Sothöna  </td><td> 2142</td></tr>\n",
       "\t<tr><td>februari</td><td>Gräsand  </td><td> 1583</td></tr>\n",
       "\t<tr><td>februari</td><td>Grönsiska</td><td>  648</td></tr>\n",
       "\t<tr><td>februari</td><td>Sothöna  </td><td> 2100</td></tr>\n",
       "\t<tr><td>mars    </td><td>Gräsand  </td><td> 1152</td></tr>\n",
       "\t<tr><td>mars    </td><td>Grönsiska</td><td>   33</td></tr>\n",
       "\t<tr><td>mars    </td><td>Sothöna  </td><td> 3052</td></tr>\n",
       "\t<tr><td>april   </td><td>Gräsand  </td><td>  858</td></tr>\n",
       "\t<tr><td>april   </td><td>Grönsiska</td><td>    6</td></tr>\n",
       "\t<tr><td>april   </td><td>Sothöna  </td><td>  614</td></tr>\n",
       "\t<tr><td>maj     </td><td>Gräsand  </td><td>  515</td></tr>\n",
       "\t<tr><td>maj     </td><td>Grönsiska</td><td>   10</td></tr>\n",
       "\t<tr><td>maj     </td><td>Sothöna  </td><td>  288</td></tr>\n",
       "\t<tr><td>juni    </td><td>Gräsand  </td><td>  106</td></tr>\n",
       "\t<tr><td>juni    </td><td>Grönsiska</td><td>    7</td></tr>\n",
       "\t<tr><td>juni    </td><td>Sothöna  </td><td>  112</td></tr>\n",
       "</tbody>\n",
       "</table>\n"
      ],
      "text/latex": [
       "A grouped\\_df: 18 × 3\n",
       "\\begin{tabular}{lll}\n",
       " Month & Artnamn & antal\\\\\n",
       " <ord> & <chr> & <dbl>\\\\\n",
       "\\hline\n",
       "\t januari  & Gräsand   &  2953\\\\\n",
       "\t januari  & Grönsiska & 19507\\\\\n",
       "\t januari  & Sothöna   &  2142\\\\\n",
       "\t februari & Gräsand   &  1583\\\\\n",
       "\t februari & Grönsiska &   648\\\\\n",
       "\t februari & Sothöna   &  2100\\\\\n",
       "\t mars     & Gräsand   &  1152\\\\\n",
       "\t mars     & Grönsiska &    33\\\\\n",
       "\t mars     & Sothöna   &  3052\\\\\n",
       "\t april    & Gräsand   &   858\\\\\n",
       "\t april    & Grönsiska &     6\\\\\n",
       "\t april    & Sothöna   &   614\\\\\n",
       "\t maj      & Gräsand   &   515\\\\\n",
       "\t maj      & Grönsiska &    10\\\\\n",
       "\t maj      & Sothöna   &   288\\\\\n",
       "\t juni     & Gräsand   &   106\\\\\n",
       "\t juni     & Grönsiska &     7\\\\\n",
       "\t juni     & Sothöna   &   112\\\\\n",
       "\\end{tabular}\n"
      ],
      "text/markdown": [
       "\n",
       "A grouped_df: 18 × 3\n",
       "\n",
       "| Month &lt;ord&gt; | Artnamn &lt;chr&gt; | antal &lt;dbl&gt; |\n",
       "|---|---|---|\n",
       "| januari  | Gräsand   |  2953 |\n",
       "| januari  | Grönsiska | 19507 |\n",
       "| januari  | Sothöna   |  2142 |\n",
       "| februari | Gräsand   |  1583 |\n",
       "| februari | Grönsiska |   648 |\n",
       "| februari | Sothöna   |  2100 |\n",
       "| mars     | Gräsand   |  1152 |\n",
       "| mars     | Grönsiska |    33 |\n",
       "| mars     | Sothöna   |  3052 |\n",
       "| april    | Gräsand   |   858 |\n",
       "| april    | Grönsiska |     6 |\n",
       "| april    | Sothöna   |   614 |\n",
       "| maj      | Gräsand   |   515 |\n",
       "| maj      | Grönsiska |    10 |\n",
       "| maj      | Sothöna   |   288 |\n",
       "| juni     | Gräsand   |   106 |\n",
       "| juni     | Grönsiska |     7 |\n",
       "| juni     | Sothöna   |   112 |\n",
       "\n"
      ],
      "text/plain": [
       "   Month    Artnamn   antal\n",
       "1  januari  Gräsand    2953\n",
       "2  januari  Grönsiska 19507\n",
       "3  januari  Sothöna    2142\n",
       "4  februari Gräsand    1583\n",
       "5  februari Grönsiska   648\n",
       "6  februari Sothöna    2100\n",
       "7  mars     Gräsand    1152\n",
       "8  mars     Grönsiska    33\n",
       "9  mars     Sothöna    3052\n",
       "10 april    Gräsand     858\n",
       "11 april    Grönsiska     6\n",
       "12 april    Sothöna     614\n",
       "13 maj      Gräsand     515\n",
       "14 maj      Grönsiska    10\n",
       "15 maj      Sothöna     288\n",
       "16 juni     Gräsand     106\n",
       "17 juni     Grönsiska     7\n",
       "18 juni     Sothöna     112"
      ]
     },
     "metadata": {},
     "output_type": "display_data"
    }
   ],
   "source": [
    "\n",
    "monthly_df<-art_df%>%\n",
    "mutate(Month=month(Startdatum,label=TRUE,abbr=FALSE))%>%\n",
    "filter(Artnamn ==\"Grönsiska\"|Artnamn==\"Sothöna\"|Artnamn==\"Gräsand\")%>%\n",
    "select(Artnamn,Antal,Month)%>%\n",
    "group_by(Month,Artnamn)%>%summarise(antal=sum(Antal))\n",
    "monthly_df\n"
   ]
  },
  {
   "cell_type": "markdown",
   "metadata": {},
   "source": [
    "From the table we can see that  for all of the three species there are more observations at the start of the year then at the end. To aid in understanding the distribution we make a bar plot by month where color corresponds to species and the height corresponds to the observed amount of that species.\n"
   ]
  },
  {
   "cell_type": "code",
   "execution_count": 10,
   "metadata": {
    "vscode": {
     "languageId": "r"
    }
   },
   "outputs": [
    {
     "data": {
      "image/png": "[encoded data removed]",
      "text/plain": [
       "plot without title"
      ]
     },
     "metadata": {
      "image/png": {
       "height": 420,
       "width": 420
      }
     },
     "output_type": "display_data"
    }
   ],
   "source": [
    "ggplot(data=monthly_df,aes(fill=Artnamn,y=antal,x=Month))+geom_bar(position = \"dodge\",stat=\"identity\")"
   ]
  },
  {
   "cell_type": "markdown",
   "metadata": {},
   "source": [
    "This plot seems to confirm that the observations start to decrease at least by april. But also that the Species Grönsiska was observed almost exclusively in January.\n",
    "\n",
    "To find the rarest three species we can filter the data by min rank and arrange Andel in increasing order"
   ]
  },
  {
   "cell_type": "code",
   "execution_count": 11,
   "metadata": {
    "vscode": {
     "languageId": "r"
    }
   },
   "outputs": [
    {
     "data": {
      "text/html": [
       "<table class=\"dataframe\">\n",
       "<caption>A tibble: 19 × 3</caption>\n",
       "<thead>\n",
       "\t<tr><th scope=col>Artnamn</th><th scope=col>Andel</th><th scope=col>Antal</th></tr>\n",
       "\t<tr><th scope=col>&lt;chr&gt;</th><th scope=col>&lt;dbl&gt;</th><th scope=col>&lt;dbl&gt;</th></tr>\n",
       "</thead>\n",
       "<tbody>\n",
       "\t<tr><td>Bivråk                   </td><td>8.636101e-06</td><td>1</td></tr>\n",
       "\t<tr><td>Bändelkorsnäbb           </td><td>8.636101e-06</td><td>1</td></tr>\n",
       "\t<tr><td>Ejder                    </td><td>8.636101e-06</td><td>1</td></tr>\n",
       "\t<tr><td>Fjällvråk                </td><td>8.636101e-06</td><td>1</td></tr>\n",
       "\t<tr><td>Forsärla                 </td><td>8.636101e-06</td><td>1</td></tr>\n",
       "\t<tr><td>Gravand                  </td><td>8.636101e-06</td><td>1</td></tr>\n",
       "\t<tr><td>Lappsparv                </td><td>8.636101e-06</td><td>1</td></tr>\n",
       "\t<tr><td>Ormvråk, underarten buteo</td><td>8.636101e-06</td><td>1</td></tr>\n",
       "\t<tr><td>Rosenfink                </td><td>8.636101e-06</td><td>1</td></tr>\n",
       "\t<tr><td>Röd glada                </td><td>8.636101e-06</td><td>1</td></tr>\n",
       "\t<tr><td>Rödbena                  </td><td>8.636101e-06</td><td>1</td></tr>\n",
       "\t<tr><td>Spillkråka               </td><td>8.636101e-06</td><td>1</td></tr>\n",
       "\t<tr><td>Storlom                  </td><td>8.636101e-06</td><td>1</td></tr>\n",
       "\t<tr><td>Strömstare               </td><td>8.636101e-06</td><td>1</td></tr>\n",
       "\t<tr><td>Tornfalk                 </td><td>8.636101e-06</td><td>1</td></tr>\n",
       "\t<tr><td>Trädlärka                </td><td>8.636101e-06</td><td>1</td></tr>\n",
       "\t<tr><td>Varfågel                 </td><td>8.636101e-06</td><td>1</td></tr>\n",
       "\t<tr><td>Vinterhämpling           </td><td>8.636101e-06</td><td>1</td></tr>\n",
       "\t<tr><td>Ägretthäger              </td><td>8.636101e-06</td><td>1</td></tr>\n",
       "</tbody>\n",
       "</table>\n"
      ],
      "text/latex": [
       "A tibble: 19 × 3\n",
       "\\begin{tabular}{lll}\n",
       " Artnamn & Andel & Antal\\\\\n",
       " <chr> & <dbl> & <dbl>\\\\\n",
       "\\hline\n",
       "\t Bivråk                    & 8.636101e-06 & 1\\\\\n",
       "\t Bändelkorsnäbb            & 8.636101e-06 & 1\\\\\n",
       "\t Ejder                     & 8.636101e-06 & 1\\\\\n",
       "\t Fjällvråk                 & 8.636101e-06 & 1\\\\\n",
       "\t Forsärla                  & 8.636101e-06 & 1\\\\\n",
       "\t Gravand                   & 8.636101e-06 & 1\\\\\n",
       "\t Lappsparv                 & 8.636101e-06 & 1\\\\\n",
       "\t Ormvråk, underarten buteo & 8.636101e-06 & 1\\\\\n",
       "\t Rosenfink                 & 8.636101e-06 & 1\\\\\n",
       "\t Röd glada                 & 8.636101e-06 & 1\\\\\n",
       "\t Rödbena                   & 8.636101e-06 & 1\\\\\n",
       "\t Spillkråka                & 8.636101e-06 & 1\\\\\n",
       "\t Storlom                   & 8.636101e-06 & 1\\\\\n",
       "\t Strömstare                & 8.636101e-06 & 1\\\\\n",
       "\t Tornfalk                  & 8.636101e-06 & 1\\\\\n",
       "\t Trädlärka                 & 8.636101e-06 & 1\\\\\n",
       "\t Varfågel                  & 8.636101e-06 & 1\\\\\n",
       "\t Vinterhämpling            & 8.636101e-06 & 1\\\\\n",
       "\t Ägretthäger               & 8.636101e-06 & 1\\\\\n",
       "\\end{tabular}\n"
      ],
      "text/markdown": [
       "\n",
       "A tibble: 19 × 3\n",
       "\n",
       "| Artnamn &lt;chr&gt; | Andel &lt;dbl&gt; | Antal &lt;dbl&gt; |\n",
       "|---|---|---|\n",
       "| Bivråk                    | 8.636101e-06 | 1 |\n",
       "| Bändelkorsnäbb            | 8.636101e-06 | 1 |\n",
       "| Ejder                     | 8.636101e-06 | 1 |\n",
       "| Fjällvråk                 | 8.636101e-06 | 1 |\n",
       "| Forsärla                  | 8.636101e-06 | 1 |\n",
       "| Gravand                   | 8.636101e-06 | 1 |\n",
       "| Lappsparv                 | 8.636101e-06 | 1 |\n",
       "| Ormvråk, underarten buteo | 8.636101e-06 | 1 |\n",
       "| Rosenfink                 | 8.636101e-06 | 1 |\n",
       "| Röd glada                 | 8.636101e-06 | 1 |\n",
       "| Rödbena                   | 8.636101e-06 | 1 |\n",
       "| Spillkråka                | 8.636101e-06 | 1 |\n",
       "| Storlom                   | 8.636101e-06 | 1 |\n",
       "| Strömstare                | 8.636101e-06 | 1 |\n",
       "| Tornfalk                  | 8.636101e-06 | 1 |\n",
       "| Trädlärka                 | 8.636101e-06 | 1 |\n",
       "| Varfågel                  | 8.636101e-06 | 1 |\n",
       "| Vinterhämpling            | 8.636101e-06 | 1 |\n",
       "| Ägretthäger               | 8.636101e-06 | 1 |\n",
       "\n"
      ],
      "text/plain": [
       "   Artnamn                   Andel        Antal\n",
       "1  Bivråk                    8.636101e-06 1    \n",
       "2  Bändelkorsnäbb            8.636101e-06 1    \n",
       "3  Ejder                     8.636101e-06 1    \n",
       "4  Fjällvråk                 8.636101e-06 1    \n",
       "5  Forsärla                  8.636101e-06 1    \n",
       "6  Gravand                   8.636101e-06 1    \n",
       "7  Lappsparv                 8.636101e-06 1    \n",
       "8  Ormvråk, underarten buteo 8.636101e-06 1    \n",
       "9  Rosenfink                 8.636101e-06 1    \n",
       "10 Röd glada                 8.636101e-06 1    \n",
       "11 Rödbena                   8.636101e-06 1    \n",
       "12 Spillkråka                8.636101e-06 1    \n",
       "13 Storlom                   8.636101e-06 1    \n",
       "14 Strömstare                8.636101e-06 1    \n",
       "15 Tornfalk                  8.636101e-06 1    \n",
       "16 Trädlärka                 8.636101e-06 1    \n",
       "17 Varfågel                  8.636101e-06 1    \n",
       "18 Vinterhämpling            8.636101e-06 1    \n",
       "19 Ägretthäger               8.636101e-06 1    "
      ]
     },
     "metadata": {},
     "output_type": "display_data"
    }
   ],
   "source": [
    "prevalence_df%>%filter(min_rank(Andel)<=3)%>%arrange(Andel)"
   ]
  },
  {
   "cell_type": "markdown",
   "metadata": {},
   "source": [
    "It turns out that there are alot of species where only one observation has been made which would make them equally rare, but some examples are Bivråk, Storlom and Tornfalk."
   ]
  },
  {
   "cell_type": "markdown",
   "metadata": {},
   "source": [
    "As there were a very large amount of the species Grönsiska observed at the beginning of the year, how would the most prevalent species change if we excluded all observations where more than 500 individuals where observed at one time."
   ]
  },
  {
   "cell_type": "code",
   "execution_count": 12,
   "metadata": {
    "vscode": {
     "languageId": "r"
    }
   },
   "outputs": [
    {
     "data": {
      "text/html": [
       "<table class=\"dataframe\">\n",
       "<caption>A tibble: 15 × 3</caption>\n",
       "<thead>\n",
       "\t<tr><th scope=col>Artnamn</th><th scope=col>Andel</th><th scope=col>Antal</th></tr>\n",
       "\t<tr><th scope=col>&lt;chr&gt;</th><th scope=col>&lt;dbl&gt;</th><th scope=col>&lt;dbl&gt;</th></tr>\n",
       "</thead>\n",
       "<tbody>\n",
       "\t<tr><td>Sothöna      </td><td>0.08449701</td><td>8308</td></tr>\n",
       "\t<tr><td>Gräsand      </td><td>0.07289241</td><td>7167</td></tr>\n",
       "\t<tr><td>Storskrake   </td><td>0.06865128</td><td>6750</td></tr>\n",
       "\t<tr><td>Vitkindad gås</td><td>0.06453221</td><td>6345</td></tr>\n",
       "\t<tr><td>Grönsiska    </td><td>0.05198173</td><td>5111</td></tr>\n",
       "\t<tr><td>Storskarv    </td><td>0.03570884</td><td>3511</td></tr>\n",
       "\t<tr><td>Koltrast     </td><td>0.02796904</td><td>2750</td></tr>\n",
       "\t<tr><td>Björktrast   </td><td>0.02616885</td><td>2573</td></tr>\n",
       "\t<tr><td>Vigg         </td><td>0.02415508</td><td>2375</td></tr>\n",
       "\t<tr><td>Skrattmås    </td><td>0.02365672</td><td>2326</td></tr>\n",
       "\t<tr><td>Gråhäger     </td><td>0.02317871</td><td>2279</td></tr>\n",
       "\t<tr><td>Talgoxe      </td><td>0.02000549</td><td>1967</td></tr>\n",
       "\t<tr><td>Stare        </td><td>0.01943594</td><td>1911</td></tr>\n",
       "\t<tr><td>Blåmes       </td><td>0.01910031</td><td>1878</td></tr>\n",
       "\t<tr><td>Skäggdopping </td><td>0.01866298</td><td>1835</td></tr>\n",
       "</tbody>\n",
       "</table>\n"
      ],
      "text/latex": [
       "A tibble: 15 × 3\n",
       "\\begin{tabular}{lll}\n",
       " Artnamn & Andel & Antal\\\\\n",
       " <chr> & <dbl> & <dbl>\\\\\n",
       "\\hline\n",
       "\t Sothöna       & 0.08449701 & 8308\\\\\n",
       "\t Gräsand       & 0.07289241 & 7167\\\\\n",
       "\t Storskrake    & 0.06865128 & 6750\\\\\n",
       "\t Vitkindad gås & 0.06453221 & 6345\\\\\n",
       "\t Grönsiska     & 0.05198173 & 5111\\\\\n",
       "\t Storskarv     & 0.03570884 & 3511\\\\\n",
       "\t Koltrast      & 0.02796904 & 2750\\\\\n",
       "\t Björktrast    & 0.02616885 & 2573\\\\\n",
       "\t Vigg          & 0.02415508 & 2375\\\\\n",
       "\t Skrattmås     & 0.02365672 & 2326\\\\\n",
       "\t Gråhäger      & 0.02317871 & 2279\\\\\n",
       "\t Talgoxe       & 0.02000549 & 1967\\\\\n",
       "\t Stare         & 0.01943594 & 1911\\\\\n",
       "\t Blåmes        & 0.01910031 & 1878\\\\\n",
       "\t Skäggdopping  & 0.01866298 & 1835\\\\\n",
       "\\end{tabular}\n"
      ],
      "text/markdown": [
       "\n",
       "A tibble: 15 × 3\n",
       "\n",
       "| Artnamn &lt;chr&gt; | Andel &lt;dbl&gt; | Antal &lt;dbl&gt; |\n",
       "|---|---|---|\n",
       "| Sothöna       | 0.08449701 | 8308 |\n",
       "| Gräsand       | 0.07289241 | 7167 |\n",
       "| Storskrake    | 0.06865128 | 6750 |\n",
       "| Vitkindad gås | 0.06453221 | 6345 |\n",
       "| Grönsiska     | 0.05198173 | 5111 |\n",
       "| Storskarv     | 0.03570884 | 3511 |\n",
       "| Koltrast      | 0.02796904 | 2750 |\n",
       "| Björktrast    | 0.02616885 | 2573 |\n",
       "| Vigg          | 0.02415508 | 2375 |\n",
       "| Skrattmås     | 0.02365672 | 2326 |\n",
       "| Gråhäger      | 0.02317871 | 2279 |\n",
       "| Talgoxe       | 0.02000549 | 1967 |\n",
       "| Stare         | 0.01943594 | 1911 |\n",
       "| Blåmes        | 0.01910031 | 1878 |\n",
       "| Skäggdopping  | 0.01866298 | 1835 |\n",
       "\n"
      ],
      "text/plain": [
       "   Artnamn       Andel      Antal\n",
       "1  Sothöna       0.08449701 8308 \n",
       "2  Gräsand       0.07289241 7167 \n",
       "3  Storskrake    0.06865128 6750 \n",
       "4  Vitkindad gås 0.06453221 6345 \n",
       "5  Grönsiska     0.05198173 5111 \n",
       "6  Storskarv     0.03570884 3511 \n",
       "7  Koltrast      0.02796904 2750 \n",
       "8  Björktrast    0.02616885 2573 \n",
       "9  Vigg          0.02415508 2375 \n",
       "10 Skrattmås     0.02365672 2326 \n",
       "11 Gråhäger      0.02317871 2279 \n",
       "12 Talgoxe       0.02000549 1967 \n",
       "13 Stare         0.01943594 1911 \n",
       "14 Blåmes        0.01910031 1878 \n",
       "15 Skäggdopping  0.01866298 1835 "
      ]
     },
     "metadata": {},
     "output_type": "display_data"
    }
   ],
   "source": [
    "modified_prev_df<-art_df%>%filter(Antal<=500)%>%mutate(Andel=Antal/sum(Antal))%>%group_by(Artnamn)%>%summarise(Andel=sum(Andel),Antal=sum(Antal))%>%arrange(desc(Andel))\n",
    "modified_prev_df%>%filter(min_rank(desc(Andel))<=15)\n"
   ]
  },
  {
   "cell_type": "markdown",
   "metadata": {},
   "source": [
    "As the difference between the amount of observations of Grönsiska and other species was very large it is not really surprising to see that it is no longer the most prevalent species.\n",
    "Altough Sothöna and Gräsand are still the most observed species and the third most observed species was Storskrake. Further investigating the data we find that on one occasion 3000 Grönsiska were observed with the comment \"Uppskattat antal när de lättade från alarna, hägerkolonin, delade upp sig. Det kan mycket väl ha varit 5 000 ex.\" which very roughly translates to \"Estimated amount when they flew, they could just have well been 5000\". Looking a little further another very large observation of 10000 Grönsiska was found this one by the same person who reported the previously mentioned observation. This could mean that some people on average overestimate the amount of birds they saw. \n",
    "\n",
    "As such overestimates could make conclusions made with the data unreliable the next thing investigated is how the amount of reported observations differ between different people.\n",
    "\n",
    "To start of the data was grouped by the column Rapportör and then the columns of interest i.e Rapportör and Antal were selected, lastly the column Medelantal containg the mean number of observations for that person was created\n",
    "\n",
    "After the data was proccessed we can plot it in a histogram together with a vertical line at the mean number of observations"
   ]
  },
  {
   "cell_type": "code",
   "execution_count": 13,
   "metadata": {
    "vscode": {
     "languageId": "r"
    }
   },
   "outputs": [
    {
     "name": "stderr",
     "output_type": "stream",
     "text": [
      "Warning message:\n",
      "\"\u001b[1m\u001b[22mOne or more parsing issues, call `problems()` on your data frame for details,\n",
      "e.g.:\n",
      "  dat <- vroom(...)\n",
      "  problems(dat)\"\n",
      "Warning message:\n",
      "\"\u001b[1m\u001b[22mUsing `size` aesthetic for lines was deprecated in ggplot2 3.4.0.\n",
      "\u001b[36mℹ\u001b[39m Please use `linewidth` instead.\"\n"
     ]
    },
    {
     "data": {
      "image/png": "[encoded data removed]",
      "text/plain": [
       "plot without title"
      ]
     },
     "metadata": {
      "image/png": {
       "height": 420,
       "width": 420
      }
     },
     "output_type": "display_data"
    }
   ],
   "source": [
    "reporter_df<-read_csv(\"data/artportalen.csv\",show_col_types=FALSE)\n",
    "reporter_df<-reporter_df%>%filter(Startdatum>=\"2022-01-01\"&Startdatum<=\"2023-01-01\",Antal!=\"noterad\"&Antal!=\"Ej återfunnen\")%>%mutate(Antal=parse_number(Antal))%>%group_by(Rapportör)%>%select(Rapportör,Antal)%>%summarise(Medelantal=mean(Antal))\n",
    "ggplot(data=reporter_df,mapping= aes(x=Medelantal))+geom_histogram(color=\"black\", fill=\"gray\",binwidth=5)+ geom_vline(aes(xintercept=mean(Medelantal)),\n",
    "            color=\"black\", linetype=\"dashed\", size=.8)"
   ]
  },
  {
   "cell_type": "markdown",
   "metadata": {},
   "source": [
    "Looking at the plot we can see that the average amount that a person reports that they observed is close to one and far less than the 3000 or 10000 that the person mentioned earlier had observed. This means that something should probably be done to account for these outlying observations if any real conclusions are to be drawn from the data.\n",
    "\n",
    "The last thing we will investigate is how the most prevalent species change if we exclude  the people with the highest 20 ranks of average reported amount are excluded from the data."
   ]
  },
  {
   "cell_type": "code",
   "execution_count": 14,
   "metadata": {
    "vscode": {
     "languageId": "r"
    }
   },
   "outputs": [
    {
     "name": "stderr",
     "output_type": "stream",
     "text": [
      "Warning message:\n",
      "\"\u001b[1m\u001b[22mOne or more parsing issues, call `problems()` on your data frame for details,\n",
      "e.g.:\n",
      "  dat <- vroom(...)\n",
      "  problems(dat)\"\n"
     ]
    },
    {
     "data": {
      "text/html": [
       "<table class=\"dataframe\">\n",
       "<caption>A tibble: 15 × 3</caption>\n",
       "<thead>\n",
       "\t<tr><th scope=col>Artnamn</th><th scope=col>Andel</th><th scope=col>Antal</th></tr>\n",
       "\t<tr><th scope=col>&lt;chr&gt;</th><th scope=col>&lt;dbl&gt;</th><th scope=col>&lt;dbl&gt;</th></tr>\n",
       "</thead>\n",
       "<tbody>\n",
       "\t<tr><td>Grönsiska    </td><td>0.18247308</td><td>19960</td></tr>\n",
       "\t<tr><td>Sothöna      </td><td>0.06198234</td><td> 6780</td></tr>\n",
       "\t<tr><td>Storskrake   </td><td>0.05809701</td><td> 6355</td></tr>\n",
       "\t<tr><td>Gräsand      </td><td>0.05800559</td><td> 6345</td></tr>\n",
       "\t<tr><td>Vitkindad gås</td><td>0.05438539</td><td> 5949</td></tr>\n",
       "\t<tr><td>Storskarv    </td><td>0.04624906</td><td> 5059</td></tr>\n",
       "\t<tr><td>Björktrast   </td><td>0.02814803</td><td> 3079</td></tr>\n",
       "\t<tr><td>Koltrast     </td><td>0.02492092</td><td> 2726</td></tr>\n",
       "\t<tr><td>Gråhäger     </td><td>0.02051451</td><td> 2244</td></tr>\n",
       "\t<tr><td>Skrattmås    </td><td>0.01920721</td><td> 2101</td></tr>\n",
       "\t<tr><td>Vigg         </td><td>0.01794562</td><td> 1963</td></tr>\n",
       "\t<tr><td>Talgoxe      </td><td>0.01781764</td><td> 1949</td></tr>\n",
       "\t<tr><td>Stare        </td><td>0.01725084</td><td> 1887</td></tr>\n",
       "\t<tr><td>Blåmes       </td><td>0.01700400</td><td> 1860</td></tr>\n",
       "\t<tr><td>Skäggdopping </td><td>0.01608981</td><td> 1760</td></tr>\n",
       "</tbody>\n",
       "</table>\n"
      ],
      "text/latex": [
       "A tibble: 15 × 3\n",
       "\\begin{tabular}{lll}\n",
       " Artnamn & Andel & Antal\\\\\n",
       " <chr> & <dbl> & <dbl>\\\\\n",
       "\\hline\n",
       "\t Grönsiska     & 0.18247308 & 19960\\\\\n",
       "\t Sothöna       & 0.06198234 &  6780\\\\\n",
       "\t Storskrake    & 0.05809701 &  6355\\\\\n",
       "\t Gräsand       & 0.05800559 &  6345\\\\\n",
       "\t Vitkindad gås & 0.05438539 &  5949\\\\\n",
       "\t Storskarv     & 0.04624906 &  5059\\\\\n",
       "\t Björktrast    & 0.02814803 &  3079\\\\\n",
       "\t Koltrast      & 0.02492092 &  2726\\\\\n",
       "\t Gråhäger      & 0.02051451 &  2244\\\\\n",
       "\t Skrattmås     & 0.01920721 &  2101\\\\\n",
       "\t Vigg          & 0.01794562 &  1963\\\\\n",
       "\t Talgoxe       & 0.01781764 &  1949\\\\\n",
       "\t Stare         & 0.01725084 &  1887\\\\\n",
       "\t Blåmes        & 0.01700400 &  1860\\\\\n",
       "\t Skäggdopping  & 0.01608981 &  1760\\\\\n",
       "\\end{tabular}\n"
      ],
      "text/markdown": [
       "\n",
       "A tibble: 15 × 3\n",
       "\n",
       "| Artnamn &lt;chr&gt; | Andel &lt;dbl&gt; | Antal &lt;dbl&gt; |\n",
       "|---|---|---|\n",
       "| Grönsiska     | 0.18247308 | 19960 |\n",
       "| Sothöna       | 0.06198234 |  6780 |\n",
       "| Storskrake    | 0.05809701 |  6355 |\n",
       "| Gräsand       | 0.05800559 |  6345 |\n",
       "| Vitkindad gås | 0.05438539 |  5949 |\n",
       "| Storskarv     | 0.04624906 |  5059 |\n",
       "| Björktrast    | 0.02814803 |  3079 |\n",
       "| Koltrast      | 0.02492092 |  2726 |\n",
       "| Gråhäger      | 0.02051451 |  2244 |\n",
       "| Skrattmås     | 0.01920721 |  2101 |\n",
       "| Vigg          | 0.01794562 |  1963 |\n",
       "| Talgoxe       | 0.01781764 |  1949 |\n",
       "| Stare         | 0.01725084 |  1887 |\n",
       "| Blåmes        | 0.01700400 |  1860 |\n",
       "| Skäggdopping  | 0.01608981 |  1760 |\n",
       "\n"
      ],
      "text/plain": [
       "   Artnamn       Andel      Antal\n",
       "1  Grönsiska     0.18247308 19960\n",
       "2  Sothöna       0.06198234  6780\n",
       "3  Storskrake    0.05809701  6355\n",
       "4  Gräsand       0.05800559  6345\n",
       "5  Vitkindad gås 0.05438539  5949\n",
       "6  Storskarv     0.04624906  5059\n",
       "7  Björktrast    0.02814803  3079\n",
       "8  Koltrast      0.02492092  2726\n",
       "9  Gråhäger      0.02051451  2244\n",
       "10 Skrattmås     0.01920721  2101\n",
       "11 Vigg          0.01794562  1963\n",
       "12 Talgoxe       0.01781764  1949\n",
       "13 Stare         0.01725084  1887\n",
       "14 Blåmes        0.01700400  1860\n",
       "15 Skäggdopping  0.01608981  1760"
      ]
     },
     "metadata": {},
     "output_type": "display_data"
    }
   ],
   "source": [
    "\n",
    "overestimator_df<-reporter_df%>%filter(min_rank(desc(Medelantal))<=20)\n",
    "mod_art_df<-read_csv(\"data/artportalen.csv\",show_col_types=FALSE)\n",
    "mod_art_df<-mod_art_df%>%filter(Startdatum>=\"2022-01-01\"&Startdatum<=\"2023-01-01\",Antal!=\"noterad\"&Antal!=\"Ej återfunnen\",!Rapportör%in% overestimator_df$`Rapportör`)%>%mutate(Antal=parse_number(Antal))%>%select(Startdatum,Artnamn,Antal)\n",
    "mod_prev_df<-mod_art_df%>%mutate(Andel=Antal/sum(Antal))%>%group_by(Artnamn)%>%summarise(Andel=sum(Andel),Antal=sum(Antal))%>%arrange(desc(Andel))\n",
    "mod_prev_df%>%filter(min_rank(desc(Andel))<=15)\n",
    "\n"
   ]
  },
  {
   "cell_type": "markdown",
   "metadata": {},
   "source": [
    "From this table we can se that Grönsiska once again is the most prevalent but that Gräsand is no longer in the top three and has been replaced by Storskrake. This tells us that we will get different results based on what way we choose to exclude outliers from the data. Perhaps excluding all observations over a specific amount together with some of the suspected overestimators would give the best result."
   ]
  },
  {
   "cell_type": "markdown",
   "metadata": {},
   "source": [
    "# Stroke data\n",
    "We will now explore some data about strokes, we once again start by reading the file and then we make summary about the contents of the dataset grouped by if the individual had a stroke or not. "
   ]
  },
  {
   "cell_type": "code",
   "execution_count": null,
   "metadata": {
    "vscode": {
     "languageId": "r"
    }
   },
   "outputs": [
    {
     "data": {
      "text/html": [
       "<table class=\"dataframe\">\n",
       "<caption>A tibble: 2 × 10</caption>\n",
       "<thead>\n",
       "\t<tr><th scope=col>stroke</th><th scope=col>mean_age</th><th scope=col>hypertension_percentage</th><th scope=col>heart_disease_percentage</th><th scope=col>ever_married_percentage</th><th scope=col>avg_glucose</th><th scope=col>avg_bmi</th><th scope=col>smokes_percentage</th><th scope=col>never_smoked_percentage</th><th scope=col>formerly_smoked_percentage</th></tr>\n",
       "\t<tr><th scope=col>&lt;lgl&gt;</th><th scope=col>&lt;dbl&gt;</th><th scope=col>&lt;dbl&gt;</th><th scope=col>&lt;dbl&gt;</th><th scope=col>&lt;dbl&gt;</th><th scope=col>&lt;dbl&gt;</th><th scope=col>&lt;dbl&gt;</th><th scope=col>&lt;dbl&gt;</th><th scope=col>&lt;dbl&gt;</th><th scope=col>&lt;dbl&gt;</th></tr>\n",
       "</thead>\n",
       "<tbody>\n",
       "\t<tr><td>FALSE</td><td>41.97154</td><td>0.0888706</td><td>0.04710965</td><td>0.6445176</td><td>104.7955</td><td>28.82306</td><td>0.2220571</td><td>0.5356718</td><td>0.2422711</td></tr>\n",
       "\t<tr><td> TRUE</td><td>67.72819</td><td>0.2650602</td><td>0.18875502</td><td>0.8835341</td><td>132.5447</td><td>30.47129</td><td>0.2079208</td><td>0.4455446</td><td>0.3465347</td></tr>\n",
       "</tbody>\n",
       "</table>\n"
      ],
      "text/latex": [
       "A tibble: 2 × 10\n",
       "\\begin{tabular}{llllllllll}\n",
       " stroke & mean\\_age & hypertension\\_percentage & heart\\_disease\\_percentage & ever\\_married\\_percentage & avg\\_glucose & avg\\_bmi & smokes\\_percentage & never\\_smoked\\_percentage & formerly\\_smoked\\_percentage\\\\\n",
       " <lgl> & <dbl> & <dbl> & <dbl> & <dbl> & <dbl> & <dbl> & <dbl> & <dbl> & <dbl>\\\\\n",
       "\\hline\n",
       "\t FALSE & 41.97154 & 0.0888706 & 0.04710965 & 0.6445176 & 104.7955 & 28.82306 & 0.2220571 & 0.5356718 & 0.2422711\\\\\n",
       "\t  TRUE & 67.72819 & 0.2650602 & 0.18875502 & 0.8835341 & 132.5447 & 30.47129 & 0.2079208 & 0.4455446 & 0.3465347\\\\\n",
       "\\end{tabular}\n"
      ],
      "text/markdown": [
       "\n",
       "A tibble: 2 × 10\n",
       "\n",
       "| stroke &lt;lgl&gt; | mean_age &lt;dbl&gt; | hypertension_percentage &lt;dbl&gt; | heart_disease_percentage &lt;dbl&gt; | ever_married_percentage &lt;dbl&gt; | avg_glucose &lt;dbl&gt; | avg_bmi &lt;dbl&gt; | smokes_percentage &lt;dbl&gt; | never_smoked_percentage &lt;dbl&gt; | formerly_smoked_percentage &lt;dbl&gt; |\n",
       "|---|---|---|---|---|---|---|---|---|---|\n",
       "| FALSE | 41.97154 | 0.0888706 | 0.04710965 | 0.6445176 | 104.7955 | 28.82306 | 0.2220571 | 0.5356718 | 0.2422711 |\n",
       "|  TRUE | 67.72819 | 0.2650602 | 0.18875502 | 0.8835341 | 132.5447 | 30.47129 | 0.2079208 | 0.4455446 | 0.3465347 |\n",
       "\n"
      ],
      "text/plain": [
       "  stroke mean_age hypertension_percentage heart_disease_percentage\n",
       "1 FALSE  41.97154 0.0888706               0.04710965              \n",
       "2  TRUE  67.72819 0.2650602               0.18875502              \n",
       "  ever_married_percentage avg_glucose avg_bmi  smokes_percentage\n",
       "1 0.6445176               104.7955    28.82306 0.2220571        \n",
       "2 0.8835341               132.5447    30.47129 0.2079208        \n",
       "  never_smoked_percentage formerly_smoked_percentage\n",
       "1 0.5356718               0.2422711                 \n",
       "2 0.4455446               0.3465347                 "
      ]
     },
     "metadata": {},
     "output_type": "display_data"
    }
   ],
   "source": [
    "stroke_df<-read_csv(\"data/stroke-data.csv\",col_types = cols(age=col_double(),gender=col_factor(),hypertension=col_logical(),heart_disease=col_logical(),work_type=col_factor(),Residence_type=col_factor(),avg_glucose_level=col_double(),bmi=col_double(),smoking_status=col_factor(levels = c(\"never smoked\",\"formerly smoked\",\"smokes\")),stroke=col_logical()),na=c(\"N/A\",\"Unknown\"))#%>%mutate(bmi=parse_double(bmi,na=c(\"N/A\")))%>%select(gender,age,hypertension,heart_disease,ever_married,avg_glucose_level,bmi,smoking_status,stroke)\n",
    "\n",
    "\n",
    "stroke_df<-stroke_df%>%mutate(ever_married=as.logical(ifelse(test = ever_married==\"Yes\",yes = 1,no = 0)))%>%select(gender,age,hypertension,heart_disease,ever_married,avg_glucose_level,bmi,smoking_status,stroke)\n",
    "\n",
    "stroke_df%>%group_by(stroke)%>%summarise(mean_age=mean(age),\n",
    "    male_percentage()\n",
    "    hypertension_percentage=sum(hypertension)/sum(hypertension+!hypertension),\n",
    "    heart_disease_percentage=sum(heart_disease)/sum(heart_disease+!heart_disease),\n",
    "    ever_married_percentage=sum(ever_married)/sum(ever_married+!ever_married),\n",
    "    mean_glucose=mean(avg_glucose_level),\n",
    "    mean_bmi=mean(bmi,na.rm = TRUE),\n",
    "    smokes_percentage=sum(smoking_status==\"smokes\",na.rm = TRUE)/(sum(smoking_status==\"smokes\"|smoking_status==\"never smoked\"|smoking_status==\"formerly smoked\",na.rm = TRUE)),\n",
    "    never_smoked_percentage =sum(smoking_status==\"never smoked\",na.rm = TRUE)/(sum(smoking_status==\"smokes\"|smoking_status==\"never smoked\"|smoking_status==\"formerly smoked\",na.rm = TRUE)),\n",
    "    formerly_smoked_percentage =sum(smoking_status==\"formerly smoked\",na.rm = TRUE)/(sum(smoking_status==\"smokes\"|smoking_status==\"never smoked\"|smoking_status==\"formerly smoked\",na.rm = TRUE)),\n",
    "\n",
    ")\n",
    "\n"
   ]
  },
  {
   "cell_type": "markdown",
   "metadata": {},
   "source": [
    "From this summary we can observe a few things, the mean age of those who suffered a stroke is higher than for those who did not, both percentage of people with hypertension-and heart disease was significantly higher for those who suffered a stroke. The average glucose level as well as bmi were also higher for those who suffered a stroke. Somewhat surprisingly the percentage of people who currently,formerly-or never smoked were about the same between the two groups. As the mean age of those who suffered a stroke was higher it was not unexpected that the group would have a higher percentage of people that were ever married.\n",
    "\n",
    "This summary indicates to me that presence of hypertension and-or heart disease as well as increased glucose levels and bmi could increase the risk of suffering a stroke.\n",
    "\n",
    "Therefore i will explore these visually starting with histograms of bmi and average_glucose level"
   ]
  },
  {
   "cell_type": "code",
   "execution_count": 60,
   "metadata": {
    "vscode": {
     "languageId": "r"
    }
   },
   "outputs": [
    {
     "name": "stderr",
     "output_type": "stream",
     "text": [
      "Warning message:\n",
      "\"\u001b[1m\u001b[22mRemoved 201 rows containing non-finite outside the scale range (`stat_bin()`).\"\n"
     ]
    },
    {
     "data": {
      "image/png": "[encoded data removed]",
      "text/plain": [
       "plot without title"
      ]
     },
     "metadata": {
      "image/png": {
       "height": 420,
       "width": 420
      }
     },
     "output_type": "display_data"
    }
   ],
   "source": [
    "bmi_plt<-ggplot(data=stroke_df,mapping = aes(x=bmi))+geom_histogram(color=\"black\", fill=\"gray\",binwidth=5)+ geom_vline(aes(xintercept=mean(bmi,na.rm = TRUE)),color=\"black\", linetype=\"dashed\", size=.8)\n",
    "gluc_plt<-ggplot(data=stroke_df,mapping=aes(x=avg_glucose_level))+geom_histogram(color=\"black\", fill=\"gray\",binwidth=5)+ geom_vline(aes(xintercept=mean(avg_glucose_level,na.rm = TRUE)),color=\"black\", linetype=\"dashed\", size=.8)\n",
    "ggarrange(bmi_plt,gluc_plt,nrow=1,ncol=2)\n"
   ]
  },
  {
   "cell_type": "code",
   "execution_count": 31,
   "metadata": {
    "vscode": {
     "languageId": "r"
    }
   },
   "outputs": [
    {
     "name": "stderr",
     "output_type": "stream",
     "text": [
      "Warning message in ggally_statistic(data = data, mapping = mapping, na.rm = na.rm, :\n",
      "\"Removed 201 rows containing missing values\"\n",
      "Warning message in ggally_statistic(data = data, mapping = mapping, na.rm = na.rm, :\n",
      "\"Removed 201 rows containing missing values\"\n",
      "Warning message:\n",
      "\"\u001b[1m\u001b[22mRemoved 201 rows containing missing values or values outside the scale range\n",
      "(`geom_point()`).\"\n",
      "Warning message:\n",
      "\"\u001b[1m\u001b[22mRemoved 201 rows containing missing values or values outside the scale range\n",
      "(`geom_point()`).\"\n",
      "Warning message:\n",
      "\"\u001b[1m\u001b[22mRemoved 201 rows containing non-finite outside the scale range\n",
      "(`stat_density()`).\"\n",
      "Warning message:\n",
      "\"\u001b[1m\u001b[22mRemoved 201 rows containing non-finite outside the scale range\n",
      "(`stat_boxplot()`).\"\n",
      "\u001b[1m\u001b[22m`stat_bin()` using `bins = 30`. Pick better value with `binwidth`.\n",
      "\u001b[1m\u001b[22m`stat_bin()` using `bins = 30`. Pick better value with `binwidth`.\n",
      "\u001b[1m\u001b[22m`stat_bin()` using `bins = 30`. Pick better value with `binwidth`.\n",
      "Warning message:\n",
      "\"\u001b[1m\u001b[22mRemoved 201 rows containing non-finite outside the scale range (`stat_bin()`).\"\n"
     ]
    },
    {
     "data": {
      "image/png": "[encoded data removed]",
      "text/plain": [
       "plot without title"
      ]
     },
     "metadata": {
      "image/png": {
       "height": 420,
       "width": 420
      }
     },
     "output_type": "display_data"
    }
   ],
   "source": [
    "ggpairs(data=stroke_df%>%select(age,avg_glucose_level,bmi,stroke),\n",
    "#upper = list(continuous = \"points\", combo = \"box_no_facet\", discrete = \"count\", na = \"na\"),\n",
    " # lower = list(continuous = \"points\", combo = \"facethist\", discrete = \"facetbar\", na = \"na\"),\n",
    " # diag = list(continuous = \"densityDiag\", discrete = \"barDiag\", na = \"naDiag\"),\n",
    "mapping=aes(color=stroke))"
   ]
  }
 ],
 "metadata": {
  "kernelspec": {
   "display_name": "R",
   "language": "R",
   "name": "ir"
  },
  "language_info": {
   "codemirror_mode": "r",
   "file_extension": ".r",
   "mimetype": "text/x-r-source",
   "name": "R",
   "pygments_lexer": "r",
   "version": "4.4.1"
  }
 },
 "nbformat": 4,
 "nbformat_minor": 2
}
