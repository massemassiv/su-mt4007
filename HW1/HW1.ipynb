{
 "cells": [
  {
   "cell_type": "markdown",
   "id": "8d624e90-1fa5-4bbd-8b2f-e01cbb5b6cfa",
   "metadata": {},
   "source": [
    "# Homework 1\n",
    "My name is Pontus, i am 22 years old and currently in my third year of studies at SU.\n",
    "\n",
    "I don't have any real previous experience with data science outside of this course."
   ]
  }
 ],
 "metadata": {
  "kernelspec": {
   "display_name": "Python 3 (ipykernel)",
   "language": "python",
   "name": "python3"
  },
  "language_info": {
   "codemirror_mode": {
    "name": "ipython",
    "version": 3
   },
   "file_extension": ".py",
   "mimetype": "text/x-python",
   "name": "python",
   "nbconvert_exporter": "python",
   "pygments_lexer": "ipython3",
   "version": "3.9.20"
  }
 },
 "nbformat": 4,
 "nbformat_minor": 5
}
