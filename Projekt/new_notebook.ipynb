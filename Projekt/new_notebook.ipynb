{
 "cells": [
  {
   "cell_type": "markdown",
   "metadata": {},
   "source": [
    "We are going to explore if it is reasonable to use a MLR model to predict the number of people graduating from three different levels of education. \n",
    "We will also explore if the model performs better for the entire population or for men and women separately."
   ]
  },
  {
   "cell_type": "code",
   "execution_count": null,
   "metadata": {
    "tags": [
     "1",
     "hide"
    ],
    "transient": {
     "remove_source": true
    },
    "vscode": {
     "languageId": "r"
    }
   },
   "outputs": [],
   "source": [
    "# d <- pxweb_interactive(\"https://api.scb.se/OV0104/v1/doris/sv/ssd/UF/UF0550/UF0550C/Historisk11bN\")\n",
    "API_wait <- 1e-3\n",
    "pxq_edu <-\n",
    "  list(\n",
    "    \"Examen\" = c(\"*\"), # Use \"*\" to select all\n",
    "    \"Kon\" = c(\"*\"),\n",
    "    \"ContentsCode\" = c(\"000004NE\"),\n",
    "    \"Tid\" = c(\"*\")\n",
    "  )\n",
    "pxg_edu <- pxweb_get(\"https://api.scb.se/OV0104/v1/doris/sv/ssd/START/UF/UF0550/UF0550C/Historisk11bN\", pxq_edu)\n",
    "Sys.sleep(API_wait)\n",
    "pxq_pop <-\n",
    "  list(\n",
    "    \"Kon\" = c(\"*\"),\n",
    "    \"ContentsCode\" = c(\"000000LV\"),\n",
    "    \"Tid\" = c(\"*\")\n",
    "  )\n",
    "\n",
    "pxg_pop <- pxweb_get(\"https://api.scb.se/OV0104/v1/doris/sv/ssd/START/BE/BE0101/BE0101G/BefUtvKon1749\", pxq_pop)\n",
    "Sys.sleep(API_wait)\n",
    "# https://api.scb.se/OV0104/v1/doris/sv/ssd/START/HE/HE0103/HE0103A/ArbInk28\n",
    "pxq_income <- list(\n",
    "  \"Kon\" = c(\"*\"),\n",
    "  \"Tid\" = c(\"*\"),\n",
    "  \"ContentsCode\" = c(\"HE0103CL\")\n",
    "  # \"HE0103CM\")\n",
    ")\n",
    "pxg_income <- pxweb_get(\"https://api.scb.se/OV0104/v1/doris/sv/ssd/START/HE/HE0103/HE0103A/ArbInk28\", pxq_income)\n",
    "\n",
    "Sys.sleep(API_wait)\n",
    "pxq_kpi <- list(\n",
    "  \"Tid\" = c(\"*\"),\n",
    "  \"ContentsCode\" = c(\"000004VU\")\n",
    ")\n",
    "pxg_kpi <- pxweb_get(\"https://api.scb.se/OV0104/v1/doris/sv/ssd/START/PR/PR0101/PR0101A/KPItotM\", pxq_kpi)\n"
   ]
  },
  {
   "cell_type": "markdown",
   "metadata": {},
   "source": [
    "We start by gathering data from SCB about education,income,KPI and population.\n",
    "Then we clean and modify the data to fit our needs."
   ]
  },
  {
   "cell_type": "code",
   "execution_count": null,
   "metadata": {
    "vscode": {
     "languageId": "r"
    }
   },
   "outputs": [
    {
     "name": "stderr",
     "output_type": "stream",
     "text": [
      "\u001b[1m\u001b[22mJoining with `by = join_by(examen, kön, läsår, `Utfärdade examina vid\n",
      "universitet och högskolor`)`\n",
      "\u001b[1m\u001b[22mJoining with `by = join_by(examen, kön, läsår, `Utfärdade examina vid\n",
      "universitet och högskolor`)`\n"
     ]
    },
    {
     "data": {
      "text/html": [
       "<table class=\"dataframe\">\n",
       "<caption>A tibble: 9 × 7</caption>\n",
       "<thead>\n",
       "\t<tr><th scope=col>examen</th><th scope=col>år</th><th scope=col>kön</th><th scope=col>antal</th><th scope=col>medelinkomst</th><th scope=col>AVG_KPI_Fastställd</th><th scope=col>Folkmängd</th></tr>\n",
       "\t<tr><th scope=col>&lt;fct&gt;</th><th scope=col>&lt;int&gt;</th><th scope=col>&lt;fct&gt;</th><th scope=col>&lt;dbl&gt;</th><th scope=col>&lt;dbl&gt;</th><th scope=col>&lt;dbl&gt;</th><th scope=col>&lt;dbl&gt;</th></tr>\n",
       "</thead>\n",
       "<tbody>\n",
       "\t<tr><td>Grundutbildning</td><td>1980</td><td>totalt </td><td>34536</td><td>172.3</td><td>100</td><td>8317937</td></tr>\n",
       "\t<tr><td>Grundutbildning</td><td>1980</td><td>män    </td><td>12110</td><td>220.4</td><td>100</td><td>4119822</td></tr>\n",
       "\t<tr><td>Grundutbildning</td><td>1980</td><td>kvinnor</td><td>22426</td><td>122.9</td><td>100</td><td>4198115</td></tr>\n",
       "\t<tr><td>Licentiatexamen</td><td>1980</td><td>totalt </td><td>    1</td><td>172.3</td><td>100</td><td>8317937</td></tr>\n",
       "\t<tr><td>Licentiatexamen</td><td>1980</td><td>män    </td><td>    1</td><td>220.4</td><td>100</td><td>4119822</td></tr>\n",
       "\t<tr><td>Licentiatexamen</td><td>1980</td><td>kvinnor</td><td>    0</td><td>122.9</td><td>100</td><td>4198115</td></tr>\n",
       "\t<tr><td>Doktorsexamen  </td><td>1980</td><td>totalt </td><td>  812</td><td>172.3</td><td>100</td><td>8317937</td></tr>\n",
       "\t<tr><td>Doktorsexamen  </td><td>1980</td><td>män    </td><td>  666</td><td>220.4</td><td>100</td><td>4119822</td></tr>\n",
       "\t<tr><td>Doktorsexamen  </td><td>1980</td><td>kvinnor</td><td>  146</td><td>122.9</td><td>100</td><td>4198115</td></tr>\n",
       "</tbody>\n",
       "</table>\n"
      ],
      "text/latex": [
       "A tibble: 9 × 7\n",
       "\\begin{tabular}{lllllll}\n",
       " examen & år & kön & antal & medelinkomst & AVG\\_KPI\\_Fastställd & Folkmängd\\\\\n",
       " <fct> & <int> & <fct> & <dbl> & <dbl> & <dbl> & <dbl>\\\\\n",
       "\\hline\n",
       "\t Grundutbildning & 1980 & totalt  & 34536 & 172.3 & 100 & 8317937\\\\\n",
       "\t Grundutbildning & 1980 & män     & 12110 & 220.4 & 100 & 4119822\\\\\n",
       "\t Grundutbildning & 1980 & kvinnor & 22426 & 122.9 & 100 & 4198115\\\\\n",
       "\t Licentiatexamen & 1980 & totalt  &     1 & 172.3 & 100 & 8317937\\\\\n",
       "\t Licentiatexamen & 1980 & män     &     1 & 220.4 & 100 & 4119822\\\\\n",
       "\t Licentiatexamen & 1980 & kvinnor &     0 & 122.9 & 100 & 4198115\\\\\n",
       "\t Doktorsexamen   & 1980 & totalt  &   812 & 172.3 & 100 & 8317937\\\\\n",
       "\t Doktorsexamen   & 1980 & män     &   666 & 220.4 & 100 & 4119822\\\\\n",
       "\t Doktorsexamen   & 1980 & kvinnor &   146 & 122.9 & 100 & 4198115\\\\\n",
       "\\end{tabular}\n"
      ],
      "text/markdown": [
       "\n",
       "A tibble: 9 × 7\n",
       "\n",
       "| examen &lt;fct&gt; | år &lt;int&gt; | kön &lt;fct&gt; | antal &lt;dbl&gt; | medelinkomst &lt;dbl&gt; | AVG_KPI_Fastställd &lt;dbl&gt; | Folkmängd &lt;dbl&gt; |\n",
       "|---|---|---|---|---|---|---|\n",
       "| Grundutbildning | 1980 | totalt  | 34536 | 172.3 | 100 | 8317937 |\n",
       "| Grundutbildning | 1980 | män     | 12110 | 220.4 | 100 | 4119822 |\n",
       "| Grundutbildning | 1980 | kvinnor | 22426 | 122.9 | 100 | 4198115 |\n",
       "| Licentiatexamen | 1980 | totalt  |     1 | 172.3 | 100 | 8317937 |\n",
       "| Licentiatexamen | 1980 | män     |     1 | 220.4 | 100 | 4119822 |\n",
       "| Licentiatexamen | 1980 | kvinnor |     0 | 122.9 | 100 | 4198115 |\n",
       "| Doktorsexamen   | 1980 | totalt  |   812 | 172.3 | 100 | 8317937 |\n",
       "| Doktorsexamen   | 1980 | män     |   666 | 220.4 | 100 | 4119822 |\n",
       "| Doktorsexamen   | 1980 | kvinnor |   146 | 122.9 | 100 | 4198115 |\n",
       "\n"
      ],
      "text/plain": [
       "  examen          år   kön     antal medelinkomst AVG_KPI_Fastställd Folkmängd\n",
       "1 Grundutbildning 1980 totalt  34536 172.3        100                8317937  \n",
       "2 Grundutbildning 1980 män     12110 220.4        100                4119822  \n",
       "3 Grundutbildning 1980 kvinnor 22426 122.9        100                4198115  \n",
       "4 Licentiatexamen 1980 totalt      1 172.3        100                8317937  \n",
       "5 Licentiatexamen 1980 män         1 220.4        100                4119822  \n",
       "6 Licentiatexamen 1980 kvinnor     0 122.9        100                4198115  \n",
       "7 Doktorsexamen   1980 totalt    812 172.3        100                8317937  \n",
       "8 Doktorsexamen   1980 män       666 220.4        100                4119822  \n",
       "9 Doktorsexamen   1980 kvinnor   146 122.9        100                4198115  "
      ]
     },
     "metadata": {},
     "output_type": "display_data"
    }
   ],
   "source": [
    "edu_df <- as.data.frame(pxg_edu)\n",
    "edu_df <- as_tibble(edu_df)\n",
    "\n",
    "doktor_df <- edu_df %>%\n",
    "    filter(examen %in% c(\"Doktorsgrad\", \"Doktorsexamen\")) %>%\n",
    "    group_by(läsår, kön) %>%\n",
    "    mutate(`Utfärdade examina vid universitet och högskolor` = sum(`Utfärdade examina vid universitet och högskolor`)) %>%\n",
    "    filter(examen == \"Doktorsexamen\") %>%\n",
    "    ungroup()\n",
    "\n",
    "\n",
    "licenciat_df <- edu_df %>%\n",
    "    filter(examen %in% c(\"Licentiatexamen\", \"Licentiatexamen (Äldre)\")) %>%\n",
    "    group_by(läsår, kön) %>%\n",
    "    mutate(`Utfärdade examina vid universitet och högskolor` = sum(`Utfärdade examina vid universitet och högskolor`)) %>%\n",
    "    filter(examen == \"Licentiatexamen\") %>%\n",
    "    ungroup()\n",
    "\n",
    "\n",
    "edu_df <- edu_df %>%\n",
    "    filter(examen == \"Examen från grundutbildning\") %>%\n",
    "    full_join(licenciat_df) %>%\n",
    "    full_join(doktor_df) %>%\n",
    "    pivot_wider(names_from = kön, values_from = `Utfärdade examina vid universitet och högskolor`) %>%\n",
    "    mutate(läsår = as.integer(str_extract(läsår, \"^\\\\w*\"))) %>%\n",
    "    rename(år = läsår) %>%\n",
    "    pivot_longer(!c(år, examen), names_to = \"kön\", values_to = \"antal\") %>%\n",
    "    mutate(\n",
    "        kön = str_replace(kön, \"båda könen\", \"totalt\"),\n",
    "        examen = factor(examen,\n",
    "            ordered = FALSE,\n",
    "            levels = c(\n",
    "                \"Examen från grundutbildning\", \"Licentiatexamen\", \"Licentiatexamen (Äldre)\", \"Doktorsgrad\", \"Doktorsexamen\"\n",
    "            ),\n",
    "            labels = c(\n",
    "                \"Grundutbildning\", \"Licentiatexamen\", \"Licentiatexamen\", \"Doktorsexamen\", \"Doktorsexamen\"\n",
    "            )\n",
    "        )\n",
    "    )\n",
    "\n",
    "pop_df <- as.data.frame(pxg_pop)\n",
    "pop_df <- as_tibble(pop_df) %>% mutate(år = as.integer(år)) # %>%\n",
    "\n",
    "\n",
    "\n",
    "income_df <- as.data.frame(pxg_income)\n",
    "income_df <- as_tibble(income_df) %>%\n",
    "    filter(år >= 1936) %>%\n",
    "    mutate(år = as.integer(år))\n",
    "\n",
    "\n",
    "kpi_df <- as.data.frame(pxg_kpi)\n",
    "kpi_df <- as_tibble(kpi_df) %>%\n",
    "    mutate(månad = str_extract(månad, \"(20|19)[\\\\d]{2}\")) %>%\n",
    "    rename(\"år\" = \"månad\") %>%\n",
    "    group_by(år) %>%\n",
    "    mutate(år = as.integer(år)) %>%\n",
    "    summarize(`AVG_KPI_Fastställd` = mean(`KPI, fastställda tal`)) %>%\n",
    "    ungroup()\n",
    "\n",
    "\n",
    "final_df <- edu_df %>%\n",
    "    left_join(income_df, by = join_by(\"år\", kön == kön)) %>%\n",
    "    left_join(kpi_df, by = \"år\") %>%\n",
    "    left_join(pop_df, by = join_by(\"år\", kön == kön)) %>%\n",
    "    rename(medelinkomst = `Medelvärde, tkr`) %>%\n",
    "    mutate(kön = factor(kön, levels = c(\"totalt\", \"kvinnor\", \"män\"), ordered = FALSE)) %>%\n",
    "    drop_na()\n",
    "\n",
    "final_df %>% filter(år == 1980)\n"
   ]
  },
  {
   "cell_type": "markdown",
   "metadata": {},
   "source": [
    "We then do some eploratory data analysis on the collected data"
   ]
  },
  {
   "cell_type": "markdown",
   "metadata": {},
   "source": [
    "We can see that there is some collinearity between some of the columns and that it differs between different types of degrees."
   ]
  },
  {
   "cell_type": "markdown",
   "metadata": {},
   "source": [
    "As a naive approach the first model will contain all available data in the multiple linear regression for the amount of graduates."
   ]
  },
  {
   "cell_type": "code",
   "execution_count": null,
   "metadata": {
    "tags": [
     "hide"
    ],
    "transient": {
     "remove_source": true
    },
    "vscode": {
     "languageId": "r"
    }
   },
   "outputs": [],
   "source": [
    "naive_model2 <- lm(antal ~ år + kön + examen + medelinkomst + AVG_KPI_Fastställd, data = final_df %>% filter(kön != \"totalt\"))\n",
    "summary(naive_model2)\n"
   ]
  },
  {
   "cell_type": "markdown",
   "metadata": {},
   "source": [
    "This naive model results in a relatively high $R^2$ and $R_{adj}^{2}$ values of $R^2=0.836, R_{adj}^{2}=0.830$. The most significant regressors were the average KPI that year and if the degree was a \"Licenciat\" or PH. That the type of degree was significant is not at all unexpected as a Bachelor's level degree is a prerequesite for further studies. That KPI was significant could hint at the state of the economy being important in people studying or not. But the model is quite hard to interpret as a person, because of the large amount of explanatory variables. Because of this the regressor with the highest $p$-value was removed from the model, this being the population variable.\n",
    "\n",
    "The new model had $R^2=0.836, R_{adj}^{2}=0.831$ meaning it performed slightly better than the naive model. Altough it should be noted that all of the $p$-values barely changed.\n",
    "\n",
    "In order to increase the interpretability of the model and to more easily choose our variables, we will instead create two new models one for the amount of people graduating with a Bachelor's level degree and another for the amount of people graduating with either a \"Licenciat\" or PHD.\n",
    "\n",
    "We will also aproach the problem of choosing variables in the opposite way from what was done to the naive model, that is we will add one variable at a time instead of removing them.\n"
   ]
  },
  {
   "cell_type": "code",
   "execution_count": null,
   "metadata": {
    "tags": [
     "hide"
    ],
    "transient": {
     "remove_source": true
    },
    "vscode": {
     "languageId": "r"
    }
   },
   "outputs": [],
   "source": [
    "bachelor_model <- lm(antal ~ ., data = final_df %>% filter(examen == \"Grundutbildning\", kön != \"totalt\") %>% select(!examen))\n",
    "ols_step_forward_p(bachelor_model)\n",
    "\n",
    "higher_ed_model <- lm(antal ~ ., data = final_df %>% filter(examen != \"Grundutbildning\", kön != \"totalt\") %>% mutate(examen = factor(examen)))\n",
    "ols_step_forward_p(higher_ed_model)\n"
   ]
  },
  {
   "cell_type": "markdown",
   "metadata": {},
   "source": [
    "The variable selection algorithm for the Bachelor's level model resulted in the following choices:\n",
    "1. Population\n",
    "2. Gender\n",
    "3. Average income\n",
    "4. Average KPI\n",
    "5. Year\n",
    "\n",
    "On first glance this result was surprising to me as the first variable it chose was population in contrast to the naive model were it had the largest $p$-values, and that the variable with the lowest $p$-value except type of degree was added second to last.\n",
    "\n",
    "Altough from the pairs plot we knew that there was collinearity between some of the variables so it is to be excpected that they would interact in nonintuitive ways. \n",
    "\n",
    "For the model of the other two degrees, forward selection resulted in the choices:"
   ]
  }
 ],
 "metadata": {
  "kernelspec": {
   "display_name": "R",
   "language": "R",
   "name": "ir"
  },
  "language_info": {
   "codemirror_mode": "r",
   "file_extension": ".r",
   "mimetype": "text/x-r-source",
   "name": "R",
   "pygments_lexer": "r",
   "version": "4.4.1"
  }
 },
 "nbformat": 4,
 "nbformat_minor": 2
}
