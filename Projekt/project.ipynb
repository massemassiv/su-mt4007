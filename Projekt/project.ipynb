{
 "cells": [
  {
   "cell_type": "code",
   "execution_count": 103,
   "metadata": {
    "tags": [
     "hide_cell",
     "hide_input",
     "hide_output"
    ],
    "vscode": {
     "languageId": "r"
    }
   },
   "outputs": [
    {
     "name": "stderr",
     "output_type": "stream",
     "text": [
      "Warning message:\n",
      "\"package 'pxweb' is in use and will not be installed\"\n"
     ]
    }
   ],
   "source": [
    "library(tidyr)\n",
    "library(\"pxweb\")\n",
    "library(\"tidyverse\")\n",
    "library(\"GGally\")\n",
    "library(\"ggpubr\")\n",
    "\n"
   ]
  },
  {
   "cell_type": "markdown",
   "metadata": {},
   "source": [
    "We are going to explore if it is reasonable to use a MLR model to predict the number of people graduating from three different levels of education. \n",
    "We will also explore if the model performs better for the entire population or for men and women separately."
   ]
  },
  {
   "cell_type": "code",
   "execution_count": 104,
   "metadata": {
    "tags": [
     "{\"tags\": [\"hide_input\", \"hide_output\"]}"
    ],
    "vscode": {
     "languageId": "r"
    }
   },
   "outputs": [],
   "source": [
    "#d <- pxweb_interactive(\"https://api.scb.se/OV0104/v1/doris/sv/ssd/UF/UF0550/UF0550C/Historisk11bN\")\n",
    "API_wait<-1e-3\n",
    "pxq_edu <-\n",
    "  list(\n",
    "    \"Examen\" = c(\"*\"), # Use \"*\" to select all\n",
    "    \"Kon\" = c(\"*\"),\n",
    "    \"ContentsCode\" = c(\"000004NE\"),\n",
    "    \"Tid\" = c(\"*\")\n",
    "  )\n",
    "pxg_edu<-pxweb_get(\"https://api.scb.se/OV0104/v1/doris/sv/ssd/START/UF/UF0550/UF0550C/Historisk11bN\",pxq_edu)\n",
    "Sys.sleep(API_wait)\n",
    "pxq_pop <-\n",
    "  list(\n",
    "    \"Kon\" = c(\"*\"),\n",
    "    \"ContentsCode\" = c(\"000000LV\"),\n",
    "    \"Tid\" = c(\"*\")\n",
    "  )\n",
    "\n",
    "pxg_pop<-pxweb_get(\"https://api.scb.se/OV0104/v1/doris/sv/ssd/START/BE/BE0101/BE0101G/BefUtvKon1749\",pxq_pop)\n",
    "Sys.sleep(API_wait)\n",
    "#https://api.scb.se/OV0104/v1/doris/sv/ssd/START/HE/HE0103/HE0103A/ArbInk28\n",
    "pxq_income<-list(\n",
    "\n",
    "  \"Kon\" = c(\"*\"),\n",
    "  \"Tid\" = c(\"*\"),\n",
    "  \"ContentsCode\" = c(\"HE0103CL\")\n",
    "          #\"HE0103CM\")\n",
    ")\n",
    "pxg_income<-pxweb_get(\"https://api.scb.se/OV0104/v1/doris/sv/ssd/START/HE/HE0103/HE0103A/ArbInk28\",pxq_income)\n",
    "\n",
    "Sys.sleep(API_wait)\n",
    "pxq_kpi<-list(\n",
    "  \"Tid\" = c(\"*\"),\n",
    "  \"ContentsCode\" = c(\"000004VU\")#,\n",
    "          #\"000004VT\")\n",
    ")\n",
    "pxg_kpi<-pxweb_get(\"https://api.scb.se/OV0104/v1/doris/sv/ssd/START/PR/PR0101/PR0101A/KPItotM\",pxq_kpi)"
   ]
  },
  {
   "cell_type": "markdown",
   "metadata": {},
   "source": [
    "We start by gathering data from SCB about education,income,KPI and population.\n",
    "Then we clean and modify the data to fit our needs."
   ]
  },
  {
   "cell_type": "code",
   "execution_count": null,
   "metadata": {
    "vscode": {
     "languageId": "r"
    }
   },
   "outputs": [
    {
     "name": "stderr",
     "output_type": "stream",
     "text": [
      "\u001b[1m\u001b[22mJoining with `by = join_by(examen, kön, läsår, `Utfärdade examina vid\n",
      "universitet och högskolor`)`\n",
      "\u001b[1m\u001b[22mJoining with `by = join_by(examen, kön, läsår, `Utfärdade examina vid\n",
      "universitet och högskolor`)`\n"
     ]
    },
    {
     "data": {
      "text/html": [
       "<table class=\"dataframe\">\n",
       "<caption>A tibble: 9 × 7</caption>\n",
       "<thead>\n",
       "\t<tr><th scope=col>examen</th><th scope=col>år</th><th scope=col>kön</th><th scope=col>antal</th><th scope=col>medelinkomst</th><th scope=col>AVG_KPI_Fastställd</th><th scope=col>Folkmängd</th></tr>\n",
       "\t<tr><th scope=col>&lt;fct&gt;</th><th scope=col>&lt;int&gt;</th><th scope=col>&lt;fct&gt;</th><th scope=col>&lt;dbl&gt;</th><th scope=col>&lt;dbl&gt;</th><th scope=col>&lt;dbl&gt;</th><th scope=col>&lt;dbl&gt;</th></tr>\n",
       "</thead>\n",
       "<tbody>\n",
       "\t<tr><td>Grundutbildning</td><td>1980</td><td>totalt </td><td>34536</td><td>172.3</td><td>100</td><td>8317937</td></tr>\n",
       "\t<tr><td>Grundutbildning</td><td>1980</td><td>män    </td><td>12110</td><td>220.4</td><td>100</td><td>4119822</td></tr>\n",
       "\t<tr><td>Grundutbildning</td><td>1980</td><td>kvinnor</td><td>22426</td><td>122.9</td><td>100</td><td>4198115</td></tr>\n",
       "\t<tr><td>Licentiatexamen</td><td>1980</td><td>totalt </td><td>    1</td><td>172.3</td><td>100</td><td>8317937</td></tr>\n",
       "\t<tr><td>Licentiatexamen</td><td>1980</td><td>män    </td><td>    1</td><td>220.4</td><td>100</td><td>4119822</td></tr>\n",
       "\t<tr><td>Licentiatexamen</td><td>1980</td><td>kvinnor</td><td>    0</td><td>122.9</td><td>100</td><td>4198115</td></tr>\n",
       "\t<tr><td>Doktorsexamen  </td><td>1980</td><td>totalt </td><td>  812</td><td>172.3</td><td>100</td><td>8317937</td></tr>\n",
       "\t<tr><td>Doktorsexamen  </td><td>1980</td><td>män    </td><td>  666</td><td>220.4</td><td>100</td><td>4119822</td></tr>\n",
       "\t<tr><td>Doktorsexamen  </td><td>1980</td><td>kvinnor</td><td>  146</td><td>122.9</td><td>100</td><td>4198115</td></tr>\n",
       "</tbody>\n",
       "</table>\n"
      ],
      "text/latex": [
       "A tibble: 9 × 7\n",
       "\\begin{tabular}{lllllll}\n",
       " examen & år & kön & antal & medelinkomst & AVG\\_KPI\\_Fastställd & Folkmängd\\\\\n",
       " <fct> & <int> & <fct> & <dbl> & <dbl> & <dbl> & <dbl>\\\\\n",
       "\\hline\n",
       "\t Grundutbildning & 1980 & totalt  & 34536 & 172.3 & 100 & 8317937\\\\\n",
       "\t Grundutbildning & 1980 & män     & 12110 & 220.4 & 100 & 4119822\\\\\n",
       "\t Grundutbildning & 1980 & kvinnor & 22426 & 122.9 & 100 & 4198115\\\\\n",
       "\t Licentiatexamen & 1980 & totalt  &     1 & 172.3 & 100 & 8317937\\\\\n",
       "\t Licentiatexamen & 1980 & män     &     1 & 220.4 & 100 & 4119822\\\\\n",
       "\t Licentiatexamen & 1980 & kvinnor &     0 & 122.9 & 100 & 4198115\\\\\n",
       "\t Doktorsexamen   & 1980 & totalt  &   812 & 172.3 & 100 & 8317937\\\\\n",
       "\t Doktorsexamen   & 1980 & män     &   666 & 220.4 & 100 & 4119822\\\\\n",
       "\t Doktorsexamen   & 1980 & kvinnor &   146 & 122.9 & 100 & 4198115\\\\\n",
       "\\end{tabular}\n"
      ],
      "text/markdown": [
       "\n",
       "A tibble: 9 × 7\n",
       "\n",
       "| examen &lt;fct&gt; | år &lt;int&gt; | kön &lt;fct&gt; | antal &lt;dbl&gt; | medelinkomst &lt;dbl&gt; | AVG_KPI_Fastställd &lt;dbl&gt; | Folkmängd &lt;dbl&gt; |\n",
       "|---|---|---|---|---|---|---|\n",
       "| Grundutbildning | 1980 | totalt  | 34536 | 172.3 | 100 | 8317937 |\n",
       "| Grundutbildning | 1980 | män     | 12110 | 220.4 | 100 | 4119822 |\n",
       "| Grundutbildning | 1980 | kvinnor | 22426 | 122.9 | 100 | 4198115 |\n",
       "| Licentiatexamen | 1980 | totalt  |     1 | 172.3 | 100 | 8317937 |\n",
       "| Licentiatexamen | 1980 | män     |     1 | 220.4 | 100 | 4119822 |\n",
       "| Licentiatexamen | 1980 | kvinnor |     0 | 122.9 | 100 | 4198115 |\n",
       "| Doktorsexamen   | 1980 | totalt  |   812 | 172.3 | 100 | 8317937 |\n",
       "| Doktorsexamen   | 1980 | män     |   666 | 220.4 | 100 | 4119822 |\n",
       "| Doktorsexamen   | 1980 | kvinnor |   146 | 122.9 | 100 | 4198115 |\n",
       "\n"
      ],
      "text/plain": [
       "  examen          år   kön     antal medelinkomst AVG_KPI_Fastställd Folkmängd\n",
       "1 Grundutbildning 1980 totalt  34536 172.3        100                8317937  \n",
       "2 Grundutbildning 1980 män     12110 220.4        100                4119822  \n",
       "3 Grundutbildning 1980 kvinnor 22426 122.9        100                4198115  \n",
       "4 Licentiatexamen 1980 totalt      1 172.3        100                8317937  \n",
       "5 Licentiatexamen 1980 män         1 220.4        100                4119822  \n",
       "6 Licentiatexamen 1980 kvinnor     0 122.9        100                4198115  \n",
       "7 Doktorsexamen   1980 totalt    812 172.3        100                8317937  \n",
       "8 Doktorsexamen   1980 män       666 220.4        100                4119822  \n",
       "9 Doktorsexamen   1980 kvinnor   146 122.9        100                4198115  "
      ]
     },
     "metadata": {},
     "output_type": "display_data"
    }
   ],
   "source": [
    "edu_df<-as.data.frame(pxg_edu)\n",
    "edu_df<-as_tibble(edu_df)\n",
    "\n",
    "doktor_df<-edu_df%>%\n",
    "filter(examen%in%c(\"Doktorsgrad\",\"Doktorsexamen\"))%>%\n",
    "group_by(läsår,kön)%>%\n",
    "mutate(`Utfärdade examina vid universitet och högskolor`=sum(`Utfärdade examina vid universitet och högskolor`))%>%\n",
    "filter(examen==\"Doktorsexamen\")%>%\n",
    "ungroup()\n",
    "\n",
    "\n",
    "licenciat_df<-edu_df%>%\n",
    "filter(examen%in%c(\"Licentiatexamen\",\"Licentiatexamen (Äldre)\"))%>%\n",
    "group_by(läsår,kön)%>%\n",
    "mutate(`Utfärdade examina vid universitet och högskolor`=sum(`Utfärdade examina vid universitet och högskolor`))%>%\n",
    "filter(examen==\"Licentiatexamen\")%>%\n",
    "ungroup()\n",
    "\n",
    "\n",
    "edu_df<-edu_df%>%\n",
    "filter(examen==\"Examen från grundutbildning\")%>%\n",
    "full_join(licenciat_df)%>%\n",
    "full_join(doktor_df)%>%\n",
    "pivot_wider(names_from=kön,values_from = `Utfärdade examina vid universitet och högskolor`)%>%\n",
    "mutate(läsår=as.integer(str_extract(läsår,\"^\\\\w*\")))%>%rename(år=läsår)%>%\n",
    "pivot_longer(!c(år,examen),names_to = \"kön\",values_to = \"antal\")%>%\n",
    "mutate(kön=str_replace(kön,\"båda könen\",\"totalt\"),\n",
    "    examen=factor(examen,\n",
    "    ordered = FALSE,\n",
    "    levels = c(\n",
    "    \"Examen från grundutbildning\",\"Licentiatexamen\",\"Licentiatexamen (Äldre)\",\"Doktorsgrad\",\"Doktorsexamen\"\n",
    "    ),\n",
    "    labels=c(\n",
    "        \"Grundutbildning\",\"Licentiatexamen\",\"Licentiatexamen\",\"Doktorsexamen\",\"Doktorsexamen\"\n",
    ")))\n",
    "\n",
    "pop_df<-as.data.frame(pxg_pop)\n",
    "pop_df<-as_tibble(pop_df)%>%mutate(år=as.integer(år))#%>%\n",
    "\n",
    "\n",
    "\n",
    "income_df<-as.data.frame(pxg_income)\n",
    "income_df<-as_tibble(income_df)%>%filter(år>=1936)%>%mutate(år=as.integer(år))\n",
    "\n",
    "\n",
    "kpi_df<-as.data.frame(pxg_kpi)\n",
    "kpi_df<-as_tibble(kpi_df)%>%\n",
    "mutate(månad=str_extract(månad,\"(20|19)[\\\\d]{2}\"))%>%\n",
    "rename(\"år\"=\"månad\")%>%\n",
    "group_by(år)%>%mutate(år=as.integer(år))%>%\n",
    "summarize(`AVG_KPI_Fastställd` = mean(`KPI, fastställda tal`))%>%\n",
    "ungroup()\n",
    "\n",
    "\n",
    "final_df<-edu_df%>%\n",
    "left_join(income_df,by=join_by(\"år\",kön==kön))%>%\n",
    "left_join(kpi_df,by=\"år\")%>%\n",
    "left_join(pop_df,by=join_by(\"år\",kön==kön))%>%rename(medelinkomst=`Medelvärde, tkr`)%>%\n",
    "mutate(kön=factor(kön,levels=c(\"totalt\",\"kvinnor\",\"män\"),ordered = FALSE))%>% \n",
    "drop_na()\n",
    "\n",
    "final_df%>%filter(år==1980)"
   ]
  },
  {
   "cell_type": "markdown",
   "metadata": {},
   "source": [
    "We then do some eploratory data analysis on the collected data"
   ]
  },
  {
   "cell_type": "code",
   "execution_count": 106,
   "metadata": {
    "vscode": {
     "languageId": "r"
    }
   },
   "outputs": [
    {
     "data": {
      "image/png": "[encoded data removed]",
      "text/plain": [
       "plot without title"
      ]
     },
     "metadata": {
      "image/png": {
       "height": 420,
       "width": 420
      }
     },
     "output_type": "display_data"
    }
   ],
   "source": [
    "library(gridExtra)\n",
    "library(cowplot)\n",
    "dok_df<-final_df%>%\n",
    "filter(examen==\"Doktorsexamen\",kön!=\"totalt\")%>%\n",
    "mutate(Folkmängd=1e-6*Folkmängd)\n",
    "\n",
    "lic_df<-final_df%>%\n",
    "filter(examen==\"Licentiatexamen\",kön!=\"totalt\")%>%\n",
    "mutate(Folkmängd=1e-6*Folkmängd)\n",
    "\n",
    "grund_df<-final_df%>%\n",
    "filter(examen==\"Grundutbildning\",kön!=\"totalt\")%>%\n",
    "mutate(Folkmängd=1e-6*Folkmängd)\n",
    "\n",
    "dok_pairs<-ggpairs(data=dok_df,\n",
    "columns=c(\"år\",\"antal\",\"medelinkomst\",\"AVG_KPI_Fastställd\",\"Folkmängd\"), \n",
    "mapping=aes(color=kön))\n",
    "\n",
    "lic_pairs<-ggpairs(data=lic_df,columns=c(\"år\",\"antal\",\"medelinkomst\",\"AVG_KPI_Fastställd\",\"Folkmängd\"), \n",
    "mapping=aes(color=kön))\n",
    "\n",
    "grund_pairs<-ggpairs(data=grund_df,columns=c(\"år\",\"antal\",\"medelinkomst\",\"AVG_KPI_Fastställd\",\"Folkmängd\"),\n",
    "mapping=aes(color=kön))\n",
    "\n",
    "plot_grid(\n",
    "    ggmatrix_gtable(dok_pairs), ggmatrix_gtable(lic_pairs), ggmatrix_gtable(grund_pairs),\n",
    "    ncol=1)"
   ]
  },
  {
   "cell_type": "markdown",
   "metadata": {},
   "source": [
    "We can see that there is some collinearity between some of the columns and that it differs between different types of degrees."
   ]
  },
  {
   "cell_type": "markdown",
   "metadata": {},
   "source": [
    "As a naive approach the first model will contain all available data in the multiple linear regression for the amount of graduates."
   ]
  },
  {
   "cell_type": "code",
   "execution_count": 109,
   "metadata": {
    "vscode": {
     "languageId": "r"
    }
   },
   "outputs": [
    {
     "data": {
      "text/plain": [
       "\n",
       "Call:\n",
       "lm(formula = antal ~ år + kön + examen + medelinkomst + Folkmängd + \n",
       "    AVG_KPI_Fastställd, data = final_df %>% filter(kön != \"totalt\"))\n",
       "\n",
       "Residuals:\n",
       "    Min      1Q  Median      3Q     Max \n",
       "-7336.1 -2820.9  -343.8  2509.4 20567.5 \n",
       "\n",
       "Coefficients:\n",
       "                        Estimate Std. Error t value Pr(>|t|)    \n",
       "(Intercept)           -1.674e+06  6.974e+05  -2.400  0.01733 *  \n",
       "år                     8.648e+02  3.656e+02   2.365  0.01898 *  \n",
       "könmän                -1.241e+03  3.123e+03  -0.397  0.69157    \n",
       "examenLicentiatexamen -2.188e+04  8.268e+02 -26.464  < 2e-16 ***\n",
       "examenDoktorsexamen   -2.129e+04  8.268e+02 -25.744  < 2e-16 ***\n",
       "medelinkomst          -3.498e+01  3.875e+01  -0.903  0.36787    \n",
       "Folkmängd             -1.050e-03  8.651e-03  -0.121  0.90357    \n",
       "AVG_KPI_Fastställd    -7.788e+01  2.982e+01  -2.611  0.00972 ** \n",
       "---\n",
       "Signif. codes:  0 '***' 0.001 '**' 0.01 '*' 0.05 '.' 0.1 ' ' 1\n",
       "\n",
       "Residual standard error: 4821 on 196 degrees of freedom\n",
       "Multiple R-squared:  0.836,\tAdjusted R-squared:  0.8301 \n",
       "F-statistic: 142.7 on 7 and 196 DF,  p-value: < 2.2e-16\n"
      ]
     },
     "metadata": {},
     "output_type": "display_data"
    }
   ],
   "source": [
    "naive_model<-lm(antal~år+kön+examen+medelinkomst+Folkmängd+AVG_KPI_Fastställd,data=final_df%>%filter(kön!=\"totalt\"))\n",
    "summary(naive_model)\n"
   ]
  },
  {
   "cell_type": "code",
   "execution_count": 112,
   "metadata": {
    "vscode": {
     "languageId": "r"
    }
   },
   "outputs": [
    {
     "data": {
      "text/plain": [
       "\n",
       "Call:\n",
       "lm(formula = antal ~ år + kön + examen + medelinkomst + AVG_KPI_Fastställd, \n",
       "    data = final_df %>% filter(kön != \"totalt\"))\n",
       "\n",
       "Residuals:\n",
       "   Min     1Q Median     3Q    Max \n",
       " -7296  -2807   -362   2527  20515 \n",
       "\n",
       "Coefficients:\n",
       "                        Estimate Std. Error t value Pr(>|t|)    \n",
       "(Intercept)           -1.628e+06  5.878e+05  -2.770  0.00613 ** \n",
       "år                     8.397e+02  3.006e+02   2.793  0.00573 ** \n",
       "könmän                -1.184e+03  3.080e+03  -0.384  0.70108    \n",
       "examenLicentiatexamen -2.188e+04  8.247e+02 -26.531  < 2e-16 ***\n",
       "examenDoktorsexamen   -2.129e+04  8.247e+02 -25.809  < 2e-16 ***\n",
       "medelinkomst          -3.458e+01  3.852e+01  -0.898  0.37042    \n",
       "AVG_KPI_Fastställd    -7.729e+01  2.934e+01  -2.634  0.00911 ** \n",
       "---\n",
       "Signif. codes:  0 '***' 0.001 '**' 0.01 '*' 0.05 '.' 0.1 ' ' 1\n",
       "\n",
       "Residual standard error: 4809 on 197 degrees of freedom\n",
       "Multiple R-squared:  0.8359,\tAdjusted R-squared:  0.8309 \n",
       "F-statistic: 167.3 on 6 and 197 DF,  p-value: < 2.2e-16\n"
      ]
     },
     "metadata": {},
     "output_type": "display_data"
    },
    {
     "data": {
      "text/html": [
       "<style>\n",
       ".list-inline {list-style: none; margin:0; padding: 0}\n",
       ".list-inline>li {display: inline-block}\n",
       ".list-inline>li:not(:last-child)::after {content: \"\\00b7\"; padding: 0 .5ex}\n",
       "</style>\n",
       "<ol class=list-inline><li>'Grundutbildning'</li><li>'Licentiatexamen'</li><li>'Doktorsexamen'</li></ol>\n"
      ],
      "text/latex": [
       "\\begin{enumerate*}\n",
       "\\item 'Grundutbildning'\n",
       "\\item 'Licentiatexamen'\n",
       "\\item 'Doktorsexamen'\n",
       "\\end{enumerate*}\n"
      ],
      "text/markdown": [
       "1. 'Grundutbildning'\n",
       "2. 'Licentiatexamen'\n",
       "3. 'Doktorsexamen'\n",
       "\n",
       "\n"
      ],
      "text/plain": [
       "[1] \"Grundutbildning\" \"Licentiatexamen\" \"Doktorsexamen\"  "
      ]
     },
     "metadata": {},
     "output_type": "display_data"
    },
    {
     "data": {
      "text/html": [
       "<style>\n",
       ".list-inline {list-style: none; margin:0; padding: 0}\n",
       ".list-inline>li {display: inline-block}\n",
       ".list-inline>li:not(:last-child)::after {content: \"\\00b7\"; padding: 0 .5ex}\n",
       "</style>\n",
       "<ol class=list-inline><li>Grundutbildning</li><li>Licentiatexamen</li><li>Doktorsexamen</li></ol>\n",
       "\n",
       "<details>\n",
       "\t<summary style=display:list-item;cursor:pointer>\n",
       "\t\t<strong>Levels</strong>:\n",
       "\t</summary>\n",
       "\t<style>\n",
       "\t.list-inline {list-style: none; margin:0; padding: 0}\n",
       "\t.list-inline>li {display: inline-block}\n",
       "\t.list-inline>li:not(:last-child)::after {content: \"\\00b7\"; padding: 0 .5ex}\n",
       "\t</style>\n",
       "\t<ol class=list-inline><li>'Grundutbildning'</li><li>'Licentiatexamen'</li><li>'Doktorsexamen'</li></ol>\n",
       "</details>"
      ],
      "text/latex": [
       "\\begin{enumerate*}\n",
       "\\item Grundutbildning\n",
       "\\item Licentiatexamen\n",
       "\\item Doktorsexamen\n",
       "\\end{enumerate*}\n",
       "\n",
       "\\emph{Levels}: \\begin{enumerate*}\n",
       "\\item 'Grundutbildning'\n",
       "\\item 'Licentiatexamen'\n",
       "\\item 'Doktorsexamen'\n",
       "\\end{enumerate*}\n"
      ],
      "text/markdown": [
       "1. Grundutbildning\n",
       "2. Licentiatexamen\n",
       "3. Doktorsexamen\n",
       "\n",
       "\n",
       "\n",
       "**Levels**: 1. 'Grundutbildning'\n",
       "2. 'Licentiatexamen'\n",
       "3. 'Doktorsexamen'\n",
       "\n",
       "\n"
      ],
      "text/plain": [
       "[1] Grundutbildning Licentiatexamen Doktorsexamen  \n",
       "Levels: Grundutbildning Licentiatexamen Doktorsexamen"
      ]
     },
     "metadata": {},
     "output_type": "display_data"
    }
   ],
   "source": [
    "naive_model2<-lm(antal~år+kön+examen+medelinkomst+AVG_KPI_Fastställd,data=final_df%>%filter(kön!=\"totalt\"))\n",
    "summary(naive_model2)"
   ]
  },
  {
   "cell_type": "markdown",
   "metadata": {},
   "source": [
    "This naive model results in a relatively high $R^2$ and $R_{adj}^{2}$ values of $R^2=0.836, R_{adj}^{2}=0.830$. The most significant regressors were the average KPI that year and if the degree was a \"Licenciat\" or PH. That the type of degree was significant is not at all unexpected as a Bachelor's level degree is a prerequesite for further studies. That KPI was significant could hint at the state of the economy being important in people studying or not. But the model is quite hard to interpret as a person, because of the large amount of explanatory variables. Because of this the regressor with the highest $p$-value was removed from the model, this being the population variable.\n",
    "\n",
    "The new model had $R^2=0.836, R_{adj}^{2}=0.831$ meaning it performed slightly better than the naive model. Altough it should be noted that all of the $p$-values barely changed.\n",
    "\n",
    "In order to increase the interpretability of the model and to more easily choose our variables, we will instead create two new models one for the amount of people graduating with a Bachelor's level degree and another for the amount of people graduating with either a \"Licenciat\" or PHD.\n",
    "\n",
    "We will also aproach the problem of choosing variables in the opposite way from what was done to the naive model, that is we will add one variable at a time instead of removing them.\n"
   ]
  },
  {
   "cell_type": "code",
   "execution_count": 120,
   "metadata": {
    "vscode": {
     "languageId": "r"
    }
   },
   "outputs": [
    {
     "name": "stdout",
     "output_type": "stream",
     "text": [
      "package 'olsrr' successfully unpacked and MD5 sums checked\n",
      "\n",
      "The downloaded binary packages are in\n",
      "\tC:\\Users\\masip\\AppData\\Local\\Temp\\RtmpU1se05\\downloaded_packages\n"
     ]
    },
    {
     "name": "stderr",
     "output_type": "stream",
     "text": [
      "Warning message:\n",
      "\"package 'olsrr' was built under R version 4.4.2\"\n",
      "\n",
      "Attaching package: 'olsrr'\n",
      "\n",
      "\n",
      "The following object is masked from 'package:datasets':\n",
      "\n",
      "    rivers\n",
      "\n",
      "\n"
     ]
    },
    {
     "data": {
      "text/plain": [
       "\n",
       "\n",
       "                                   Stepwise Summary                                   \n",
       "------------------------------------------------------------------------------------\n",
       "Step    Variable                AIC         SBC         SBIC        R2       Adj. R2 \n",
       "------------------------------------------------------------------------------------\n",
       " 0      Base Model            1447.805    1452.244    1251.378    0.00000    0.00000 \n",
       " 1      Folkmängd             1388.922    1395.580    1191.690    0.59153    0.58534 \n",
       " 2      kön                   1339.183    1348.061    1142.668    0.80914    0.80326 \n",
       " 3      medelinkomst          1327.645    1338.743    1131.189    0.84359    0.83626 \n",
       " 4      AVG_KPI_Fastställd    1320.904    1334.221    1124.602    0.86246    0.85373 \n",
       " 5      år                    1291.093    1306.629    1099.260    0.91385    0.90690 \n",
       "------------------------------------------------------------------------------------\n",
       "\n",
       "Final Model Output \n",
       "------------------\n",
       "\n",
       "                            Model Summary                              \n",
       "----------------------------------------------------------------------\n",
       "R                          0.956       RMSE                  2897.053 \n",
       "R-Squared                  0.914       MSE                8392914.012 \n",
       "Adj. R-Squared             0.907       Coef. Var               13.662 \n",
       "Pred R-Squared             0.896       AIC                   1291.093 \n",
       "MAE                     2360.274       SBC                   1306.629 \n",
       "----------------------------------------------------------------------\n",
       " RMSE: Root Mean Square Error \n",
       " MSE: Mean Square Error \n",
       " MAE: Mean Absolute Error \n",
       " AIC: Akaike Information Criteria \n",
       " SBC: Schwarz Bayesian Criteria \n",
       "\n",
       "                                    ANOVA                                      \n",
       "------------------------------------------------------------------------------\n",
       "                      Sum of                                                  \n",
       "                     Squares        DF       Mean Square       F         Sig. \n",
       "------------------------------------------------------------------------------\n",
       "Regression    6053846173.952         5    1210769234.790    131.532    0.0000 \n",
       "Residual       570718152.798        62       9205131.497                      \n",
       "Total         6624564326.750        67                                        \n",
       "------------------------------------------------------------------------------\n",
       "\n",
       "                                               Parameter Estimates                                                \n",
       "-----------------------------------------------------------------------------------------------------------------\n",
       "             model            Beta    Std. Error    Std. Beta      t        Sig            lower           upper \n",
       "-----------------------------------------------------------------------------------------------------------------\n",
       "       (Intercept)    -4744231.247    760146.820                 -6.241    0.000    -6263743.089    -3224719.405 \n",
       "         Folkmängd           0.001         0.009        0.021     0.113    0.911          -0.018           0.020 \n",
       "            könmän       -4492.417      3404.323       -0.228    -1.320    0.192      -11297.563        2312.728 \n",
       "      medelinkomst         -98.245        42.241       -0.536    -2.326    0.023        -182.683         -13.807 \n",
       "AVG_KPI_Fastställd        -231.133        32.509       -1.486    -7.110    0.000        -296.118        -166.148 \n",
       "                år        2423.482       398.513        2.409     6.081    0.000        1626.866        3220.097 \n",
       "-----------------------------------------------------------------------------------------------------------------\n"
      ]
     },
     "metadata": {},
     "output_type": "display_data"
    }
   ],
   "source": [
    "\n",
    "bachelor_model<-lm(antal~.,data=final_df%>%filter(examen==\"Grundutbildning\",kön!=\"totalt\")%>%select(!examen))\n",
    "ols_step_forward_p(bachelor_model)"
   ]
  },
  {
   "cell_type": "markdown",
   "metadata": {},
   "source": [
    "The result of the forward selection for the Bachelor's level model was very surprising to me as the first variable i choose was "
   ]
  }
 ],
 "metadata": {
  "kernelspec": {
   "display_name": "R",
   "language": "R",
   "name": "ir"
  },
  "language_info": {
   "codemirror_mode": "r",
   "file_extension": ".r",
   "mimetype": "text/x-r-source",
   "name": "R",
   "pygments_lexer": "r",
   "version": "4.4.1"
  }
 },
 "nbformat": 4,
 "nbformat_minor": 2
}
