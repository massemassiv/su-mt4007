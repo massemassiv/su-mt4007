{
 "cells": [
  {
   "cell_type": "code",
   "execution_count": 104,
   "id": "1f0e4236-709c-49cb-a73a-6c214c14e617",
   "metadata": {},
   "outputs": [],
   "source": [
    "import pandas as pd\n",
    "import pathlib as pl\n",
    "import matplotlib.pyplot as plt\n",
    "data_path=pl.Path(__name__).absolute().parent.parent.joinpath(\"data\")#.mkdir(\"data\",exist_ok=True)\n",
    "booli_path=data_path.joinpath(\"Booli_sold.csv\")\n",
    "kommun_path=data_path.joinpath(\"2018_R_per_kommun.csv\")\n",
    "\n",
    "#booli_path=pl.Path(__name__).parent.joinpath( \"data\").joinpath( \"Booli_sold.csv\")\n",
    "booli_df=pd.read_csv(booli_path)\n"
   ]
  },
  {
   "cell_type": "code",
   "execution_count": 105,
   "id": "22e539d3",
   "metadata": {},
   "outputs": [],
   "source": [
    "booli_df[\"ppsqm\"]=booli_df[\"soldPrice\"]/booli_df[\"livingArea\"]"
   ]
  },
  {
   "cell_type": "code",
   "execution_count": 106,
   "id": "8932ea5c",
   "metadata": {},
   "outputs": [
    {
     "data": {
      "text/html": [
       "<div>\n",
       "<style scoped>\n",
       "    .dataframe tbody tr th:only-of-type {\n",
       "        vertical-align: middle;\n",
       "    }\n",
       "\n",
       "    .dataframe tbody tr th {\n",
       "        vertical-align: top;\n",
       "    }\n",
       "\n",
       "    .dataframe thead th {\n",
       "        text-align: right;\n",
       "    }\n",
       "</style>\n",
       "<table border=\"1\" class=\"dataframe\">\n",
       "  <thead>\n",
       "    <tr style=\"text-align: right;\">\n",
       "      <th></th>\n",
       "      <th>listPrice</th>\n",
       "      <th>rent</th>\n",
       "      <th>livingArea</th>\n",
       "      <th>rooms</th>\n",
       "      <th>published</th>\n",
       "      <th>constructionYear</th>\n",
       "      <th>objectType</th>\n",
       "      <th>booliId</th>\n",
       "      <th>soldDate</th>\n",
       "      <th>soldPrice</th>\n",
       "      <th>...</th>\n",
       "      <th>location.position.longitude</th>\n",
       "      <th>location.position.isApproximate</th>\n",
       "      <th>location.region.municipalityName</th>\n",
       "      <th>location.region.countyName</th>\n",
       "      <th>location.distance.ocean</th>\n",
       "      <th>source.name</th>\n",
       "      <th>source.id</th>\n",
       "      <th>source.type</th>\n",
       "      <th>source.url</th>\n",
       "      <th>ppsqm</th>\n",
       "    </tr>\n",
       "  </thead>\n",
       "  <tbody>\n",
       "    <tr>\n",
       "      <th>67</th>\n",
       "      <td>1595000</td>\n",
       "      <td>1464.0</td>\n",
       "      <td>24.0</td>\n",
       "      <td>1.0</td>\n",
       "      <td>2016-01-07 14:51:06</td>\n",
       "      <td>1935.0</td>\n",
       "      <td>Lägenhet</td>\n",
       "      <td>2018259</td>\n",
       "      <td>2016-01-21</td>\n",
       "      <td>2500000</td>\n",
       "      <td>...</td>\n",
       "      <td>18.055270</td>\n",
       "      <td>NaN</td>\n",
       "      <td>Stockholm</td>\n",
       "      <td>Stockholms län</td>\n",
       "      <td>161</td>\n",
       "      <td>Notar</td>\n",
       "      <td>1566</td>\n",
       "      <td>Broker</td>\n",
       "      <td>http://www.notar.se/</td>\n",
       "      <td>104166.666667</td>\n",
       "    </tr>\n",
       "    <tr>\n",
       "      <th>50</th>\n",
       "      <td>1890000</td>\n",
       "      <td>1464.0</td>\n",
       "      <td>24.0</td>\n",
       "      <td>1.0</td>\n",
       "      <td>2016-06-11 08:55:51</td>\n",
       "      <td>1935.0</td>\n",
       "      <td>Lägenhet</td>\n",
       "      <td>2125576</td>\n",
       "      <td>2016-06-21</td>\n",
       "      <td>2450000</td>\n",
       "      <td>...</td>\n",
       "      <td>18.055270</td>\n",
       "      <td>NaN</td>\n",
       "      <td>Stockholm</td>\n",
       "      <td>Stockholms län</td>\n",
       "      <td>161</td>\n",
       "      <td>HusmanHagberg</td>\n",
       "      <td>1610</td>\n",
       "      <td>Broker</td>\n",
       "      <td>http://www.husmanhagberg.se/</td>\n",
       "      <td>102083.333333</td>\n",
       "    </tr>\n",
       "    <tr>\n",
       "      <th>54</th>\n",
       "      <td>1795000</td>\n",
       "      <td>1374.0</td>\n",
       "      <td>23.0</td>\n",
       "      <td>1.0</td>\n",
       "      <td>2016-04-15 19:10:49</td>\n",
       "      <td>1935.0</td>\n",
       "      <td>Lägenhet</td>\n",
       "      <td>2078171</td>\n",
       "      <td>2016-04-28</td>\n",
       "      <td>2300000</td>\n",
       "      <td>...</td>\n",
       "      <td>18.055422</td>\n",
       "      <td>True</td>\n",
       "      <td>Stockholm</td>\n",
       "      <td>Stockholms län</td>\n",
       "      <td>135</td>\n",
       "      <td>Notar</td>\n",
       "      <td>1566</td>\n",
       "      <td>Broker</td>\n",
       "      <td>http://www.notar.se/</td>\n",
       "      <td>100000.000000</td>\n",
       "    </tr>\n",
       "    <tr>\n",
       "      <th>34</th>\n",
       "      <td>1750000</td>\n",
       "      <td>1144.0</td>\n",
       "      <td>25.0</td>\n",
       "      <td>1.0</td>\n",
       "      <td>2017-05-18 16:20:57</td>\n",
       "      <td>1936.0</td>\n",
       "      <td>Lägenhet</td>\n",
       "      <td>2330886</td>\n",
       "      <td>2017-06-01</td>\n",
       "      <td>2210000</td>\n",
       "      <td>...</td>\n",
       "      <td>18.053880</td>\n",
       "      <td>NaN</td>\n",
       "      <td>Stockholm</td>\n",
       "      <td>Stockholms län</td>\n",
       "      <td>218</td>\n",
       "      <td>HusmanHagberg</td>\n",
       "      <td>1610</td>\n",
       "      <td>Broker</td>\n",
       "      <td>http://www.husmanhagberg.se/</td>\n",
       "      <td>88400.000000</td>\n",
       "    </tr>\n",
       "    <tr>\n",
       "      <th>55</th>\n",
       "      <td>1895000</td>\n",
       "      <td>1522.0</td>\n",
       "      <td>26.9</td>\n",
       "      <td>1.0</td>\n",
       "      <td>2016-04-01 22:56:37</td>\n",
       "      <td>1968.0</td>\n",
       "      <td>Lägenhet</td>\n",
       "      <td>2067384</td>\n",
       "      <td>2016-04-19</td>\n",
       "      <td>2300000</td>\n",
       "      <td>...</td>\n",
       "      <td>18.058529</td>\n",
       "      <td>True</td>\n",
       "      <td>Stockholm</td>\n",
       "      <td>Stockholms län</td>\n",
       "      <td>298</td>\n",
       "      <td>Notar</td>\n",
       "      <td>1566</td>\n",
       "      <td>Broker</td>\n",
       "      <td>http://www.notar.se/</td>\n",
       "      <td>85501.858736</td>\n",
       "    </tr>\n",
       "  </tbody>\n",
       "</table>\n",
       "<p>5 rows × 28 columns</p>\n",
       "</div>"
      ],
      "text/plain": [
       "    listPrice    rent  livingArea  rooms            published  \\\n",
       "67    1595000  1464.0        24.0    1.0  2016-01-07 14:51:06   \n",
       "50    1890000  1464.0        24.0    1.0  2016-06-11 08:55:51   \n",
       "54    1795000  1374.0        23.0    1.0  2016-04-15 19:10:49   \n",
       "34    1750000  1144.0        25.0    1.0  2017-05-18 16:20:57   \n",
       "55    1895000  1522.0        26.9    1.0  2016-04-01 22:56:37   \n",
       "\n",
       "    constructionYear objectType  booliId    soldDate  soldPrice  ...  \\\n",
       "67            1935.0   Lägenhet  2018259  2016-01-21    2500000  ...   \n",
       "50            1935.0   Lägenhet  2125576  2016-06-21    2450000  ...   \n",
       "54            1935.0   Lägenhet  2078171  2016-04-28    2300000  ...   \n",
       "34            1936.0   Lägenhet  2330886  2017-06-01    2210000  ...   \n",
       "55            1968.0   Lägenhet  2067384  2016-04-19    2300000  ...   \n",
       "\n",
       "   location.position.longitude location.position.isApproximate  \\\n",
       "67                   18.055270                             NaN   \n",
       "50                   18.055270                             NaN   \n",
       "54                   18.055422                            True   \n",
       "34                   18.053880                             NaN   \n",
       "55                   18.058529                            True   \n",
       "\n",
       "    location.region.municipalityName  location.region.countyName  \\\n",
       "67                         Stockholm              Stockholms län   \n",
       "50                         Stockholm              Stockholms län   \n",
       "54                         Stockholm              Stockholms län   \n",
       "34                         Stockholm              Stockholms län   \n",
       "55                         Stockholm              Stockholms län   \n",
       "\n",
       "    location.distance.ocean    source.name source.id  source.type  \\\n",
       "67                      161          Notar      1566       Broker   \n",
       "50                      161  HusmanHagberg      1610       Broker   \n",
       "54                      135          Notar      1566       Broker   \n",
       "34                      218  HusmanHagberg      1610       Broker   \n",
       "55                      298          Notar      1566       Broker   \n",
       "\n",
       "                      source.url          ppsqm  \n",
       "67          http://www.notar.se/  104166.666667  \n",
       "50  http://www.husmanhagberg.se/  102083.333333  \n",
       "54          http://www.notar.se/  100000.000000  \n",
       "34  http://www.husmanhagberg.se/   88400.000000  \n",
       "55          http://www.notar.se/   85501.858736  \n",
       "\n",
       "[5 rows x 28 columns]"
      ]
     },
     "execution_count": 106,
     "metadata": {},
     "output_type": "execute_result"
    }
   ],
   "source": [
    "booli_df.sort_values(\"ppsqm\", ascending=False)[:5].head()"
   ]
  },
  {
   "cell_type": "code",
   "execution_count": 107,
   "id": "1125d6df",
   "metadata": {},
   "outputs": [
    {
     "data": {
      "text/html": [
       "<div>\n",
       "<style scoped>\n",
       "    .dataframe tbody tr th:only-of-type {\n",
       "        vertical-align: middle;\n",
       "    }\n",
       "\n",
       "    .dataframe tbody tr th {\n",
       "        vertical-align: top;\n",
       "    }\n",
       "\n",
       "    .dataframe thead th {\n",
       "        text-align: right;\n",
       "    }\n",
       "</style>\n",
       "<table border=\"1\" class=\"dataframe\">\n",
       "  <thead>\n",
       "    <tr style=\"text-align: right;\">\n",
       "      <th></th>\n",
       "      <th>location.position.latitude</th>\n",
       "      <th>location.position.longitude</th>\n",
       "      <th>location.address.streetAddress</th>\n",
       "      <th>ppsqm</th>\n",
       "    </tr>\n",
       "  </thead>\n",
       "  <tbody>\n",
       "    <tr>\n",
       "      <th>0</th>\n",
       "      <td>59.371033</td>\n",
       "      <td>18.054057</td>\n",
       "      <td>Åminnevägen 19</td>\n",
       "      <td>52328.767123</td>\n",
       "    </tr>\n",
       "    <tr>\n",
       "      <th>1</th>\n",
       "      <td>59.371242</td>\n",
       "      <td>18.057821</td>\n",
       "      <td>Docentbacken 9</td>\n",
       "      <td>65416.666667</td>\n",
       "    </tr>\n",
       "    <tr>\n",
       "      <th>2</th>\n",
       "      <td>59.371617</td>\n",
       "      <td>18.054716</td>\n",
       "      <td>Ekhagsvägen 5</td>\n",
       "      <td>75432.098765</td>\n",
       "    </tr>\n",
       "    <tr>\n",
       "      <th>3</th>\n",
       "      <td>59.371480</td>\n",
       "      <td>18.053880</td>\n",
       "      <td>Torphagsvägen 4</td>\n",
       "      <td>75233.644860</td>\n",
       "    </tr>\n",
       "    <tr>\n",
       "      <th>4</th>\n",
       "      <td>59.372160</td>\n",
       "      <td>18.053542</td>\n",
       "      <td>Torphagsvägen 14</td>\n",
       "      <td>82758.620690</td>\n",
       "    </tr>\n",
       "    <tr>\n",
       "      <th>...</th>\n",
       "      <td>...</td>\n",
       "      <td>...</td>\n",
       "      <td>...</td>\n",
       "      <td>...</td>\n",
       "    </tr>\n",
       "    <tr>\n",
       "      <th>153</th>\n",
       "      <td>59.372272</td>\n",
       "      <td>18.055659</td>\n",
       "      <td>Ekhagsvägen 12</td>\n",
       "      <td>56730.769231</td>\n",
       "    </tr>\n",
       "    <tr>\n",
       "      <th>154</th>\n",
       "      <td>59.372272</td>\n",
       "      <td>18.055659</td>\n",
       "      <td>Ekhagsvägen 12</td>\n",
       "      <td>44900.000000</td>\n",
       "    </tr>\n",
       "    <tr>\n",
       "      <th>155</th>\n",
       "      <td>59.371194</td>\n",
       "      <td>18.053552</td>\n",
       "      <td>Åminnevägen 17</td>\n",
       "      <td>63043.478261</td>\n",
       "    </tr>\n",
       "    <tr>\n",
       "      <th>156</th>\n",
       "      <td>59.372759</td>\n",
       "      <td>18.054634</td>\n",
       "      <td>Torphagsvägen 18</td>\n",
       "      <td>39285.714286</td>\n",
       "    </tr>\n",
       "    <tr>\n",
       "      <th>157</th>\n",
       "      <td>59.372272</td>\n",
       "      <td>18.055659</td>\n",
       "      <td>Ekhagsvägen 12</td>\n",
       "      <td>43600.000000</td>\n",
       "    </tr>\n",
       "  </tbody>\n",
       "</table>\n",
       "<p>158 rows × 4 columns</p>\n",
       "</div>"
      ],
      "text/plain": [
       "     location.position.latitude  location.position.longitude  \\\n",
       "0                     59.371033                    18.054057   \n",
       "1                     59.371242                    18.057821   \n",
       "2                     59.371617                    18.054716   \n",
       "3                     59.371480                    18.053880   \n",
       "4                     59.372160                    18.053542   \n",
       "..                          ...                          ...   \n",
       "153                   59.372272                    18.055659   \n",
       "154                   59.372272                    18.055659   \n",
       "155                   59.371194                    18.053552   \n",
       "156                   59.372759                    18.054634   \n",
       "157                   59.372272                    18.055659   \n",
       "\n",
       "    location.address.streetAddress         ppsqm  \n",
       "0                   Åminnevägen 19  52328.767123  \n",
       "1                   Docentbacken 9  65416.666667  \n",
       "2                    Ekhagsvägen 5  75432.098765  \n",
       "3                  Torphagsvägen 4  75233.644860  \n",
       "4                 Torphagsvägen 14  82758.620690  \n",
       "..                             ...           ...  \n",
       "153                 Ekhagsvägen 12  56730.769231  \n",
       "154                 Ekhagsvägen 12  44900.000000  \n",
       "155                 Åminnevägen 17  63043.478261  \n",
       "156               Torphagsvägen 18  39285.714286  \n",
       "157                 Ekhagsvägen 12  43600.000000  \n",
       "\n",
       "[158 rows x 4 columns]"
      ]
     },
     "execution_count": 107,
     "metadata": {},
     "output_type": "execute_result"
    }
   ],
   "source": [
    "avg_ppsqm=booli_df[\"ppsqm\"].mean()\n",
    "booli_df[[\"location.position.latitude\", \"location.position.longitude\", \"location.address.streetAddress\", \"ppsqm\"]]"
   ]
  },
  {
   "cell_type": "code",
   "execution_count": 108,
   "id": "4243dc8d-e4f1-4898-836f-623e38f38c98",
   "metadata": {},
   "outputs": [],
   "source": [
    "import plotly.express as px\n",
    "import pandas as pd\n",
    "from copy import deepcopy as dc\n",
    "df = dc(booli_df[[\"location.position.latitude\", \"location.position.longitude\", \"location.address.streetAddress\", \"ppsqm\"]])\n",
    "\n",
    "df.dropna(\n",
    "    axis=0,\n",
    "   how='any',\n",
    "    #thresh=None,\n",
    "    subset=None,\n",
    "    inplace=True\n",
    ")\n",
    "\n",
    "color_scale = [(0, 'orange'), (1,'red')]\n",
    "\n",
    "fig = px.scatter_mapbox(df, \n",
    "                        lat=\"location.position.latitude\", \n",
    "                        lon=\"location.position.longitude\", \n",
    "                        hover_name=\"location.address.streetAddress\", \n",
    "                        hover_data=[\"location.address.streetAddress\", \"ppsqm\"],\n",
    "                        color=\"ppsqm\",\n",
    "                        color_continuous_scale=color_scale,\n",
    "                        size=\"ppsqm\",\n",
    "                        zoom=8, \n",
    "                        height=800,\n",
    "                        width=800)\n",
    "\n"
   ]
  },
  {
   "cell_type": "code",
   "execution_count": 109,
   "id": "fb687cbb",
   "metadata": {},
   "outputs": [
    {
     "data": {
      "application/vnd.plotly.v1+json": {
       "config": {
        "plotlyServerURL": "https://plot.ly"
       },
       "data": [
        {
         "customdata": [
          [
           "Åminnevägen 19",
           52328.767123287675
          ],
          [
           "Docentbacken 9",
           65416.666666666664
          ],
          [
           "Ekhagsvägen 5",
           75432.09876543209
          ],
          [
           "Torphagsvägen 4",
           75233.64485981308
          ],
          [
           "Torphagsvägen 14",
           82758.62068965517
          ],
          [
           "Torphagsvägen 4",
           71600
          ],
          [
           "Docentbacken 5",
           53030.30303030303
          ],
          [
           "Docentbacken 3",
           51321.92846034215
          ],
          [
           "Docentbacken 3",
           48989.1135303266
          ],
          [
           "Åminnevägen 17",
           56250
          ],
          [
           "Ekhagsvägen 9",
           83448.27586206897
          ],
          [
           "Ekhagsvägen 12",
           69361.70212765958
          ],
          [
           "Torphagsvägen 10",
           53260.86956521739
          ],
          [
           "Torphagsvägen 16",
           66923.07692307692
          ],
          [
           "Ekhagsvägen 9",
           61855.67010309279
          ],
          [
           "Ekhagsvägen 12",
           62500
          ],
          [
           "Torphagsvägen 6",
           66200
          ],
          [
           "Docentbacken 11",
           59934.31855500821
          ],
          [
           "Ekhagsvägen 12",
           57183.09859154929
          ],
          [
           "Åminnevägen 17",
           79032.25806451614
          ],
          [
           "Docentbacken 13",
           57815.84582441113
          ],
          [
           "Docentbacken 3",
           54296.875
          ],
          [
           "Ekhagsvägen 4",
           58474.57627118644
          ],
          [
           "Ekhagsvägen 4",
           66666.66666666667
          ],
          [
           "Torphagsvägen 4",
           73142.85714285714
          ],
          [
           "Ekhagsvägen 8",
           70540.54054054055
          ],
          [
           "Torphagsvägen 4",
           70535.71428571429
          ],
          [
           "Torphagsvägen 16",
           64117.64705882353
          ],
          [
           "Ekhagsvägen 8",
           59210.52631578947
          ],
          [
           "Ekhagsvägen 8",
           73378.37837837837
          ],
          [
           "Torphagsvägen 14",
           65806.45161290323
          ],
          [
           "Docentbacken 9",
           69230.76923076923
          ],
          [
           "Ekhagsvägen 9",
           77319.58762886598
          ],
          [
           "Torphagsvägen 6",
           54807.692307692305
          ],
          [
           "Torphagsvägen 4",
           88400
          ],
          [
           "Docentbacken 1A",
           62500
          ],
          [
           "Ekhagsvägen 11",
           73859.64912280702
          ],
          [
           "Ekhagsvägen 8",
           58125
          ],
          [
           "Torphagsvägen 10",
           61851.851851851854
          ],
          [
           "Ekhagsvägen 11",
           70312.5
          ],
          [
           "Torphagsvägen 14",
           67543.85964912281
          ],
          [
           "Ekhagsvägen 4",
           72051.28205128205
          ],
          [
           "Ekhagsvägen 5",
           59692.307692307695
          ],
          [
           "Torphagsvägen 6",
           72000
          ],
          [
           "Torphagsvägen 14",
           68421.05263157895
          ],
          [
           "Torphagsvägen 10",
           54545.454545454544
          ],
          [
           "Docentbacken 1B",
           63018.24212271974
          ],
          [
           "Ekhagsvägen 4",
           54347.82608695652
          ],
          [
           "Åminnevägen 19",
           68243.24324324324
          ],
          [
           "Torphagsvägen 12",
           71808.51063829787
          ],
          [
           "Ekhagsvägen 8",
           102083.33333333333
          ],
          [
           "Torphagsvägen 16",
           82894.73684210527
          ],
          [
           "Torphagsvägen 4",
           68750
          ],
          [
           "Docentbacken 1B",
           51071.42857142857
          ],
          [
           "Ekhagsvägen 10",
           100000
          ],
          [
           "Docentbacken 1B",
           85501.85873605948
          ],
          [
           "Torphagsvägen 10",
           49056.6037735849
          ],
          [
           "Docentbacken 7",
           56122.448979591834
          ],
          [
           "Docentbacken 3",
           58762.886597938144
          ],
          [
           "Torphagsvägen 22",
           60855.26315789474
          ],
          [
           "Docentbacken 1B",
           58872.30514096186
          ],
          [
           "Åminnevägen 19",
           69342.1052631579
          ],
          [
           "Ekhagsvägen 8",
           70270.27027027027
          ],
          [
           "Torphagsvägen 16",
           66770.83333333333
          ],
          [
           "Docentbacken 3",
           55925.92592592593
          ],
          [
           "Torphagsvägen 16",
           73469.38775510204
          ],
          [
           "Docentbacken 9",
           56696.42857142857
          ],
          [
           "Ekhagsvägen 8",
           104166.66666666667
          ],
          [
           "Torphagsvägen 6",
           46739.13043478261
          ],
          [
           "Docentbacken 1B",
           56666.666666666664
          ],
          [
           "Torphagsvägen 10",
           57407.40740740741
          ],
          [
           "Torphagsvägen 10",
           56363.63636363636
          ],
          [
           "Ekhagsvägen 4",
           66410.2564102564
          ],
          [
           "Torphagsvägen 16",
           63020.833333333336
          ],
          [
           "Torphagsvägen 14",
           68695.65217391304
          ],
          [
           "Åminnevägen 15",
           50000
          ],
          [
           "Docentbacken 1A",
           52785.71428571428
          ],
          [
           "Torphagsvägen 10",
           55454.545454545456
          ],
          [
           "Torphagsvägen 10",
           51900.82644628099
          ],
          [
           "Docentbacken 3",
           62047.569803516024
          ],
          [
           "Torphagsvägen 10",
           50943.3962264151
          ],
          [
           "Torphagsvägen 10",
           51032.608695652176
          ],
          [
           "Åminnevägen 17",
           56052.63157894737
          ],
          [
           "Torphagsvägen 10",
           49586.776859504134
          ],
          [
           "Torphagsvägen 10",
           63148.148148148146
          ],
          [
           "Docentbacken 5",
           72500
          ],
          [
           "Ekhagsvägen 10",
           85312.5
          ],
          [
           "Docentbacken 11",
           55000
          ],
          [
           "Ekhagsvägen 11",
           63157.89473684211
          ],
          [
           "Åminnevägen 17",
           74193.54838709677
          ],
          [
           "Docentbacken 1B",
           47761.19402985075
          ],
          [
           "Ekhagsvägen 12",
           69523.80952380953
          ],
          [
           "Ekhagsvägen 3",
           56862.74509803922
          ],
          [
           "Ekhagsvägen 5",
           39230.769230769234
          ],
          [
           "Torphagsvägen 24",
           63365.38461538462
          ],
          [
           "Torphagsvägen 6",
           64600
          ],
          [
           "Torphagsvägen 8",
           48305.08474576271
          ],
          [
           "Torphagsvägen 8",
           55092.59259259259
          ],
          [
           "Docentbacken 3",
           66944.44444444444
          ],
          [
           "Docentbacken 1B",
           53067.99336650083
          ],
          [
           "Åminnevägen 17",
           64062.5
          ],
          [
           "Ekhagsvägen 6",
           52631.57894736842
          ],
          [
           "Ekhagsvägen 5",
           54464.28571428572
          ],
          [
           "Torphagsvägen 8",
           55555.555555555555
          ],
          [
           "Docentbacken 1B",
           47666.666666666664
          ],
          [
           "Åminnevägen 15",
           42748.091603053435
          ],
          [
           "Docentbacken 13",
           46960.249415432576
          ],
          [
           "Torphagsvägen 14",
           47587.71929824561
          ],
          [
           "Ekhagsvägen 8",
           66216.21621621621
          ],
          [
           "Torphagsvägen 16",
           54230.769230769234
          ],
          [
           "Ekhagsvägen 5",
           51851.851851851854
          ],
          [
           "Torphagsvägen 14",
           55376.344086021505
          ],
          [
           "Torphagsvägen 6",
           49579.83193277311
          ],
          [
           "Docentbacken 9",
           51042.87369640788
          ],
          [
           "Torphagsvägen 14",
           69827.58620689655
          ],
          [
           "Ekhagsvägen 4",
           47802.1978021978
          ],
          [
           "Ekhagsvägen 6",
           42622.95081967213
          ],
          [
           "Ekhagsvägen 8",
           57432.43243243243
          ],
          [
           "Docentbacken 7",
           47206.16570327553
          ],
          [
           "Torphagsvägen 6",
           48900
          ],
          [
           "Ekhagsvägen 5",
           46923.07692307692
          ],
          [
           "Ekhagsvägen 5",
           46296.2962962963
          ],
          [
           "Docentbacken 5",
           50155.11892450879
          ],
          [
           "Docentbacken 3",
           47222.22222222222
          ],
          [
           "Torphagsvägen 16",
           66428.57142857143
          ],
          [
           "Ekhagsvägen 12",
           45000
          ],
          [
           "Åminnevägen 19",
           44520.54794520548
          ],
          [
           "Torphagsvägen 16",
           51157.89473684211
          ],
          [
           "Torphagsvägen 24",
           47075.47169811321
          ],
          [
           "Ekhagsvägen 4",
           42028.985507246376
          ],
          [
           "Ekhagsvägen 8",
           48684.21052631579
          ],
          [
           "Torphagsvägen 14",
           50631.57894736842
          ],
          [
           "Ekhagsvägen 8",
           41118.42105263158
          ],
          [
           "Ekhagsvägen 12",
           60806.45161290323
          ],
          [
           "Torphagsvägen 8",
           39453.125
          ],
          [
           "Docentbacken 3",
           40435.45878693624
          ],
          [
           "Ekhagsvägen 2",
           48425.92592592593
          ],
          [
           "Docentbacken 3",
           48611.11111111111
          ],
          [
           "Torphagsvägen 14",
           47463.76811594203
          ],
          [
           "Torphagsvägen 4",
           42056.07476635514
          ],
          [
           "Ekhagsvägen 6",
           37246.3768115942
          ],
          [
           "Torphagsvägen 6",
           44178.08219178082
          ],
          [
           "Torphagsvägen 16",
           48315.78947368421
          ],
          [
           "Åminnevägen 17",
           41842.10526315789
          ],
          [
           "Torphagsvägen 20A",
           50943.3962264151
          ],
          [
           "Docentbacken 5",
           35714.28571428572
          ],
          [
           "Ekhagsvägen 3",
           41153.846153846156
          ],
          [
           "Ekhagsvägen 10",
           54545.454545454544
          ],
          [
           "Ekhagsvägen 12",
           50212.765957446805
          ],
          [
           "Ekhagsvägen 10",
           65000
          ],
          [
           "Docentbacken 13",
           35714.28571428572
          ],
          [
           "Ekhagsvägen 2",
           46625
          ],
          [
           "Ekhagsvägen 12",
           56730.769230769234
          ],
          [
           "Ekhagsvägen 12",
           44900
          ],
          [
           "Åminnevägen 17",
           63043.47826086957
          ],
          [
           "Torphagsvägen 18",
           39285.71428571428
          ],
          [
           "Ekhagsvägen 12",
           43600
          ]
         ],
         "hovertemplate": "<b>%{hovertext}</b><br><br>ppsqm=%{marker.color}<br>location.position.latitude=%{lat}<br>location.position.longitude=%{lon}<br>location.address.streetAddress=%{customdata[0]}<extra></extra>",
         "hovertext": [
          "Åminnevägen 19",
          "Docentbacken 9",
          "Ekhagsvägen 5",
          "Torphagsvägen 4",
          "Torphagsvägen 14",
          "Torphagsvägen 4",
          "Docentbacken 5",
          "Docentbacken 3",
          "Docentbacken 3",
          "Åminnevägen 17",
          "Ekhagsvägen 9",
          "Ekhagsvägen 12",
          "Torphagsvägen 10",
          "Torphagsvägen 16",
          "Ekhagsvägen 9",
          "Ekhagsvägen 12",
          "Torphagsvägen 6",
          "Docentbacken 11",
          "Ekhagsvägen 12",
          "Åminnevägen 17",
          "Docentbacken 13",
          "Docentbacken 3",
          "Ekhagsvägen 4",
          "Ekhagsvägen 4",
          "Torphagsvägen 4",
          "Ekhagsvägen 8",
          "Torphagsvägen 4",
          "Torphagsvägen 16",
          "Ekhagsvägen 8",
          "Ekhagsvägen 8",
          "Torphagsvägen 14",
          "Docentbacken 9",
          "Ekhagsvägen 9",
          "Torphagsvägen 6",
          "Torphagsvägen 4",
          "Docentbacken 1A",
          "Ekhagsvägen 11",
          "Ekhagsvägen 8",
          "Torphagsvägen 10",
          "Ekhagsvägen 11",
          "Torphagsvägen 14",
          "Ekhagsvägen 4",
          "Ekhagsvägen 5",
          "Torphagsvägen 6",
          "Torphagsvägen 14",
          "Torphagsvägen 10",
          "Docentbacken 1B",
          "Ekhagsvägen 4",
          "Åminnevägen 19",
          "Torphagsvägen 12",
          "Ekhagsvägen 8",
          "Torphagsvägen 16",
          "Torphagsvägen 4",
          "Docentbacken 1B",
          "Ekhagsvägen 10",
          "Docentbacken 1B",
          "Torphagsvägen 10",
          "Docentbacken 7",
          "Docentbacken 3",
          "Torphagsvägen 22",
          "Docentbacken 1B",
          "Åminnevägen 19",
          "Ekhagsvägen 8",
          "Torphagsvägen 16",
          "Docentbacken 3",
          "Torphagsvägen 16",
          "Docentbacken 9",
          "Ekhagsvägen 8",
          "Torphagsvägen 6",
          "Docentbacken 1B",
          "Torphagsvägen 10",
          "Torphagsvägen 10",
          "Ekhagsvägen 4",
          "Torphagsvägen 16",
          "Torphagsvägen 14",
          "Åminnevägen 15",
          "Docentbacken 1A",
          "Torphagsvägen 10",
          "Torphagsvägen 10",
          "Docentbacken 3",
          "Torphagsvägen 10",
          "Torphagsvägen 10",
          "Åminnevägen 17",
          "Torphagsvägen 10",
          "Torphagsvägen 10",
          "Docentbacken 5",
          "Ekhagsvägen 10",
          "Docentbacken 11",
          "Ekhagsvägen 11",
          "Åminnevägen 17",
          "Docentbacken 1B",
          "Ekhagsvägen 12",
          "Ekhagsvägen 3",
          "Ekhagsvägen 5",
          "Torphagsvägen 24",
          "Torphagsvägen 6",
          "Torphagsvägen 8",
          "Torphagsvägen 8",
          "Docentbacken 3",
          "Docentbacken 1B",
          "Åminnevägen 17",
          "Ekhagsvägen 6",
          "Ekhagsvägen 5",
          "Torphagsvägen 8",
          "Docentbacken 1B",
          "Åminnevägen 15",
          "Docentbacken 13",
          "Torphagsvägen 14",
          "Ekhagsvägen 8",
          "Torphagsvägen 16",
          "Ekhagsvägen 5",
          "Torphagsvägen 14",
          "Torphagsvägen 6",
          "Docentbacken 9",
          "Torphagsvägen 14",
          "Ekhagsvägen 4",
          "Ekhagsvägen 6",
          "Ekhagsvägen 8",
          "Docentbacken 7",
          "Torphagsvägen 6",
          "Ekhagsvägen 5",
          "Ekhagsvägen 5",
          "Docentbacken 5",
          "Docentbacken 3",
          "Torphagsvägen 16",
          "Ekhagsvägen 12",
          "Åminnevägen 19",
          "Torphagsvägen 16",
          "Torphagsvägen 24",
          "Ekhagsvägen 4",
          "Ekhagsvägen 8",
          "Torphagsvägen 14",
          "Ekhagsvägen 8",
          "Ekhagsvägen 12",
          "Torphagsvägen 8",
          "Docentbacken 3",
          "Ekhagsvägen 2",
          "Docentbacken 3",
          "Torphagsvägen 14",
          "Torphagsvägen 4",
          "Ekhagsvägen 6",
          "Torphagsvägen 6",
          "Torphagsvägen 16",
          "Åminnevägen 17",
          "Torphagsvägen 20A",
          "Docentbacken 5",
          "Ekhagsvägen 3",
          "Ekhagsvägen 10",
          "Ekhagsvägen 12",
          "Ekhagsvägen 10",
          "Docentbacken 13",
          "Ekhagsvägen 2",
          "Ekhagsvägen 12",
          "Ekhagsvägen 12",
          "Åminnevägen 17",
          "Torphagsvägen 18",
          "Ekhagsvägen 12"
         ],
         "lat": [
          59.37103271,
          59.37124248,
          59.37161719,
          59.37148,
          59.3721605,
          59.37148,
          59.3710473,
          59.3709502,
          59.3709502,
          59.37119438,
          59.3720466,
          59.3722721,
          59.3723882,
          59.3720529,
          59.3720466,
          59.3722721,
          59.3716443,
          59.37142064,
          59.3722721,
          59.37119438,
          59.3715256,
          59.3709502,
          59.3713881,
          59.3713881,
          59.37148,
          59.37178,
          59.37148,
          59.3720529,
          59.37178,
          59.37178,
          59.3721605,
          59.37124248,
          59.3720466,
          59.3716443,
          59.37148,
          59.3705294,
          59.3725786,
          59.37178,
          59.3723882,
          59.3725786,
          59.3721605,
          59.3713881,
          59.37161719,
          59.3716443,
          59.3721605,
          59.3723882,
          59.3705635,
          59.3713881,
          59.37103271,
          59.3722528,
          59.37178,
          59.3720529,
          59.37148,
          59.3705635,
          59.3719665,
          59.3705635,
          59.3723882,
          59.3711498,
          59.3709502,
          59.3731519,
          59.3705635,
          59.37103271,
          59.37178,
          59.3720529,
          59.3709502,
          59.3720529,
          59.37124248,
          59.37178,
          59.3716443,
          59.3705635,
          59.3723882,
          59.3723882,
          59.3713881,
          59.3720529,
          59.3721605,
          59.3713101,
          59.3705294,
          59.3723882,
          59.3723882,
          59.3709502,
          59.3723882,
          59.3723882,
          59.37119438,
          59.3723882,
          59.3723882,
          59.3710473,
          59.3719665,
          59.37142064,
          59.3725786,
          59.37119438,
          59.3705635,
          59.3722721,
          59.3715168,
          59.37161719,
          59.3732708,
          59.3716443,
          59.3718275,
          59.3718275,
          59.3709502,
          59.3705635,
          59.37119438,
          59.3715869,
          59.37161719,
          59.3718275,
          59.3705635,
          59.3713101,
          59.3715256,
          59.3721605,
          59.37178,
          59.3720529,
          59.37161719,
          59.3721605,
          59.3716443,
          59.37124248,
          59.3721605,
          59.3713881,
          59.3715869,
          59.37178,
          59.3711498,
          59.3716443,
          59.37161719,
          59.37161719,
          59.3710473,
          59.3709502,
          59.3720529,
          59.3722721,
          59.37103271,
          59.3720529,
          59.3732708,
          59.3713881,
          59.37178,
          59.3721605,
          59.37178,
          59.3722721,
          59.3718275,
          59.3709502,
          59.3709948,
          59.3709502,
          59.3721605,
          59.37148,
          59.3715869,
          59.3716443,
          59.3720529,
          59.37119438,
          59.37286148,
          59.3710473,
          59.3715168,
          59.3719665,
          59.3722721,
          59.3719665,
          59.3715256,
          59.3709948,
          59.3722721,
          59.3722721,
          59.37119438,
          59.372759,
          59.3722721
         ],
         "legendgroup": "",
         "lon": [
          18.0540565,
          18.05782092,
          18.05471583,
          18.05388,
          18.0535415,
          18.05388,
          18.0583678,
          18.0586253,
          18.0586253,
          18.05355191,
          18.0549855,
          18.0556589,
          18.0524828,
          18.054052,
          18.0549855,
          18.0556589,
          18.0532349,
          18.05760116,
          18.0556589,
          18.05355191,
          18.0573378,
          18.0586253,
          18.0550922,
          18.0550922,
          18.05388,
          18.05527,
          18.05388,
          18.054052,
          18.05527,
          18.05527,
          18.0535415,
          18.05782092,
          18.0549855,
          18.0532349,
          18.05388,
          18.058738,
          18.0550844,
          18.05527,
          18.0524828,
          18.0550844,
          18.0535415,
          18.0550922,
          18.05471583,
          18.0532349,
          18.0535415,
          18.0524828,
          18.0585287,
          18.0550922,
          18.0540565,
          18.0531737,
          18.05527,
          18.054052,
          18.05388,
          18.0585287,
          18.0554221,
          18.0585287,
          18.0524828,
          18.0581425,
          18.0586253,
          18.0536815,
          18.0585287,
          18.0540565,
          18.05527,
          18.054052,
          18.0586253,
          18.054052,
          18.05782092,
          18.05527,
          18.0532349,
          18.0585287,
          18.0524828,
          18.0524828,
          18.0550922,
          18.054052,
          18.0535415,
          18.0528835,
          18.058738,
          18.0524828,
          18.0524828,
          18.0586253,
          18.0524828,
          18.0524828,
          18.05355191,
          18.0524828,
          18.0524828,
          18.0583678,
          18.0554221,
          18.05760116,
          18.0550844,
          18.05355191,
          18.0585287,
          18.0556589,
          18.05462518,
          18.05471583,
          18.0532176,
          18.0532349,
          18.0525542,
          18.0525542,
          18.0586253,
          18.0585287,
          18.05355191,
          18.0552028,
          18.05471583,
          18.0525542,
          18.0585287,
          18.0528835,
          18.0573378,
          18.0535415,
          18.05527,
          18.054052,
          18.05471583,
          18.0535415,
          18.0532349,
          18.05782092,
          18.0535415,
          18.0550922,
          18.0552028,
          18.05527,
          18.0581425,
          18.0532349,
          18.05471583,
          18.05471583,
          18.0583678,
          18.0586253,
          18.054052,
          18.0556589,
          18.0540565,
          18.054052,
          18.0532176,
          18.0550922,
          18.05527,
          18.0535415,
          18.05527,
          18.0556589,
          18.0525542,
          18.0586253,
          18.0548886,
          18.0586253,
          18.0535415,
          18.05388,
          18.0552028,
          18.0532349,
          18.054052,
          18.05355191,
          18.05426002,
          18.0583678,
          18.05462518,
          18.0554221,
          18.0556589,
          18.0554221,
          18.0573378,
          18.0548886,
          18.0556589,
          18.0556589,
          18.05355191,
          18.0546339,
          18.0556589
         ],
         "marker": {
          "color": [
           52328.767123287675,
           65416.666666666664,
           75432.09876543209,
           75233.64485981308,
           82758.62068965517,
           71600,
           53030.30303030303,
           51321.92846034215,
           48989.1135303266,
           56250,
           83448.27586206897,
           69361.70212765958,
           53260.86956521739,
           66923.07692307692,
           61855.67010309279,
           62500,
           66200,
           59934.31855500821,
           57183.09859154929,
           79032.25806451614,
           57815.84582441113,
           54296.875,
           58474.57627118644,
           66666.66666666667,
           73142.85714285714,
           70540.54054054055,
           70535.71428571429,
           64117.64705882353,
           59210.52631578947,
           73378.37837837837,
           65806.45161290323,
           69230.76923076923,
           77319.58762886598,
           54807.692307692305,
           88400,
           62500,
           73859.64912280702,
           58125,
           61851.851851851854,
           70312.5,
           67543.85964912281,
           72051.28205128205,
           59692.307692307695,
           72000,
           68421.05263157895,
           54545.454545454544,
           63018.24212271974,
           54347.82608695652,
           68243.24324324324,
           71808.51063829787,
           102083.33333333333,
           82894.73684210527,
           68750,
           51071.42857142857,
           100000,
           85501.85873605948,
           49056.6037735849,
           56122.448979591834,
           58762.886597938144,
           60855.26315789474,
           58872.30514096186,
           69342.1052631579,
           70270.27027027027,
           66770.83333333333,
           55925.92592592593,
           73469.38775510204,
           56696.42857142857,
           104166.66666666667,
           46739.13043478261,
           56666.666666666664,
           57407.40740740741,
           56363.63636363636,
           66410.2564102564,
           63020.833333333336,
           68695.65217391304,
           50000,
           52785.71428571428,
           55454.545454545456,
           51900.82644628099,
           62047.569803516024,
           50943.3962264151,
           51032.608695652176,
           56052.63157894737,
           49586.776859504134,
           63148.148148148146,
           72500,
           85312.5,
           55000,
           63157.89473684211,
           74193.54838709677,
           47761.19402985075,
           69523.80952380953,
           56862.74509803922,
           39230.769230769234,
           63365.38461538462,
           64600,
           48305.08474576271,
           55092.59259259259,
           66944.44444444444,
           53067.99336650083,
           64062.5,
           52631.57894736842,
           54464.28571428572,
           55555.555555555555,
           47666.666666666664,
           42748.091603053435,
           46960.249415432576,
           47587.71929824561,
           66216.21621621621,
           54230.769230769234,
           51851.851851851854,
           55376.344086021505,
           49579.83193277311,
           51042.87369640788,
           69827.58620689655,
           47802.1978021978,
           42622.95081967213,
           57432.43243243243,
           47206.16570327553,
           48900,
           46923.07692307692,
           46296.2962962963,
           50155.11892450879,
           47222.22222222222,
           66428.57142857143,
           45000,
           44520.54794520548,
           51157.89473684211,
           47075.47169811321,
           42028.985507246376,
           48684.21052631579,
           50631.57894736842,
           41118.42105263158,
           60806.45161290323,
           39453.125,
           40435.45878693624,
           48425.92592592593,
           48611.11111111111,
           47463.76811594203,
           42056.07476635514,
           37246.3768115942,
           44178.08219178082,
           48315.78947368421,
           41842.10526315789,
           50943.3962264151,
           35714.28571428572,
           41153.846153846156,
           54545.454545454544,
           50212.765957446805,
           65000,
           35714.28571428572,
           46625,
           56730.769230769234,
           44900,
           63043.47826086957,
           39285.71428571428,
           43600
          ],
          "coloraxis": "coloraxis",
          "size": [
           52328.767123287675,
           65416.666666666664,
           75432.09876543209,
           75233.64485981308,
           82758.62068965517,
           71600,
           53030.30303030303,
           51321.92846034215,
           48989.1135303266,
           56250,
           83448.27586206897,
           69361.70212765958,
           53260.86956521739,
           66923.07692307692,
           61855.67010309279,
           62500,
           66200,
           59934.31855500821,
           57183.09859154929,
           79032.25806451614,
           57815.84582441113,
           54296.875,
           58474.57627118644,
           66666.66666666667,
           73142.85714285714,
           70540.54054054055,
           70535.71428571429,
           64117.64705882353,
           59210.52631578947,
           73378.37837837837,
           65806.45161290323,
           69230.76923076923,
           77319.58762886598,
           54807.692307692305,
           88400,
           62500,
           73859.64912280702,
           58125,
           61851.851851851854,
           70312.5,
           67543.85964912281,
           72051.28205128205,
           59692.307692307695,
           72000,
           68421.05263157895,
           54545.454545454544,
           63018.24212271974,
           54347.82608695652,
           68243.24324324324,
           71808.51063829787,
           102083.33333333333,
           82894.73684210527,
           68750,
           51071.42857142857,
           100000,
           85501.85873605948,
           49056.6037735849,
           56122.448979591834,
           58762.886597938144,
           60855.26315789474,
           58872.30514096186,
           69342.1052631579,
           70270.27027027027,
           66770.83333333333,
           55925.92592592593,
           73469.38775510204,
           56696.42857142857,
           104166.66666666667,
           46739.13043478261,
           56666.666666666664,
           57407.40740740741,
           56363.63636363636,
           66410.2564102564,
           63020.833333333336,
           68695.65217391304,
           50000,
           52785.71428571428,
           55454.545454545456,
           51900.82644628099,
           62047.569803516024,
           50943.3962264151,
           51032.608695652176,
           56052.63157894737,
           49586.776859504134,
           63148.148148148146,
           72500,
           85312.5,
           55000,
           63157.89473684211,
           74193.54838709677,
           47761.19402985075,
           69523.80952380953,
           56862.74509803922,
           39230.769230769234,
           63365.38461538462,
           64600,
           48305.08474576271,
           55092.59259259259,
           66944.44444444444,
           53067.99336650083,
           64062.5,
           52631.57894736842,
           54464.28571428572,
           55555.555555555555,
           47666.666666666664,
           42748.091603053435,
           46960.249415432576,
           47587.71929824561,
           66216.21621621621,
           54230.769230769234,
           51851.851851851854,
           55376.344086021505,
           49579.83193277311,
           51042.87369640788,
           69827.58620689655,
           47802.1978021978,
           42622.95081967213,
           57432.43243243243,
           47206.16570327553,
           48900,
           46923.07692307692,
           46296.2962962963,
           50155.11892450879,
           47222.22222222222,
           66428.57142857143,
           45000,
           44520.54794520548,
           51157.89473684211,
           47075.47169811321,
           42028.985507246376,
           48684.21052631579,
           50631.57894736842,
           41118.42105263158,
           60806.45161290323,
           39453.125,
           40435.45878693624,
           48425.92592592593,
           48611.11111111111,
           47463.76811594203,
           42056.07476635514,
           37246.3768115942,
           44178.08219178082,
           48315.78947368421,
           41842.10526315789,
           50943.3962264151,
           35714.28571428572,
           41153.846153846156,
           54545.454545454544,
           50212.765957446805,
           65000,
           35714.28571428572,
           46625,
           56730.769230769234,
           44900,
           63043.47826086957,
           39285.71428571428,
           43600
          ],
          "sizemode": "area",
          "sizeref": 260.4166666666667
         },
         "mode": "markers",
         "name": "",
         "showlegend": false,
         "subplot": "mapbox",
         "type": "scattermapbox"
        }
       ],
       "layout": {
        "coloraxis": {
         "colorbar": {
          "title": {
           "text": "ppsqm"
          }
         },
         "colorscale": [
          [
           0,
           "orange"
          ],
          [
           1,
           "red"
          ]
         ]
        },
        "height": 800,
        "legend": {
         "itemsizing": "constant",
         "tracegroupgap": 0
        },
        "mapbox": {
         "center": {
          "lat": 59.37167582426753,
          "lon": 18.055082730955412
         },
         "domain": {
          "x": [
           0,
           1
          ],
          "y": [
           0,
           1
          ]
         },
         "style": "open-street-map",
         "zoom": 8
        },
        "margin": {
         "b": 0,
         "l": 0,
         "r": 0,
         "t": 0
        },
        "template": {
         "data": {
          "bar": [
           {
            "error_x": {
             "color": "#2a3f5f"
            },
            "error_y": {
             "color": "#2a3f5f"
            },
            "marker": {
             "line": {
              "color": "#E5ECF6",
              "width": 0.5
             },
             "pattern": {
              "fillmode": "overlay",
              "size": 10,
              "solidity": 0.2
             }
            },
            "type": "bar"
           }
          ],
          "barpolar": [
           {
            "marker": {
             "line": {
              "color": "#E5ECF6",
              "width": 0.5
             },
             "pattern": {
              "fillmode": "overlay",
              "size": 10,
              "solidity": 0.2
             }
            },
            "type": "barpolar"
           }
          ],
          "carpet": [
           {
            "aaxis": {
             "endlinecolor": "#2a3f5f",
             "gridcolor": "white",
             "linecolor": "white",
             "minorgridcolor": "white",
             "startlinecolor": "#2a3f5f"
            },
            "baxis": {
             "endlinecolor": "#2a3f5f",
             "gridcolor": "white",
             "linecolor": "white",
             "minorgridcolor": "white",
             "startlinecolor": "#2a3f5f"
            },
            "type": "carpet"
           }
          ],
          "choropleth": [
           {
            "colorbar": {
             "outlinewidth": 0,
             "ticks": ""
            },
            "type": "choropleth"
           }
          ],
          "contour": [
           {
            "colorbar": {
             "outlinewidth": 0,
             "ticks": ""
            },
            "colorscale": [
             [
              0,
              "#0d0887"
             ],
             [
              0.1111111111111111,
              "#46039f"
             ],
             [
              0.2222222222222222,
              "#7201a8"
             ],
             [
              0.3333333333333333,
              "#9c179e"
             ],
             [
              0.4444444444444444,
              "#bd3786"
             ],
             [
              0.5555555555555556,
              "#d8576b"
             ],
             [
              0.6666666666666666,
              "#ed7953"
             ],
             [
              0.7777777777777778,
              "#fb9f3a"
             ],
             [
              0.8888888888888888,
              "#fdca26"
             ],
             [
              1,
              "#f0f921"
             ]
            ],
            "type": "contour"
           }
          ],
          "contourcarpet": [
           {
            "colorbar": {
             "outlinewidth": 0,
             "ticks": ""
            },
            "type": "contourcarpet"
           }
          ],
          "heatmap": [
           {
            "colorbar": {
             "outlinewidth": 0,
             "ticks": ""
            },
            "colorscale": [
             [
              0,
              "#0d0887"
             ],
             [
              0.1111111111111111,
              "#46039f"
             ],
             [
              0.2222222222222222,
              "#7201a8"
             ],
             [
              0.3333333333333333,
              "#9c179e"
             ],
             [
              0.4444444444444444,
              "#bd3786"
             ],
             [
              0.5555555555555556,
              "#d8576b"
             ],
             [
              0.6666666666666666,
              "#ed7953"
             ],
             [
              0.7777777777777778,
              "#fb9f3a"
             ],
             [
              0.8888888888888888,
              "#fdca26"
             ],
             [
              1,
              "#f0f921"
             ]
            ],
            "type": "heatmap"
           }
          ],
          "heatmapgl": [
           {
            "colorbar": {
             "outlinewidth": 0,
             "ticks": ""
            },
            "colorscale": [
             [
              0,
              "#0d0887"
             ],
             [
              0.1111111111111111,
              "#46039f"
             ],
             [
              0.2222222222222222,
              "#7201a8"
             ],
             [
              0.3333333333333333,
              "#9c179e"
             ],
             [
              0.4444444444444444,
              "#bd3786"
             ],
             [
              0.5555555555555556,
              "#d8576b"
             ],
             [
              0.6666666666666666,
              "#ed7953"
             ],
             [
              0.7777777777777778,
              "#fb9f3a"
             ],
             [
              0.8888888888888888,
              "#fdca26"
             ],
             [
              1,
              "#f0f921"
             ]
            ],
            "type": "heatmapgl"
           }
          ],
          "histogram": [
           {
            "marker": {
             "pattern": {
              "fillmode": "overlay",
              "size": 10,
              "solidity": 0.2
             }
            },
            "type": "histogram"
           }
          ],
          "histogram2d": [
           {
            "colorbar": {
             "outlinewidth": 0,
             "ticks": ""
            },
            "colorscale": [
             [
              0,
              "#0d0887"
             ],
             [
              0.1111111111111111,
              "#46039f"
             ],
             [
              0.2222222222222222,
              "#7201a8"
             ],
             [
              0.3333333333333333,
              "#9c179e"
             ],
             [
              0.4444444444444444,
              "#bd3786"
             ],
             [
              0.5555555555555556,
              "#d8576b"
             ],
             [
              0.6666666666666666,
              "#ed7953"
             ],
             [
              0.7777777777777778,
              "#fb9f3a"
             ],
             [
              0.8888888888888888,
              "#fdca26"
             ],
             [
              1,
              "#f0f921"
             ]
            ],
            "type": "histogram2d"
           }
          ],
          "histogram2dcontour": [
           {
            "colorbar": {
             "outlinewidth": 0,
             "ticks": ""
            },
            "colorscale": [
             [
              0,
              "#0d0887"
             ],
             [
              0.1111111111111111,
              "#46039f"
             ],
             [
              0.2222222222222222,
              "#7201a8"
             ],
             [
              0.3333333333333333,
              "#9c179e"
             ],
             [
              0.4444444444444444,
              "#bd3786"
             ],
             [
              0.5555555555555556,
              "#d8576b"
             ],
             [
              0.6666666666666666,
              "#ed7953"
             ],
             [
              0.7777777777777778,
              "#fb9f3a"
             ],
             [
              0.8888888888888888,
              "#fdca26"
             ],
             [
              1,
              "#f0f921"
             ]
            ],
            "type": "histogram2dcontour"
           }
          ],
          "mesh3d": [
           {
            "colorbar": {
             "outlinewidth": 0,
             "ticks": ""
            },
            "type": "mesh3d"
           }
          ],
          "parcoords": [
           {
            "line": {
             "colorbar": {
              "outlinewidth": 0,
              "ticks": ""
             }
            },
            "type": "parcoords"
           }
          ],
          "pie": [
           {
            "automargin": true,
            "type": "pie"
           }
          ],
          "scatter": [
           {
            "fillpattern": {
             "fillmode": "overlay",
             "size": 10,
             "solidity": 0.2
            },
            "type": "scatter"
           }
          ],
          "scatter3d": [
           {
            "line": {
             "colorbar": {
              "outlinewidth": 0,
              "ticks": ""
             }
            },
            "marker": {
             "colorbar": {
              "outlinewidth": 0,
              "ticks": ""
             }
            },
            "type": "scatter3d"
           }
          ],
          "scattercarpet": [
           {
            "marker": {
             "colorbar": {
              "outlinewidth": 0,
              "ticks": ""
             }
            },
            "type": "scattercarpet"
           }
          ],
          "scattergeo": [
           {
            "marker": {
             "colorbar": {
              "outlinewidth": 0,
              "ticks": ""
             }
            },
            "type": "scattergeo"
           }
          ],
          "scattergl": [
           {
            "marker": {
             "colorbar": {
              "outlinewidth": 0,
              "ticks": ""
             }
            },
            "type": "scattergl"
           }
          ],
          "scattermapbox": [
           {
            "marker": {
             "colorbar": {
              "outlinewidth": 0,
              "ticks": ""
             }
            },
            "type": "scattermapbox"
           }
          ],
          "scatterpolar": [
           {
            "marker": {
             "colorbar": {
              "outlinewidth": 0,
              "ticks": ""
             }
            },
            "type": "scatterpolar"
           }
          ],
          "scatterpolargl": [
           {
            "marker": {
             "colorbar": {
              "outlinewidth": 0,
              "ticks": ""
             }
            },
            "type": "scatterpolargl"
           }
          ],
          "scatterternary": [
           {
            "marker": {
             "colorbar": {
              "outlinewidth": 0,
              "ticks": ""
             }
            },
            "type": "scatterternary"
           }
          ],
          "surface": [
           {
            "colorbar": {
             "outlinewidth": 0,
             "ticks": ""
            },
            "colorscale": [
             [
              0,
              "#0d0887"
             ],
             [
              0.1111111111111111,
              "#46039f"
             ],
             [
              0.2222222222222222,
              "#7201a8"
             ],
             [
              0.3333333333333333,
              "#9c179e"
             ],
             [
              0.4444444444444444,
              "#bd3786"
             ],
             [
              0.5555555555555556,
              "#d8576b"
             ],
             [
              0.6666666666666666,
              "#ed7953"
             ],
             [
              0.7777777777777778,
              "#fb9f3a"
             ],
             [
              0.8888888888888888,
              "#fdca26"
             ],
             [
              1,
              "#f0f921"
             ]
            ],
            "type": "surface"
           }
          ],
          "table": [
           {
            "cells": {
             "fill": {
              "color": "#EBF0F8"
             },
             "line": {
              "color": "white"
             }
            },
            "header": {
             "fill": {
              "color": "#C8D4E3"
             },
             "line": {
              "color": "white"
             }
            },
            "type": "table"
           }
          ]
         },
         "layout": {
          "annotationdefaults": {
           "arrowcolor": "#2a3f5f",
           "arrowhead": 0,
           "arrowwidth": 1
          },
          "autotypenumbers": "strict",
          "coloraxis": {
           "colorbar": {
            "outlinewidth": 0,
            "ticks": ""
           }
          },
          "colorscale": {
           "diverging": [
            [
             0,
             "#8e0152"
            ],
            [
             0.1,
             "#c51b7d"
            ],
            [
             0.2,
             "#de77ae"
            ],
            [
             0.3,
             "#f1b6da"
            ],
            [
             0.4,
             "#fde0ef"
            ],
            [
             0.5,
             "#f7f7f7"
            ],
            [
             0.6,
             "#e6f5d0"
            ],
            [
             0.7,
             "#b8e186"
            ],
            [
             0.8,
             "#7fbc41"
            ],
            [
             0.9,
             "#4d9221"
            ],
            [
             1,
             "#276419"
            ]
           ],
           "sequential": [
            [
             0,
             "#0d0887"
            ],
            [
             0.1111111111111111,
             "#46039f"
            ],
            [
             0.2222222222222222,
             "#7201a8"
            ],
            [
             0.3333333333333333,
             "#9c179e"
            ],
            [
             0.4444444444444444,
             "#bd3786"
            ],
            [
             0.5555555555555556,
             "#d8576b"
            ],
            [
             0.6666666666666666,
             "#ed7953"
            ],
            [
             0.7777777777777778,
             "#fb9f3a"
            ],
            [
             0.8888888888888888,
             "#fdca26"
            ],
            [
             1,
             "#f0f921"
            ]
           ],
           "sequentialminus": [
            [
             0,
             "#0d0887"
            ],
            [
             0.1111111111111111,
             "#46039f"
            ],
            [
             0.2222222222222222,
             "#7201a8"
            ],
            [
             0.3333333333333333,
             "#9c179e"
            ],
            [
             0.4444444444444444,
             "#bd3786"
            ],
            [
             0.5555555555555556,
             "#d8576b"
            ],
            [
             0.6666666666666666,
             "#ed7953"
            ],
            [
             0.7777777777777778,
             "#fb9f3a"
            ],
            [
             0.8888888888888888,
             "#fdca26"
            ],
            [
             1,
             "#f0f921"
            ]
           ]
          },
          "colorway": [
           "#636efa",
           "#EF553B",
           "#00cc96",
           "#ab63fa",
           "#FFA15A",
           "#19d3f3",
           "#FF6692",
           "#B6E880",
           "#FF97FF",
           "#FECB52"
          ],
          "font": {
           "color": "#2a3f5f"
          },
          "geo": {
           "bgcolor": "white",
           "lakecolor": "white",
           "landcolor": "#E5ECF6",
           "showlakes": true,
           "showland": true,
           "subunitcolor": "white"
          },
          "hoverlabel": {
           "align": "left"
          },
          "hovermode": "closest",
          "mapbox": {
           "style": "light"
          },
          "paper_bgcolor": "white",
          "plot_bgcolor": "#E5ECF6",
          "polar": {
           "angularaxis": {
            "gridcolor": "white",
            "linecolor": "white",
            "ticks": ""
           },
           "bgcolor": "#E5ECF6",
           "radialaxis": {
            "gridcolor": "white",
            "linecolor": "white",
            "ticks": ""
           }
          },
          "scene": {
           "xaxis": {
            "backgroundcolor": "#E5ECF6",
            "gridcolor": "white",
            "gridwidth": 2,
            "linecolor": "white",
            "showbackground": true,
            "ticks": "",
            "zerolinecolor": "white"
           },
           "yaxis": {
            "backgroundcolor": "#E5ECF6",
            "gridcolor": "white",
            "gridwidth": 2,
            "linecolor": "white",
            "showbackground": true,
            "ticks": "",
            "zerolinecolor": "white"
           },
           "zaxis": {
            "backgroundcolor": "#E5ECF6",
            "gridcolor": "white",
            "gridwidth": 2,
            "linecolor": "white",
            "showbackground": true,
            "ticks": "",
            "zerolinecolor": "white"
           }
          },
          "shapedefaults": {
           "line": {
            "color": "#2a3f5f"
           }
          },
          "ternary": {
           "aaxis": {
            "gridcolor": "white",
            "linecolor": "white",
            "ticks": ""
           },
           "baxis": {
            "gridcolor": "white",
            "linecolor": "white",
            "ticks": ""
           },
           "bgcolor": "#E5ECF6",
           "caxis": {
            "gridcolor": "white",
            "linecolor": "white",
            "ticks": ""
           }
          },
          "title": {
           "x": 0.05
          },
          "xaxis": {
           "automargin": true,
           "gridcolor": "white",
           "linecolor": "white",
           "ticks": "",
           "title": {
            "standoff": 15
           },
           "zerolinecolor": "white",
           "zerolinewidth": 2
          },
          "yaxis": {
           "automargin": true,
           "gridcolor": "white",
           "linecolor": "white",
           "ticks": "",
           "title": {
            "standoff": 15
           },
           "zerolinecolor": "white",
           "zerolinewidth": 2
          }
         }
        },
        "title": {
         "text": "World map",
         "x": 0.5
        },
        "width": 800
       }
      }
     },
     "metadata": {},
     "output_type": "display_data"
    }
   ],
   "source": [
    "fig.update_layout(title = 'World map', title_x=0.5,mapbox_style=\"open-street-map\")#mapbox_style=\"open-street-map\")\n",
    "fig.update_layout(margin={\"r\":0,\"t\":0,\"l\":0,\"b\":0})\n",
    "fig.show()"
   ]
  },
  {
   "cell_type": "code",
   "execution_count": null,
   "id": "01ad4956",
   "metadata": {},
   "outputs": [],
   "source": []
  },
  {
   "cell_type": "markdown",
   "id": "e3fe11a5",
   "metadata": {},
   "source": [
    "# Kommundata"
   ]
  },
  {
   "cell_type": "code",
   "execution_count": 110,
   "id": "f4424ee7",
   "metadata": {},
   "outputs": [],
   "source": [
    "kommun_df=pd.read_csv(kommun_path,delimiter=\";\",decimal=\",\")\n",
    "kommun_df=kommun_df[kommun_df[\"LÄNSKOD\"]==1]"
   ]
  },
  {
   "cell_type": "code",
   "execution_count": 111,
   "id": "b402f831",
   "metadata": {},
   "outputs": [
    {
     "data": {
      "text/html": [
       "<div>\n",
       "<style scoped>\n",
       "    .dataframe tbody tr th:only-of-type {\n",
       "        vertical-align: middle;\n",
       "    }\n",
       "\n",
       "    .dataframe tbody tr th {\n",
       "        vertical-align: top;\n",
       "    }\n",
       "\n",
       "    .dataframe thead th {\n",
       "        text-align: right;\n",
       "    }\n",
       "</style>\n",
       "<table border=\"1\" class=\"dataframe\">\n",
       "  <thead>\n",
       "    <tr style=\"text-align: right;\">\n",
       "      <th></th>\n",
       "      <th>KOMMUNNAMN</th>\n",
       "      <th>S</th>\n",
       "    </tr>\n",
       "  </thead>\n",
       "  <tbody>\n",
       "    <tr>\n",
       "      <th>7</th>\n",
       "      <td>Botkyrka</td>\n",
       "      <td>32.34</td>\n",
       "    </tr>\n",
       "    <tr>\n",
       "      <th>4</th>\n",
       "      <td>Järfälla</td>\n",
       "      <td>27.68</td>\n",
       "    </tr>\n",
       "    <tr>\n",
       "      <th>9</th>\n",
       "      <td>Haninge</td>\n",
       "      <td>27.29</td>\n",
       "    </tr>\n",
       "    <tr>\n",
       "      <th>25</th>\n",
       "      <td>Nynäshamn</td>\n",
       "      <td>27.28</td>\n",
       "    </tr>\n",
       "    <tr>\n",
       "      <th>17</th>\n",
       "      <td>Södertälje</td>\n",
       "      <td>27.18</td>\n",
       "    </tr>\n",
       "    <tr>\n",
       "      <th>0</th>\n",
       "      <td>Upplands Väsby</td>\n",
       "      <td>26.97</td>\n",
       "    </tr>\n",
       "    <tr>\n",
       "      <th>19</th>\n",
       "      <td>Sundbyberg</td>\n",
       "      <td>26.60</td>\n",
       "    </tr>\n",
       "    <tr>\n",
       "      <th>23</th>\n",
       "      <td>Norrtälje</td>\n",
       "      <td>26.24</td>\n",
       "    </tr>\n",
       "    <tr>\n",
       "      <th>11</th>\n",
       "      <td>Upplands-Bro</td>\n",
       "      <td>26.16</td>\n",
       "    </tr>\n",
       "    <tr>\n",
       "      <th>6</th>\n",
       "      <td>Huddinge</td>\n",
       "      <td>26.10</td>\n",
       "    </tr>\n",
       "    <tr>\n",
       "      <th>24</th>\n",
       "      <td>Sigtuna</td>\n",
       "      <td>25.49</td>\n",
       "    </tr>\n",
       "    <tr>\n",
       "      <th>20</th>\n",
       "      <td>Solna</td>\n",
       "      <td>24.00</td>\n",
       "    </tr>\n",
       "    <tr>\n",
       "      <th>10</th>\n",
       "      <td>Tyresö</td>\n",
       "      <td>23.87</td>\n",
       "    </tr>\n",
       "    <tr>\n",
       "      <th>16</th>\n",
       "      <td>Stockholm</td>\n",
       "      <td>23.76</td>\n",
       "    </tr>\n",
       "    <tr>\n",
       "      <th>8</th>\n",
       "      <td>Salem</td>\n",
       "      <td>23.07</td>\n",
       "    </tr>\n",
       "    <tr>\n",
       "      <th>12</th>\n",
       "      <td>Nykvarn</td>\n",
       "      <td>22.42</td>\n",
       "    </tr>\n",
       "    <tr>\n",
       "      <th>15</th>\n",
       "      <td>Sollentuna</td>\n",
       "      <td>20.85</td>\n",
       "    </tr>\n",
       "    <tr>\n",
       "      <th>3</th>\n",
       "      <td>Värmdö</td>\n",
       "      <td>20.48</td>\n",
       "    </tr>\n",
       "    <tr>\n",
       "      <th>2</th>\n",
       "      <td>Österåker</td>\n",
       "      <td>19.71</td>\n",
       "    </tr>\n",
       "    <tr>\n",
       "      <th>18</th>\n",
       "      <td>Nacka</td>\n",
       "      <td>19.37</td>\n",
       "    </tr>\n",
       "    <tr>\n",
       "      <th>1</th>\n",
       "      <td>Vallentuna</td>\n",
       "      <td>18.91</td>\n",
       "    </tr>\n",
       "    <tr>\n",
       "      <th>5</th>\n",
       "      <td>Ekerö</td>\n",
       "      <td>17.17</td>\n",
       "    </tr>\n",
       "    <tr>\n",
       "      <th>22</th>\n",
       "      <td>Vaxholm</td>\n",
       "      <td>16.37</td>\n",
       "    </tr>\n",
       "    <tr>\n",
       "      <th>13</th>\n",
       "      <td>Täby</td>\n",
       "      <td>13.99</td>\n",
       "    </tr>\n",
       "    <tr>\n",
       "      <th>21</th>\n",
       "      <td>Lidingö</td>\n",
       "      <td>12.35</td>\n",
       "    </tr>\n",
       "    <tr>\n",
       "      <th>14</th>\n",
       "      <td>Danderyd</td>\n",
       "      <td>8.04</td>\n",
       "    </tr>\n",
       "  </tbody>\n",
       "</table>\n",
       "</div>"
      ],
      "text/plain": [
       "        KOMMUNNAMN      S\n",
       "7         Botkyrka  32.34\n",
       "4         Järfälla  27.68\n",
       "9          Haninge  27.29\n",
       "25       Nynäshamn  27.28\n",
       "17      Södertälje  27.18\n",
       "0   Upplands Väsby  26.97\n",
       "19      Sundbyberg  26.60\n",
       "23       Norrtälje  26.24\n",
       "11    Upplands-Bro  26.16\n",
       "6         Huddinge  26.10\n",
       "24         Sigtuna  25.49\n",
       "20           Solna  24.00\n",
       "10          Tyresö  23.87\n",
       "16       Stockholm  23.76\n",
       "8            Salem  23.07\n",
       "12         Nykvarn  22.42\n",
       "15      Sollentuna  20.85\n",
       "3           Värmdö  20.48\n",
       "2        Österåker  19.71\n",
       "18           Nacka  19.37\n",
       "1       Vallentuna  18.91\n",
       "5            Ekerö  17.17\n",
       "22         Vaxholm  16.37\n",
       "13            Täby  13.99\n",
       "21         Lidingö  12.35\n",
       "14        Danderyd   8.04"
      ]
     },
     "execution_count": 111,
     "metadata": {},
     "output_type": "execute_result"
    }
   ],
   "source": [
    "giltiga_röster=float(kommun_df[[\"RÖSTER GILTIGA\"]].sum().iloc[0])\n",
    "\n",
    "#kommun_df=kommun_df.groupby(\"KOMMUNNAMN\")[[\"RÖSTER GILTIGA\"]]\n",
    "kommun_df[[\"KOMMUNNAMN\",\"S\"]].sort_values(\"S\",ascending=False)"
   ]
  },
  {
   "cell_type": "code",
   "execution_count": 112,
   "id": "063df6a8",
   "metadata": {},
   "outputs": [
    {
     "data": {
      "text/html": [
       "<div>\n",
       "<style scoped>\n",
       "    .dataframe tbody tr th:only-of-type {\n",
       "        vertical-align: middle;\n",
       "    }\n",
       "\n",
       "    .dataframe tbody tr th {\n",
       "        vertical-align: top;\n",
       "    }\n",
       "\n",
       "    .dataframe thead th {\n",
       "        text-align: right;\n",
       "    }\n",
       "</style>\n",
       "<table border=\"1\" class=\"dataframe\">\n",
       "  <thead>\n",
       "    <tr style=\"text-align: right;\">\n",
       "      <th></th>\n",
       "      <th>KOMMUNNAMN</th>\n",
       "      <th>VALDELTAGANDE</th>\n",
       "    </tr>\n",
       "  </thead>\n",
       "  <tbody>\n",
       "    <tr>\n",
       "      <th>22</th>\n",
       "      <td>Vaxholm</td>\n",
       "      <td>92.74</td>\n",
       "    </tr>\n",
       "    <tr>\n",
       "      <th>5</th>\n",
       "      <td>Ekerö</td>\n",
       "      <td>92.16</td>\n",
       "    </tr>\n",
       "    <tr>\n",
       "      <th>14</th>\n",
       "      <td>Danderyd</td>\n",
       "      <td>91.92</td>\n",
       "    </tr>\n",
       "  </tbody>\n",
       "</table>\n",
       "</div>"
      ],
      "text/plain": [
       "   KOMMUNNAMN  VALDELTAGANDE\n",
       "22    Vaxholm          92.74\n",
       "5       Ekerö          92.16\n",
       "14   Danderyd          91.92"
      ]
     },
     "execution_count": 112,
     "metadata": {},
     "output_type": "execute_result"
    }
   ],
   "source": [
    "kommun_df[[\"KOMMUNNAMN\",\"VALDELTAGANDE\"]].sort_values(\"VALDELTAGANDE\",ascending=False)[:3]"
   ]
  },
  {
   "cell_type": "code",
   "execution_count": null,
   "id": "faef3424",
   "metadata": {},
   "outputs": [],
   "source": []
  },
  {
   "cell_type": "markdown",
   "id": "739be452",
   "metadata": {},
   "source": [
    "# Stroke data"
   ]
  },
  {
   "cell_type": "code",
   "execution_count": 129,
   "id": "472791b0",
   "metadata": {},
   "outputs": [
    {
     "data": {
      "text/plain": [
       "Text(0.5, 0, 'BMI')"
      ]
     },
     "execution_count": 129,
     "metadata": {},
     "output_type": "execute_result"
    },
    {
     "data": {
      "image/png": "[encoded data removed]",
      "text/plain": [
       "<Figure size 640x480 with 2 Axes>"
      ]
     },
     "metadata": {},
     "output_type": "display_data"
    }
   ],
   "source": [
    "stroke_df=pd.read_csv(data_path.joinpath(\"healthcare-dataset-stroke-data.csv\"))\n",
    "stroke_df=stroke_df[[\"bmi\",\"stroke\",\"avg_glucose_level\"]]\n",
    "stroke_df.dropna(axis=0,how=\"any\",inplace=True)\n",
    "[fig,ax]=plt.subplots(nrows=1,ncols=2,sharey=True, tight_layout=True)\n",
    "#fig[0]=stroke_df[stroke_df[\"stroke\"]==1][[\"bmi\"]].plot.hist(bins=50)\n",
    "#fig[1]=stroke_df[stroke_df[\"stroke\"]==0][[\"bmi\"]].plot.hist(bins=50)\n",
    "ax[0].hist(stroke_df[stroke_df[\"stroke\"]==1][[\"avg_glucose_level\"]],bins=50,density=True)\n",
    "ax[1].hist(stroke_df[stroke_df[\"stroke\"]==0][[\"avg_glucose_level\"]],bins=50,density=True)\n",
    "ax[0].set_xlabel(\"BMI\")"
   ]
  }
 ],
 "metadata": {
  "kernelspec": {
   "display_name": "py_env",
   "language": "python",
   "name": "python3"
  },
  "language_info": {
   "codemirror_mode": {
    "name": "ipython",
    "version": 3
   },
   "file_extension": ".py",
   "mimetype": "text/x-python",
   "name": "python",
   "nbconvert_exporter": "python",
   "pygments_lexer": "ipython3",
   "version": "3.13.0"
  }
 },
 "nbformat": 4,
 "nbformat_minor": 5
}
