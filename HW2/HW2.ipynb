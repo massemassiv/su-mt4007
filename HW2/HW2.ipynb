{
 "cells": [
  {
   "cell_type": "markdown",
   "metadata": {},
   "source": [
    "# Apartment prices\n",
    "To start of we load the libraries `dplyr` and `ggplot2` which are going to be used in this homework. After thatt we can read the csv file containing the data about apartment prices to a dataframe."
   ]
  },
  {
   "cell_type": "code",
   "execution_count": 1,
   "metadata": {},
   "outputs": [
    {
     "ename": "NameError",
     "evalue": "name 'library' is not defined",
     "output_type": "error",
     "traceback": [
      "\u001b[1;31m---------------------------------------------------------------------------\u001b[0m",
      "\u001b[1;31mNameError\u001b[0m                                 Traceback (most recent call last)",
      "Cell \u001b[1;32mIn[1], line 1\u001b[0m\n\u001b[1;32m----> 1\u001b[0m \u001b[43mlibrary\u001b[49m(\u001b[38;5;124m\"\u001b[39m\u001b[38;5;124mdplyr\u001b[39m\u001b[38;5;124m\"\u001b[39m)\n\u001b[0;32m      2\u001b[0m library(\u001b[38;5;124m\"\u001b[39m\u001b[38;5;124mggplot2\u001b[39m\u001b[38;5;124m\"\u001b[39m)\n\u001b[0;32m      3\u001b[0m booli_df\u001b[38;5;241m<\u001b[39m\u001b[38;5;241m-\u001b[39mread\u001b[38;5;241m.\u001b[39mcsv(\u001b[38;5;124m\"\u001b[39m\u001b[38;5;124mdata/Booli_sold.csv\u001b[39m\u001b[38;5;124m\"\u001b[39m)\n",
      "\u001b[1;31mNameError\u001b[0m: name 'library' is not defined"
     ]
    }
   ],
   "source": [
    "library(\"dplyr\")\n",
    "library(\"ggplot2\")\n",
    "booli_df<-read.csv(\"data/Booli_sold.csv\")\n"
   ]
  },
  {
   "cell_type": "markdown",
   "metadata": {},
   "source": [
    "Calculating price per square meter (ppsqm) and sorting in decreasing order"
   ]
  },
  {
   "cell_type": "markdown",
   "metadata": {},
   "source": [
    "After that we can select the columns we are going to use and add the column ppsqm for the price per square meter. Before we are done the rows are sorted by ppsqm in descending order and `NA` values are removed."
   ]
  },
  {
   "cell_type": "code",
   "execution_count": null,
   "metadata": {},
   "outputs": [],
   "source": [
    "booli_df<-booli_df %>%\n",
    "select(livingArea,soldPrice,booliId,source.name)%>%\n",
    "mutate(ppsqm=soldPrice/livingArea) %>%\n",
    "arrange(desc(ppsqm)) %>%\n",
    "filter(is.na(ppsqm)==FALSE)"
   ]
  },
  {
   "cell_type": "markdown",
   "metadata": {},
   "source": [
    "After this we can simply select the 5 largest values from the modified dataframe."
   ]
  },
  {
   "cell_type": "code",
   "execution_count": null,
   "metadata": {},
   "outputs": [
    {
     "data": {
      "text/html": [
       "<table class=\"dataframe\">\n",
       "<caption>A data.frame: 5 × 5</caption>\n",
       "<thead>\n",
       "\t<tr><th scope=col>livingArea</th><th scope=col>soldPrice</th><th scope=col>booliId</th><th scope=col>source.name</th><th scope=col>ppsqm</th></tr>\n",
       "\t<tr><th scope=col>&lt;dbl&gt;</th><th scope=col>&lt;int&gt;</th><th scope=col>&lt;int&gt;</th><th scope=col>&lt;chr&gt;</th><th scope=col>&lt;dbl&gt;</th></tr>\n",
       "</thead>\n",
       "<tbody>\n",
       "\t<tr><td>24.0</td><td>2500000</td><td>2018259</td><td>Notar        </td><td>104166.67</td></tr>\n",
       "\t<tr><td>24.0</td><td>2450000</td><td>2125576</td><td>HusmanHagberg</td><td>102083.33</td></tr>\n",
       "\t<tr><td>23.0</td><td>2300000</td><td>2078171</td><td>Notar        </td><td>100000.00</td></tr>\n",
       "\t<tr><td>25.0</td><td>2210000</td><td>2330886</td><td>HusmanHagberg</td><td> 88400.00</td></tr>\n",
       "\t<tr><td>26.9</td><td>2300000</td><td>2067384</td><td>Notar        </td><td> 85501.86</td></tr>\n",
       "</tbody>\n",
       "</table>\n"
      ],
      "text/latex": [
       "A data.frame: 5 × 5\n",
       "\\begin{tabular}{lllll}\n",
       " livingArea & soldPrice & booliId & source.name & ppsqm\\\\\n",
       " <dbl> & <int> & <int> & <chr> & <dbl>\\\\\n",
       "\\hline\n",
       "\t 24.0 & 2500000 & 2018259 & Notar         & 104166.67\\\\\n",
       "\t 24.0 & 2450000 & 2125576 & HusmanHagberg & 102083.33\\\\\n",
       "\t 23.0 & 2300000 & 2078171 & Notar         & 100000.00\\\\\n",
       "\t 25.0 & 2210000 & 2330886 & HusmanHagberg &  88400.00\\\\\n",
       "\t 26.9 & 2300000 & 2067384 & Notar         &  85501.86\\\\\n",
       "\\end{tabular}\n"
      ],
      "text/markdown": [
       "\n",
       "A data.frame: 5 × 5\n",
       "\n",
       "| livingArea &lt;dbl&gt; | soldPrice &lt;int&gt; | booliId &lt;int&gt; | source.name &lt;chr&gt; | ppsqm &lt;dbl&gt; |\n",
       "|---|---|---|---|---|\n",
       "| 24.0 | 2500000 | 2018259 | Notar         | 104166.67 |\n",
       "| 24.0 | 2450000 | 2125576 | HusmanHagberg | 102083.33 |\n",
       "| 23.0 | 2300000 | 2078171 | Notar         | 100000.00 |\n",
       "| 25.0 | 2210000 | 2330886 | HusmanHagberg |  88400.00 |\n",
       "| 26.9 | 2300000 | 2067384 | Notar         |  85501.86 |\n",
       "\n"
      ],
      "text/plain": [
       "  livingArea soldPrice booliId source.name   ppsqm    \n",
       "1 24.0       2500000   2018259 Notar         104166.67\n",
       "2 24.0       2450000   2125576 HusmanHagberg 102083.33\n",
       "3 23.0       2300000   2078171 Notar         100000.00\n",
       "4 25.0       2210000   2330886 HusmanHagberg  88400.00\n",
       "5 26.9       2300000   2067384 Notar          85501.86"
      ]
     },
     "metadata": {},
     "output_type": "display_data"
    }
   ],
   "source": [
    "\n",
    "booli_df %>%\n",
    "filter(min_rank(desc(ppsqm)) <= 5)\n"
   ]
  },
  {
   "cell_type": "markdown",
   "metadata": {},
   "source": [
    "Calculating the average value of ppsqm is also quite trivial as we just have to apply the function `mean` to the column ppsqm."
   ]
  },
  {
   "cell_type": "code",
   "execution_count": null,
   "metadata": {},
   "outputs": [
    {
     "data": {
      "text/html": [
       "58759.3827600817"
      ],
      "text/latex": [
       "58759.3827600817"
      ],
      "text/markdown": [
       "58759.3827600817"
      ],
      "text/plain": [
       "[1] 58759.38"
      ]
     },
     "metadata": {},
     "output_type": "display_data"
    }
   ],
   "source": [
    "\n",
    "mean(booli_df$ppsqm)"
   ]
  },
  {
   "cell_type": "markdown",
   "metadata": {},
   "source": [
    "One interesting thing from the data is that apartments sold/bought through HusmanHagberg, have an average price per square meter that is more than double that of Bostadsrättsspecialisten."
   ]
  },
  {
   "cell_type": "code",
   "execution_count": null,
   "metadata": {},
   "outputs": [
    {
     "data": {
      "text/html": [
       "<table class=\"dataframe\">\n",
       "<caption>A tibble: 20 × 2</caption>\n",
       "<thead>\n",
       "\t<tr><th scope=col>source.name</th><th scope=col>avg_ppsqm</th></tr>\n",
       "\t<tr><th scope=col>&lt;chr&gt;</th><th scope=col>&lt;dbl&gt;</th></tr>\n",
       "</thead>\n",
       "<tbody>\n",
       "\t<tr><td>HusmanHagberg                        </td><td>87875.40</td></tr>\n",
       "\t<tr><td>Mäklarhuset                          </td><td>83103.45</td></tr>\n",
       "\t<tr><td>Historiska Hem AB                    </td><td>75432.10</td></tr>\n",
       "\t<tr><td>Vision Fastighetsmäkleri AB          </td><td>69642.86</td></tr>\n",
       "\t<tr><td>Mäklarcentrum                        </td><td>69230.77</td></tr>\n",
       "\t<tr><td>ERA                                  </td><td>68802.47</td></tr>\n",
       "\t<tr><td>Bjurfors                             </td><td>68695.65</td></tr>\n",
       "\t<tr><td>Svensk Fastighetsförmedling          </td><td>61125.61</td></tr>\n",
       "\t<tr><td>Notar                                </td><td>58702.68</td></tr>\n",
       "\t<tr><td>Erik Olsson Fastighetsförmedling     </td><td>57760.35</td></tr>\n",
       "\t<tr><td>Nestor Fastighetsmäkleri             </td><td>56250.00</td></tr>\n",
       "\t<tr><td><span style=white-space:pre-wrap>Karlsson &amp; Uddare                    </span></td><td>55084.76</td></tr>\n",
       "\t<tr><td>Fastighetsbyrån                      </td><td>53233.49</td></tr>\n",
       "\t<tr><td>MOHV                                 </td><td>52328.77</td></tr>\n",
       "\t<tr><td>Länsförsäkringar Fastighetsförmedling</td><td>51333.33</td></tr>\n",
       "\t<tr><td>Innerstadsspecialisten AB            </td><td>51321.93</td></tr>\n",
       "\t<tr><td>Svenska Mäklarhuset                  </td><td>51157.89</td></tr>\n",
       "\t<tr><td>SkandiaMäklarna                      </td><td>50171.22</td></tr>\n",
       "\t<tr><td>Jägholm Norrortsmäklarna             </td><td>47587.72</td></tr>\n",
       "\t<tr><td>Bostadsrättsspecialisten             </td><td>41842.11</td></tr>\n",
       "</tbody>\n",
       "</table>\n"
      ],
      "text/latex": [
       "A tibble: 20 × 2\n",
       "\\begin{tabular}{ll}\n",
       " source.name & avg\\_ppsqm\\\\\n",
       " <chr> & <dbl>\\\\\n",
       "\\hline\n",
       "\t HusmanHagberg                         & 87875.40\\\\\n",
       "\t Mäklarhuset                           & 83103.45\\\\\n",
       "\t Historiska Hem AB                     & 75432.10\\\\\n",
       "\t Vision Fastighetsmäkleri AB           & 69642.86\\\\\n",
       "\t Mäklarcentrum                         & 69230.77\\\\\n",
       "\t ERA                                   & 68802.47\\\\\n",
       "\t Bjurfors                              & 68695.65\\\\\n",
       "\t Svensk Fastighetsförmedling           & 61125.61\\\\\n",
       "\t Notar                                 & 58702.68\\\\\n",
       "\t Erik Olsson Fastighetsförmedling      & 57760.35\\\\\n",
       "\t Nestor Fastighetsmäkleri              & 56250.00\\\\\n",
       "\t Karlsson \\& Uddare                     & 55084.76\\\\\n",
       "\t Fastighetsbyrån                       & 53233.49\\\\\n",
       "\t MOHV                                  & 52328.77\\\\\n",
       "\t Länsförsäkringar Fastighetsförmedling & 51333.33\\\\\n",
       "\t Innerstadsspecialisten AB             & 51321.93\\\\\n",
       "\t Svenska Mäklarhuset                   & 51157.89\\\\\n",
       "\t SkandiaMäklarna                       & 50171.22\\\\\n",
       "\t Jägholm Norrortsmäklarna              & 47587.72\\\\\n",
       "\t Bostadsrättsspecialisten              & 41842.11\\\\\n",
       "\\end{tabular}\n"
      ],
      "text/markdown": [
       "\n",
       "A tibble: 20 × 2\n",
       "\n",
       "| source.name &lt;chr&gt; | avg_ppsqm &lt;dbl&gt; |\n",
       "|---|---|\n",
       "| HusmanHagberg                         | 87875.40 |\n",
       "| Mäklarhuset                           | 83103.45 |\n",
       "| Historiska Hem AB                     | 75432.10 |\n",
       "| Vision Fastighetsmäkleri AB           | 69642.86 |\n",
       "| Mäklarcentrum                         | 69230.77 |\n",
       "| ERA                                   | 68802.47 |\n",
       "| Bjurfors                              | 68695.65 |\n",
       "| Svensk Fastighetsförmedling           | 61125.61 |\n",
       "| Notar                                 | 58702.68 |\n",
       "| Erik Olsson Fastighetsförmedling      | 57760.35 |\n",
       "| Nestor Fastighetsmäkleri              | 56250.00 |\n",
       "| Karlsson &amp; Uddare                     | 55084.76 |\n",
       "| Fastighetsbyrån                       | 53233.49 |\n",
       "| MOHV                                  | 52328.77 |\n",
       "| Länsförsäkringar Fastighetsförmedling | 51333.33 |\n",
       "| Innerstadsspecialisten AB             | 51321.93 |\n",
       "| Svenska Mäklarhuset                   | 51157.89 |\n",
       "| SkandiaMäklarna                       | 50171.22 |\n",
       "| Jägholm Norrortsmäklarna              | 47587.72 |\n",
       "| Bostadsrättsspecialisten              | 41842.11 |\n",
       "\n"
      ],
      "text/plain": [
       "   source.name                           avg_ppsqm\n",
       "1  HusmanHagberg                         87875.40 \n",
       "2  Mäklarhuset                           83103.45 \n",
       "3  Historiska Hem AB                     75432.10 \n",
       "4  Vision Fastighetsmäkleri AB           69642.86 \n",
       "5  Mäklarcentrum                         69230.77 \n",
       "6  ERA                                   68802.47 \n",
       "7  Bjurfors                              68695.65 \n",
       "8  Svensk Fastighetsförmedling           61125.61 \n",
       "9  Notar                                 58702.68 \n",
       "10 Erik Olsson Fastighetsförmedling      57760.35 \n",
       "11 Nestor Fastighetsmäkleri              56250.00 \n",
       "12 Karlsson & Uddare                     55084.76 \n",
       "13 Fastighetsbyrån                       53233.49 \n",
       "14 MOHV                                  52328.77 \n",
       "15 Länsförsäkringar Fastighetsförmedling 51333.33 \n",
       "16 Innerstadsspecialisten AB             51321.93 \n",
       "17 Svenska Mäklarhuset                   51157.89 \n",
       "18 SkandiaMäklarna                       50171.22 \n",
       "19 Jägholm Norrortsmäklarna              47587.72 \n",
       "20 Bostadsrättsspecialisten              41842.11 "
      ]
     },
     "metadata": {},
     "output_type": "display_data"
    }
   ],
   "source": [
    "booli_df%>%\n",
    "select(source.name,ppsqm)%>%\n",
    "group_by(source.name)%>%\n",
    "summarise(avg_ppsqm=mean(ppsqm))%>%\n",
    "arrange(desc(avg_ppsqm))"
   ]
  },
  {
   "cell_type": "markdown",
   "metadata": {},
   "source": [
    "# Swedish election of 2018\n",
    "Once again we start by reading the data from the csv file to a dataframe"
   ]
  },
  {
   "cell_type": "code",
   "execution_count": null,
   "metadata": {},
   "outputs": [],
   "source": [
    "election_df<-read.csv(\"data/2018_R_per_kommun.csv\",sep=\";\",dec=\",\")\n"
   ]
  },
  {
   "cell_type": "markdown",
   "metadata": {},
   "source": [
    "The total number of legitimate voters in stockholm can be calculated by filtering on the column LÄNSKOD, selecting the column of interest and finlly taking the sum of that column"
   ]
  },
  {
   "cell_type": "code",
   "execution_count": null,
   "metadata": {},
   "outputs": [
    {
     "data": {
      "text/html": [
       "1426237"
      ],
      "text/latex": [
       "1426237"
      ],
      "text/markdown": [
       "1426237"
      ],
      "text/plain": [
       "[1] 1426237"
      ]
     },
     "metadata": {},
     "output_type": "display_data"
    }
   ],
   "source": [
    "election_df%>%filter(LÄNSKOD==1)%>%select(RÖSTER.GILTIGA)%>%sum()"
   ]
  },
  {
   "cell_type": "markdown",
   "metadata": {},
   "source": [
    "In order to decide in which municipality Socialdemokraterna got the highest percentage of votes we first select the columns of interest. We can then just filter the column containing the percentage of votes for the largest value.\n",
    "\n",
    "After which we can see that the municipality with the highest percentage of votes for Socialdemokraterna was Munkfors where 52.18 % of voters voted for them."
   ]
  },
  {
   "cell_type": "code",
   "execution_count": null,
   "metadata": {},
   "outputs": [
    {
     "data": {
      "text/html": [
       "<table class=\"dataframe\">\n",
       "<caption>A data.frame: 1 × 2</caption>\n",
       "<thead>\n",
       "\t<tr><th scope=col>KOMMUNNAMN</th><th scope=col>S</th></tr>\n",
       "\t<tr><th scope=col>&lt;chr&gt;</th><th scope=col>&lt;dbl&gt;</th></tr>\n",
       "</thead>\n",
       "<tbody>\n",
       "\t<tr><td>Munkfors</td><td>52.18</td></tr>\n",
       "</tbody>\n",
       "</table>\n"
      ],
      "text/latex": [
       "A data.frame: 1 × 2\n",
       "\\begin{tabular}{ll}\n",
       " KOMMUNNAMN & S\\\\\n",
       " <chr> & <dbl>\\\\\n",
       "\\hline\n",
       "\t Munkfors & 52.18\\\\\n",
       "\\end{tabular}\n"
      ],
      "text/markdown": [
       "\n",
       "A data.frame: 1 × 2\n",
       "\n",
       "| KOMMUNNAMN &lt;chr&gt; | S &lt;dbl&gt; |\n",
       "|---|---|\n",
       "| Munkfors | 52.18 |\n",
       "\n"
      ],
      "text/plain": [
       "  KOMMUNNAMN S    \n",
       "1 Munkfors   52.18"
      ]
     },
     "metadata": {},
     "output_type": "display_data"
    }
   ],
   "source": [
    "election_df%>%select(KOMMUNNAMN,S)%>%filter(rank(desc(S))==1)\n"
   ]
  },
  {
   "cell_type": "markdown",
   "metadata": {},
   "source": [
    "To decide which municipalities had the highest voter turnout we once again start by selecting the columns of interest.\n",
    "\n",
    "As we are looking for more then one value this time the column of voter turnouts is sorted in descending order and filtered for the three largest values.\n",
    "\n",
    "The municipalities with the highest voter turnouts was Lomma,Habo and Vellinge with 93.86%, 93.35% and 93.135 voter turnout respectivly"
   ]
  },
  {
   "cell_type": "markdown",
   "metadata": {},
   "source": []
  },
  {
   "cell_type": "code",
   "execution_count": null,
   "metadata": {},
   "outputs": [
    {
     "data": {
      "text/html": [
       "<table class=\"dataframe\">\n",
       "<caption>A data.frame: 3 × 2</caption>\n",
       "<thead>\n",
       "\t<tr><th scope=col>KOMMUNNAMN</th><th scope=col>VALDELTAGANDE</th></tr>\n",
       "\t<tr><th scope=col>&lt;chr&gt;</th><th scope=col>&lt;dbl&gt;</th></tr>\n",
       "</thead>\n",
       "<tbody>\n",
       "\t<tr><td>Lomma   </td><td>93.86</td></tr>\n",
       "\t<tr><td>Habo    </td><td>93.35</td></tr>\n",
       "\t<tr><td>Vellinge</td><td>93.13</td></tr>\n",
       "</tbody>\n",
       "</table>\n"
      ],
      "text/latex": [
       "A data.frame: 3 × 2\n",
       "\\begin{tabular}{ll}\n",
       " KOMMUNNAMN & VALDELTAGANDE\\\\\n",
       " <chr> & <dbl>\\\\\n",
       "\\hline\n",
       "\t Lomma    & 93.86\\\\\n",
       "\t Habo     & 93.35\\\\\n",
       "\t Vellinge & 93.13\\\\\n",
       "\\end{tabular}\n"
      ],
      "text/markdown": [
       "\n",
       "A data.frame: 3 × 2\n",
       "\n",
       "| KOMMUNNAMN &lt;chr&gt; | VALDELTAGANDE &lt;dbl&gt; |\n",
       "|---|---|\n",
       "| Lomma    | 93.86 |\n",
       "| Habo     | 93.35 |\n",
       "| Vellinge | 93.13 |\n",
       "\n"
      ],
      "text/plain": [
       "  KOMMUNNAMN VALDELTAGANDE\n",
       "1 Lomma      93.86        \n",
       "2 Habo       93.35        \n",
       "3 Vellinge   93.13        "
      ]
     },
     "metadata": {},
     "output_type": "display_data"
    }
   ],
   "source": [
    "election_df%>%select(KOMMUNNAMN,VALDELTAGANDE)%>%arrange(desc(VALDELTAGANDE))%>%filter(rank(desc(VALDELTAGANDE))<=3)\n"
   ]
  },
  {
   "cell_type": "markdown",
   "metadata": {},
   "source": [
    "# Stroke data\n",
    "As before we start by reading the data from the .csv file. "
   ]
  },
  {
   "cell_type": "code",
   "execution_count": null,
   "metadata": {},
   "outputs": [],
   "source": [
    "stroke_df<-read.csv(\"data/stroke-data.csv\")\n"
   ]
  },
  {
   "cell_type": "markdown",
   "metadata": {},
   "source": [
    "We are going to investigate how gender and age affect the ratio of people who have had strokes.\n",
    "\n",
    "Therefore we first select the columns of interest and filter out genders equal to other. Then we can group them by age and gender and finally modify the column stroke to be the mean of strokes for the specified age and gender. This could be viewed as the probability of having a stroke, but not in a very rigourous sense.\n"
   ]
  },
  {
   "cell_type": "code",
   "execution_count": null,
   "metadata": {},
   "outputs": [],
   "source": [
    "stroke_by_age<-stroke_df%>%select(age,stroke,gender)%>%filter(gender!=\"Other\")%>%group_by(age,gender)%>%mutate(stroke=mean(stroke))\n"
   ]
  },
  {
   "cell_type": "markdown",
   "metadata": {},
   "source": [
    "Then the data is visualized through a scatterplot"
   ]
  },
  {
   "cell_type": "code",
   "execution_count": null,
   "metadata": {},
   "outputs": [
    {
     "data": {
      "image/png": "[encoded data removed]",
      "text/plain": [
       "plot without title"
      ]
     },
     "metadata": {
      "image/png": {
       "height": 420,
       "width": 420
      }
     },
     "output_type": "display_data"
    }
   ],
   "source": [
    "ggplot(data=stroke_by_age)+geom_point(mapping = aes(x=age,y=stroke,color=gender))+labs(y=\"Stroke probability\",x=\"Age\")"
   ]
  },
  {
   "cell_type": "markdown",
   "metadata": {},
   "source": [
    "In the scatterplot we can see that the probability looks about equal up until around age 60 where males seem to have a higher chance  for strokes.\n",
    "\n",
    "Altough the scatterplot is a bit hard to read so a smoothed line will be ploted for each of the genders."
   ]
  },
  {
   "cell_type": "code",
   "execution_count": null,
   "metadata": {},
   "outputs": [
    {
     "name": "stderr",
     "output_type": "stream",
     "text": [
      "\u001b[1m\u001b[22m`geom_smooth()` using formula = 'y ~ x'\n"
     ]
    },
    {
     "data": {
      "image/png": "[encoded data removed]",
      "text/plain": [
       "plot without title"
      ]
     },
     "metadata": {
      "image/png": {
       "height": 420,
       "width": 420
      }
     },
     "output_type": "display_data"
    }
   ],
   "source": [
    "ggplot(data=stroke_by_age)+geom_smooth(mapping = aes(x=age,y=stroke,color=gender),span=0.7\n",
    ",method = \"loess\")+labs(y=\"Stroke probability\",x=\"Age\")"
   ]
  },
  {
   "cell_type": "markdown",
   "metadata": {},
   "source": [
    "In the smoothed plot the tren observed in the scatterplot is much more clear. We can observe that the stroke probability is higher for women from around age 20 to 45 and then the probability of men having a stroke quite clearly climbs past that of women."
   ]
  }
 ],
 "metadata": {
  "kernelspec": {
   "display_name": "py_env",
   "language": "python",
   "name": "python3"
  },
  "language_info": {
   "codemirror_mode": {
    "name": "ipython",
    "version": 3
   },
   "file_extension": ".py",
   "mimetype": "text/x-python",
   "name": "python",
   "nbconvert_exporter": "python",
   "pygments_lexer": "ipython3",
   "version": "3.13.0"
  }
 },
 "nbformat": 4,
 "nbformat_minor": 2
}
