{
 "cells": [
  {
   "cell_type": "code",
   "execution_count": 1,
   "id": "e2a2503b-03be-4167-9b26-ed796cee7f8a",
   "metadata": {},
   "outputs": [
    {
     "ename": "ERROR",
     "evalue": "Error in sort(x): argument \"x\" is missing, with no default\n",
     "output_type": "error",
     "traceback": [
      "Error in sort(x): argument \"x\" is missing, with no default\nTraceback:\n",
      "1. qqplot()",
      "2. sort(x)"
     ]
    }
   ],
   "source": [
    "read.csv(file = \""
   ]
  },
  {
   "cell_type": "code",
   "execution_count": null,
   "id": "9fe41979-320f-46af-a6b7-09080848bd4c",
   "metadata": {},
   "outputs": [],
   "source": []
  }
 ],
 "metadata": {
  "kernelspec": {
   "display_name": "R",
   "language": "R",
   "name": "ir"
  },
  "language_info": {
   "codemirror_mode": "r",
   "file_extension": ".r",
   "mimetype": "text/x-r-source",
   "name": "R",
   "pygments_lexer": "r",
   "version": "4.1.3"
  }
 },
 "nbformat": 4,
 "nbformat_minor": 5
}
