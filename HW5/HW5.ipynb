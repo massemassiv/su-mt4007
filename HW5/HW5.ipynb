{
 "cells": [
  {
   "cell_type": "code",
   "execution_count": 2,
   "metadata": {
    "vscode": {
     "languageId": "r"
    }
   },
   "outputs": [
    {
     "name": "stdout",
     "output_type": "stream",
     "text": [
      "package 'httr2' successfully unpacked and MD5 sums checked\n",
      "\n",
      "The downloaded binary packages are in\n",
      "\tC:\\Users\\masip\\AppData\\Local\\Temp\\RtmpMvq0CA\\downloaded_packages\n"
     ]
    },
    {
     "name": "stderr",
     "output_type": "stream",
     "text": [
      "Warning message:\n",
      "\"package 'httr2' was built under R version 4.4.2\"\n"
     ]
    },
    {
     "name": "stdout",
     "output_type": "stream",
     "text": [
      "package 'jsonlite' successfully unpacked and MD5 sums checked\n"
     ]
    },
    {
     "name": "stderr",
     "output_type": "stream",
     "text": [
      "Warning message:\n",
      "\"cannot remove prior installation of package 'jsonlite'\"\n",
      "Warning message in file.copy(savedcopy, lib, recursive = TRUE):\n",
      "\"problem copying C:\\Users\\masip\\anaconda3\\envs\\mt4007\\Lib\\R\\library\\00LOCK\\jsonlite\\libs\\x64\\jsonlite.dll to C:\\Users\\masip\\anaconda3\\envs\\mt4007\\Lib\\R\\library\\jsonlite\\libs\\x64\\jsonlite.dll: Permission denied\"\n",
      "Warning message:\n",
      "\"restored 'jsonlite'\"\n"
     ]
    },
    {
     "name": "stdout",
     "output_type": "stream",
     "text": [
      "\n",
      "The downloaded binary packages are in\n",
      "\tC:\\Users\\masip\\AppData\\Local\\Temp\\RtmpMvq0CA\\downloaded_packages\n"
     ]
    },
    {
     "name": "stderr",
     "output_type": "stream",
     "text": [
      "Warning message:\n",
      "\"package 'jsonlite' was built under R version 4.4.2\"\n"
     ]
    },
    {
     "name": "stdout",
     "output_type": "stream",
     "text": [
      "package 'listviewer' successfully unpacked and MD5 sums checked\n",
      "\n",
      "The downloaded binary packages are in\n",
      "\tC:\\Users\\masip\\AppData\\Local\\Temp\\RtmpMvq0CA\\downloaded_packages\n"
     ]
    },
    {
     "name": "stderr",
     "output_type": "stream",
     "text": [
      "Warning message:\n",
      "\"package 'listviewer' was built under R version 4.4.2\"\n",
      "Warning message:\n",
      "\"package 'lubridate' was built under R version 4.4.2\"\n",
      "── \u001b[1mAttaching core tidyverse packages\u001b[22m ──────────────────────── tidyverse 2.0.0 ──\n",
      "\u001b[32m✔\u001b[39m \u001b[34mdplyr    \u001b[39m 1.1.4     \u001b[32m✔\u001b[39m \u001b[34mreadr    \u001b[39m 2.1.5\n",
      "\u001b[32m✔\u001b[39m \u001b[34mforcats  \u001b[39m 1.0.0     \u001b[32m✔\u001b[39m \u001b[34mstringr  \u001b[39m 1.5.1\n",
      "\u001b[32m✔\u001b[39m \u001b[34mggplot2  \u001b[39m 3.5.1     \u001b[32m✔\u001b[39m \u001b[34mtibble   \u001b[39m 3.2.1\n",
      "\u001b[32m✔\u001b[39m \u001b[34mlubridate\u001b[39m 1.9.3     \u001b[32m✔\u001b[39m \u001b[34mtidyr    \u001b[39m 1.3.1\n",
      "\u001b[32m✔\u001b[39m \u001b[34mpurrr    \u001b[39m 1.0.2     \n",
      "── \u001b[1mConflicts\u001b[22m ────────────────────────────────────────── tidyverse_conflicts() ──\n",
      "\u001b[31m✖\u001b[39m \u001b[34mdplyr\u001b[39m::\u001b[32mfilter()\u001b[39m  masks \u001b[34mstats\u001b[39m::filter()\n",
      "\u001b[31m✖\u001b[39m \u001b[34mpurrr\u001b[39m::\u001b[32mflatten()\u001b[39m masks \u001b[34mjsonlite\u001b[39m::flatten()\n",
      "\u001b[31m✖\u001b[39m \u001b[34mdplyr\u001b[39m::\u001b[32mlag()\u001b[39m     masks \u001b[34mstats\u001b[39m::lag()\n",
      "\u001b[36mℹ\u001b[39m Use the conflicted package (\u001b[3m\u001b[34m<http://conflicted.r-lib.org/>\u001b[39m\u001b[23m) to force all conflicts to become errors\n"
     ]
    },
    {
     "name": "stdout",
     "output_type": "stream",
     "text": [
      "package 'tm' successfully unpacked and MD5 sums checked\n"
     ]
    },
    {
     "name": "stderr",
     "output_type": "stream",
     "text": [
      "Warning message:\n",
      "\"cannot remove prior installation of package 'tm'\"\n",
      "Warning message in file.copy(savedcopy, lib, recursive = TRUE):\n",
      "\"problem copying C:\\Users\\masip\\anaconda3\\envs\\mt4007\\Lib\\R\\library\\00LOCK\\tm\\libs\\x64\\tm.dll to C:\\Users\\masip\\anaconda3\\envs\\mt4007\\Lib\\R\\library\\tm\\libs\\x64\\tm.dll: Permission denied\"\n",
      "Warning message:\n",
      "\"restored 'tm'\"\n"
     ]
    },
    {
     "name": "stdout",
     "output_type": "stream",
     "text": [
      "package 'wordcloud' successfully unpacked and MD5 sums checked\n"
     ]
    },
    {
     "name": "stderr",
     "output_type": "stream",
     "text": [
      "Warning message:\n",
      "\"cannot remove prior installation of package 'wordcloud'\"\n",
      "Warning message in file.copy(savedcopy, lib, recursive = TRUE):\n",
      "\"problem copying C:\\Users\\masip\\anaconda3\\envs\\mt4007\\Lib\\R\\library\\00LOCK\\wordcloud\\libs\\x64\\wordcloud.dll to C:\\Users\\masip\\anaconda3\\envs\\mt4007\\Lib\\R\\library\\wordcloud\\libs\\x64\\wordcloud.dll: Permission denied\"\n",
      "Warning message:\n",
      "\"restored 'wordcloud'\"\n"
     ]
    },
    {
     "name": "stdout",
     "output_type": "stream",
     "text": [
      "package 'SnowballC' successfully unpacked and MD5 sums checked\n"
     ]
    },
    {
     "name": "stderr",
     "output_type": "stream",
     "text": [
      "Warning message:\n",
      "\"cannot remove prior installation of package 'SnowballC'\"\n",
      "Warning message in file.copy(savedcopy, lib, recursive = TRUE):\n",
      "\"problem copying C:\\Users\\masip\\anaconda3\\envs\\mt4007\\Lib\\R\\library\\00LOCK\\SnowballC\\libs\\x64\\SnowballC.dll to C:\\Users\\masip\\anaconda3\\envs\\mt4007\\Lib\\R\\library\\SnowballC\\libs\\x64\\SnowballC.dll: Permission denied\"\n",
      "Warning message:\n",
      "\"restored 'SnowballC'\"\n"
     ]
    },
    {
     "name": "stdout",
     "output_type": "stream",
     "text": [
      "\n",
      "The downloaded binary packages are in\n",
      "\tC:\\Users\\masip\\AppData\\Local\\Temp\\RtmpMvq0CA\\downloaded_packages\n"
     ]
    },
    {
     "name": "stderr",
     "output_type": "stream",
     "text": [
      "Warning message:\n",
      "\"package 'tm' was built under R version 4.4.2\"\n",
      "Loading required package: NLP\n",
      "\n",
      "Warning message:\n",
      "\"package 'NLP' was built under R version 4.4.2\"\n",
      "\n",
      "Attaching package: 'NLP'\n",
      "\n",
      "\n",
      "The following object is masked from 'package:ggplot2':\n",
      "\n",
      "    annotate\n",
      "\n",
      "\n",
      "Warning message:\n",
      "\"package 'wordcloud' was built under R version 4.4.2\"\n",
      "Loading required package: RColorBrewer\n",
      "\n",
      "\n",
      "Attaching package: 'rvest'\n",
      "\n",
      "\n",
      "The following object is masked from 'package:readr':\n",
      "\n",
      "    guess_encoding\n",
      "\n",
      "\n"
     ]
    }
   ],
   "source": [
    "install.packages(\"httr2\")\n",
    "library(\"httr2\")\n",
    "install.packages(\"jsonlite\")\n",
    "library(\"jsonlite\") # Parse JSON\n",
    "install.packages(\"listviewer\")\n",
    "library(\"listviewer\") # View Json\n",
    "library(\"tidyverse\")\n",
    "#install.packages(\"rjson\")\n",
    "#library(\"rjson\")\n",
    "install.packages(c(\"tm\", \"wordcloud\",\"SnowballC\"))\n",
    "\n",
    "# Load libraries\n",
    "library(tm)\n",
    "library(wordcloud)\n",
    "library(SnowballC)\n",
    "library(rvest)"
   ]
  },
  {
   "cell_type": "code",
   "execution_count": null,
   "metadata": {
    "vscode": {
     "languageId": "r"
    }
   },
   "outputs": [],
   "source": [
    "\n",
    "category<-\"phy\"\n",
    "year<-\"2022\"\n",
    "URI<-\"http://api.nobelprize.org/2.1/nobelPrizes?limit=123&nobelPrizeYear=1901&yearTo=2024&nobelPrizeCategory=phy\"\n",
    "request <- request(URI)\n",
    "response <- req_perform(request)\n",
    "json <- response %>% resp_body_string\n",
    "data<-jsonlite::fromJSON(json,flatten = TRUE)\n",
    "#data<-data[1]\n",
    "data<-bind_rows(data[[1]][\"laureates\"][[1]], .id = \"column_label\")\n",
    "#print(jsonedit(json)) # View the JSON in  a nice way\n",
    "\n",
    "#data <- fromJSON(json)\n",
    "#data"
   ]
  },
  {
   "cell_type": "code",
   "execution_count": 61,
   "metadata": {
    "vscode": {
     "languageId": "r"
    }
   },
   "outputs": [
    {
     "data": {
      "text/html": [
       "'character'"
      ],
      "text/latex": [
       "'character'"
      ],
      "text/markdown": [
       "'character'"
      ],
      "text/plain": [
       "[1] \"character\""
      ]
     },
     "metadata": {},
     "output_type": "display_data"
    }
   ],
   "source": [
    "#data[1]\n",
    "#data[[1]]\n",
    "#json\n",
    "#class(data[[1]])\n",
    "#class(data)\n",
    "#class(data[[1]][\"laureates\"][[1]])\n",
    "#colnames(data[[1]][\"laureates\"][[1]][[1]])\n",
    "#data[[1]][\"laureates\"][[1]][1:122]\n",
    "#data<-bind_rows(data[[1]][\"laureates\"][[1]], .id = \"column_label\")\n",
    "#colnames(data)\n",
    "motivations<-data$motivation.se\n",
    "motivations<-str_replace_all(motivations, \"[^\\\\w\\\\\\\\ ]\",\" \")\n",
    "#str_replace_all()\n",
    "class(motivations)"
   ]
  },
  {
   "cell_type": "code",
   "execution_count": 62,
   "metadata": {
    "vscode": {
     "languageId": "r"
    }
   },
   "outputs": [],
   "source": [
    "writeLines(motivations,\"data/motivations.txt\")"
   ]
  },
  {
   "cell_type": "code",
   "execution_count": 63,
   "metadata": {
    "vscode": {
     "languageId": "r"
    }
   },
   "outputs": [
    {
     "name": "stdout",
     "output_type": "stream",
     "text": [
      "<<SimpleCorpus>>\n",
      "Metadata:  corpus specific: 1, document level (indexed): 0\n",
      "Content:  documents: 2\n",
      "\n",
      "                                                                                                                                                                                                                                                                                                                                                                                                                                                                                                                                                                                                                                                                                                                                                                                                                                                                                                                                                                                                                                                                                                                                                                                                                                                                                                                                                                                                                                                                                                                                                                                                                                                                                                                                                                                                                                                                                                                                                                                                                                                                                                                                                                                                                                                                                                                                                                                                                                                                                                                                                                                                                                                                                                                                                                                                                                                                                                                                                                                                                                                                                                                                                                                                                                                                                                                                                                                                                                                                                                                                                                                                                                                                                                                                                                                                                                                                                                                                                                                                                                                                                                                                                                                                                                                                                                                                                                                                                                                                                                                                                                                                                                                                                                                                                                                                                                                                                                                                                                                                                                                                                                                                                                                                                                                                                                                                                                                                                                                                                                                                                                                                                                                                                                                                                                                                                                                                                                                                                                                                                                                                                                                                                                                                                                                                                                                                                                                                                                                                                                                                                                                                                                                                                                                                                                                                                                                                                                                                                                                                                                                                                                                                                                                                                                                                                                                                                                                                                                                                                                                                                                                                                                                                                                                                                                                                                                                                                                                                                                                                                                                                                                                                                                                                                                                                                                                                                                                                                                                                                                                                                                                                                                                                                                                                                                                                                                                                                                                                                                                                                                                                                                                                                                                                                                                                                                                                                                                                                                                                                                                                                                                                                                                                                                                                                                                                                                                                                                                                                                                                                                                                                                                                                                                                                                                                                                                                                                                                                                                                                                                                                                                                                                                                                                                                                                                                                                                                                                                                                                                                                                                                                                                                                                                                                                                                                                                                                                                                                                                                                                                                                                                                                                                                                                                                                                                                                                                                                                                                                                                                                                                                                                                                                                                                                                                                                                                                                                                                                                                                                                                                                                                                                                                                                                                                                                                                                                                                                                                                                                                                                                                                                                                                                                                                                                                                                                                                                                                                                                                                                                                                                                                                                                                                                                                                                                                                                                                                                                                                                                                                                                                                                                                                                                                                                                                                                                                                                                                                                                                                                                                                                                                                                                                                                                                                                                                                                                                                                                                                                                                                                                                                                                                                                                                                                                                                                                                                                                                                                                                                                                                                                                                                                                                                                                                                                                                                                                                                                                                                                                                                                                                                                                                                                                                                                                                                                                                                                                                                                                                                                                                                                                                                                                                                                                                                                                                                                                                                                                                                                                                                                                                                                                                                                                                                                                                                                                                                                                                                                                                                                                                                                                                                                                                                                                                                                                                                                                                                                                                                                                                                                                                                                                                                                                                                                                                                                                                                                                                                                                                                                                                                                                                                                                                                                                                                                                                                                                                                                                                                                                                                                                                                                                                                                                                                                                                                                                                                                                                                                                                                                                                                                                                                                                                                                                                                                                                                                                                                                                                                                                                                                                                                                                                                                                                                                                                                                                                                                                                                                                                                                                                                                                                                                                                                                                                                                                                                                                                                                                                                                                                                                                                                                                                                                                                                                                                                                                                                                                                                                                                                                                                                                                                                                                                                                                                                                                                                                                                                                                                                                                                                                                                                                                                                                                                                                                                                                                                                                                                                                                                                                                                                                                                                                                                                                                                                                                                                                                                                               motivations.txt \n",
      "såsom ett erkännande av den utomordentliga förtjänst han inlagt genom upptäckten av de egendomliga strålar  som sedermera uppkallats efter honom\\nsåsom ett erkännande av den utomordentliga förtjänst de inlagt genom sina undersökningar över magnetismens inflytande på strålningsfenomenen\\nsåsom ett erkännande av den utomordentliga förtjänst de inlagt genom sina undersökningar över magnetismens inflytande på strålningsfenomenen\\nsåsom ett erkännande av den utomordentliga förtjänst han inlagt genom upptäckten av den spontana radioaktiviteten\\nsåsom ett erkännande av den utomordentliga förtjänst de inlagt genom sina gemensamt utförda arbeten rörande de av Professor Henri Becquerel upptäckta strålningsfenomenen\\nsåsom ett erkännande av den utomordentliga förtjänst de inlagt genom sina gemensamt utförda arbeten rörande de av Professor Henri Becquerel upptäckta strålningsfenomenen\\nför hans undersökningar rörande de viktigaste gasernas täthet samt hans i sammanhang med dessa undersökningar gjorda upptäckt av argon\\nför hans arbeten över katodstrålarna\\nsåsom ett erkännande av den stora förtjänst han inlagt genom sina teoretiska och experimentella undersökningar över elektricitetens gång genom gaser\\nför hans optiska precisionsinstrument och hans därmed utförda spektroskopiska och metrologiska undersökningar\\nför hans på interferensfenomenet grundade metod att fotografiskt återgiva färger\\nsåsom ett erkännande av deras förtjänster om den trådlösa telegrafiens utveckling\\nsåsom ett erkännande av deras förtjänster om den trådlösa telegrafiens utveckling\\nför hans arbeten angående gasers och vätskors tillståndsekvation\\nför hans upptäckter angående värmestrålningens lagar\\nför hans uppfinningar av självverkande regulatorer att i kombination med gasaccumulatorer användas till belysning av fyrar och lysbojar\\ni anledning av hans undersökningar över kroppars egenskaper vid låga temperaturer  vilka bland annat lett till framställningen av flytande helium\\nför hans upptäckt av röntgenstrålarnas diffraktion i kristaller\\nför deras förtjänster om utforskandet av kristallstrukturer medelst röntgenstrålar\\nför deras förtjänster om utforskandet av kristallstrukturer medelst röntgenstrålar\\nför hans upptäckt av den karakteristiska röntgenstrålningen hos elementen\\nsåsom ett erkännande av den förtjänst han genom upptäckten av elementarkvanta inlagt om fysikens utveckling\\nför hans upptäckt av dopplereffekten hos kanalstrålar och av spektrallinjers uppdelning i elektriska fält\\nsåsom ett erkännande av den förtjänst han genom upptäckten av nickelstållegeringarnas anomalier inlagt om precisionsfysiken\\nför hans förtjänster om den teoretiska fysiken  särskilt hans upptäckt av lagen för den fotoelektriska effekten\\nför hans förtjänster om utforskandet av atomernas struktur och den från dem utgående strålningen\\nför hans arbeten rörande den elektriska enhetsladdningen samt den fotoelektriska effekten\\nför hans röntgenspektroskopiska upptäckter och forskningar\\nmed anledning av deras upptäckt av lagarna för stöten mellan en elektron och en atom\\nmed anledning av deras upptäckt av lagarna för stöten mellan en elektron och en atom\\nför hans arbeten rörande materiens diskontinuerliga struktur  särskilt för hans upptäckt av sedimentationsjämvikten\\nför hans upptäckt av den efter honom benämnda effekten\\nför upptäckten av hans metod att genom ångkondensation göra elektriskt laddade partiklars banor iakttagbara\\nför hans arbeten rörande termjonfenomenet och särskilt för upptäckten av den efter honom benämnda lagen\\nför upptäckten av elektronernas vågnatur\\nför hans arbeten angående ljusets diffusion och för upptäckten av den efter honom uppkallade effekten\\nför uppställande av kvantmekaniken  vars användning bl a  lett till upptäckten av vätets allotropa former\\nför upptäckandet av nya fruktbärande former av atomteorien\\nför upptäckandet av nya fruktbärande former av atomteorien\\nför upptäckten av neutronen\\nför upptäckten av den kosmiska strålningen\\nför upptäckten av positronen\\nför den experimentella upptäckten av interferensfenomenet vid kristallers bestrålning med elektroner\\nför den experimentella upptäckten av interferensfenomenet vid kristallers bestrålning med elektroner\\nför hans påvisande av nya radioaktiva grundämnen  framställda genom neutronbestrålning  och hans i anslutning därtill gjorda upptäckt av kärnreaktioner  åstadkomna genom långsamma neutroner\\nför uppfinningen av cyklotronen  dess utveckling och med densamma vunna resultat  särskilt beträffande artificiellt radioaktiva element\\nför hans bidrag till utveckling av molekylstrålemetoden och upptäckten av protonens magnetiska moment\\nför den av honom angivna resonansmetoden för registrering av atomkärnans magnetiska egenskaper\\nför upptäckten av uteslutningsprincipen  även benämnd Pauliprincipen\\nför uppfinningen av en apparatur för åstadkommande av extremt höga tryck för de upptäckter han med densamma gjort inom området för de höga tryckens fysik\\nför hans arbeten rörande atmosfärens fysik  särskilt för upptäckten av det s k   Appletonskiktet \\nför hans utveckling av Wilsonmetoden och hans därmed gjorda upptäckter inom kärnfysiken och rörande den kosmiska strålningen\\nför hans på grundval av teoretiska arbeten rörande kärnkrafterna gjorda förutsägelse av mesonernas existens\\nför hans utveckling av den fotografiska metoden för studiet av kärnprocesser och hans därvid gjorda upptäckter rörande mesonerna\\nför deras pionjärarbete vid genomförandet av kärnomvandlingar medelst artificiellt accelererade partiklar\\nför deras pionjärarbete vid genomförandet av kärnomvandlingar medelst artificiellt accelererade partiklar\\nför deras utveckling av nya metoder för kärnmagnetiska precisionsmätningar och därmed gjorda upptäckter\\nför deras utveckling av nya metoder för kärnmagnetiska precisionsmätningar och därmed gjorda upptäckter\\nför den av honom angivna faskontrastmetoden  särskilt för hans uppfinning av faskontrastmikroskopet\\nför hans grundläggande arbeten inom kvantmekaniken  särskilt hans statistiska tolkning av vågfunktionen\\nför koincidensmetoden och hans därmed gjorda upptäckter\\nför hans upptäckter rörande finstrukturen i vätets spektrum\\nför hans precisionsbestämning av elektronens magnetiska moment\\nför deras undersökningar över halvledare och upptäckt av transistor effekten\\nför deras undersökningar över halvledare och upptäckt av transistor effekten\\nför deras undersökningar över halvledare och upptäckt av transistor effekten\\nför deras djupgående undersökning av de s k  paritetslagarna  vilken har lett till viktiga upptäckter rörande elementarpartiklarna\\nför deras djupgående undersökning av de s k  paritetslagarna  vilken har lett till viktiga upptäckter rörande elementarpartiklarna\\nför upptäckten och tolkningen av Cherenkoveffekten\\nför upptäckten och tolkningen av Cherenkoveffekten\\nför upptäckten och tolkningen av Cherenkoveffekten\\nför deras upptäckt av antiprotonen\\nför deras upptäckt av antiprotonen\\nför uppfinningen av bubbelkammaren\\nför hans banbrytande undersökningar över elektronspridningen mot atomkärnor och därvid gjorda upptäckter rörande nukleonernas struktur\\nför hans undersökningar rörande gammastrålningens resonansabsorption och därvid gjorda upptäckt av den efter honom benämnda effekten\\nför hans banbrytande teorier för kondenserad materia  särskilt flytande helium\\nför hans insatser inom teorien för atomkärnorna och elementarpartiklarna  särskilt genom upptäckten och tillämpningen av fundamentala symmetriprinciper\\nför deras upptäckter beträffande atomkärnornas skalstruktur\\nför deras upptäckter beträffande atomkärnornas skalstruktur\\nför grundläggande arbeten inom kvantelektroniken  som lett till framställning av oscillatorer och förstärkare enligt maser laserprincipen\\nför grundläggande arbeten inom kvantelektroniken  som lett till framställning av oscillatorer och förstärkare enligt maser laserprincipen\\nför grundläggande arbeten inom kvantelektroniken  som lett till framställning av oscillatorer och förstärkare enligt maser laserprincipen\\nför deras fundamentala insats inom kvantelektrodynamiken  med djupgående konsekvenser för elementarpartikelfysiken\\nför deras fundamentala insats inom kvantelektrodynamiken  med djupgående konsekvenser för elementarpartikelfysiken\\nför deras fundamentala insats inom kvantelektrodynamiken  med djupgående konsekvenser för elementarpartikelfysiken\\nför upptäckt och utveckling av optiska metoder för studiet av hertzska resonanser i atomer\\nför hans insatser inom teorien för kärnreaktioner  särskilt hans upptäckter rörande energialstringen i stjärnorna\\nför hans avgörande insatser inom elementarpartikelfysiken  särskilt upptäckten av ett stort antal resonanstillstånd  möjliggjord genom hans utveckling av tekniken med vätebubbelkammare och dataanalys\\nför hans bidrag och upptäckter beträffande klassificeringen av elementarpartiklarna och deras växelverkan\\nför grundläggande insatser och upptäckter inom magnetohydrodynamiken med fruktbärande tillämpningar inom olika områden av plasmafysiken\\nför grundläggande insatser och upptäckter rörande antiferromagnetism och ferrimagnetism som lett till betydelsefulla tillämpningar inom det fasta tillståndets fysik\\nför hans uppfinning och utveckling av den holografiska metoden\\nför den av dem gemensamt utvecklade teorien för supraledningsfenomenet  vanligen kallad BCS teorien\\nför den av dem gemensamt utvecklade teorien för supraledningsfenomenet  vanligen kallad BCS teorien\\nför den av dem gemensamt utvecklade teorien för supraledningsfenomenet  vanligen kallad BCS teorien\\nför deras experimentella upptäckter rörande tunnelfenomenet i halvledare  respektive supraledare\\nför deras experimentella upptäckter rörande tunnelfenomenet i halvledare  respektive supraledare\\nför hans teoretiska förutsägelser av egenskaperna hos en supraström genom en tunnelbarriär  särskilt de fenomen vilka allmänt benämnas Josephson effekterna\\nför deras banbrytande arbeten inom radioastrofysiken  Ryle för hans observationer och uppfinningar  särskilt apertursyntestekniken  och Hewish för hans avgörande insatser vid upptäckten av pulsarerna\\nför deras banbrytande arbeten inom radioastrofysiken  Ryle för hans observationer och uppfinningar  särskilt apertursyntestekniken  och Hewish för hans avgörande insatser vid upptäckten av pulsarerna\\nför upptäckten av sambandet mellan kollektiva rörelser och partikelrörelser i atomkärnor  samt den därpå baserade utvecklingen av teorien för atomkärnans struktur\\nför upptäckten av sambandet mellan kollektiva rörelser och partikelrörelser i atomkärnor  samt den därpå baserade utvecklingen av teorien för atomkärnans struktur\\nför upptäckten av sambandet mellan kollektiva rörelser och partikelrörelser i atomkärnor  samt den därpå baserade utvecklingen av teorien för atomkärnans struktur\\nför deras ledande insatser vid upptäckten av en tung elementarpartikel av nytt slag\\nför deras ledande insatser vid upptäckten av en tung elementarpartikel av nytt slag\\nför deras grundläggande teoretiska insatser rörande elektronstrukturen i magnetiska och oordnade system\\nför deras grundläggande teoretiska insatser rörande elektronstrukturen i magnetiska och oordnade system\\nför deras grundläggande teoretiska insatser rörande elektronstrukturen i magnetiska och oordnade system\\nför hans grundläggande uppfinningar och upptäckter inom lågtemperaturfysiken\\nför deras upptäckt av den kosmiska bakgrunden av mikrovågor\\nför deras upptäckt av den kosmiska bakgrunden av mikrovågor\\nför deras insatser inom teorin för förenad svag och elektromagnetisk växelverkan mellan elementar partiklar  innefattande bl a  förutsägelsen av den svaga neutrala strömmen\\nför deras insatser inom teorin för förenad svag och elektromagnetisk växelverkan mellan elementar partiklar  innefattande bl a  förutsägelsen av den svaga neutrala strömmen\\nför deras insatser inom teorin för förenad svag och elektromagnetisk växelverkan mellan elementar partiklar  innefattande bl a  förutsägelsen av den svaga neutrala strömmen\\nför upptäckten av brott mot fundamentala symmetriprinciper i neutrala K mesoners sönderfall\\nför upptäckten av brott mot fundamentala symmetriprinciper i neutrala K mesoners sönderfall\\nför deras bidrag till utvecklingen av laserspektroskopien\\nför deras bidrag till utvecklingen av laserspektroskopien\\nför hans bidrag till utvecklingen av den högupplösande elektronspektroskopien\\nför hans teori för kritiska fenomen vid fasomvandlingar\\nför hans teoretiska studier av de fysikaliska processer  som är av betydelse för stjärnornas struktur och utveckling\\nför hans teoretiska och experimentella studier av de kärnreaktioner  som är av betydelse för de kemiska elementens bildning i universum\\nför deras avgörande insatser i det stora projekt  som lett till upptäckten av fältpartiklarna W och Z  förmedlare av svag växelverkan\\nför deras avgörande insatser i det stora projekt  som lett till upptäckten av fältpartiklarna W och Z  förmedlare av svag växelverkan\\nför upptäckten av den kvantiserade Halleffekten\\nför hans fundamentala elektronoptiska arbeten och konstruktionen av det första elektronmikroskopet\\nför deras konstruktion av sveptunnelmikroskopet\\nför deras konstruktion av sveptunnelmikroskopet\\nför deras banbrytande upptäckt av supraledning i keramiska material\\nför deras banbrytande upptäckt av supraledning i keramiska material\\nför metoden med neutrinostrålar och påvisandet av leptonernas dubblettstruktur genom upptäckten av myonneutrinon\\nför metoden med neutrinostrålar och påvisandet av leptonernas dubblettstruktur genom upptäckten av myonneutrinon\\nför metoden med neutrinostrålar och påvisandet av leptonernas dubblettstruktur genom upptäckten av myonneutrinon\\nför uppfinningen av metoden med separerade oscillerande fält och dess användning i vätemasern och andra atomklockor\\nför utvecklingen av jonfälletekniken\\nför utvecklingen av jonfälletekniken\\nför deras banbrytande undersökningar rörande starkt inelastisk spridning av elektroner mot protoner och bundna neutroner  vilka haft en avgörande betydelse för utvecklingen av kvarkmodellen inom partikelfysiken\\nför deras banbrytande undersökningar rörande starkt inelastisk spridning av elektroner mot protoner och bundna neutroner  vilka haft en avgörande betydelse för utvecklingen av kvarkmodellen inom partikelfysiken\\nför deras banbrytande undersökningar rörande starkt inelastisk spridning av elektroner mot protoner och bundna neutroner  vilka haft en avgörande betydelse för utvecklingen av kvarkmodellen inom partikelfysiken\\nför upptäckten att metoder  som utvecklats för att beskriva ordning i enkla system  kan generaliseras till att gälla mer komplicerade former av materia  särskilt flytande kristaller och polymerer\\nför hans uppfinning och utveckling av partikeldetektorer  särskilt flertrådsproportionalkammaren\\nför upptäckten av en ny typ av pulsar  en upptäckt som öppnat nya möjligheter för studiet av gravitationen\\nför upptäckten av en ny typ av pulsar  en upptäckt som öppnat nya möjligheter för studiet av gravitationen\\nför utveckling av neutronspektroskopin\\nför utveckling av neutrondiffraktionstekniken\\nför upptäckten av tauonen\\nför påvisandet av neutrinon\\nför upptäckten av suprafluiditet i helium 3\\nför upptäckten av suprafluiditet i helium 3\\nför upptäckten av suprafluiditet i helium 3\\nför utveckling av metoder att kyla och infånga atomer med laserljus\\nför utveckling av metoder att kyla och infånga atomer med laserljus\\nför utveckling av metoder att kyla och infånga atomer med laserljus\\nför deras upptäckt av en ny form av kvantvätska med fraktionellt laddade excitationer\\nför deras upptäckt av en ny form av kvantvätska med fraktionellt laddade excitationer\\nför deras upptäckt av en ny form av kvantvätska med fraktionellt laddade excitationer\\nför deras avgörande insatser rörande kvantstrukturen hos teorin för elektrosvag växelverkan i fysiken\\nför deras avgörande insatser rörande kvantstrukturen hos teorin för elektrosvag växelverkan i fysiken\\nför utvecklingen av halvledarheterostrukturer för höghastighets  och optoelektronik\\nför utvecklingen av halvledarheterostrukturer för höghastighets  och optoelektronik\\nför hans del i uppfinningen av den integrerade kretsen\\nför uppnående av Bose Einsteinkondensationen i förtunnande gaser av alkaliatomer samt för tidiga fundamentala studier av kondensatens egenskaper\\nför uppnående av Bose Einsteinkondensationen i förtunnande gaser av alkaliatomer samt för tidiga fundamentala studier av kondensatens egenskaper\\nför uppnående av Bose Einsteinkondensationen i förtunnande gaser av alkaliatomer samt för tidiga fundamentala studier av kondensatens egenskaper\\nför banbrytande insatser inom astrofysiken  särskilt för detektion av kosmiska neutriner\\nför banbrytande insatser inom astrofysiken  särskilt för detektion av kosmiska neutriner\\nför banbrytande insatser inom astrofysiken  som lett till upptäckten av kosmiska röntgenkällor\\nför banbrytande insatser inom teorin för supraledare och supravätskor\\nför banbrytande insatser inom teorin för supraledare och supravätskor\\nför banbrytande insatser inom teorin för supraledare och supravätskor\\nför upptäckten av asymptotisk frihet i teorin för den starka växelverkan\\nför upptäckten av asymptotisk frihet i teorin för den starka växelverkan\\nför upptäckten av asymptotisk frihet i teorin för den starka växelverkan\\nför hans bidrag till den kvantmekaniska teorin för optisk koherens\\nför deras bidrag till utvecklingen av laserbaserad precisionsspektroskopi  inkluderande den optiska frekvenskamstekniken\\nför deras bidrag till utvecklingen av laserbaserad precisionsspektroskopi  inkluderande den optiska frekvenskamstekniken\\nför upptäckten av den kosmiska bakgrundsstrålningens svartkroppsform och anisotropi\\nför upptäckten av den kosmiska bakgrundsstrålningens svartkroppsform och anisotropi\\nför upptäckten av jättemagnetoresistans\\nför upptäckten av jättemagnetoresistans\\nför upptäckten av mekanismen för spontant symmetribrott inom den subatomära fysiken\\nför upptäckten av ursprunget till det symmetribrott som förutsäger att naturen måste ha minst tre familjer av kvarkar\\nför upptäckten av ursprunget till det symmetribrott som förutsäger att naturen måste ha minst tre familjer av kvarkar\\nför banbrytande insatser angående ljustransmission i fibrer för optisk kommunikation\\nför uppfinningen av en avbildande halvledarkrets   CCD detektorn\\nför uppfinningen av en avbildande halvledarkrets   CCD detektorn\\nför banbrytande experiment rörande det tvådimensionella materialet grafen\\nför banbrytande experiment rörande det tvådimensionella materialet grafen\\nför upptäckten av universums accelererande expansion genom observationer av avlägsna supernovor\\nför upptäckten av universums accelererande expansion genom observationer av avlägsna supernovor\\nför upptäckten av universums accelererande expansion genom observationer av avlägsna supernovor\\n för banbrytande experimentella metoder som möjliggör mätning och styrning av enstaka kvantsystem \\n för banbrytande experimentella metoder som möjliggör mätning och styrning av enstaka kvantsystem \\n för den teoretiska upptäckten av en mekanism som bidrar till förståelsen av massans ursprung hos subatomära partiklar  och som nyligen  genom upptäckten av den förutsagda fundamentala partikeln  bekräftats av ATLAS  och CMS experimenten vid CERN s accele\\n för den teoretiska upptäckten av en mekanism som bidrar till förståelsen av massans ursprung hos subatomära partiklar  och som nyligen  genom upptäckten av den förutsagda fundamentala partikeln  bekräftats av ATLAS  och CMS experimenten vid CERN s accele\\nför uppfinningen av effektiva blå lysdioder vilka möjliggjort ljusstarka och energisnåla vita ljuskällor\\nför uppfinningen av effektiva blå lysdioder vilka möjliggjort ljusstarka och energisnåla vita ljuskällor\\nför uppfinningen av effektiva blå lysdioder vilka möjliggjort ljusstarka och energisnåla vita ljuskällor\\nför upptäckten av neutrinooscillationer  som visar att neutriner har massa\\nför upptäckten av neutrinooscillationer  som visar att neutriner har massa\\nför teoretiska upptäckter av topologiska fasövergångar och topologiska materiefaser\\nför teoretiska upptäckter av topologiska fasövergångar och topologiska materiefaser\\nför teoretiska upptäckter av topologiska fasövergångar och topologiska materiefaser\\nför avgörande bidrag till LIGO detektorn och observationen av gravitationsvågor\\nför avgörande bidrag till LIGO detektorn och observationen av gravitationsvågor\\nför avgörande bidrag till LIGO detektorn och observationen av gravitationsvågor\\nför den optiska pincetten och dess tillämpning på biologiska system\\nför deras metod att alstra högintensiva  ultrakorta optiska pulser\\nför deras metod att alstra högintensiva  ultrakorta optiska pulser\\nför teoretiska upptäckter inom fysikalisk kosmologi\\nför upptäckten av en exoplanet i bana kring en solliknande stjärna\\nför upptäckten av en exoplanet i bana kring en solliknande stjärna\\nför upptäckten att bildandet av svarta hål är en robust förutsägelse av den allmänna relativitetsteorin\\nför upptäckten av ett supermassivt kompakt objekt i Vintergatans centrum\\nför upptäckten av ett supermassivt kompakt objekt i Vintergatans centrum\\nNA\\nNA\\nNA\\nför experiment med sammanfätade fotoner som påvisat brott mot Bell olikheter och  banat väg för kvantinformationsvetenskap\\nför experiment med sammanfätade fotoner som påvisat brott mot Bell olikheter och  banat väg för kvantinformationsvetenskap\\nför experiment med sammanfätade fotoner som påvisat brott mot Bell olikheter och  banat väg för kvantinformationsvetenskap\\nför experimentella metoder som genererar attosekundpulser av ljus för studier av elektrondynamik i materia\\nför experimentella metoder som genererar attosekundpulser av ljus för studier av elektrondynamik i materia\\nför experimentella metoder som genererar attosekundpulser av ljus för studier av elektrondynamik i materia \n",
      "                                                                                                                                                                                                                                                                                                                                                                                                                                                                                                                                                                                                                                                                                                                                                                                                                                                                                                                                                                                                                                                                                                                                                                                                                                                                                                                                                                                                                                                                                                                                                                                                                                                                                                                                                                                                                                                                                                                                                                                                                                                                                                                                                                                                                                                                                                                                                                                                                                                                                                                                                                                                                                                                                                                                                                                                                                                                                                                                                                                                                                                                                                                                                                                                                                                                                                                                                                                                                                                                                                                                                                                                                                                                                                                                                                                                                                                                                                                                                                                                                                                                                                                                                                                                                                                                                                                                                                                                                                                                                                                                                                                                                                                                                                                                                                                                                                                                                                                                                                                                                                                                                                                                                                                                                                                                                                                                                                                                                                                                                                                                                                                                                                                                                                                                                                                                                                                                                                                                                                                                                                                                                                                                                                                                                                                                                                                                                                                                                                                                                                                                                                                                                                                                                                                                                                                                                                                                                                                                                                                                                                                                                                                                                                                                                                                                                                                                                                                                                                                                                                                                                                                                                                                                                                                                                                                                                                                                                                                                                                                                                                                                                                                                                                                                                                                                                                                                                                                                                                                                                                                                                                                                                                                                                                                                                                                                                                                                                                                                                                                                                                                                                                                                                                                                                                                                                                                                                                                                                                                                                                                                                                                                                                                                                                                                                                                                                                                                                                                                                                                                                                                                                                                                                                                                                                                                                                                                                                                                                                                                                                                                                                                                                                                                                                                                                                                                                                                                                                                                                                                                                                                                                                                                                                                                                                                                                                                                                                                                                                                                                                                                                                                                                                                                                                                                                                                                                                                                                                                                                                                                                                                                                                                                                                                                                                                                                                                                                                                                                                                                                                                                                                                                                                                                                                                                                                                                                                                                                                                                                                                                                                                                                                                                                                                                                                                                                                                                                                                                                                                                                                                                                                                                                                                                                                                                                                                                                                                                                                                                                                                                                                                                                                                                                                                                                                                                                                                                                                                                                                                                                                                                                                                                                                                                                                                                                                                                                                                                                                                                                                                                                                                                                                                                                                                                                                                                                                                                                                                                                                                                                                                                                                                                                                                                                                                                                                                                                                                                                                                                                                                                                                                                                                                                                                                                                                                                                                                                                                                                                                                                                                                                                                                                                                                                                                                                                                                                                                                                                                                                                                                                                                                                                                                                                                                                                                                                                                                                                                                                                                                                                                                                                                                                                                                                                                                                                                                                                                                                                                                                                                                                                                                                                                                                                                                                                                                                                                                                                                                                                                                                                                                                                                                                                                                                                                                                                                                                                                                                                                                                                                                                                                                                                                                                                                                                                                                                                                                                                                                                                                                                                                                                                                                                                                                                                                                                                                                                                                                                                                                                                                                                                                                                                                                                                                                                                                                                                                                                                                                                                                                                                                                                                                                                                                                                                                                                                                                                                                                                                                                                                                                                                                                                                                                                                                                                                                                                                                                                                                                                                                                                                                                                                                                                                                                                                                                                                                                                                                                                                                                                                                                                                                                                                                                                                                                                                                                                                                                                                                                                                                                                                                                                                                                                                                                                                                                                                                                                                                                                                     temp.html \n",
      "                                                                                                                                                                                                                                                                                                                                                                                                                                                                                                                                                                                                                                                                                                                                                                                                                                                                                                                                                                                                                                                                                                                                                                                                                                                                                                                                                                                                                                                                                                                                                                                                                                                                                                                                                                                                                                                                                                                                                                                                                                                                                                                                                                                                                                                                                                                                                                                                                                                                                                                                                                                                                                                                                                                                                                                                                                                                                                                                                                                                                                                                                                                                                                                                                                                                                                                                                                                                                                                                                                                                                                                                                                                                                                                                                                                                                                                                                                                                                                                                                                                                                                                                                                                                                                                                                                                                                                                                                                                                                                                                                                                                                                                                                                                                                                                                                                                                                                                                                                                                                                                                                                                                                                                                                                                                                                                                                                                                                                                                                                                                                                                                                                                                                                                                                                                                                                                                                                                                                                                                                                                                                                                                                                                                                                                                                                                                                                                                                                                                                                                                                                                                                                                                                                                                                                                                                                                                                                                                                                                                                                                                                                                                                                                                                                                                                                                                                                                                                                                                                                                                                                                                                                                                                                                                                                                                                                                                                                                                                                                                                                                                                                                                                                                                                                                                                                                                                                                                                                                                                                                                                                                                                                                                                                                                                                                                                                                                                                                                                                                                                                                                                                                                                                                                                                                                                                                                                                                                                                                                                                                                                                                                                                                                                                                                                                                                                                                                                                                                                                                                                                                                                                                                                                                                                                                                                                                                                                                                                                                                                                                                                                                                                                                                                                                                                                                                                                                                                                                                                                                                                                                                                                                                                                                                                                                                                                                                                                                                                                                                                                                                                                                                                                                                                                                                                                                                                                                                                                                                                                                                                                                                                                                                                                                                                                                                                                                                                                                                                                                                                                                                                                                                                                                                                                                                                                                                                                                                                                                                                                                                                                                                                                                                                                                                                                                                                                                                                                                                                                                                                                                                                                                                                                                                                                                                                                                                                                                                                                                                                                                                                                                                                                                                                                                                                                                                                                                                                                                                                                                                                                                                                                                                                                                                                                                                                                                                                                                                                                                                                                                                                                                                                                                                                                                                                                                                                                                                                                                                                                                                                                                                                                                                                                                                                                                                                                                                                                                                                                                                                                                                                                                                                                                                                                                                                                                                                                                                                                                                                                                                                                                                                                                                                                                                                                                                                                                                                                                                                                                                                                                                                                                                                                                                                                                                                                                                                                                                                                                                                                                                                                                                                                                                                                                                                                                                                                                                                                                                                                                                                                                                                                                                                                                                                                                                                                                                                                                                                                                                                                                                                                                                                                                                                                                                                                                                                                                                                                                                                                                                                                                                                                                                                                                                                                                                                                                                                                                                                                                                                                                                                                                                                                                                                                                                                                                                                                                                                                                                                                                                                                                                                                                                                                                                                                                                                                                                                                                                                                                                                                                                                                                                                                                                                                                                                                                                                                                                                                                                                                                                                                                                                                                                                                                                                                                                                                                                                                                                                                                                                                                                                                                                                                                                                                                                                                                                                                                                                                                                                                                                                                                                                                                                                                                                                                                                                                                                                                                                                                                                                                                                                                                                                                                                  <p class=\"star-rating One\">\\n                    <i class=\"icon-star\"></i>\\n                    <i class=\"icon-star\"></i>\\n                    <i class=\"icon-star\"></i>\\n                    <i class=\"icon-star\"></i>\\n                    <i class=\"icon-star\"></i>\\n                </p> \n"
     ]
    }
   ],
   "source": [
    "mooncloud<-Corpus(DirSource(\"data\"))\n",
    "inspect(mooncloud)"
   ]
  },
  {
   "cell_type": "code",
   "execution_count": 64,
   "metadata": {
    "vscode": {
     "languageId": "r"
    }
   },
   "outputs": [],
   "source": [
    "\n",
    "# Strip unnecessary whitespace\n",
    "mooncloud <- tm_map(mooncloud, stripWhitespace)\n",
    "# Convert to lowercase\n",
    "mooncloud <- tm_map(mooncloud, tolower)\n",
    "# Remove conjunctions etc.\n",
    "mooncloud <- tm_map(mooncloud, removeWords, stopwords(\"swedish\"))\n",
    "# Remove suffixes to the common 'stem'\n",
    "mooncloud <- tm_map(mooncloud, stemDocument)\n",
    "# Remove commas etc.\n",
    "mooncloud <- tm_map(mooncloud, removePunctuation)\n",
    "\n",
    "#(optional) arguments of 'tm' are converting the document to something other than text, to avoid, run this line\n",
    "mooncloud <- tm_map(mooncloud, PlainTextDocument)"
   ]
  },
  {
   "cell_type": "code",
   "execution_count": 67,
   "metadata": {
    "vscode": {
     "languageId": "r"
    }
   },
   "outputs": [
    {
     "ename": "ERROR",
     "evalue": "Error in tolower(txt): non-character argument\n",
     "output_type": "error",
     "traceback": [
      "Error in tolower(txt): non-character argument\nTraceback:\n",
      "1. tm::TermDocumentMatrix(corpus)",
      "2. TermDocumentMatrix.SimpleCorpus(corpus)",
      "3. tolower(txt)",
      "4. .handleSimpleError(function (cnd) \n . {\n .     watcher$capture_plot_and_output()\n .     cnd <- sanitize_call(cnd)\n .     watcher$push(cnd)\n .     switch(on_error, continue = invokeRestart(\"eval_continue\"), \n .         stop = invokeRestart(\"eval_stop\"), error = invokeRestart(\"eval_error\", \n .             cnd))\n . }, \"non-character argument\", base::quote(tolower(txt)))"
     ]
    }
   ],
   "source": [
    "# Time to generate a wordcloud!\n",
    "wordcloud(mooncloud\n",
    "        , scale=c(5,0.5)     # Set min and max scale\n",
    "        , max.words=100     # Set top n words\n",
    "        , random.order=FALSE # Words in decreasing freq\n",
    "        , rot.per=0.35       # % of vertical words\n",
    "        , use.r.layout=FALSE # Use C++ collision detection\n",
    "        , colors=brewer.pal(8, \"Dark2\"))"
   ]
  },
  {
   "cell_type": "code",
   "execution_count": null,
   "metadata": {
    "vscode": {
     "languageId": "r"
    }
   },
   "outputs": [
    {
     "name": "stdout",
     "output_type": "stream",
     "text": [
      "<<SimpleCorpus>>\n",
      "Metadata:  corpus specific: 1, document level (indexed): 0\n",
      "Content:  documents: 2\n",
      "\n",
      "<<PlainTextDocument>>\n",
      "Metadata:  7\n",
      "Content:  chars: 16357\n"
     ]
    },
    {
     "data": {
      "text/html": [
       "<style>\n",
       ".list-inline {list-style: none; margin:0; padding: 0}\n",
       ".list-inline>li {display: inline-block}\n",
       ".list-inline>li:not(:last-child)::after {content: \"\\00b7\"; padding: 0 .5ex}\n",
       "</style>\n",
       "<ol class=list-inline><li>'SimpleCorpus'</li><li>'Corpus'</li></ol>\n"
      ],
      "text/latex": [
       "\\begin{enumerate*}\n",
       "\\item 'SimpleCorpus'\n",
       "\\item 'Corpus'\n",
       "\\end{enumerate*}\n"
      ],
      "text/markdown": [
       "1. 'SimpleCorpus'\n",
       "2. 'Corpus'\n",
       "\n",
       "\n"
      ],
      "text/plain": [
       "[1] \"SimpleCorpus\" \"Corpus\"      "
      ]
     },
     "metadata": {},
     "output_type": "display_data"
    }
   ],
   "source": [
    "inspect(mooncloud)\n",
    "class(mooncloud)"
   ]
  },
  {
   "cell_type": "markdown",
   "metadata": {},
   "source": [
    "# Webscraper\n"
   ]
  },
  {
   "cell_type": "code",
   "execution_count": null,
   "metadata": {
    "vscode": {
     "languageId": "r"
    }
   },
   "outputs": [],
   "source": [
    "BASE_URL<-\"https://books.toscrape.com/catalogue/\"\n",
    "URL<-function(page=1){return(sprintf(\"https://books.toscrape.com/catalogue/page-%s.html\",page))}\n",
    "ht<-rvest::read_html(URL(2))\n",
    "\n"
   ]
  },
  {
   "cell_type": "code",
   "execution_count": null,
   "metadata": {
    "vscode": {
     "languageId": "r"
    }
   },
   "outputs": [
    {
     "data": {
      "text/html": [
       "<table class=\"dataframe\">\n",
       "<caption>A tibble: 6 × 3</caption>\n",
       "<thead>\n",
       "\t<tr><th scope=col>Rating</th><th scope=col>Price</th><th scope=col>URL</th></tr>\n",
       "\t<tr><th scope=col>&lt;chr&gt;</th><th scope=col>&lt;chr&gt;</th><th scope=col>&lt;chr&gt;</th></tr>\n",
       "</thead>\n",
       "<tbody>\n",
       "\t<tr><td>Three</td><td>£51.77</td><td>https://books.toscrape.com/catalogue/a-light-in-the-attic_1000/index.html               </td></tr>\n",
       "\t<tr><td>One  </td><td>£53.74</td><td>https://books.toscrape.com/catalogue/tipping-the-velvet_999/index.html                  </td></tr>\n",
       "\t<tr><td>One  </td><td>£50.10</td><td>https://books.toscrape.com/catalogue/soumission_998/index.html                          </td></tr>\n",
       "\t<tr><td>Four </td><td>£47.82</td><td>https://books.toscrape.com/catalogue/sharp-objects_997/index.html                       </td></tr>\n",
       "\t<tr><td>Five </td><td>£54.23</td><td>https://books.toscrape.com/catalogue/sapiens-a-brief-history-of-humankind_996/index.html</td></tr>\n",
       "\t<tr><td>One  </td><td>£22.65</td><td>https://books.toscrape.com/catalogue/the-requiem-red_995/index.html                     </td></tr>\n",
       "</tbody>\n",
       "</table>\n"
      ],
      "text/latex": [
       "A tibble: 6 × 3\n",
       "\\begin{tabular}{lll}\n",
       " Rating & Price & URL\\\\\n",
       " <chr> & <chr> & <chr>\\\\\n",
       "\\hline\n",
       "\t Three & £51.77 & https://books.toscrape.com/catalogue/a-light-in-the-attic\\_1000/index.html               \\\\\n",
       "\t One   & £53.74 & https://books.toscrape.com/catalogue/tipping-the-velvet\\_999/index.html                  \\\\\n",
       "\t One   & £50.10 & https://books.toscrape.com/catalogue/soumission\\_998/index.html                          \\\\\n",
       "\t Four  & £47.82 & https://books.toscrape.com/catalogue/sharp-objects\\_997/index.html                       \\\\\n",
       "\t Five  & £54.23 & https://books.toscrape.com/catalogue/sapiens-a-brief-history-of-humankind\\_996/index.html\\\\\n",
       "\t One   & £22.65 & https://books.toscrape.com/catalogue/the-requiem-red\\_995/index.html                     \\\\\n",
       "\\end{tabular}\n"
      ],
      "text/markdown": [
       "\n",
       "A tibble: 6 × 3\n",
       "\n",
       "| Rating &lt;chr&gt; | Price &lt;chr&gt; | URL &lt;chr&gt; |\n",
       "|---|---|---|\n",
       "| Three | £51.77 | https://books.toscrape.com/catalogue/a-light-in-the-attic_1000/index.html                |\n",
       "| One   | £53.74 | https://books.toscrape.com/catalogue/tipping-the-velvet_999/index.html                   |\n",
       "| One   | £50.10 | https://books.toscrape.com/catalogue/soumission_998/index.html                           |\n",
       "| Four  | £47.82 | https://books.toscrape.com/catalogue/sharp-objects_997/index.html                        |\n",
       "| Five  | £54.23 | https://books.toscrape.com/catalogue/sapiens-a-brief-history-of-humankind_996/index.html |\n",
       "| One   | £22.65 | https://books.toscrape.com/catalogue/the-requiem-red_995/index.html                      |\n",
       "\n"
      ],
      "text/plain": [
       "  Rating Price \n",
       "1 Three  £51.77\n",
       "2 One    £53.74\n",
       "3 One    £50.10\n",
       "4 Four   £47.82\n",
       "5 Five   £54.23\n",
       "6 One    £22.65\n",
       "  URL                                                                                     \n",
       "1 https://books.toscrape.com/catalogue/a-light-in-the-attic_1000/index.html               \n",
       "2 https://books.toscrape.com/catalogue/tipping-the-velvet_999/index.html                  \n",
       "3 https://books.toscrape.com/catalogue/soumission_998/index.html                          \n",
       "4 https://books.toscrape.com/catalogue/sharp-objects_997/index.html                       \n",
       "5 https://books.toscrape.com/catalogue/sapiens-a-brief-history-of-humankind_996/index.html\n",
       "6 https://books.toscrape.com/catalogue/the-requiem-red_995/index.html                     "
      ]
     },
     "metadata": {},
     "output_type": "display_data"
    }
   ],
   "source": [
    "df<-tibble(Rating=character(),Price=character(),URL=character())\n",
    "for(i in 1:3){\n",
    "\n",
    "ht<-rvest::read_html(URL(i))\n",
    "\n",
    "prod_pod<-ht%>%html_elements(\".product_pod\")\n",
    "rating<-prod_pod%>%html_element(\"p \") %>%html_attrs()\n",
    "title<-prod_pod%>%html_element(\"a\")%>%html_attrs()\n",
    "price<-prod_pod%>%html_element(\".price_color\")%>%html_text()\n",
    "\n",
    "rating<-str_extract(rating,pattern=\"(?<=star-rating ).\\\\w*\")\n",
    "\n",
    "book_url<-sprintf(paste0(BASE_URL,\"%s\"),as.character(title))\n",
    "df<-df%>%add_row(tibble(Rating=rating,Price=price,URL=book_url))\n",
    "}\n"
   ]
  },
  {
   "cell_type": "code",
   "execution_count": null,
   "metadata": {
    "vscode": {
     "languageId": "r"
    }
   },
   "outputs": [],
   "source": [
    "#df<-rbind(df,rating)\n",
    "book_url<-df$URL\n",
    "book_df<-tibble(URL=character(),UPC=character(),Title=character())\n",
    "for(url in book_url){\n",
    "    book_page<-rvest::read_html(url)\n",
    "    title<-(book_page%>%html_elements(\"h1\")%>%html_text2())[[1]]\n",
    "    upc<-(book_page%>%html_elements(\"table\")%>%html_table())[[1]][1,2][[1]]\n",
    "    book_df<-book_df%>%add_row(URL=url,UPC=upc,Title=title)\n",
    "    \n",
    "}\n"
   ]
  },
  {
   "cell_type": "code",
   "execution_count": null,
   "metadata": {
    "vscode": {
     "languageId": "r"
    }
   },
   "outputs": [
    {
     "name": "stderr",
     "output_type": "stream",
     "text": [
      "\u001b[1m\u001b[22mJoining with `by = join_by(UPC, Title)`\n"
     ]
    },
    {
     "data": {
      "text/html": [
       "<table class=\"dataframe\">\n",
       "<caption>A tibble: 5 × 4</caption>\n",
       "<thead>\n",
       "\t<tr><th scope=col>UPC</th><th scope=col>Title</th><th scope=col>Price</th><th scope=col>Rating</th></tr>\n",
       "\t<tr><th scope=col>&lt;chr&gt;</th><th scope=col>&lt;chr&gt;</th><th scope=col>&lt;chr&gt;</th><th scope=col>&lt;chr&gt;</th></tr>\n",
       "</thead>\n",
       "<tbody>\n",
       "\t<tr><td>a897fe39b1053632</td><td>A Light in the Attic                 </td><td>£51.77</td><td>Three</td></tr>\n",
       "\t<tr><td>90fa61229261140a</td><td>Tipping the Velvet                   </td><td>£53.74</td><td>One  </td></tr>\n",
       "\t<tr><td>6957f44c3847a760</td><td>Soumission                           </td><td>£50.10</td><td>One  </td></tr>\n",
       "\t<tr><td>e00eb4fd7b871a48</td><td>Sharp Objects                        </td><td>£47.82</td><td>Four </td></tr>\n",
       "\t<tr><td>4165285e1663650f</td><td>Sapiens: A Brief History of Humankind</td><td>£54.23</td><td>Five </td></tr>\n",
       "</tbody>\n",
       "</table>\n"
      ],
      "text/latex": [
       "A tibble: 5 × 4\n",
       "\\begin{tabular}{llll}\n",
       " UPC & Title & Price & Rating\\\\\n",
       " <chr> & <chr> & <chr> & <chr>\\\\\n",
       "\\hline\n",
       "\t a897fe39b1053632 & A Light in the Attic                  & £51.77 & Three\\\\\n",
       "\t 90fa61229261140a & Tipping the Velvet                    & £53.74 & One  \\\\\n",
       "\t 6957f44c3847a760 & Soumission                            & £50.10 & One  \\\\\n",
       "\t e00eb4fd7b871a48 & Sharp Objects                         & £47.82 & Four \\\\\n",
       "\t 4165285e1663650f & Sapiens: A Brief History of Humankind & £54.23 & Five \\\\\n",
       "\\end{tabular}\n"
      ],
      "text/markdown": [
       "\n",
       "A tibble: 5 × 4\n",
       "\n",
       "| UPC &lt;chr&gt; | Title &lt;chr&gt; | Price &lt;chr&gt; | Rating &lt;chr&gt; |\n",
       "|---|---|---|---|\n",
       "| a897fe39b1053632 | A Light in the Attic                  | £51.77 | Three |\n",
       "| 90fa61229261140a | Tipping the Velvet                    | £53.74 | One   |\n",
       "| 6957f44c3847a760 | Soumission                            | £50.10 | One   |\n",
       "| e00eb4fd7b871a48 | Sharp Objects                         | £47.82 | Four  |\n",
       "| 4165285e1663650f | Sapiens: A Brief History of Humankind | £54.23 | Five  |\n",
       "\n"
      ],
      "text/plain": [
       "  UPC              Title                                 Price  Rating\n",
       "1 a897fe39b1053632 A Light in the Attic                  £51.77 Three \n",
       "2 90fa61229261140a Tipping the Velvet                    £53.74 One   \n",
       "3 6957f44c3847a760 Soumission                            £50.10 One   \n",
       "4 e00eb4fd7b871a48 Sharp Objects                         £47.82 Four  \n",
       "5 4165285e1663650f Sapiens: A Brief History of Humankind £54.23 Five  "
      ]
     },
     "metadata": {},
     "output_type": "display_data"
    }
   ],
   "source": [
    "df<-df%>%left_join(book_df)%>%select(!URL)#%>%arrange(UPC,Title,Price,Rating)\n",
    "df<-df%>%relocate(UPC,Title,Price,Rating)\n",
    "#test_df%>%\n",
    "test_list<-list(\n",
    "\"a897fe39b1053632\",\t\n",
    "\"90fa61229261140a\",\n",
    "\"6957f44c3847a760\",\n",
    "\"e00eb4fd7b871a48\",\n",
    "\"4165285e1663650f\")\n",
    "df%>%filter(UPC %in% test_list)\n"
   ]
  }
 ],
 "metadata": {
  "kernelspec": {
   "display_name": "R",
   "language": "R",
   "name": "ir"
  },
  "language_info": {
   "codemirror_mode": "r",
   "file_extension": ".r",
   "mimetype": "text/x-r-source",
   "name": "R",
   "pygments_lexer": "r",
   "version": "4.4.1"
  }
 },
 "nbformat": 4,
 "nbformat_minor": 2
}
