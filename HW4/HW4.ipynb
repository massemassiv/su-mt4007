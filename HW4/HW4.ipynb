{
 "cells": [
  {
   "cell_type": "code",
   "execution_count": 375,
   "metadata": {
    "vscode": {
     "languageId": "r"
    }
   },
   "outputs": [],
   "source": [
    "library(\"tidyverse\")\n",
    "library(\"DBI\")\n",
    "library(\"RSQLite\")"
   ]
  },
  {
   "cell_type": "markdown",
   "metadata": {},
   "source": [
    "# Joining Data"
   ]
  },
  {
   "cell_type": "markdown",
   "metadata": {},
   "source": [
    "We start by reading and cleaning the cellphone data as in the previous homework, but this time we also pivot the data after it is cleaned. When we pivot the data we convert the columns 1960-2019 into values in the column year and the corresponding number off cellphones to each iso-3 code and is placed in the column n_cellphones."
   ]
  },
  {
   "cell_type": "code",
   "execution_count": 376,
   "metadata": {
    "vscode": {
     "languageId": "r"
    }
   },
   "outputs": [
    {
     "name": "stderr",
     "output_type": "stream",
     "text": [
      "\u001b[1mRows: \u001b[22m\u001b[34m214\u001b[39m \u001b[1mColumns: \u001b[22m\u001b[34m57\u001b[39m\n",
      "\u001b[36m──\u001b[39m \u001b[1mColumn specification\u001b[22m \u001b[36m────────────────────────────────────────────────────────\u001b[39m\n",
      "\u001b[1mDelimiter:\u001b[22m \",\"\n",
      "\u001b[31mchr\u001b[39m (41): iso-3, 1980, 1981, 1982, 1983, 1984, 1985, 1986, 1987, 1988, 1989,...\n",
      "\u001b[32mdbl\u001b[39m  (8): 1960, 1965, 1970, 1975, 1976, 1977, 1978, 1979\n",
      "\u001b[33mlgl\u001b[39m  (8): 1966, 1967, 1968, 1969, 1971, 1972, 1973, 1974\n",
      "\n",
      "\u001b[36mℹ\u001b[39m Use `spec()` to retrieve the full column specification for this data.\n",
      "\u001b[36mℹ\u001b[39m Specify the column types or set `show_col_types = FALSE` to quiet this message.\n",
      "\u001b[1m\u001b[22m`mutate_if()` ignored the following grouping variables:\n",
      "\u001b[36m•\u001b[39m Column `iso-3`\n",
      "\u001b[1m\u001b[22m`mutate_if()` ignored the following grouping variables:\n",
      "\u001b[36m•\u001b[39m Column `iso-3`\n",
      "\u001b[1m\u001b[22m`mutate_if()` ignored the following grouping variables:\n",
      "\u001b[36m•\u001b[39m Column `iso-3`\n"
     ]
    }
   ],
   "source": [
    "cellphone_df<-read_csv(\"data/cell_phones_total.csv\",na=c(\" \",\"\"))\n",
    "k_to_expf<-function(x,na.rm=FALSE) parse_number(str_replace_all(x,c(k=\"e+03\",M=\"e+06\",B=\"e+09\")))\n",
    "lgl_to_num<-function(x ) as.numeric(x)\n",
    "rplc_na_0<-function(x) replace_na(x,0)\n",
    "rplc_na_nan<-function(x) replace_na(x,NaN)\n",
    "\n",
    "cellphone_df<-cellphone_df%>%\n",
    "group_by(`iso-3`)%>%\n",
    "mutate_if((is.character),k_to_expf)%>%\n",
    "mutate_if((is.logical),lgl_to_num)%>%\n",
    "mutate_at(vars(2:17),rplc_na_0)%>%\n",
    "mutate_if((is.numeric),rplc_na_nan)%>%\n",
    "pivot_longer(cols = !`iso-3`,names_to = \"year\",values_to = \"n_cellphones\")%>%fill(n_cellphones,.direction = \"updown\")\n"
   ]
  },
  {
   "cell_type": "markdown",
   "metadata": {},
   "source": [
    "After reading the file containing information about the number of cellphones we read data about the population in countries, this data is structured in the same way as the data about cellphones but with the population of the country each year instead of the number of cellphones.\n",
    "The first thing we do with the data is pivoting it by country code, then we fill the missing values using fill in the pipe."
   ]
  },
  {
   "cell_type": "code",
   "execution_count": 377,
   "metadata": {
    "vscode": {
     "languageId": "r"
    }
   },
   "outputs": [
    {
     "name": "stderr",
     "output_type": "stream",
     "text": [
      "\u001b[1m\u001b[22mNew names:\n",
      "\u001b[36m•\u001b[39m `` -> `...1`\n",
      "\u001b[1mRows: \u001b[22m\u001b[34m266\u001b[39m \u001b[1mColumns: \u001b[22m\u001b[34m63\u001b[39m\n",
      "\u001b[36m──\u001b[39m \u001b[1mColumn specification\u001b[22m \u001b[36m────────────────────────────────────────────────────────\u001b[39m\n",
      "\u001b[1mDelimiter:\u001b[22m \",\"\n",
      "\u001b[31mchr\u001b[39m  (1): iso-3\n",
      "\u001b[32mdbl\u001b[39m (62): ...1, 1960, 1961, 1962, 1963, 1964, 1965, 1966, 1967, 1968, 1969, ...\n",
      "\n",
      "\u001b[36mℹ\u001b[39m Use `spec()` to retrieve the full column specification for this data.\n",
      "\u001b[36mℹ\u001b[39m Specify the column types or set `show_col_types = FALSE` to quiet this message.\n"
     ]
    }
   ],
   "source": [
    "population_df<-read_csv(\"data/pop_data.csv\",na = c(\"\",\" \"))#\n",
    "\n",
    "population_df<-population_df%>%pivot_longer(cols = !`iso-3`,names_to = \"year\",values_to = \"population\")%>%\n",
    "fill(population,.direction = \"updown\")\n",
    "\n",
    "\n",
    "\n"
   ]
  },
  {
   "cell_type": "markdown",
   "metadata": {},
   "source": [
    "When we have read and pivoted the data in both files we can left-join them and then convert the values in the year column into numbers before sorting them in ascending order."
   ]
  },
  {
   "cell_type": "code",
   "execution_count": 378,
   "metadata": {
    "vscode": {
     "languageId": "r"
    }
   },
   "outputs": [
    {
     "name": "stderr",
     "output_type": "stream",
     "text": [
      "\u001b[1m\u001b[22mJoining with `by = join_by(`iso-3`, year)`\n"
     ]
    }
   ],
   "source": [
    "cell_pop_df<-cellphone_df%>%\n",
    "left_join(population_df)%>%\n",
    "mutate(year=as.integer(year))%>%\n",
    "arrange(year)\n",
    "\n"
   ]
  },
  {
   "cell_type": "markdown",
   "metadata": {},
   "source": [
    "Some of the data from the table is presented in a table below."
   ]
  },
  {
   "cell_type": "code",
   "execution_count": 379,
   "metadata": {
    "vscode": {
     "languageId": "r"
    }
   },
   "outputs": [
    {
     "data": {
      "text/html": [
       "<table class=\"dataframe\">\n",
       "<caption>A grouped_df: 6 × 4</caption>\n",
       "<thead>\n",
       "\t<tr><th scope=col>iso-3</th><th scope=col>year</th><th scope=col>n_cellphones</th><th scope=col>population</th></tr>\n",
       "\t<tr><th scope=col>&lt;chr&gt;</th><th scope=col>&lt;int&gt;</th><th scope=col>&lt;dbl&gt;</th><th scope=col>&lt;dbl&gt;</th></tr>\n",
       "</thead>\n",
       "<tbody>\n",
       "\t<tr><td>ABW</td><td>1960</td><td>0</td><td>  54608</td></tr>\n",
       "\t<tr><td>AFG</td><td>1960</td><td>0</td><td>8622466</td></tr>\n",
       "\t<tr><td>AGO</td><td>1960</td><td>0</td><td>5357195</td></tr>\n",
       "\t<tr><td>ALB</td><td>1960</td><td>0</td><td>1608800</td></tr>\n",
       "\t<tr><td>AND</td><td>1960</td><td>0</td><td>   9443</td></tr>\n",
       "\t<tr><td>ARE</td><td>1960</td><td>0</td><td> 133426</td></tr>\n",
       "</tbody>\n",
       "</table>\n"
      ],
      "text/latex": [
       "A grouped\\_df: 6 × 4\n",
       "\\begin{tabular}{llll}\n",
       " iso-3 & year & n\\_cellphones & population\\\\\n",
       " <chr> & <int> & <dbl> & <dbl>\\\\\n",
       "\\hline\n",
       "\t ABW & 1960 & 0 &   54608\\\\\n",
       "\t AFG & 1960 & 0 & 8622466\\\\\n",
       "\t AGO & 1960 & 0 & 5357195\\\\\n",
       "\t ALB & 1960 & 0 & 1608800\\\\\n",
       "\t AND & 1960 & 0 &    9443\\\\\n",
       "\t ARE & 1960 & 0 &  133426\\\\\n",
       "\\end{tabular}\n"
      ],
      "text/markdown": [
       "\n",
       "A grouped_df: 6 × 4\n",
       "\n",
       "| iso-3 &lt;chr&gt; | year &lt;int&gt; | n_cellphones &lt;dbl&gt; | population &lt;dbl&gt; |\n",
       "|---|---|---|---|\n",
       "| ABW | 1960 | 0 |   54608 |\n",
       "| AFG | 1960 | 0 | 8622466 |\n",
       "| AGO | 1960 | 0 | 5357195 |\n",
       "| ALB | 1960 | 0 | 1608800 |\n",
       "| AND | 1960 | 0 |    9443 |\n",
       "| ARE | 1960 | 0 |  133426 |\n",
       "\n"
      ],
      "text/plain": [
       "  iso-3 year n_cellphones population\n",
       "1 ABW   1960 0              54608   \n",
       "2 AFG   1960 0            8622466   \n",
       "3 AGO   1960 0            5357195   \n",
       "4 ALB   1960 0            1608800   \n",
       "5 AND   1960 0               9443   \n",
       "6 ARE   1960 0             133426   "
      ]
     },
     "metadata": {},
     "output_type": "display_data"
    }
   ],
   "source": [
    "head(cell_pop_df)"
   ]
  },
  {
   "cell_type": "markdown",
   "metadata": {},
   "source": [
    "As the iso-3 code for each country is not that descriptive we then read the file country_data.csv containing a bunch of information about countries including their names and iso-3 country codes, but in this file the iso-3 column is instead named alpha-3.\n",
    "\n",
    "We start by left-joining the new data with the previous data about population and number off cellphones and as the name and iso-3 code of the countries are all we are interested in, we select and rename these column before joining.\n",
    "\n",
    "Now that we have the names of the countries we can ungroup them by iso-3 and select all rows except the iso-3 code, then we add the column phones_per_capita containing the number of phones divided by the population."
   ]
  },
  {
   "cell_type": "code",
   "execution_count": 380,
   "metadata": {
    "vscode": {
     "languageId": "r"
    }
   },
   "outputs": [
    {
     "name": "stderr",
     "output_type": "stream",
     "text": [
      "\u001b[1mRows: \u001b[22m\u001b[34m249\u001b[39m \u001b[1mColumns: \u001b[22m\u001b[34m11\u001b[39m\n",
      "\u001b[36m──\u001b[39m \u001b[1mColumn specification\u001b[22m \u001b[36m────────────────────────────────────────────────────────\u001b[39m\n",
      "\u001b[1mDelimiter:\u001b[22m \",\"\n",
      "\u001b[31mchr\u001b[39m (7): name, alpha-2, alpha-3, iso_3166-2, region, sub-region, intermediat...\n",
      "\u001b[32mdbl\u001b[39m (4): country-code, region-code, sub-region-code, intermediate-region-code\n",
      "\n",
      "\u001b[36mℹ\u001b[39m Use `spec()` to retrieve the full column specification for this data.\n",
      "\u001b[36mℹ\u001b[39m Specify the column types or set `show_col_types = FALSE` to quiet this message.\n",
      "\u001b[1m\u001b[22mJoining with `by = join_by(`iso-3`)`\n"
     ]
    }
   ],
   "source": [
    "country_df<-read_csv(\"data/country_data.csv\")\n",
    "\n",
    "cell_pop_df<-cell_pop_df%>%\n",
    "left_join(country_df%>%\n",
    "          select(`alpha-3`,name)%>%\n",
    "          rename(`iso-3`=`alpha-3`) )%>%\n",
    "ungroup()%>%\n",
    "select(name,year,n_cellphones,population)%>%\n",
    "mutate(phones_per_capita=n_cellphones/population)%>%\n",
    "arrange(phones_per_capita)\n"
   ]
  },
  {
   "cell_type": "markdown",
   "metadata": {},
   "source": [
    "After this we create a new tibble containing only year, name and phones_per_capita before pivoting it so that the first column is the year and the rest are the countries in the data."
   ]
  },
  {
   "cell_type": "code",
   "execution_count": 381,
   "metadata": {
    "vscode": {
     "languageId": "r"
    }
   },
   "outputs": [],
   "source": [
    "cntry_p_cap<-cell_pop_df%>%\n",
    "select(year,phones_per_capita,name)%>%\n",
    "pivot_wider(names_from=name,values_from = phones_per_capita)\n"
   ]
  },
  {
   "cell_type": "markdown",
   "metadata": {},
   "source": [
    "Then we find the countries with the five highest phones per capita in 2019, and plot the phones per capita of these countries in the last 10 years. As the data ends in 2019 this means the years 2009-2019 are plotted."
   ]
  },
  {
   "cell_type": "code",
   "execution_count": 382,
   "metadata": {
    "vscode": {
     "languageId": "r"
    }
   },
   "outputs": [
    {
     "data": {
      "image/png": "[encoded data removed]",
      "text/plain": [
       "plot without title"
      ]
     },
     "metadata": {
      "image/png": {
       "height": 420,
       "width": 420
      }
     },
     "output_type": "display_data"
    }
   ],
   "source": [
    "candidate_countries<-cntry_p_cap%>%pivot_longer(cols=!year,values_to=\"per_cap\",names_to = \"Country\")%>%\n",
    "filter(year==2019)%>%filter(min_rank(desc(per_cap)) <= 5)\n",
    "\n",
    "plot_df<-cntry_p_cap%>%pivot_longer(cols=!year,values_to=\"per_cap\",names_to = \"Country\")%>%\n",
    "filter(year>=2009,Country %in% (candidate_countries$Country))\n",
    "ggplot(data=plot_df)+geom_line(mapping=aes(x=year,y=per_cap,color=Country),show.legend = TRUE)+ scale_x_continuous(breaks=seq(2009, 2019, 1))\n"
   ]
  },
  {
   "cell_type": "markdown",
   "metadata": {},
   "source": [
    "We can quite clearly see that Macao seems to have the highest growth in phones per capita in the last 10 years."
   ]
  },
  {
   "cell_type": "markdown",
   "metadata": {},
   "source": [
    "# SQL\n",
    "We start by creating a SQL table by reading the user_actions.db file."
   ]
  },
  {
   "cell_type": "code",
   "execution_count": 383,
   "metadata": {
    "vscode": {
     "languageId": "r"
    }
   },
   "outputs": [],
   "source": [
    "table<-dbConnect(RSQLite::SQLite(), \"data/user_actions.db\")\n"
   ]
  },
  {
   "cell_type": "markdown",
   "metadata": {},
   "source": [
    "In order to find users that have performed the signup action, we create a query that from all actions selects the unique usernames of each user that has performed the action \"signup\" then the query is sorted by user_id just to make it more readable."
   ]
  },
  {
   "cell_type": "code",
   "execution_count": 384,
   "metadata": {
    "vscode": {
     "languageId": "r"
    }
   },
   "outputs": [
    {
     "data": {
      "text/html": [
       "<table class=\"dataframe\">\n",
       "<caption>A data.frame: 35 × 1</caption>\n",
       "<thead>\n",
       "\t<tr><th scope=col>username</th></tr>\n",
       "\t<tr><th scope=col>&lt;chr&gt;</th></tr>\n",
       "</thead>\n",
       "<tbody>\n",
       "\t<tr><td>user1 </td></tr>\n",
       "\t<tr><td>user2 </td></tr>\n",
       "\t<tr><td>user3 </td></tr>\n",
       "\t<tr><td>user4 </td></tr>\n",
       "\t<tr><td>user5 </td></tr>\n",
       "\t<tr><td>user6 </td></tr>\n",
       "\t<tr><td>user7 </td></tr>\n",
       "\t<tr><td>user8 </td></tr>\n",
       "\t<tr><td>user9 </td></tr>\n",
       "\t<tr><td>user10</td></tr>\n",
       "\t<tr><td>user11</td></tr>\n",
       "\t<tr><td>user12</td></tr>\n",
       "\t<tr><td>user13</td></tr>\n",
       "\t<tr><td>user14</td></tr>\n",
       "\t<tr><td>user15</td></tr>\n",
       "\t<tr><td>user16</td></tr>\n",
       "\t<tr><td>user17</td></tr>\n",
       "\t<tr><td>user18</td></tr>\n",
       "\t<tr><td>user19</td></tr>\n",
       "\t<tr><td>user20</td></tr>\n",
       "\t<tr><td>user21</td></tr>\n",
       "\t<tr><td>user22</td></tr>\n",
       "\t<tr><td>user23</td></tr>\n",
       "\t<tr><td>user24</td></tr>\n",
       "\t<tr><td>user25</td></tr>\n",
       "\t<tr><td>user26</td></tr>\n",
       "\t<tr><td>user27</td></tr>\n",
       "\t<tr><td>user28</td></tr>\n",
       "\t<tr><td>user29</td></tr>\n",
       "\t<tr><td>user30</td></tr>\n",
       "\t<tr><td>user31</td></tr>\n",
       "\t<tr><td>user32</td></tr>\n",
       "\t<tr><td>user33</td></tr>\n",
       "\t<tr><td>user34</td></tr>\n",
       "\t<tr><td>user35</td></tr>\n",
       "</tbody>\n",
       "</table>\n"
      ],
      "text/latex": [
       "A data.frame: 35 × 1\n",
       "\\begin{tabular}{l}\n",
       " username\\\\\n",
       " <chr>\\\\\n",
       "\\hline\n",
       "\t user1 \\\\\n",
       "\t user2 \\\\\n",
       "\t user3 \\\\\n",
       "\t user4 \\\\\n",
       "\t user5 \\\\\n",
       "\t user6 \\\\\n",
       "\t user7 \\\\\n",
       "\t user8 \\\\\n",
       "\t user9 \\\\\n",
       "\t user10\\\\\n",
       "\t user11\\\\\n",
       "\t user12\\\\\n",
       "\t user13\\\\\n",
       "\t user14\\\\\n",
       "\t user15\\\\\n",
       "\t user16\\\\\n",
       "\t user17\\\\\n",
       "\t user18\\\\\n",
       "\t user19\\\\\n",
       "\t user20\\\\\n",
       "\t user21\\\\\n",
       "\t user22\\\\\n",
       "\t user23\\\\\n",
       "\t user24\\\\\n",
       "\t user25\\\\\n",
       "\t user26\\\\\n",
       "\t user27\\\\\n",
       "\t user28\\\\\n",
       "\t user29\\\\\n",
       "\t user30\\\\\n",
       "\t user31\\\\\n",
       "\t user32\\\\\n",
       "\t user33\\\\\n",
       "\t user34\\\\\n",
       "\t user35\\\\\n",
       "\\end{tabular}\n"
      ],
      "text/markdown": [
       "\n",
       "A data.frame: 35 × 1\n",
       "\n",
       "| username &lt;chr&gt; |\n",
       "|---|\n",
       "| user1  |\n",
       "| user2  |\n",
       "| user3  |\n",
       "| user4  |\n",
       "| user5  |\n",
       "| user6  |\n",
       "| user7  |\n",
       "| user8  |\n",
       "| user9  |\n",
       "| user10 |\n",
       "| user11 |\n",
       "| user12 |\n",
       "| user13 |\n",
       "| user14 |\n",
       "| user15 |\n",
       "| user16 |\n",
       "| user17 |\n",
       "| user18 |\n",
       "| user19 |\n",
       "| user20 |\n",
       "| user21 |\n",
       "| user22 |\n",
       "| user23 |\n",
       "| user24 |\n",
       "| user25 |\n",
       "| user26 |\n",
       "| user27 |\n",
       "| user28 |\n",
       "| user29 |\n",
       "| user30 |\n",
       "| user31 |\n",
       "| user32 |\n",
       "| user33 |\n",
       "| user34 |\n",
       "| user35 |\n",
       "\n"
      ],
      "text/plain": [
       "   username\n",
       "1  user1   \n",
       "2  user2   \n",
       "3  user3   \n",
       "4  user4   \n",
       "5  user5   \n",
       "6  user6   \n",
       "7  user7   \n",
       "8  user8   \n",
       "9  user9   \n",
       "10 user10  \n",
       "11 user11  \n",
       "12 user12  \n",
       "13 user13  \n",
       "14 user14  \n",
       "15 user15  \n",
       "16 user16  \n",
       "17 user17  \n",
       "18 user18  \n",
       "19 user19  \n",
       "20 user20  \n",
       "21 user21  \n",
       "22 user22  \n",
       "23 user23  \n",
       "24 user24  \n",
       "25 user25  \n",
       "26 user26  \n",
       "27 user27  \n",
       "28 user28  \n",
       "29 user29  \n",
       "30 user30  \n",
       "31 user31  \n",
       "32 user32  \n",
       "33 user33  \n",
       "34 user34  \n",
       "35 user35  "
      ]
     },
     "metadata": {},
     "output_type": "display_data"
    }
   ],
   "source": [
    "\n",
    "dbGetQuery(table, 'SELECT DISTINCT(username) FROM user_actions WHERE action == \"signup\" ORDER BY user_id;')\n"
   ]
  },
  {
   "cell_type": "markdown",
   "metadata": {},
   "source": [
    "Its not surprising that every user is returned as all of them mustve signed up at some point.\n",
    "\n",
    "To get the total number of log entries for each user, a query is mad where we select user_id, username and the count of all actions grouped by user_id and username, then once again the results are ordered by user_id so its easier to read.\n"
   ]
  },
  {
   "cell_type": "code",
   "execution_count": 385,
   "metadata": {
    "vscode": {
     "languageId": "r"
    }
   },
   "outputs": [
    {
     "data": {
      "text/html": [
       "<table class=\"dataframe\">\n",
       "<caption>A data.frame: 35 × 3</caption>\n",
       "<thead>\n",
       "\t<tr><th scope=col>user_id</th><th scope=col>username</th><th scope=col>count</th></tr>\n",
       "\t<tr><th scope=col>&lt;int&gt;</th><th scope=col>&lt;chr&gt;</th><th scope=col>&lt;int&gt;</th></tr>\n",
       "</thead>\n",
       "<tbody>\n",
       "\t<tr><td> 1</td><td>user1 </td><td>104</td></tr>\n",
       "\t<tr><td> 2</td><td>user2 </td><td>149</td></tr>\n",
       "\t<tr><td> 3</td><td>user3 </td><td>108</td></tr>\n",
       "\t<tr><td> 4</td><td>user4 </td><td>436</td></tr>\n",
       "\t<tr><td> 5</td><td>user5 </td><td>192</td></tr>\n",
       "\t<tr><td> 6</td><td>user6 </td><td>457</td></tr>\n",
       "\t<tr><td> 7</td><td>user7 </td><td>362</td></tr>\n",
       "\t<tr><td> 8</td><td>user8 </td><td>329</td></tr>\n",
       "\t<tr><td> 9</td><td>user9 </td><td>118</td></tr>\n",
       "\t<tr><td>10</td><td>user10</td><td>170</td></tr>\n",
       "\t<tr><td>11</td><td>user11</td><td>328</td></tr>\n",
       "\t<tr><td>12</td><td>user12</td><td>209</td></tr>\n",
       "\t<tr><td>13</td><td>user13</td><td>470</td></tr>\n",
       "\t<tr><td>14</td><td>user14</td><td>320</td></tr>\n",
       "\t<tr><td>15</td><td>user15</td><td> 35</td></tr>\n",
       "\t<tr><td>16</td><td>user16</td><td>379</td></tr>\n",
       "\t<tr><td>17</td><td>user17</td><td>367</td></tr>\n",
       "\t<tr><td>18</td><td>user18</td><td>122</td></tr>\n",
       "\t<tr><td>19</td><td>user19</td><td> 58</td></tr>\n",
       "\t<tr><td>20</td><td>user20</td><td>362</td></tr>\n",
       "\t<tr><td>21</td><td>user21</td><td>323</td></tr>\n",
       "\t<tr><td>22</td><td>user22</td><td>275</td></tr>\n",
       "\t<tr><td>23</td><td>user23</td><td>309</td></tr>\n",
       "\t<tr><td>24</td><td>user24</td><td>162</td></tr>\n",
       "\t<tr><td>25</td><td>user25</td><td>136</td></tr>\n",
       "\t<tr><td>26</td><td>user26</td><td>217</td></tr>\n",
       "\t<tr><td>27</td><td>user27</td><td>211</td></tr>\n",
       "\t<tr><td>28</td><td>user28</td><td> 91</td></tr>\n",
       "\t<tr><td>29</td><td>user29</td><td> 49</td></tr>\n",
       "\t<tr><td>30</td><td>user30</td><td>165</td></tr>\n",
       "\t<tr><td>31</td><td>user31</td><td>389</td></tr>\n",
       "\t<tr><td>32</td><td>user32</td><td> 32</td></tr>\n",
       "\t<tr><td>33</td><td>user33</td><td> 32</td></tr>\n",
       "\t<tr><td>34</td><td>user34</td><td>180</td></tr>\n",
       "\t<tr><td>35</td><td>user35</td><td>394</td></tr>\n",
       "</tbody>\n",
       "</table>\n"
      ],
      "text/latex": [
       "A data.frame: 35 × 3\n",
       "\\begin{tabular}{lll}\n",
       " user\\_id & username & count\\\\\n",
       " <int> & <chr> & <int>\\\\\n",
       "\\hline\n",
       "\t  1 & user1  & 104\\\\\n",
       "\t  2 & user2  & 149\\\\\n",
       "\t  3 & user3  & 108\\\\\n",
       "\t  4 & user4  & 436\\\\\n",
       "\t  5 & user5  & 192\\\\\n",
       "\t  6 & user6  & 457\\\\\n",
       "\t  7 & user7  & 362\\\\\n",
       "\t  8 & user8  & 329\\\\\n",
       "\t  9 & user9  & 118\\\\\n",
       "\t 10 & user10 & 170\\\\\n",
       "\t 11 & user11 & 328\\\\\n",
       "\t 12 & user12 & 209\\\\\n",
       "\t 13 & user13 & 470\\\\\n",
       "\t 14 & user14 & 320\\\\\n",
       "\t 15 & user15 &  35\\\\\n",
       "\t 16 & user16 & 379\\\\\n",
       "\t 17 & user17 & 367\\\\\n",
       "\t 18 & user18 & 122\\\\\n",
       "\t 19 & user19 &  58\\\\\n",
       "\t 20 & user20 & 362\\\\\n",
       "\t 21 & user21 & 323\\\\\n",
       "\t 22 & user22 & 275\\\\\n",
       "\t 23 & user23 & 309\\\\\n",
       "\t 24 & user24 & 162\\\\\n",
       "\t 25 & user25 & 136\\\\\n",
       "\t 26 & user26 & 217\\\\\n",
       "\t 27 & user27 & 211\\\\\n",
       "\t 28 & user28 &  91\\\\\n",
       "\t 29 & user29 &  49\\\\\n",
       "\t 30 & user30 & 165\\\\\n",
       "\t 31 & user31 & 389\\\\\n",
       "\t 32 & user32 &  32\\\\\n",
       "\t 33 & user33 &  32\\\\\n",
       "\t 34 & user34 & 180\\\\\n",
       "\t 35 & user35 & 394\\\\\n",
       "\\end{tabular}\n"
      ],
      "text/markdown": [
       "\n",
       "A data.frame: 35 × 3\n",
       "\n",
       "| user_id &lt;int&gt; | username &lt;chr&gt; | count &lt;int&gt; |\n",
       "|---|---|---|\n",
       "|  1 | user1  | 104 |\n",
       "|  2 | user2  | 149 |\n",
       "|  3 | user3  | 108 |\n",
       "|  4 | user4  | 436 |\n",
       "|  5 | user5  | 192 |\n",
       "|  6 | user6  | 457 |\n",
       "|  7 | user7  | 362 |\n",
       "|  8 | user8  | 329 |\n",
       "|  9 | user9  | 118 |\n",
       "| 10 | user10 | 170 |\n",
       "| 11 | user11 | 328 |\n",
       "| 12 | user12 | 209 |\n",
       "| 13 | user13 | 470 |\n",
       "| 14 | user14 | 320 |\n",
       "| 15 | user15 |  35 |\n",
       "| 16 | user16 | 379 |\n",
       "| 17 | user17 | 367 |\n",
       "| 18 | user18 | 122 |\n",
       "| 19 | user19 |  58 |\n",
       "| 20 | user20 | 362 |\n",
       "| 21 | user21 | 323 |\n",
       "| 22 | user22 | 275 |\n",
       "| 23 | user23 | 309 |\n",
       "| 24 | user24 | 162 |\n",
       "| 25 | user25 | 136 |\n",
       "| 26 | user26 | 217 |\n",
       "| 27 | user27 | 211 |\n",
       "| 28 | user28 |  91 |\n",
       "| 29 | user29 |  49 |\n",
       "| 30 | user30 | 165 |\n",
       "| 31 | user31 | 389 |\n",
       "| 32 | user32 |  32 |\n",
       "| 33 | user33 |  32 |\n",
       "| 34 | user34 | 180 |\n",
       "| 35 | user35 | 394 |\n",
       "\n"
      ],
      "text/plain": [
       "   user_id username count\n",
       "1   1      user1    104  \n",
       "2   2      user2    149  \n",
       "3   3      user3    108  \n",
       "4   4      user4    436  \n",
       "5   5      user5    192  \n",
       "6   6      user6    457  \n",
       "7   7      user7    362  \n",
       "8   8      user8    329  \n",
       "9   9      user9    118  \n",
       "10 10      user10   170  \n",
       "11 11      user11   328  \n",
       "12 12      user12   209  \n",
       "13 13      user13   470  \n",
       "14 14      user14   320  \n",
       "15 15      user15    35  \n",
       "16 16      user16   379  \n",
       "17 17      user17   367  \n",
       "18 18      user18   122  \n",
       "19 19      user19    58  \n",
       "20 20      user20   362  \n",
       "21 21      user21   323  \n",
       "22 22      user22   275  \n",
       "23 23      user23   309  \n",
       "24 24      user24   162  \n",
       "25 25      user25   136  \n",
       "26 26      user26   217  \n",
       "27 27      user27   211  \n",
       "28 28      user28    91  \n",
       "29 29      user29    49  \n",
       "30 30      user30   165  \n",
       "31 31      user31   389  \n",
       "32 32      user32    32  \n",
       "33 33      user33    32  \n",
       "34 34      user34   180  \n",
       "35 35      user35   394  "
      ]
     },
     "metadata": {},
     "output_type": "display_data"
    }
   ],
   "source": [
    "dbGetQuery(table, 'SELECT user_id,username,COUNT(*) as count \n",
    "FROM user_actions \n",
    "GROUP BY user_id,username \n",
    "ORDER BY user_id;')"
   ]
  },
  {
   "cell_type": "markdown",
   "metadata": {},
   "source": [
    "From this query we can se that the number of logs vary greatly with each user.\n",
    "\n",
    "To find all users that have both signed up and logged in on the same day we make two queries act1 and act2. Such that both are either the action \"login\" or \"signup\", different from eachother and that these actions occured on the same date."
   ]
  },
  {
   "cell_type": "code",
   "execution_count": 386,
   "metadata": {
    "vscode": {
     "languageId": "r"
    }
   },
   "outputs": [
    {
     "data": {
      "text/html": [
       "<table class=\"dataframe\">\n",
       "<caption>A data.frame: 35 × 2</caption>\n",
       "<thead>\n",
       "\t<tr><th scope=col>user_id</th><th scope=col>username</th></tr>\n",
       "\t<tr><th scope=col>&lt;int&gt;</th><th scope=col>&lt;chr&gt;</th></tr>\n",
       "</thead>\n",
       "<tbody>\n",
       "\t<tr><td> 1</td><td>user1 </td></tr>\n",
       "\t<tr><td> 2</td><td>user2 </td></tr>\n",
       "\t<tr><td> 3</td><td>user3 </td></tr>\n",
       "\t<tr><td> 4</td><td>user4 </td></tr>\n",
       "\t<tr><td> 5</td><td>user5 </td></tr>\n",
       "\t<tr><td> 6</td><td>user6 </td></tr>\n",
       "\t<tr><td> 7</td><td>user7 </td></tr>\n",
       "\t<tr><td> 8</td><td>user8 </td></tr>\n",
       "\t<tr><td> 9</td><td>user9 </td></tr>\n",
       "\t<tr><td>10</td><td>user10</td></tr>\n",
       "\t<tr><td>11</td><td>user11</td></tr>\n",
       "\t<tr><td>12</td><td>user12</td></tr>\n",
       "\t<tr><td>13</td><td>user13</td></tr>\n",
       "\t<tr><td>14</td><td>user14</td></tr>\n",
       "\t<tr><td>15</td><td>user15</td></tr>\n",
       "\t<tr><td>16</td><td>user16</td></tr>\n",
       "\t<tr><td>17</td><td>user17</td></tr>\n",
       "\t<tr><td>18</td><td>user18</td></tr>\n",
       "\t<tr><td>19</td><td>user19</td></tr>\n",
       "\t<tr><td>20</td><td>user20</td></tr>\n",
       "\t<tr><td>21</td><td>user21</td></tr>\n",
       "\t<tr><td>22</td><td>user22</td></tr>\n",
       "\t<tr><td>23</td><td>user23</td></tr>\n",
       "\t<tr><td>24</td><td>user24</td></tr>\n",
       "\t<tr><td>25</td><td>user25</td></tr>\n",
       "\t<tr><td>26</td><td>user26</td></tr>\n",
       "\t<tr><td>27</td><td>user27</td></tr>\n",
       "\t<tr><td>28</td><td>user28</td></tr>\n",
       "\t<tr><td>29</td><td>user29</td></tr>\n",
       "\t<tr><td>30</td><td>user30</td></tr>\n",
       "\t<tr><td>31</td><td>user31</td></tr>\n",
       "\t<tr><td>32</td><td>user32</td></tr>\n",
       "\t<tr><td>33</td><td>user33</td></tr>\n",
       "\t<tr><td>34</td><td>user34</td></tr>\n",
       "\t<tr><td>35</td><td>user35</td></tr>\n",
       "</tbody>\n",
       "</table>\n"
      ],
      "text/latex": [
       "A data.frame: 35 × 2\n",
       "\\begin{tabular}{ll}\n",
       " user\\_id & username\\\\\n",
       " <int> & <chr>\\\\\n",
       "\\hline\n",
       "\t  1 & user1 \\\\\n",
       "\t  2 & user2 \\\\\n",
       "\t  3 & user3 \\\\\n",
       "\t  4 & user4 \\\\\n",
       "\t  5 & user5 \\\\\n",
       "\t  6 & user6 \\\\\n",
       "\t  7 & user7 \\\\\n",
       "\t  8 & user8 \\\\\n",
       "\t  9 & user9 \\\\\n",
       "\t 10 & user10\\\\\n",
       "\t 11 & user11\\\\\n",
       "\t 12 & user12\\\\\n",
       "\t 13 & user13\\\\\n",
       "\t 14 & user14\\\\\n",
       "\t 15 & user15\\\\\n",
       "\t 16 & user16\\\\\n",
       "\t 17 & user17\\\\\n",
       "\t 18 & user18\\\\\n",
       "\t 19 & user19\\\\\n",
       "\t 20 & user20\\\\\n",
       "\t 21 & user21\\\\\n",
       "\t 22 & user22\\\\\n",
       "\t 23 & user23\\\\\n",
       "\t 24 & user24\\\\\n",
       "\t 25 & user25\\\\\n",
       "\t 26 & user26\\\\\n",
       "\t 27 & user27\\\\\n",
       "\t 28 & user28\\\\\n",
       "\t 29 & user29\\\\\n",
       "\t 30 & user30\\\\\n",
       "\t 31 & user31\\\\\n",
       "\t 32 & user32\\\\\n",
       "\t 33 & user33\\\\\n",
       "\t 34 & user34\\\\\n",
       "\t 35 & user35\\\\\n",
       "\\end{tabular}\n"
      ],
      "text/markdown": [
       "\n",
       "A data.frame: 35 × 2\n",
       "\n",
       "| user_id &lt;int&gt; | username &lt;chr&gt; |\n",
       "|---|---|\n",
       "|  1 | user1  |\n",
       "|  2 | user2  |\n",
       "|  3 | user3  |\n",
       "|  4 | user4  |\n",
       "|  5 | user5  |\n",
       "|  6 | user6  |\n",
       "|  7 | user7  |\n",
       "|  8 | user8  |\n",
       "|  9 | user9  |\n",
       "| 10 | user10 |\n",
       "| 11 | user11 |\n",
       "| 12 | user12 |\n",
       "| 13 | user13 |\n",
       "| 14 | user14 |\n",
       "| 15 | user15 |\n",
       "| 16 | user16 |\n",
       "| 17 | user17 |\n",
       "| 18 | user18 |\n",
       "| 19 | user19 |\n",
       "| 20 | user20 |\n",
       "| 21 | user21 |\n",
       "| 22 | user22 |\n",
       "| 23 | user23 |\n",
       "| 24 | user24 |\n",
       "| 25 | user25 |\n",
       "| 26 | user26 |\n",
       "| 27 | user27 |\n",
       "| 28 | user28 |\n",
       "| 29 | user29 |\n",
       "| 30 | user30 |\n",
       "| 31 | user31 |\n",
       "| 32 | user32 |\n",
       "| 33 | user33 |\n",
       "| 34 | user34 |\n",
       "| 35 | user35 |\n",
       "\n"
      ],
      "text/plain": [
       "   user_id username\n",
       "1   1      user1   \n",
       "2   2      user2   \n",
       "3   3      user3   \n",
       "4   4      user4   \n",
       "5   5      user5   \n",
       "6   6      user6   \n",
       "7   7      user7   \n",
       "8   8      user8   \n",
       "9   9      user9   \n",
       "10 10      user10  \n",
       "11 11      user11  \n",
       "12 12      user12  \n",
       "13 13      user13  \n",
       "14 14      user14  \n",
       "15 15      user15  \n",
       "16 16      user16  \n",
       "17 17      user17  \n",
       "18 18      user18  \n",
       "19 19      user19  \n",
       "20 20      user20  \n",
       "21 21      user21  \n",
       "22 22      user22  \n",
       "23 23      user23  \n",
       "24 24      user24  \n",
       "25 25      user25  \n",
       "26 26      user26  \n",
       "27 27      user27  \n",
       "28 28      user28  \n",
       "29 29      user29  \n",
       "30 30      user30  \n",
       "31 31      user31  \n",
       "32 32      user32  \n",
       "33 33      user33  \n",
       "34 34      user34  \n",
       "35 35      user35  "
      ]
     },
     "metadata": {},
     "output_type": "display_data"
    }
   ],
   "source": [
    "dbGetQuery(table, '\n",
    "SELECT DISTINCT(user_id), username\n",
    "FROM \n",
    "    user_actions act1\n",
    "WHERE EXISTS\n",
    "(\n",
    "    SELECT *\n",
    "    FROM \n",
    "        user_actions act2\n",
    "    WHERE \n",
    "        act2.action==\"login\" OR act2.action==\"signup\" \n",
    "        AND \n",
    "        strftime(\"%Y-%m-%d\",act1.timestamp)=strftime(\"%Y-%m-%d\",act2.timestamp) \n",
    "        AND\n",
    "        act1.action!=act2.action\n",
    ") \n",
    "AND \n",
    "act1.action=\"login\" OR act1.action =\"signup\"\n",
    "ORDER BY user_id;')\n"
   ]
  },
  {
   "cell_type": "markdown",
   "metadata": {},
   "source": [
    "Once again its not that surprising that users that have signed up also log in during the same day as there would be no point in signing up if the user did not intend to use the service.\n",
    "\n",
    "Finally we close the connection to the database before we continue."
   ]
  },
  {
   "cell_type": "code",
   "execution_count": 387,
   "metadata": {
    "vscode": {
     "languageId": "r"
    }
   },
   "outputs": [],
   "source": [
    "dbDisconnect(table, \"data/user_actions.db\")"
   ]
  },
  {
   "cell_type": "markdown",
   "metadata": {},
   "source": [
    "# Regex\n"
   ]
  },
  {
   "cell_type": "markdown",
   "metadata": {},
   "source": [
    "In order to use regular expression to find different hashtags we start by reading each line from the file comments.txt.\n",
    "\n",
    "We look closer at the first comment before we try to extract the hashtags from it."
   ]
  },
  {
   "cell_type": "code",
   "execution_count": 388,
   "metadata": {
    "vscode": {
     "languageId": "r"
    }
   },
   "outputs": [
    {
     "name": "stdout",
     "output_type": "stream",
     "text": [
      "1. Great post! #programming #tips"
     ]
    }
   ],
   "source": [
    "comments<-readLines(\"data/comments.txt\")\n",
    "cat(comments[1])"
   ]
  },
  {
   "cell_type": "markdown",
   "metadata": {},
   "source": [
    "So the hashtags extracted from this comment should be #programing and #tips.\n",
    "\n",
    "We can the select all strings matching the pattern (#[\\w]+) which matches text that starts with # followed by one or more word characters"
   ]
  },
  {
   "cell_type": "code",
   "execution_count": 389,
   "metadata": {
    "vscode": {
     "languageId": "r"
    }
   },
   "outputs": [
    {
     "name": "stdout",
     "output_type": "stream",
     "text": [
      "#programming #tips"
     ]
    }
   ],
   "source": [
    "mod_comment<-str_extract_all(comments,pattern=\"(#[\\\\w]+)\")\n",
    "cat(mod_comment[[1]][1],mod_comment[[1]][2])\n"
   ]
  },
  {
   "cell_type": "markdown",
   "metadata": {},
   "source": [
    "As we can see the regular expression matches are the hashtags that we excpected.\n",
    "\n",
    "In order to return all comments containing both #programming and #tips we start by matching zero or more of all characters that are not \" . \n",
    "Then we match one or more of either #programming or #python followed by zero or more of any character then we once again match one ore more of either #programming or #python followed by zero or more of any character except \".\n",
    "\n",
    "We then check if this matches comment two"
   ]
  },
  {
   "cell_type": "code",
   "execution_count": 390,
   "metadata": {
    "vscode": {
     "languageId": "r"
    }
   },
   "outputs": [
    {
     "data": {
      "text/html": [],
      "text/latex": [],
      "text/markdown": [],
      "text/plain": [
       "character(0)"
      ]
     },
     "metadata": {},
     "output_type": "display_data"
    }
   ],
   "source": [
    "prog_pyt<-str_extract_all(comments,pattern='[^\\\"]*(#(python)|#(programming))+.*(#(python)|#(programming))+[^\\\"]*')\n",
    "prog_pyt[[2]]\n"
   ]
  },
  {
   "cell_type": "markdown",
   "metadata": {},
   "source": [
    "Comment two does not match, we therefore check what the commment was"
   ]
  },
  {
   "cell_type": "code",
   "execution_count": 391,
   "metadata": {
    "vscode": {
     "languageId": "r"
    }
   },
   "outputs": [
    {
     "name": "stdout",
     "output_type": "stream",
     "text": [
      "2. \"Enjoyed the article. #coding #python\""
     ]
    }
   ],
   "source": [
    "cat(comments[[2]])"
   ]
  },
  {
   "cell_type": "markdown",
   "metadata": {},
   "source": [
    "As the comment only contained #python it is correct as it should not have matched. \n",
    "But if we look at comment 6 we get"
   ]
  },
  {
   "cell_type": "code",
   "execution_count": 392,
   "metadata": {
    "vscode": {
     "languageId": "r"
    }
   },
   "outputs": [
    {
     "name": "stdout",
     "output_type": "stream",
     "text": [
      "I learned a lot. #programming #python #tips"
     ]
    }
   ],
   "source": [
    "cat(prog_pyt[[6]])"
   ]
  },
  {
   "cell_type": "markdown",
   "metadata": {},
   "source": [
    "Which is the correct output as the comment contained both #programming and #python."
   ]
  }
 ],
 "metadata": {
  "kernelspec": {
   "display_name": "R",
   "language": "R",
   "name": "ir"
  },
  "language_info": {
   "codemirror_mode": "r",
   "file_extension": ".r",
   "mimetype": "text/x-r-source",
   "name": "R",
   "pygments_lexer": "r",
   "version": "4.4.1"
  }
 },
 "nbformat": 4,
 "nbformat_minor": 2
}
