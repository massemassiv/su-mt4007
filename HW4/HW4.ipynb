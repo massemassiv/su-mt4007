{
 "cells": [
  {
   "cell_type": "code",
   "execution_count": 2,
   "metadata": {
    "vscode": {
     "languageId": "r"
    }
   },
   "outputs": [
    {
     "name": "stderr",
     "output_type": "stream",
     "text": [
      "Warning message:\n",
      "\"package 'lubridate' was built under R version 4.4.2\"\n",
      "── \u001b[1mAttaching core tidyverse packages\u001b[22m ──────────────────────── tidyverse 2.0.0 ──\n",
      "\u001b[32m✔\u001b[39m \u001b[34mdplyr    \u001b[39m 1.1.4     \u001b[32m✔\u001b[39m \u001b[34mreadr    \u001b[39m 2.1.5\n",
      "\u001b[32m✔\u001b[39m \u001b[34mforcats  \u001b[39m 1.0.0     \u001b[32m✔\u001b[39m \u001b[34mstringr  \u001b[39m 1.5.1\n",
      "\u001b[32m✔\u001b[39m \u001b[34mggplot2  \u001b[39m 3.5.1     \u001b[32m✔\u001b[39m \u001b[34mtibble   \u001b[39m 3.2.1\n",
      "\u001b[32m✔\u001b[39m \u001b[34mlubridate\u001b[39m 1.9.3     \u001b[32m✔\u001b[39m \u001b[34mtidyr    \u001b[39m 1.3.1\n",
      "\u001b[32m✔\u001b[39m \u001b[34mpurrr    \u001b[39m 1.0.2     \n",
      "── \u001b[1mConflicts\u001b[22m ────────────────────────────────────────── tidyverse_conflicts() ──\n",
      "\u001b[31m✖\u001b[39m \u001b[34mdplyr\u001b[39m::\u001b[32mfilter()\u001b[39m masks \u001b[34mstats\u001b[39m::filter()\n",
      "\u001b[31m✖\u001b[39m \u001b[34mdplyr\u001b[39m::\u001b[32mlag()\u001b[39m    masks \u001b[34mstats\u001b[39m::lag()\n",
      "\u001b[36mℹ\u001b[39m Use the conflicted package (\u001b[3m\u001b[34m<http://conflicted.r-lib.org/>\u001b[39m\u001b[23m) to force all conflicts to become errors\n",
      "Warning message:\n",
      "\"package 'RSQLite' was built under R version 4.4.2\"\n"
     ]
    }
   ],
   "source": [
    "library(\"tidyverse\")\n",
    "library(\"DBI\")\n",
    "library(\"RSQLite\")"
   ]
  },
  {
   "cell_type": "markdown",
   "metadata": {},
   "source": [
    "# Joining Data"
   ]
  },
  {
   "cell_type": "markdown",
   "metadata": {},
   "source": [
    "We start by reading and cleaning the cellphone data as in the previous homework, but this time we also pivot the data after it is cleaned. When we pivot the data we convert the columns 1960-2019 into values in the column year and the corresponding number off cellphones to each iso-3 code and is placed in the column n_cellphones."
   ]
  },
  {
   "cell_type": "code",
   "execution_count": 3,
   "metadata": {
    "vscode": {
     "languageId": "r"
    }
   },
   "outputs": [
    {
     "name": "stderr",
     "output_type": "stream",
     "text": [
      "\u001b[1m\u001b[22m`mutate_if()` ignored the following grouping variables:\n",
      "\u001b[36m•\u001b[39m Column `iso-3`\n",
      "\u001b[1m\u001b[22m`mutate_if()` ignored the following grouping variables:\n",
      "\u001b[36m•\u001b[39m Column `iso-3`\n",
      "\u001b[1m\u001b[22m`mutate_if()` ignored the following grouping variables:\n",
      "\u001b[36m•\u001b[39m Column `iso-3`\n"
     ]
    }
   ],
   "source": [
    "cellphone_df<-read_csv(\"data/cell_phones_total.csv\",na=c(\" \",\"\"),show_col_types = FALSE)\n",
    "k_to_expf<-function(x,na.rm=FALSE) parse_number(str_replace_all(x,c(k=\"e+03\",M=\"e+06\",B=\"e+09\")))\n",
    "lgl_to_num<-function(x ) as.numeric(x)\n",
    "rplc_na_0<-function(x) replace_na(x,0)\n",
    "rplc_na_nan<-function(x) replace_na(x,NaN)\n",
    "\n",
    "cellphone_df<-cellphone_df%>%\n",
    "group_by(`iso-3`)%>%\n",
    "mutate_if((is.character),k_to_expf)%>%\n",
    "mutate_if((is.logical),lgl_to_num)%>%\n",
    "mutate_at(vars(2:17),rplc_na_0)%>%\n",
    "mutate_if((is.numeric),rplc_na_nan)%>%\n",
    "pivot_longer(cols = !`iso-3`,names_to = \"year\",values_to = \"n_cellphones\")%>%fill(n_cellphones,.direction = \"updown\")\n"
   ]
  },
  {
   "cell_type": "markdown",
   "metadata": {},
   "source": [
    "After reading the file containing information about the number of cellphones we read data about the population in countries, this data is structured in the same way as the data about cellphones but with the population of the country each year instead of the number of cellphones.\n",
    "The first thing we do with the data is pivoting it by country code, then we fill the missing values using fill in the pipe."
   ]
  },
  {
   "cell_type": "code",
   "execution_count": 4,
   "metadata": {
    "vscode": {
     "languageId": "r"
    }
   },
   "outputs": [
    {
     "name": "stderr",
     "output_type": "stream",
     "text": [
      "\u001b[1m\u001b[22mNew names:\n",
      "\u001b[36m•\u001b[39m `` -> `...1`\n"
     ]
    }
   ],
   "source": [
    "population_df<-read_csv(\"data/pop_data.csv\",na = c(\"\",\" \"),show_col_types = FALSE)\n",
    "\n",
    "population_df<-population_df%>%pivot_longer(cols = !`iso-3`,names_to = \"year\",values_to = \"population\")%>%\n",
    "fill(population,.direction = \"updown\")\n",
    "\n",
    "\n",
    "\n"
   ]
  },
  {
   "cell_type": "markdown",
   "metadata": {},
   "source": [
    "When we have read and pivoted the data in both files we can left-join them and then convert the values in the year column into numbers before sorting them in ascending order."
   ]
  },
  {
   "cell_type": "code",
   "execution_count": 5,
   "metadata": {
    "vscode": {
     "languageId": "r"
    }
   },
   "outputs": [
    {
     "name": "stderr",
     "output_type": "stream",
     "text": [
      "\u001b[1m\u001b[22mJoining with `by = join_by(`iso-3`, year)`\n"
     ]
    }
   ],
   "source": [
    "cell_pop_df<-cellphone_df%>%\n",
    "left_join(population_df)%>%\n",
    "mutate(year=as.integer(year))%>%\n",
    "arrange(year)\n",
    "\n"
   ]
  },
  {
   "cell_type": "markdown",
   "metadata": {},
   "source": [
    "Some of the data from the table is presented in a table below."
   ]
  },
  {
   "cell_type": "code",
   "execution_count": 6,
   "metadata": {
    "vscode": {
     "languageId": "r"
    }
   },
   "outputs": [
    {
     "data": {
      "text/html": [
       "<table class=\"dataframe\">\n",
       "<caption>A grouped_df: 6 × 4</caption>\n",
       "<thead>\n",
       "\t<tr><th scope=col>iso-3</th><th scope=col>year</th><th scope=col>n_cellphones</th><th scope=col>population</th></tr>\n",
       "\t<tr><th scope=col>&lt;chr&gt;</th><th scope=col>&lt;int&gt;</th><th scope=col>&lt;dbl&gt;</th><th scope=col>&lt;dbl&gt;</th></tr>\n",
       "</thead>\n",
       "<tbody>\n",
       "\t<tr><td>ABW</td><td>1960</td><td>0</td><td>  54608</td></tr>\n",
       "\t<tr><td>AFG</td><td>1960</td><td>0</td><td>8622466</td></tr>\n",
       "\t<tr><td>AGO</td><td>1960</td><td>0</td><td>5357195</td></tr>\n",
       "\t<tr><td>ALB</td><td>1960</td><td>0</td><td>1608800</td></tr>\n",
       "\t<tr><td>AND</td><td>1960</td><td>0</td><td>   9443</td></tr>\n",
       "\t<tr><td>ARE</td><td>1960</td><td>0</td><td> 133426</td></tr>\n",
       "</tbody>\n",
       "</table>\n"
      ],
      "text/latex": [
       "A grouped\\_df: 6 × 4\n",
       "\\begin{tabular}{llll}\n",
       " iso-3 & year & n\\_cellphones & population\\\\\n",
       " <chr> & <int> & <dbl> & <dbl>\\\\\n",
       "\\hline\n",
       "\t ABW & 1960 & 0 &   54608\\\\\n",
       "\t AFG & 1960 & 0 & 8622466\\\\\n",
       "\t AGO & 1960 & 0 & 5357195\\\\\n",
       "\t ALB & 1960 & 0 & 1608800\\\\\n",
       "\t AND & 1960 & 0 &    9443\\\\\n",
       "\t ARE & 1960 & 0 &  133426\\\\\n",
       "\\end{tabular}\n"
      ],
      "text/markdown": [
       "\n",
       "A grouped_df: 6 × 4\n",
       "\n",
       "| iso-3 &lt;chr&gt; | year &lt;int&gt; | n_cellphones &lt;dbl&gt; | population &lt;dbl&gt; |\n",
       "|---|---|---|---|\n",
       "| ABW | 1960 | 0 |   54608 |\n",
       "| AFG | 1960 | 0 | 8622466 |\n",
       "| AGO | 1960 | 0 | 5357195 |\n",
       "| ALB | 1960 | 0 | 1608800 |\n",
       "| AND | 1960 | 0 |    9443 |\n",
       "| ARE | 1960 | 0 |  133426 |\n",
       "\n"
      ],
      "text/plain": [
       "  iso-3 year n_cellphones population\n",
       "1 ABW   1960 0              54608   \n",
       "2 AFG   1960 0            8622466   \n",
       "3 AGO   1960 0            5357195   \n",
       "4 ALB   1960 0            1608800   \n",
       "5 AND   1960 0               9443   \n",
       "6 ARE   1960 0             133426   "
      ]
     },
     "metadata": {},
     "output_type": "display_data"
    }
   ],
   "source": [
    "head(cell_pop_df)"
   ]
  },
  {
   "cell_type": "markdown",
   "metadata": {},
   "source": [
    "As the iso-3 code for each country is not that descriptive we then read the file country_data.csv containing a bunch of information about countries including their names and iso-3 country codes, but in this file the iso-3 column is instead named alpha-3.\n",
    "\n",
    "We start by left-joining the new data with the previous data about population and number off cellphones and as the name and iso-3 code of the countries are all we are interested in, we select and rename these column before joining.\n",
    "\n",
    "Now that we have the names of the countries we can ungroup them by iso-3 and select all rows except the iso-3 code, then we add the column phones_per_capita containing the number of phones divided by the population."
   ]
  },
  {
   "cell_type": "code",
   "execution_count": 7,
   "metadata": {
    "vscode": {
     "languageId": "r"
    }
   },
   "outputs": [
    {
     "name": "stderr",
     "output_type": "stream",
     "text": [
      "\u001b[1m\u001b[22mJoining with `by = join_by(`iso-3`)`\n"
     ]
    }
   ],
   "source": [
    "country_df<-read_csv(\"data/country_data.csv\",show_col_types = FALSE)\n",
    "\n",
    "cell_pop_df<-cell_pop_df%>%\n",
    "left_join(country_df%>%\n",
    "          select(`alpha-3`,name)%>%\n",
    "          rename(`iso-3`=`alpha-3`) )%>%\n",
    "ungroup()%>%\n",
    "select(name,year,n_cellphones,population)%>%\n",
    "mutate(phones_per_capita=n_cellphones/population)%>%\n",
    "arrange(phones_per_capita)\n"
   ]
  },
  {
   "cell_type": "markdown",
   "metadata": {},
   "source": [
    "After this we create a new tibble containing only year, name and phones_per_capita before pivoting it so that the first column is the year and the rest are the countries in the data."
   ]
  },
  {
   "cell_type": "code",
   "execution_count": null,
   "metadata": {
    "vscode": {
     "languageId": "r"
    }
   },
   "outputs": [
    {
     "data": {
      "text/html": [
       "<table class=\"dataframe\">\n",
       "<caption>A tibble: 56 × 215</caption>\n",
       "<thead>\n",
       "\t<tr><th scope=col>year</th><th scope=col>Aruba</th><th scope=col>Afghanistan</th><th scope=col>Angola</th><th scope=col>Albania</th><th scope=col>Andorra</th><th scope=col>United Arab Emirates</th><th scope=col>Argentina</th><th scope=col>Armenia</th><th scope=col>American Samoa</th><th scope=col>⋯</th><th scope=col>Virgin Islands (British)</th><th scope=col>Virgin Islands (U.S.)</th><th scope=col>Viet Nam</th><th scope=col>Vanuatu</th><th scope=col>Samoa</th><th scope=col>NA</th><th scope=col>Yemen</th><th scope=col>South Africa</th><th scope=col>Zambia</th><th scope=col>Zimbabwe</th></tr>\n",
       "\t<tr><th scope=col>&lt;int&gt;</th><th scope=col>&lt;dbl&gt;</th><th scope=col>&lt;dbl&gt;</th><th scope=col>&lt;dbl&gt;</th><th scope=col>&lt;dbl&gt;</th><th scope=col>&lt;dbl&gt;</th><th scope=col>&lt;dbl&gt;</th><th scope=col>&lt;dbl&gt;</th><th scope=col>&lt;dbl&gt;</th><th scope=col>&lt;dbl&gt;</th><th scope=col>⋯</th><th scope=col>&lt;dbl&gt;</th><th scope=col>&lt;dbl&gt;</th><th scope=col>&lt;dbl&gt;</th><th scope=col>&lt;dbl&gt;</th><th scope=col>&lt;dbl&gt;</th><th scope=col>&lt;dbl&gt;</th><th scope=col>&lt;dbl&gt;</th><th scope=col>&lt;dbl&gt;</th><th scope=col>&lt;dbl&gt;</th><th scope=col>&lt;dbl&gt;</th></tr>\n",
       "</thead>\n",
       "<tbody>\n",
       "\t<tr><td>1960</td><td>0.0000000000</td><td>0.000000000</td><td>0.000000e+00</td><td>0.0000000000</td><td>0.00000000</td><td>0.000000000</td><td>0.000000e+00</td><td>0.000000e+00</td><td>0.00000000</td><td>⋯</td><td>0.00000000</td><td>0.0000000</td><td>0.000000e+00</td><td>0.0000000000</td><td>0.000000000</td><td>0.0000000</td><td>0.0000000000</td><td>0.0000000000</td><td>0.0000000000</td><td>0.0000000000</td></tr>\n",
       "\t<tr><td>1965</td><td>0.0000000000</td><td>0.000000000</td><td>0.000000e+00</td><td>0.0000000000</td><td>0.00000000</td><td>0.000000000</td><td>0.000000e+00</td><td>0.000000e+00</td><td>0.00000000</td><td>⋯</td><td>0.00000000</td><td>0.0000000</td><td>0.000000e+00</td><td>0.0000000000</td><td>0.000000000</td><td>0.0000000</td><td>0.0000000000</td><td>0.0000000000</td><td>0.0000000000</td><td>0.0000000000</td></tr>\n",
       "\t<tr><td>1966</td><td>0.0000000000</td><td>0.000000000</td><td>0.000000e+00</td><td>0.0000000000</td><td>0.00000000</td><td>0.000000000</td><td>0.000000e+00</td><td>0.000000e+00</td><td>0.00000000</td><td>⋯</td><td>0.00000000</td><td>0.0000000</td><td>0.000000e+00</td><td>0.0000000000</td><td>0.000000000</td><td>0.0000000</td><td>0.0000000000</td><td>0.0000000000</td><td>0.0000000000</td><td>0.0000000000</td></tr>\n",
       "\t<tr><td>1967</td><td>0.0000000000</td><td>0.000000000</td><td>0.000000e+00</td><td>0.0000000000</td><td>0.00000000</td><td>0.000000000</td><td>0.000000e+00</td><td>0.000000e+00</td><td>0.00000000</td><td>⋯</td><td>0.00000000</td><td>0.0000000</td><td>0.000000e+00</td><td>0.0000000000</td><td>0.000000000</td><td>0.0000000</td><td>0.0000000000</td><td>0.0000000000</td><td>0.0000000000</td><td>0.0000000000</td></tr>\n",
       "\t<tr><td>1968</td><td>0.0000000000</td><td>0.000000000</td><td>0.000000e+00</td><td>0.0000000000</td><td>0.00000000</td><td>0.000000000</td><td>0.000000e+00</td><td>0.000000e+00</td><td>0.00000000</td><td>⋯</td><td>0.00000000</td><td>0.0000000</td><td>0.000000e+00</td><td>0.0000000000</td><td>0.000000000</td><td>0.0000000</td><td>0.0000000000</td><td>0.0000000000</td><td>0.0000000000</td><td>0.0000000000</td></tr>\n",
       "\t<tr><td>1969</td><td>0.0000000000</td><td>0.000000000</td><td>0.000000e+00</td><td>0.0000000000</td><td>0.00000000</td><td>0.000000000</td><td>0.000000e+00</td><td>0.000000e+00</td><td>0.00000000</td><td>⋯</td><td>0.00000000</td><td>0.0000000</td><td>0.000000e+00</td><td>0.0000000000</td><td>0.000000000</td><td>0.0000000</td><td>0.0000000000</td><td>0.0000000000</td><td>0.0000000000</td><td>0.0000000000</td></tr>\n",
       "\t<tr><td>1970</td><td>0.0000000000</td><td>0.000000000</td><td>0.000000e+00</td><td>0.0000000000</td><td>0.00000000</td><td>0.000000000</td><td>0.000000e+00</td><td>0.000000e+00</td><td>0.00000000</td><td>⋯</td><td>0.00000000</td><td>0.0000000</td><td>0.000000e+00</td><td>0.0000000000</td><td>0.000000000</td><td>0.0000000</td><td>0.0000000000</td><td>0.0000000000</td><td>0.0000000000</td><td>0.0000000000</td></tr>\n",
       "\t<tr><td>1971</td><td>0.0000000000</td><td>0.000000000</td><td>0.000000e+00</td><td>0.0000000000</td><td>0.00000000</td><td>0.000000000</td><td>0.000000e+00</td><td>0.000000e+00</td><td>0.00000000</td><td>⋯</td><td>0.00000000</td><td>0.0000000</td><td>0.000000e+00</td><td>0.0000000000</td><td>0.000000000</td><td>0.0000000</td><td>0.0000000000</td><td>0.0000000000</td><td>0.0000000000</td><td>0.0000000000</td></tr>\n",
       "\t<tr><td>1972</td><td>0.0000000000</td><td>0.000000000</td><td>0.000000e+00</td><td>0.0000000000</td><td>0.00000000</td><td>0.000000000</td><td>0.000000e+00</td><td>0.000000e+00</td><td>0.00000000</td><td>⋯</td><td>0.00000000</td><td>0.0000000</td><td>0.000000e+00</td><td>0.0000000000</td><td>0.000000000</td><td>0.0000000</td><td>0.0000000000</td><td>0.0000000000</td><td>0.0000000000</td><td>0.0000000000</td></tr>\n",
       "\t<tr><td>1973</td><td>0.0000000000</td><td>0.000000000</td><td>0.000000e+00</td><td>0.0000000000</td><td>0.00000000</td><td>0.000000000</td><td>0.000000e+00</td><td>0.000000e+00</td><td>0.00000000</td><td>⋯</td><td>0.00000000</td><td>0.0000000</td><td>0.000000e+00</td><td>0.0000000000</td><td>0.000000000</td><td>0.0000000</td><td>0.0000000000</td><td>0.0000000000</td><td>0.0000000000</td><td>0.0000000000</td></tr>\n",
       "\t<tr><td>1974</td><td>0.0000000000</td><td>0.000000000</td><td>0.000000e+00</td><td>0.0000000000</td><td>0.00000000</td><td>0.000000000</td><td>0.000000e+00</td><td>0.000000e+00</td><td>0.00000000</td><td>⋯</td><td>0.00000000</td><td>0.0000000</td><td>0.000000e+00</td><td>0.0000000000</td><td>0.000000000</td><td>0.0000000</td><td>0.0000000000</td><td>0.0000000000</td><td>0.0000000000</td><td>0.0000000000</td></tr>\n",
       "\t<tr><td>1975</td><td>0.0000000000</td><td>0.000000000</td><td>0.000000e+00</td><td>0.0000000000</td><td>0.00000000</td><td>0.000000000</td><td>0.000000e+00</td><td>0.000000e+00</td><td>0.00000000</td><td>⋯</td><td>0.00000000</td><td>0.0000000</td><td>0.000000e+00</td><td>0.0000000000</td><td>0.000000000</td><td>0.0000000</td><td>0.0000000000</td><td>0.0000000000</td><td>0.0000000000</td><td>0.0000000000</td></tr>\n",
       "\t<tr><td>1976</td><td>0.0000000000</td><td>0.000000000</td><td>0.000000e+00</td><td>0.0000000000</td><td>0.00000000</td><td>0.000000000</td><td>0.000000e+00</td><td>0.000000e+00</td><td>0.00000000</td><td>⋯</td><td>0.00000000</td><td>0.0000000</td><td>0.000000e+00</td><td>0.0000000000</td><td>0.000000000</td><td>0.0000000</td><td>0.0000000000</td><td>0.0000000000</td><td>0.0000000000</td><td>0.0000000000</td></tr>\n",
       "\t<tr><td>1977</td><td>0.0000000000</td><td>0.000000000</td><td>0.000000e+00</td><td>0.0000000000</td><td>0.00000000</td><td>0.000000000</td><td>0.000000e+00</td><td>0.000000e+00</td><td>0.00000000</td><td>⋯</td><td>0.00000000</td><td>0.0000000</td><td>0.000000e+00</td><td>0.0000000000</td><td>0.000000000</td><td>0.0000000</td><td>0.0000000000</td><td>0.0000000000</td><td>0.0000000000</td><td>0.0000000000</td></tr>\n",
       "\t<tr><td>1978</td><td>0.0000000000</td><td>0.000000000</td><td>0.000000e+00</td><td>0.0000000000</td><td>0.00000000</td><td>0.000000000</td><td>0.000000e+00</td><td>0.000000e+00</td><td>0.00000000</td><td>⋯</td><td>0.00000000</td><td>0.0000000</td><td>0.000000e+00</td><td>0.0000000000</td><td>0.000000000</td><td>0.0000000</td><td>0.0000000000</td><td>0.0000000000</td><td>0.0000000000</td><td>0.0000000000</td></tr>\n",
       "\t<tr><td>1979</td><td>0.0000000000</td><td>0.000000000</td><td>0.000000e+00</td><td>0.0000000000</td><td>0.00000000</td><td>0.000000000</td><td>0.000000e+00</td><td>0.000000e+00</td><td>0.00000000</td><td>⋯</td><td>0.00000000</td><td>0.0000000</td><td>0.000000e+00</td><td>0.0000000000</td><td>0.000000000</td><td>0.0000000</td><td>0.0000000000</td><td>0.0000000000</td><td>0.0000000000</td><td>0.0000000000</td></tr>\n",
       "\t<tr><td>1980</td><td>0.0000000000</td><td>0.000000000</td><td>0.000000e+00</td><td>0.0000000000</td><td>0.00000000</td><td>0.002297722</td><td>0.000000e+00</td><td>0.000000e+00</td><td>0.00000000</td><td>⋯</td><td>0.00000000</td><td>0.0000000</td><td>0.000000e+00</td><td>0.0000000000</td><td>0.000000000</td><td>0.3694938</td><td>0.0000000000</td><td>0.0000000000</td><td>0.0000000000</td><td>0.0000000000</td></tr>\n",
       "\t<tr><td>1981</td><td>0.0000000000</td><td>0.000000000</td><td>0.000000e+00</td><td>0.0000000000</td><td>0.00000000</td><td>0.002117835</td><td>0.000000e+00</td><td>0.000000e+00</td><td>0.00000000</td><td>⋯</td><td>0.00000000</td><td>0.0000000</td><td>0.000000e+00</td><td>0.0000000000</td><td>0.000000000</td><td>0.3621134</td><td>0.0000000000</td><td>0.0000000000</td><td>0.0000000000</td><td>0.0000000000</td></tr>\n",
       "\t<tr><td>1982</td><td>0.0000000000</td><td>0.000000000</td><td>0.000000e+00</td><td>0.0000000000</td><td>0.00000000</td><td>0.001995109</td><td>0.000000e+00</td><td>0.000000e+00</td><td>0.00000000</td><td>⋯</td><td>0.00000000</td><td>0.0000000</td><td>0.000000e+00</td><td>0.0000000000</td><td>0.000000000</td><td>0.3552465</td><td>0.0000000000</td><td>0.0000000000</td><td>0.0000000000</td><td>0.0000000000</td></tr>\n",
       "\t<tr><td>1983</td><td>0.0000000000</td><td>0.000000000</td><td>0.000000e+00</td><td>0.0000000000</td><td>0.00000000</td><td>0.002876600</td><td>0.000000e+00</td><td>0.000000e+00</td><td>0.00000000</td><td>⋯</td><td>0.00000000</td><td>0.0000000</td><td>0.000000e+00</td><td>0.0000000000</td><td>0.000000000</td><td>0.3482032</td><td>0.0000000000</td><td>0.0000000000</td><td>0.0000000000</td><td>0.0000000000</td></tr>\n",
       "\t<tr><td>1984</td><td>0.0000000000</td><td>0.000000000</td><td>0.000000e+00</td><td>0.0000000000</td><td>0.00000000</td><td>0.003775803</td><td>0.000000e+00</td><td>0.000000e+00</td><td>0.00000000</td><td>⋯</td><td>0.00000000</td><td>0.0000000</td><td>0.000000e+00</td><td>0.0000000000</td><td>0.000000000</td><td>0.3412265</td><td>0.0000000000</td><td>0.0000000000</td><td>0.0000000000</td><td>0.0000000000</td></tr>\n",
       "\t<tr><td>1985</td><td>0.0000000000</td><td>0.000000000</td><td>0.000000e+00</td><td>0.0000000000</td><td>0.00000000</td><td>0.005741061</td><td>0.000000e+00</td><td>0.000000e+00</td><td>0.00000000</td><td>⋯</td><td>0.00000000</td><td>0.0000000</td><td>0.000000e+00</td><td>0.0000000000</td><td>0.000000000</td><td>0.3341260</td><td>0.0000000000</td><td>0.0000000000</td><td>0.0000000000</td><td>0.0000000000</td></tr>\n",
       "\t<tr><td>1986</td><td>0.0000000000</td><td>0.000000000</td><td>0.000000e+00</td><td>0.0000000000</td><td>0.00000000</td><td>0.007625807</td><td>0.000000e+00</td><td>0.000000e+00</td><td>0.00000000</td><td>⋯</td><td>0.00000000</td><td>0.0000000</td><td>0.000000e+00</td><td>0.0000000000</td><td>0.000000000</td><td>0.3273151</td><td>0.0000000000</td><td>0.0000000000</td><td>0.0000000000</td><td>0.0000000000</td></tr>\n",
       "\t<tr><td>1987</td><td>0.0000000000</td><td>0.000000000</td><td>0.000000e+00</td><td>0.0000000000</td><td>0.00000000</td><td>0.008693395</td><td>0.000000e+00</td><td>0.000000e+00</td><td>0.00000000</td><td>⋯</td><td>0.00000000</td><td>0.0000000</td><td>0.000000e+00</td><td>0.0000000000</td><td>0.000000000</td><td>0.3205933</td><td>0.0000000000</td><td>0.0000000000</td><td>0.0000000000</td><td>0.0000000000</td></tr>\n",
       "\t<tr><td>1988</td><td>0.0000000000</td><td>0.000000000</td><td>0.000000e+00</td><td>0.0000000000</td><td>0.00000000</td><td>0.008196327</td><td>0.000000e+00</td><td>0.000000e+00</td><td>0.00000000</td><td>⋯</td><td>0.00000000</td><td>0.0000000</td><td>0.000000e+00</td><td>0.0000000000</td><td>0.000000000</td><td>0.3137912</td><td>0.0000000000</td><td>0.0000000000</td><td>0.0000000000</td><td>0.0000000000</td></tr>\n",
       "\t<tr><td>1989</td><td>0.0000000000</td><td>0.000000000</td><td>0.000000e+00</td><td>0.0000000000</td><td>0.00000000</td><td>0.013896330</td><td>7.150459e-05</td><td>0.000000e+00</td><td>0.00000000</td><td>⋯</td><td>0.00000000</td><td>0.0000000</td><td>0.000000e+00</td><td>0.0000000000</td><td>0.000000000</td><td>0.3076081</td><td>0.0000000000</td><td>0.0001029257</td><td>0.0000000000</td><td>0.0000000000</td></tr>\n",
       "\t<tr><td>1990</td><td>0.0000000000</td><td>0.000000000</td><td>0.000000e+00</td><td>0.0000000000</td><td>0.00000000</td><td>0.017682805</td><td>3.676735e-04</td><td>0.000000e+00</td><td>0.00000000</td><td>⋯</td><td>0.00000000</td><td>0.0000000</td><td>0.000000e+00</td><td>0.0000000000</td><td>0.000000000</td><td>0.3018260</td><td>0.0000000000</td><td>0.0001424360</td><td>0.0000000000</td><td>0.0000000000</td></tr>\n",
       "\t<tr><td>1991</td><td>0.0000000000</td><td>0.000000000</td><td>0.000000e+00</td><td>0.0000000000</td><td>0.00000000</td><td>0.021410259</td><td>7.551555e-04</td><td>0.000000e+00</td><td>0.00000000</td><td>⋯</td><td>0.07458048</td><td>0.1526616</td><td>0.000000e+00</td><td>0.0000000000</td><td>0.000000000</td><td>0.2961012</td><td>0.0000000000</td><td>0.0001735476</td><td>0.0000000000</td><td>0.0000000000</td></tr>\n",
       "\t<tr><td>1992</td><td>0.0002849328</td><td>0.000000000</td><td>0.000000e+00</td><td>0.0000000000</td><td>0.01344203</td><td>0.023107118</td><td>1.388215e-03</td><td>0.000000e+00</td><td>0.01397819</td><td>⋯</td><td>0.07283321</td><td>0.1513546</td><td>1.146317e-05</td><td>0.0000000000</td><td>0.000000000</td><td>0.2908903</td><td>0.0001073870</td><td>0.0002993241</td><td>0.0000000000</td><td>0.0000000000</td></tr>\n",
       "\t<tr><td>1993</td><td>0.0237700387</td><td>0.000000000</td><td>8.436702e-05</td><td>0.0000000000</td><td>0.01318548</td><td>0.031754828</td><td>3.291481e-03</td><td>0.000000e+00</td><td>0.01758706</td><td>⋯</td><td>0.07119549</td><td>0.1501248</td><td>5.704137e-05</td><td>0.0000000000</td><td>0.000000000</td><td>0.2860051</td><td>0.0003449415</td><td>0.0009406134</td><td>0.0000000000</td><td>0.0000000000</td></tr>\n",
       "\t<tr><td>1994</td><td>0.0230223531</td><td>0.000000000</td><td>1.351951e-04</td><td>0.0000000000</td><td>0.01284467</td><td>0.039286843</td><td>6.987797e-03</td><td>0.000000e+00</td><td>0.02294982</td><td>⋯</td><td>0.06954506</td><td>0.1490896</td><td>1.724112e-04</td><td>0.0003842459</td><td>0.000000000</td><td>0.2814221</td><td>0.0005265807</td><td>0.0078580046</td><td>0.0000000000</td><td>0.0000000000</td></tr>\n",
       "\t<tr><td>1995</td><td>0.0223231668</td><td>0.000000000</td><td>1.430394e-04</td><td>0.0000000000</td><td>0.04497203</td><td>0.052999440</td><td>1.158927e-02</td><td>0.000000e+00</td><td>0.02340780</td><td>⋯</td><td>0.06789634</td><td>0.1483982</td><td>3.186047e-04</td><td>0.0007092115</td><td>0.000000000</td><td>0.2769837</td><td>0.0005123161</td><td>0.0121629377</td><td>0.0001784864</td><td>0.0000000000</td></tr>\n",
       "\t<tr><td>1996</td><td>0.0377752874</td><td>0.000000000</td><td>2.294319e-04</td><td>0.0007260025</td><td>0.08558467</td><td>0.075406134</td><td>1.884747e-02</td><td>9.093946e-05</td><td>0.02385321</td><td>⋯</td><td>0.06622517</td><td>0.1480179</td><td>9.193231e-04</td><td>0.0008814405</td><td>0.000000000</td><td>0.2729480</td><td>0.0005302653</td><td>0.0213382399</td><td>0.0003055487</td><td>0.0000000000</td></tr>\n",
       "\t<tr><td>1997</td><td>0.0415353417</td><td>0.000000000</td><td>4.740724e-04</td><td>0.0010481911</td><td>0.13326737</td><td>0.112522436</td><td>5.612022e-02</td><td>1.528389e-03</td><td>0.02518982</td><td>⋯</td><td>0.43031574</td><td>0.1476600</td><td>2.103641e-03</td><td>0.0011572586</td><td>0.004290283</td><td>0.2694151</td><td>0.0007130883</td><td>0.0406315126</td><td>0.0004981849</td><td>0.0005042948</td></tr>\n",
       "\t<tr><td>1998</td><td>0.0637780807</td><td>0.000000000</td><td>6.390373e-04</td><td>0.0017899780</td><td>0.21630411</td><td>0.168770305</td><td>7.368933e-02</td><td>2.416256e-03</td><td>0.02650036</td><td>⋯</td><td>0.41930919</td><td>0.2303362</td><td>2.891282e-03</td><td>0.0012016080</td><td>0.008204673</td><td>0.2858596</td><td>0.0009143502</td><td>0.0728427966</td><td>0.0008813083</td><td>0.0016452547</td></tr>\n",
       "\t<tr><td>1999</td><td>0.1381422174</td><td>0.000000000</td><td>1.512216e-03</td><td>0.0035383678</td><td>0.31376133</td><td>0.268598250</td><td>1.050391e-01</td><td>2.545204e-03</td><td>0.03125326</td><td>⋯</td><td>0.40845502</td><td>0.2762456</td><td>4.211269e-03</td><td>0.0016005805</td><td>0.013336187</td><td>0.3189557</td><td>0.0015291573</td><td>0.1119386543</td><td>0.0029310157</td><td>0.0148509097</td></tr>\n",
       "\t<tr><td>2000</td><td>0.1683482789</td><td>0.000000000</td><td>1.573741e-03</td><td>0.0096470507</td><td>0.35553807</td><td>0.436596828</td><td>1.750705e-01</td><td>5.523078e-03</td><td>0.03417482</td><td>⋯</td><td>0.39793076</td><td>0.3221590</td><td>9.987197e-03</td><td>0.0019003093</td><td>0.013586366</td><td>0.3305882</td><td>0.0017177796</td><td>0.1781546282</td><td>0.0099988515</td><td>0.0224763230</td></tr>\n",
       "\t<tr><td>2001</td><td>0.5844019804</td><td>0.000000000</td><td>4.426976e-03</td><td>0.1284241120</td><td>0.43350044</td><td>0.552950352</td><td>1.798269e-01</td><td>8.138818e-03</td><td>0.03703450</td><td>⋯</td><td>0.38727792</td><td>0.3777096</td><td>1.566067e-02</td><td>0.0017763432</td><td>0.013474910</td><td>0.3303640</td><td>0.0077311010</td><td>0.2286696041</td><td>0.0118720984</td><td>0.0263622349</td></tr>\n",
       "\t<tr><td>2002</td><td>0.6733419771</td><td>0.001190462</td><td>7.992629e-03</td><td>0.2789240284</td><td>0.46295643</td><td>0.668748134</td><td>1.734194e-01</td><td>2.296269e-02</td><td>0.03506540</td><td>⋯</td><td>0.37579857</td><td>0.4156337</td><td>2.356083e-02</td><td>0.0242424242</td><td>0.014467127</td><td>0.3301396</td><td>0.0247702861</td><td>0.2874436595</td><td>0.0132276467</td><td>0.0282861969</td></tr>\n",
       "\t<tr><td>2003</td><td>0.7551159103</td><td>0.008831921</td><td>1.931105e-02</td><td>0.3618878174</td><td>0.70223389</td><td>0.778823756</td><td>2.048165e-01</td><td>3.696376e-02</td><td>0.03624377</td><td>⋯</td><td>0.94167956</td><td>0.4543569</td><td>3.362961e-02</td><td>0.0376342530</td><td>0.056017926</td><td>0.3299156</td><td>0.0334343811</td><td>0.3513217848</td><td>0.0222366304</td><td>0.0301428606</td></tr>\n",
       "\t<tr><td>2004</td><td>1.0519563823</td><td>0.025473866</td><td>3.942225e-02</td><td>0.4162621051</td><td>0.75910208</td><td>0.921534585</td><td>3.491187e-01</td><td>6.621555e-02</td><td>0.03904488</td><td>⋯</td><td>0.91129210</td><td>0.5918905</td><td>6.025909e-02</td><td>0.0494299084</td><td>0.085073349</td><td>0.3296919</td><td>0.0713823865</td><td>0.4283707386</td><td>0.0414728585</td><td>0.0350303568</td></tr>\n",
       "\t<tr><td>2005</td><td>1.0901432004</td><td>0.049157782</td><td>8.277227e-02</td><td>0.5080546587</td><td>0.80926014</td><td>1.058165711</td><td>5.682036e-01</td><td>1.043565e-01</td><td>0.03929856</td><td>⋯</td><td>0.88096353</td><td>0.7404129</td><td>1.153447e-01</td><td>0.0583553889</td><td>0.127235906</td><td>0.3294680</td><td>0.1069384730</td><td>0.6936348213</td><td>0.0821453246</td><td>0.0529254047</td></tr>\n",
       "\t<tr><td>2006</td><td>1.1400958099</td><td>0.099045142</td><td>1.512721e-01</td><td>0.6382522981</td><td>0.86012391</td><td>1.126771143</td><td>7.979360e-01</td><td>4.163244e-01</td><td>0.03958689</td><td>⋯</td><td>0.85104633</td><td>0.7409868</td><td>2.251292e-01</td><td>0.0672878079</td><td>0.240258952</td><td>0.3268324</td><td>0.1356623679</td><td>0.8021537971</td><td>0.1386618811</td><td>0.0688537114</td></tr>\n",
       "\t<tr><td>2007</td><td>1.1778441320</td><td>0.180285903</td><td>2.372107e-01</td><td>0.7811403100</td><td>0.81235288</td><td>1.316277017</td><td>1.013138e+00</td><td>6.257504e-01</td><td>0.03990565</td><td>⋯</td><td>0.82172204</td><td>0.7412057</td><td>5.308966e-01</td><td>0.1138627953</td><td>0.451495711</td><td>0.3242176</td><td>0.1921247576</td><td>0.8460660947</td><td>0.2128676391</td><td>0.0987906736</td></tr>\n",
       "\t<tr><td>2008</td><td>1.2347442753</td><td>0.298934443</td><td>3.121035e-01</td><td>0.6310830811</td><td>0.84412596</td><td>1.339307752</td><td>1.154598e+00</td><td>4.826674e-01</td><td>0.04025693</td><td>⋯</td><td>0.88071989</td><td>0.7407954</td><td>8.750282e-01</td><td>0.1538777185</td><td>0.469270597</td><td>0.3216238</td><td>0.2764798703</td><td>0.8899293459</td><td>0.2754228090</td><td>0.1314704685</td></tr>\n",
       "\t<tr><td>2009</td><td>1.2901665121</td><td>0.383417283</td><td>3.603216e-01</td><td>0.8403019758</td><td>0.87336836</td><td>1.338730963</td><td>1.290423e+00</td><td>7.387926e-01</td><td>0.04063866</td><td>⋯</td><td>1.73790859</td><td>0.7407476</td><td>1.135484e+00</td><td>0.5507136331</td><td>0.465896385</td><td>0.3190510</td><td>0.3458236427</td><td>0.9067675128</td><td>0.3311286373</td><td>0.3146734849</td></tr>\n",
       "\t<tr><td>2010</td><td>1.3155140969</td><td>0.361834646</td><td>4.023252e-01</td><td>0.9234399615</td><td>0.91584055</td><td>1.285108971</td><td>1.399906e+00</td><td>1.313515e+00</td><td>0.04102171</td><td>⋯</td><td>1.72376252</td><td>0.7410689</td><td>1.281303e+00</td><td>0.6925969534</td><td>0.462316101</td><td>0.3164985</td><td>0.4485945774</td><td>0.9732562883</td><td>0.3951541485</td><td>0.5996991691</td></tr>\n",
       "\t<tr><td>2011</td><td>1.3328331095</td><td>0.471808470</td><td>4.987817e-01</td><td>1.0670540187</td><td>0.92111043</td><td>1.364398869</td><td>1.471105e+00</td><td>1.095946e+00</td><td>0.04142883</td><td>⋯</td><td>1.66654746</td><td>0.7415274</td><td>1.437479e+00</td><td>0.5451781579</td><td>0.509292033</td><td>0.3137912</td><td>0.4592628008</td><td>1.2203650322</td><td>0.5719968030</td><td>0.7062914059</td></tr>\n",
       "\t<tr><td>2012</td><td>1.3220777186</td><td>0.502191277</td><td>5.081726e-01</td><td>1.2067296901</td><td>0.89983524</td><td>1.592619662</td><td>1.540737e+00</td><td>1.139163e+00</td><td>0.04190646</td><td>⋯</td><td>1.71352169</td><td>0.7422265</td><td>1.478142e+00</td><td>0.5674023466</td><td>0.504734409</td><td>0.3109945</td><td>0.5300611199</td><td>1.2870440780</td><td>0.7121223158</td><td>0.9498443725</td></tr>\n",
       "\t<tr><td>2013</td><td>1.3510886470</td><td>0.532636526</td><td>5.086625e-01</td><td>1.2745708945</td><td>0.89537181</td><td>1.839611684</td><td>1.597045e+00</td><td>1.154621e+00</td><td>0.04245684</td><td>⋯</td><td>1.86341906</td><td>0.7432364</td><td>1.373691e+00</td><td>0.4819112524</td><td>0.499652394</td><td>0.3091110</td><td>0.6225911190</td><td>1.4274148593</td><td>0.6826397364</td><td>1.0032885734</td></tr>\n",
       "\t<tr><td>2014</td><td>1.3514296195</td><td>0.562412333</td><td>5.197517e-01</td><td>1.1629903250</td><td>0.92430991</td><td>1.901323355</td><td>1.434280e+00</td><td>1.197261e+00</td><td>0.04308942</td><td>⋯</td><td>1.89154672</td><td>0.7443318</td><td>1.490648e+00</td><td>0.5779340340</td><td>0.530340955</td><td>0.3100226</td><td>0.6161428564</td><td>1.4489430034</td><td>0.6417672414</td><td>0.8516318095</td></tr>\n",
       "\t<tr><td>2015</td><td>1.3524271752</td><td>0.583643195</td><td>4.941744e-01</td><td>1.1802674555</td><td>0.99378363</td><td>2.007424330</td><td>1.432812e+00</td><td>1.201975e+00</td><td>0.04380159</td><td>⋯</td><td>1.94783082</td><td>0.7455065</td><td>1.301640e+00</td><td>0.6330533429</td><td>0.594387216</td><td>0.3142832</td><td>0.5260104266</td><td>1.5749016796</td><td>0.7139239166</td><td>0.9042781328</td></tr>\n",
       "\t<tr><td>2016</td><td>1.3444705075</td><td>0.623624867</td><td>4.458965e-01</td><td>1.1717251932</td><td>1.04907637</td><td>2.212521471</td><td>1.461332e+00</td><td>1.196859e+00</td><td>0.04460038</td><td>⋯</td><td>1.33494738</td><td>0.7468656</td><td>1.299308e+00</td><td>0.7732559371</td><td>0.734635893</td><td>0.3161643</td><td>0.5602240514</td><td>1.4604161470</td><td>0.7156590555</td><td>0.8925665398</td></tr>\n",
       "\t<tr><td>2017</td><td>1.3372660970</td><td>0.670530531</td><td>4.402716e-01</td><td>1.2632866961</td><td>1.08753064</td><td>2.183431154</td><td>1.405387e+00</td><td>1.223736e+00</td><td>0.04548855</td><td>⋯</td><td>1.46373919</td><td>0.7485016</td><td>1.276147e+00</td><td>0.7855594872</td><td>0.597216202</td><td>0.3137907</td><td>0.5127455731</td><td>1.5624666486</td><td>0.7746536113</td><td>0.9558608540</td></tr>\n",
       "\t<tr><td>2018</td><td>1.3306657103</td><td>0.599670988</td><td>4.252797e-01</td><td>0.9454447009</td><td>1.10114247</td><td>2.199084065</td><td>1.317017e+00</td><td>1.262093e+00</td><td>0.04646456</td><td>⋯</td><td>1.31860887</td><td>0.7504603</td><td>1.485550e+00</td><td>0.8442707317</td><td>0.591318115</td><td>0.3127287</td><td>0.4969063036</td><td>1.6114507879</td><td>0.8690341437</td><td>0.8570184898</td></tr>\n",
       "\t<tr><td>2019</td><td>1.3246650758</td><td>0.598366423</td><td>4.574454e-01</td><td>0.9214519981</td><td>1.15138258</td><td>2.127738799</td><td>1.303998e+00</td><td>1.283414e+00</td><td>0.04754760</td><td>⋯</td><td>1.30676250</td><td>0.7527960</td><td>1.419969e+00</td><td>0.8705536064</td><td>0.585167882</td><td>0.3141634</td><td>0.4849953994</td><td>1.6699073485</td><td>0.9357754970</td><td>0.8596767824</td></tr>\n",
       "</tbody>\n",
       "</table>\n"
      ],
      "text/latex": [
       "A tibble: 56 × 215\n",
       "\\begin{tabular}{lllllllllllllllllllll}\n",
       " year & Aruba & Afghanistan & Angola & Albania & Andorra & United Arab Emirates & Argentina & Armenia & American Samoa & ⋯ & Virgin Islands (British) & Virgin Islands (U.S.) & Viet Nam & Vanuatu & Samoa & NA & Yemen & South Africa & Zambia & Zimbabwe\\\\\n",
       " <int> & <dbl> & <dbl> & <dbl> & <dbl> & <dbl> & <dbl> & <dbl> & <dbl> & <dbl> & ⋯ & <dbl> & <dbl> & <dbl> & <dbl> & <dbl> & <dbl> & <dbl> & <dbl> & <dbl> & <dbl>\\\\\n",
       "\\hline\n",
       "\t 1960 & 0.0000000000 & 0.000000000 & 0.000000e+00 & 0.0000000000 & 0.00000000 & 0.000000000 & 0.000000e+00 & 0.000000e+00 & 0.00000000 & ⋯ & 0.00000000 & 0.0000000 & 0.000000e+00 & 0.0000000000 & 0.000000000 & 0.0000000 & 0.0000000000 & 0.0000000000 & 0.0000000000 & 0.0000000000\\\\\n",
       "\t 1965 & 0.0000000000 & 0.000000000 & 0.000000e+00 & 0.0000000000 & 0.00000000 & 0.000000000 & 0.000000e+00 & 0.000000e+00 & 0.00000000 & ⋯ & 0.00000000 & 0.0000000 & 0.000000e+00 & 0.0000000000 & 0.000000000 & 0.0000000 & 0.0000000000 & 0.0000000000 & 0.0000000000 & 0.0000000000\\\\\n",
       "\t 1966 & 0.0000000000 & 0.000000000 & 0.000000e+00 & 0.0000000000 & 0.00000000 & 0.000000000 & 0.000000e+00 & 0.000000e+00 & 0.00000000 & ⋯ & 0.00000000 & 0.0000000 & 0.000000e+00 & 0.0000000000 & 0.000000000 & 0.0000000 & 0.0000000000 & 0.0000000000 & 0.0000000000 & 0.0000000000\\\\\n",
       "\t 1967 & 0.0000000000 & 0.000000000 & 0.000000e+00 & 0.0000000000 & 0.00000000 & 0.000000000 & 0.000000e+00 & 0.000000e+00 & 0.00000000 & ⋯ & 0.00000000 & 0.0000000 & 0.000000e+00 & 0.0000000000 & 0.000000000 & 0.0000000 & 0.0000000000 & 0.0000000000 & 0.0000000000 & 0.0000000000\\\\\n",
       "\t 1968 & 0.0000000000 & 0.000000000 & 0.000000e+00 & 0.0000000000 & 0.00000000 & 0.000000000 & 0.000000e+00 & 0.000000e+00 & 0.00000000 & ⋯ & 0.00000000 & 0.0000000 & 0.000000e+00 & 0.0000000000 & 0.000000000 & 0.0000000 & 0.0000000000 & 0.0000000000 & 0.0000000000 & 0.0000000000\\\\\n",
       "\t 1969 & 0.0000000000 & 0.000000000 & 0.000000e+00 & 0.0000000000 & 0.00000000 & 0.000000000 & 0.000000e+00 & 0.000000e+00 & 0.00000000 & ⋯ & 0.00000000 & 0.0000000 & 0.000000e+00 & 0.0000000000 & 0.000000000 & 0.0000000 & 0.0000000000 & 0.0000000000 & 0.0000000000 & 0.0000000000\\\\\n",
       "\t 1970 & 0.0000000000 & 0.000000000 & 0.000000e+00 & 0.0000000000 & 0.00000000 & 0.000000000 & 0.000000e+00 & 0.000000e+00 & 0.00000000 & ⋯ & 0.00000000 & 0.0000000 & 0.000000e+00 & 0.0000000000 & 0.000000000 & 0.0000000 & 0.0000000000 & 0.0000000000 & 0.0000000000 & 0.0000000000\\\\\n",
       "\t 1971 & 0.0000000000 & 0.000000000 & 0.000000e+00 & 0.0000000000 & 0.00000000 & 0.000000000 & 0.000000e+00 & 0.000000e+00 & 0.00000000 & ⋯ & 0.00000000 & 0.0000000 & 0.000000e+00 & 0.0000000000 & 0.000000000 & 0.0000000 & 0.0000000000 & 0.0000000000 & 0.0000000000 & 0.0000000000\\\\\n",
       "\t 1972 & 0.0000000000 & 0.000000000 & 0.000000e+00 & 0.0000000000 & 0.00000000 & 0.000000000 & 0.000000e+00 & 0.000000e+00 & 0.00000000 & ⋯ & 0.00000000 & 0.0000000 & 0.000000e+00 & 0.0000000000 & 0.000000000 & 0.0000000 & 0.0000000000 & 0.0000000000 & 0.0000000000 & 0.0000000000\\\\\n",
       "\t 1973 & 0.0000000000 & 0.000000000 & 0.000000e+00 & 0.0000000000 & 0.00000000 & 0.000000000 & 0.000000e+00 & 0.000000e+00 & 0.00000000 & ⋯ & 0.00000000 & 0.0000000 & 0.000000e+00 & 0.0000000000 & 0.000000000 & 0.0000000 & 0.0000000000 & 0.0000000000 & 0.0000000000 & 0.0000000000\\\\\n",
       "\t 1974 & 0.0000000000 & 0.000000000 & 0.000000e+00 & 0.0000000000 & 0.00000000 & 0.000000000 & 0.000000e+00 & 0.000000e+00 & 0.00000000 & ⋯ & 0.00000000 & 0.0000000 & 0.000000e+00 & 0.0000000000 & 0.000000000 & 0.0000000 & 0.0000000000 & 0.0000000000 & 0.0000000000 & 0.0000000000\\\\\n",
       "\t 1975 & 0.0000000000 & 0.000000000 & 0.000000e+00 & 0.0000000000 & 0.00000000 & 0.000000000 & 0.000000e+00 & 0.000000e+00 & 0.00000000 & ⋯ & 0.00000000 & 0.0000000 & 0.000000e+00 & 0.0000000000 & 0.000000000 & 0.0000000 & 0.0000000000 & 0.0000000000 & 0.0000000000 & 0.0000000000\\\\\n",
       "\t 1976 & 0.0000000000 & 0.000000000 & 0.000000e+00 & 0.0000000000 & 0.00000000 & 0.000000000 & 0.000000e+00 & 0.000000e+00 & 0.00000000 & ⋯ & 0.00000000 & 0.0000000 & 0.000000e+00 & 0.0000000000 & 0.000000000 & 0.0000000 & 0.0000000000 & 0.0000000000 & 0.0000000000 & 0.0000000000\\\\\n",
       "\t 1977 & 0.0000000000 & 0.000000000 & 0.000000e+00 & 0.0000000000 & 0.00000000 & 0.000000000 & 0.000000e+00 & 0.000000e+00 & 0.00000000 & ⋯ & 0.00000000 & 0.0000000 & 0.000000e+00 & 0.0000000000 & 0.000000000 & 0.0000000 & 0.0000000000 & 0.0000000000 & 0.0000000000 & 0.0000000000\\\\\n",
       "\t 1978 & 0.0000000000 & 0.000000000 & 0.000000e+00 & 0.0000000000 & 0.00000000 & 0.000000000 & 0.000000e+00 & 0.000000e+00 & 0.00000000 & ⋯ & 0.00000000 & 0.0000000 & 0.000000e+00 & 0.0000000000 & 0.000000000 & 0.0000000 & 0.0000000000 & 0.0000000000 & 0.0000000000 & 0.0000000000\\\\\n",
       "\t 1979 & 0.0000000000 & 0.000000000 & 0.000000e+00 & 0.0000000000 & 0.00000000 & 0.000000000 & 0.000000e+00 & 0.000000e+00 & 0.00000000 & ⋯ & 0.00000000 & 0.0000000 & 0.000000e+00 & 0.0000000000 & 0.000000000 & 0.0000000 & 0.0000000000 & 0.0000000000 & 0.0000000000 & 0.0000000000\\\\\n",
       "\t 1980 & 0.0000000000 & 0.000000000 & 0.000000e+00 & 0.0000000000 & 0.00000000 & 0.002297722 & 0.000000e+00 & 0.000000e+00 & 0.00000000 & ⋯ & 0.00000000 & 0.0000000 & 0.000000e+00 & 0.0000000000 & 0.000000000 & 0.3694938 & 0.0000000000 & 0.0000000000 & 0.0000000000 & 0.0000000000\\\\\n",
       "\t 1981 & 0.0000000000 & 0.000000000 & 0.000000e+00 & 0.0000000000 & 0.00000000 & 0.002117835 & 0.000000e+00 & 0.000000e+00 & 0.00000000 & ⋯ & 0.00000000 & 0.0000000 & 0.000000e+00 & 0.0000000000 & 0.000000000 & 0.3621134 & 0.0000000000 & 0.0000000000 & 0.0000000000 & 0.0000000000\\\\\n",
       "\t 1982 & 0.0000000000 & 0.000000000 & 0.000000e+00 & 0.0000000000 & 0.00000000 & 0.001995109 & 0.000000e+00 & 0.000000e+00 & 0.00000000 & ⋯ & 0.00000000 & 0.0000000 & 0.000000e+00 & 0.0000000000 & 0.000000000 & 0.3552465 & 0.0000000000 & 0.0000000000 & 0.0000000000 & 0.0000000000\\\\\n",
       "\t 1983 & 0.0000000000 & 0.000000000 & 0.000000e+00 & 0.0000000000 & 0.00000000 & 0.002876600 & 0.000000e+00 & 0.000000e+00 & 0.00000000 & ⋯ & 0.00000000 & 0.0000000 & 0.000000e+00 & 0.0000000000 & 0.000000000 & 0.3482032 & 0.0000000000 & 0.0000000000 & 0.0000000000 & 0.0000000000\\\\\n",
       "\t 1984 & 0.0000000000 & 0.000000000 & 0.000000e+00 & 0.0000000000 & 0.00000000 & 0.003775803 & 0.000000e+00 & 0.000000e+00 & 0.00000000 & ⋯ & 0.00000000 & 0.0000000 & 0.000000e+00 & 0.0000000000 & 0.000000000 & 0.3412265 & 0.0000000000 & 0.0000000000 & 0.0000000000 & 0.0000000000\\\\\n",
       "\t 1985 & 0.0000000000 & 0.000000000 & 0.000000e+00 & 0.0000000000 & 0.00000000 & 0.005741061 & 0.000000e+00 & 0.000000e+00 & 0.00000000 & ⋯ & 0.00000000 & 0.0000000 & 0.000000e+00 & 0.0000000000 & 0.000000000 & 0.3341260 & 0.0000000000 & 0.0000000000 & 0.0000000000 & 0.0000000000\\\\\n",
       "\t 1986 & 0.0000000000 & 0.000000000 & 0.000000e+00 & 0.0000000000 & 0.00000000 & 0.007625807 & 0.000000e+00 & 0.000000e+00 & 0.00000000 & ⋯ & 0.00000000 & 0.0000000 & 0.000000e+00 & 0.0000000000 & 0.000000000 & 0.3273151 & 0.0000000000 & 0.0000000000 & 0.0000000000 & 0.0000000000\\\\\n",
       "\t 1987 & 0.0000000000 & 0.000000000 & 0.000000e+00 & 0.0000000000 & 0.00000000 & 0.008693395 & 0.000000e+00 & 0.000000e+00 & 0.00000000 & ⋯ & 0.00000000 & 0.0000000 & 0.000000e+00 & 0.0000000000 & 0.000000000 & 0.3205933 & 0.0000000000 & 0.0000000000 & 0.0000000000 & 0.0000000000\\\\\n",
       "\t 1988 & 0.0000000000 & 0.000000000 & 0.000000e+00 & 0.0000000000 & 0.00000000 & 0.008196327 & 0.000000e+00 & 0.000000e+00 & 0.00000000 & ⋯ & 0.00000000 & 0.0000000 & 0.000000e+00 & 0.0000000000 & 0.000000000 & 0.3137912 & 0.0000000000 & 0.0000000000 & 0.0000000000 & 0.0000000000\\\\\n",
       "\t 1989 & 0.0000000000 & 0.000000000 & 0.000000e+00 & 0.0000000000 & 0.00000000 & 0.013896330 & 7.150459e-05 & 0.000000e+00 & 0.00000000 & ⋯ & 0.00000000 & 0.0000000 & 0.000000e+00 & 0.0000000000 & 0.000000000 & 0.3076081 & 0.0000000000 & 0.0001029257 & 0.0000000000 & 0.0000000000\\\\\n",
       "\t 1990 & 0.0000000000 & 0.000000000 & 0.000000e+00 & 0.0000000000 & 0.00000000 & 0.017682805 & 3.676735e-04 & 0.000000e+00 & 0.00000000 & ⋯ & 0.00000000 & 0.0000000 & 0.000000e+00 & 0.0000000000 & 0.000000000 & 0.3018260 & 0.0000000000 & 0.0001424360 & 0.0000000000 & 0.0000000000\\\\\n",
       "\t 1991 & 0.0000000000 & 0.000000000 & 0.000000e+00 & 0.0000000000 & 0.00000000 & 0.021410259 & 7.551555e-04 & 0.000000e+00 & 0.00000000 & ⋯ & 0.07458048 & 0.1526616 & 0.000000e+00 & 0.0000000000 & 0.000000000 & 0.2961012 & 0.0000000000 & 0.0001735476 & 0.0000000000 & 0.0000000000\\\\\n",
       "\t 1992 & 0.0002849328 & 0.000000000 & 0.000000e+00 & 0.0000000000 & 0.01344203 & 0.023107118 & 1.388215e-03 & 0.000000e+00 & 0.01397819 & ⋯ & 0.07283321 & 0.1513546 & 1.146317e-05 & 0.0000000000 & 0.000000000 & 0.2908903 & 0.0001073870 & 0.0002993241 & 0.0000000000 & 0.0000000000\\\\\n",
       "\t 1993 & 0.0237700387 & 0.000000000 & 8.436702e-05 & 0.0000000000 & 0.01318548 & 0.031754828 & 3.291481e-03 & 0.000000e+00 & 0.01758706 & ⋯ & 0.07119549 & 0.1501248 & 5.704137e-05 & 0.0000000000 & 0.000000000 & 0.2860051 & 0.0003449415 & 0.0009406134 & 0.0000000000 & 0.0000000000\\\\\n",
       "\t 1994 & 0.0230223531 & 0.000000000 & 1.351951e-04 & 0.0000000000 & 0.01284467 & 0.039286843 & 6.987797e-03 & 0.000000e+00 & 0.02294982 & ⋯ & 0.06954506 & 0.1490896 & 1.724112e-04 & 0.0003842459 & 0.000000000 & 0.2814221 & 0.0005265807 & 0.0078580046 & 0.0000000000 & 0.0000000000\\\\\n",
       "\t 1995 & 0.0223231668 & 0.000000000 & 1.430394e-04 & 0.0000000000 & 0.04497203 & 0.052999440 & 1.158927e-02 & 0.000000e+00 & 0.02340780 & ⋯ & 0.06789634 & 0.1483982 & 3.186047e-04 & 0.0007092115 & 0.000000000 & 0.2769837 & 0.0005123161 & 0.0121629377 & 0.0001784864 & 0.0000000000\\\\\n",
       "\t 1996 & 0.0377752874 & 0.000000000 & 2.294319e-04 & 0.0007260025 & 0.08558467 & 0.075406134 & 1.884747e-02 & 9.093946e-05 & 0.02385321 & ⋯ & 0.06622517 & 0.1480179 & 9.193231e-04 & 0.0008814405 & 0.000000000 & 0.2729480 & 0.0005302653 & 0.0213382399 & 0.0003055487 & 0.0000000000\\\\\n",
       "\t 1997 & 0.0415353417 & 0.000000000 & 4.740724e-04 & 0.0010481911 & 0.13326737 & 0.112522436 & 5.612022e-02 & 1.528389e-03 & 0.02518982 & ⋯ & 0.43031574 & 0.1476600 & 2.103641e-03 & 0.0011572586 & 0.004290283 & 0.2694151 & 0.0007130883 & 0.0406315126 & 0.0004981849 & 0.0005042948\\\\\n",
       "\t 1998 & 0.0637780807 & 0.000000000 & 6.390373e-04 & 0.0017899780 & 0.21630411 & 0.168770305 & 7.368933e-02 & 2.416256e-03 & 0.02650036 & ⋯ & 0.41930919 & 0.2303362 & 2.891282e-03 & 0.0012016080 & 0.008204673 & 0.2858596 & 0.0009143502 & 0.0728427966 & 0.0008813083 & 0.0016452547\\\\\n",
       "\t 1999 & 0.1381422174 & 0.000000000 & 1.512216e-03 & 0.0035383678 & 0.31376133 & 0.268598250 & 1.050391e-01 & 2.545204e-03 & 0.03125326 & ⋯ & 0.40845502 & 0.2762456 & 4.211269e-03 & 0.0016005805 & 0.013336187 & 0.3189557 & 0.0015291573 & 0.1119386543 & 0.0029310157 & 0.0148509097\\\\\n",
       "\t 2000 & 0.1683482789 & 0.000000000 & 1.573741e-03 & 0.0096470507 & 0.35553807 & 0.436596828 & 1.750705e-01 & 5.523078e-03 & 0.03417482 & ⋯ & 0.39793076 & 0.3221590 & 9.987197e-03 & 0.0019003093 & 0.013586366 & 0.3305882 & 0.0017177796 & 0.1781546282 & 0.0099988515 & 0.0224763230\\\\\n",
       "\t 2001 & 0.5844019804 & 0.000000000 & 4.426976e-03 & 0.1284241120 & 0.43350044 & 0.552950352 & 1.798269e-01 & 8.138818e-03 & 0.03703450 & ⋯ & 0.38727792 & 0.3777096 & 1.566067e-02 & 0.0017763432 & 0.013474910 & 0.3303640 & 0.0077311010 & 0.2286696041 & 0.0118720984 & 0.0263622349\\\\\n",
       "\t 2002 & 0.6733419771 & 0.001190462 & 7.992629e-03 & 0.2789240284 & 0.46295643 & 0.668748134 & 1.734194e-01 & 2.296269e-02 & 0.03506540 & ⋯ & 0.37579857 & 0.4156337 & 2.356083e-02 & 0.0242424242 & 0.014467127 & 0.3301396 & 0.0247702861 & 0.2874436595 & 0.0132276467 & 0.0282861969\\\\\n",
       "\t 2003 & 0.7551159103 & 0.008831921 & 1.931105e-02 & 0.3618878174 & 0.70223389 & 0.778823756 & 2.048165e-01 & 3.696376e-02 & 0.03624377 & ⋯ & 0.94167956 & 0.4543569 & 3.362961e-02 & 0.0376342530 & 0.056017926 & 0.3299156 & 0.0334343811 & 0.3513217848 & 0.0222366304 & 0.0301428606\\\\\n",
       "\t 2004 & 1.0519563823 & 0.025473866 & 3.942225e-02 & 0.4162621051 & 0.75910208 & 0.921534585 & 3.491187e-01 & 6.621555e-02 & 0.03904488 & ⋯ & 0.91129210 & 0.5918905 & 6.025909e-02 & 0.0494299084 & 0.085073349 & 0.3296919 & 0.0713823865 & 0.4283707386 & 0.0414728585 & 0.0350303568\\\\\n",
       "\t 2005 & 1.0901432004 & 0.049157782 & 8.277227e-02 & 0.5080546587 & 0.80926014 & 1.058165711 & 5.682036e-01 & 1.043565e-01 & 0.03929856 & ⋯ & 0.88096353 & 0.7404129 & 1.153447e-01 & 0.0583553889 & 0.127235906 & 0.3294680 & 0.1069384730 & 0.6936348213 & 0.0821453246 & 0.0529254047\\\\\n",
       "\t 2006 & 1.1400958099 & 0.099045142 & 1.512721e-01 & 0.6382522981 & 0.86012391 & 1.126771143 & 7.979360e-01 & 4.163244e-01 & 0.03958689 & ⋯ & 0.85104633 & 0.7409868 & 2.251292e-01 & 0.0672878079 & 0.240258952 & 0.3268324 & 0.1356623679 & 0.8021537971 & 0.1386618811 & 0.0688537114\\\\\n",
       "\t 2007 & 1.1778441320 & 0.180285903 & 2.372107e-01 & 0.7811403100 & 0.81235288 & 1.316277017 & 1.013138e+00 & 6.257504e-01 & 0.03990565 & ⋯ & 0.82172204 & 0.7412057 & 5.308966e-01 & 0.1138627953 & 0.451495711 & 0.3242176 & 0.1921247576 & 0.8460660947 & 0.2128676391 & 0.0987906736\\\\\n",
       "\t 2008 & 1.2347442753 & 0.298934443 & 3.121035e-01 & 0.6310830811 & 0.84412596 & 1.339307752 & 1.154598e+00 & 4.826674e-01 & 0.04025693 & ⋯ & 0.88071989 & 0.7407954 & 8.750282e-01 & 0.1538777185 & 0.469270597 & 0.3216238 & 0.2764798703 & 0.8899293459 & 0.2754228090 & 0.1314704685\\\\\n",
       "\t 2009 & 1.2901665121 & 0.383417283 & 3.603216e-01 & 0.8403019758 & 0.87336836 & 1.338730963 & 1.290423e+00 & 7.387926e-01 & 0.04063866 & ⋯ & 1.73790859 & 0.7407476 & 1.135484e+00 & 0.5507136331 & 0.465896385 & 0.3190510 & 0.3458236427 & 0.9067675128 & 0.3311286373 & 0.3146734849\\\\\n",
       "\t 2010 & 1.3155140969 & 0.361834646 & 4.023252e-01 & 0.9234399615 & 0.91584055 & 1.285108971 & 1.399906e+00 & 1.313515e+00 & 0.04102171 & ⋯ & 1.72376252 & 0.7410689 & 1.281303e+00 & 0.6925969534 & 0.462316101 & 0.3164985 & 0.4485945774 & 0.9732562883 & 0.3951541485 & 0.5996991691\\\\\n",
       "\t 2011 & 1.3328331095 & 0.471808470 & 4.987817e-01 & 1.0670540187 & 0.92111043 & 1.364398869 & 1.471105e+00 & 1.095946e+00 & 0.04142883 & ⋯ & 1.66654746 & 0.7415274 & 1.437479e+00 & 0.5451781579 & 0.509292033 & 0.3137912 & 0.4592628008 & 1.2203650322 & 0.5719968030 & 0.7062914059\\\\\n",
       "\t 2012 & 1.3220777186 & 0.502191277 & 5.081726e-01 & 1.2067296901 & 0.89983524 & 1.592619662 & 1.540737e+00 & 1.139163e+00 & 0.04190646 & ⋯ & 1.71352169 & 0.7422265 & 1.478142e+00 & 0.5674023466 & 0.504734409 & 0.3109945 & 0.5300611199 & 1.2870440780 & 0.7121223158 & 0.9498443725\\\\\n",
       "\t 2013 & 1.3510886470 & 0.532636526 & 5.086625e-01 & 1.2745708945 & 0.89537181 & 1.839611684 & 1.597045e+00 & 1.154621e+00 & 0.04245684 & ⋯ & 1.86341906 & 0.7432364 & 1.373691e+00 & 0.4819112524 & 0.499652394 & 0.3091110 & 0.6225911190 & 1.4274148593 & 0.6826397364 & 1.0032885734\\\\\n",
       "\t 2014 & 1.3514296195 & 0.562412333 & 5.197517e-01 & 1.1629903250 & 0.92430991 & 1.901323355 & 1.434280e+00 & 1.197261e+00 & 0.04308942 & ⋯ & 1.89154672 & 0.7443318 & 1.490648e+00 & 0.5779340340 & 0.530340955 & 0.3100226 & 0.6161428564 & 1.4489430034 & 0.6417672414 & 0.8516318095\\\\\n",
       "\t 2015 & 1.3524271752 & 0.583643195 & 4.941744e-01 & 1.1802674555 & 0.99378363 & 2.007424330 & 1.432812e+00 & 1.201975e+00 & 0.04380159 & ⋯ & 1.94783082 & 0.7455065 & 1.301640e+00 & 0.6330533429 & 0.594387216 & 0.3142832 & 0.5260104266 & 1.5749016796 & 0.7139239166 & 0.9042781328\\\\\n",
       "\t 2016 & 1.3444705075 & 0.623624867 & 4.458965e-01 & 1.1717251932 & 1.04907637 & 2.212521471 & 1.461332e+00 & 1.196859e+00 & 0.04460038 & ⋯ & 1.33494738 & 0.7468656 & 1.299308e+00 & 0.7732559371 & 0.734635893 & 0.3161643 & 0.5602240514 & 1.4604161470 & 0.7156590555 & 0.8925665398\\\\\n",
       "\t 2017 & 1.3372660970 & 0.670530531 & 4.402716e-01 & 1.2632866961 & 1.08753064 & 2.183431154 & 1.405387e+00 & 1.223736e+00 & 0.04548855 & ⋯ & 1.46373919 & 0.7485016 & 1.276147e+00 & 0.7855594872 & 0.597216202 & 0.3137907 & 0.5127455731 & 1.5624666486 & 0.7746536113 & 0.9558608540\\\\\n",
       "\t 2018 & 1.3306657103 & 0.599670988 & 4.252797e-01 & 0.9454447009 & 1.10114247 & 2.199084065 & 1.317017e+00 & 1.262093e+00 & 0.04646456 & ⋯ & 1.31860887 & 0.7504603 & 1.485550e+00 & 0.8442707317 & 0.591318115 & 0.3127287 & 0.4969063036 & 1.6114507879 & 0.8690341437 & 0.8570184898\\\\\n",
       "\t 2019 & 1.3246650758 & 0.598366423 & 4.574454e-01 & 0.9214519981 & 1.15138258 & 2.127738799 & 1.303998e+00 & 1.283414e+00 & 0.04754760 & ⋯ & 1.30676250 & 0.7527960 & 1.419969e+00 & 0.8705536064 & 0.585167882 & 0.3141634 & 0.4849953994 & 1.6699073485 & 0.9357754970 & 0.8596767824\\\\\n",
       "\\end{tabular}\n"
      ],
      "text/markdown": [
       "\n",
       "A tibble: 56 × 215\n",
       "\n",
       "| year &lt;int&gt; | Aruba &lt;dbl&gt; | Afghanistan &lt;dbl&gt; | Angola &lt;dbl&gt; | Albania &lt;dbl&gt; | Andorra &lt;dbl&gt; | United Arab Emirates &lt;dbl&gt; | Argentina &lt;dbl&gt; | Armenia &lt;dbl&gt; | American Samoa &lt;dbl&gt; | ⋯ ⋯ | Virgin Islands (British) &lt;dbl&gt; | Virgin Islands (U.S.) &lt;dbl&gt; | Viet Nam &lt;dbl&gt; | Vanuatu &lt;dbl&gt; | Samoa &lt;dbl&gt; | NA &lt;dbl&gt; | Yemen &lt;dbl&gt; | South Africa &lt;dbl&gt; | Zambia &lt;dbl&gt; | Zimbabwe &lt;dbl&gt; |\n",
       "|---|---|---|---|---|---|---|---|---|---|---|---|---|---|---|---|---|---|---|---|---|\n",
       "| 1960 | 0.0000000000 | 0.000000000 | 0.000000e+00 | 0.0000000000 | 0.00000000 | 0.000000000 | 0.000000e+00 | 0.000000e+00 | 0.00000000 | ⋯ | 0.00000000 | 0.0000000 | 0.000000e+00 | 0.0000000000 | 0.000000000 | 0.0000000 | 0.0000000000 | 0.0000000000 | 0.0000000000 | 0.0000000000 |\n",
       "| 1965 | 0.0000000000 | 0.000000000 | 0.000000e+00 | 0.0000000000 | 0.00000000 | 0.000000000 | 0.000000e+00 | 0.000000e+00 | 0.00000000 | ⋯ | 0.00000000 | 0.0000000 | 0.000000e+00 | 0.0000000000 | 0.000000000 | 0.0000000 | 0.0000000000 | 0.0000000000 | 0.0000000000 | 0.0000000000 |\n",
       "| 1966 | 0.0000000000 | 0.000000000 | 0.000000e+00 | 0.0000000000 | 0.00000000 | 0.000000000 | 0.000000e+00 | 0.000000e+00 | 0.00000000 | ⋯ | 0.00000000 | 0.0000000 | 0.000000e+00 | 0.0000000000 | 0.000000000 | 0.0000000 | 0.0000000000 | 0.0000000000 | 0.0000000000 | 0.0000000000 |\n",
       "| 1967 | 0.0000000000 | 0.000000000 | 0.000000e+00 | 0.0000000000 | 0.00000000 | 0.000000000 | 0.000000e+00 | 0.000000e+00 | 0.00000000 | ⋯ | 0.00000000 | 0.0000000 | 0.000000e+00 | 0.0000000000 | 0.000000000 | 0.0000000 | 0.0000000000 | 0.0000000000 | 0.0000000000 | 0.0000000000 |\n",
       "| 1968 | 0.0000000000 | 0.000000000 | 0.000000e+00 | 0.0000000000 | 0.00000000 | 0.000000000 | 0.000000e+00 | 0.000000e+00 | 0.00000000 | ⋯ | 0.00000000 | 0.0000000 | 0.000000e+00 | 0.0000000000 | 0.000000000 | 0.0000000 | 0.0000000000 | 0.0000000000 | 0.0000000000 | 0.0000000000 |\n",
       "| 1969 | 0.0000000000 | 0.000000000 | 0.000000e+00 | 0.0000000000 | 0.00000000 | 0.000000000 | 0.000000e+00 | 0.000000e+00 | 0.00000000 | ⋯ | 0.00000000 | 0.0000000 | 0.000000e+00 | 0.0000000000 | 0.000000000 | 0.0000000 | 0.0000000000 | 0.0000000000 | 0.0000000000 | 0.0000000000 |\n",
       "| 1970 | 0.0000000000 | 0.000000000 | 0.000000e+00 | 0.0000000000 | 0.00000000 | 0.000000000 | 0.000000e+00 | 0.000000e+00 | 0.00000000 | ⋯ | 0.00000000 | 0.0000000 | 0.000000e+00 | 0.0000000000 | 0.000000000 | 0.0000000 | 0.0000000000 | 0.0000000000 | 0.0000000000 | 0.0000000000 |\n",
       "| 1971 | 0.0000000000 | 0.000000000 | 0.000000e+00 | 0.0000000000 | 0.00000000 | 0.000000000 | 0.000000e+00 | 0.000000e+00 | 0.00000000 | ⋯ | 0.00000000 | 0.0000000 | 0.000000e+00 | 0.0000000000 | 0.000000000 | 0.0000000 | 0.0000000000 | 0.0000000000 | 0.0000000000 | 0.0000000000 |\n",
       "| 1972 | 0.0000000000 | 0.000000000 | 0.000000e+00 | 0.0000000000 | 0.00000000 | 0.000000000 | 0.000000e+00 | 0.000000e+00 | 0.00000000 | ⋯ | 0.00000000 | 0.0000000 | 0.000000e+00 | 0.0000000000 | 0.000000000 | 0.0000000 | 0.0000000000 | 0.0000000000 | 0.0000000000 | 0.0000000000 |\n",
       "| 1973 | 0.0000000000 | 0.000000000 | 0.000000e+00 | 0.0000000000 | 0.00000000 | 0.000000000 | 0.000000e+00 | 0.000000e+00 | 0.00000000 | ⋯ | 0.00000000 | 0.0000000 | 0.000000e+00 | 0.0000000000 | 0.000000000 | 0.0000000 | 0.0000000000 | 0.0000000000 | 0.0000000000 | 0.0000000000 |\n",
       "| 1974 | 0.0000000000 | 0.000000000 | 0.000000e+00 | 0.0000000000 | 0.00000000 | 0.000000000 | 0.000000e+00 | 0.000000e+00 | 0.00000000 | ⋯ | 0.00000000 | 0.0000000 | 0.000000e+00 | 0.0000000000 | 0.000000000 | 0.0000000 | 0.0000000000 | 0.0000000000 | 0.0000000000 | 0.0000000000 |\n",
       "| 1975 | 0.0000000000 | 0.000000000 | 0.000000e+00 | 0.0000000000 | 0.00000000 | 0.000000000 | 0.000000e+00 | 0.000000e+00 | 0.00000000 | ⋯ | 0.00000000 | 0.0000000 | 0.000000e+00 | 0.0000000000 | 0.000000000 | 0.0000000 | 0.0000000000 | 0.0000000000 | 0.0000000000 | 0.0000000000 |\n",
       "| 1976 | 0.0000000000 | 0.000000000 | 0.000000e+00 | 0.0000000000 | 0.00000000 | 0.000000000 | 0.000000e+00 | 0.000000e+00 | 0.00000000 | ⋯ | 0.00000000 | 0.0000000 | 0.000000e+00 | 0.0000000000 | 0.000000000 | 0.0000000 | 0.0000000000 | 0.0000000000 | 0.0000000000 | 0.0000000000 |\n",
       "| 1977 | 0.0000000000 | 0.000000000 | 0.000000e+00 | 0.0000000000 | 0.00000000 | 0.000000000 | 0.000000e+00 | 0.000000e+00 | 0.00000000 | ⋯ | 0.00000000 | 0.0000000 | 0.000000e+00 | 0.0000000000 | 0.000000000 | 0.0000000 | 0.0000000000 | 0.0000000000 | 0.0000000000 | 0.0000000000 |\n",
       "| 1978 | 0.0000000000 | 0.000000000 | 0.000000e+00 | 0.0000000000 | 0.00000000 | 0.000000000 | 0.000000e+00 | 0.000000e+00 | 0.00000000 | ⋯ | 0.00000000 | 0.0000000 | 0.000000e+00 | 0.0000000000 | 0.000000000 | 0.0000000 | 0.0000000000 | 0.0000000000 | 0.0000000000 | 0.0000000000 |\n",
       "| 1979 | 0.0000000000 | 0.000000000 | 0.000000e+00 | 0.0000000000 | 0.00000000 | 0.000000000 | 0.000000e+00 | 0.000000e+00 | 0.00000000 | ⋯ | 0.00000000 | 0.0000000 | 0.000000e+00 | 0.0000000000 | 0.000000000 | 0.0000000 | 0.0000000000 | 0.0000000000 | 0.0000000000 | 0.0000000000 |\n",
       "| 1980 | 0.0000000000 | 0.000000000 | 0.000000e+00 | 0.0000000000 | 0.00000000 | 0.002297722 | 0.000000e+00 | 0.000000e+00 | 0.00000000 | ⋯ | 0.00000000 | 0.0000000 | 0.000000e+00 | 0.0000000000 | 0.000000000 | 0.3694938 | 0.0000000000 | 0.0000000000 | 0.0000000000 | 0.0000000000 |\n",
       "| 1981 | 0.0000000000 | 0.000000000 | 0.000000e+00 | 0.0000000000 | 0.00000000 | 0.002117835 | 0.000000e+00 | 0.000000e+00 | 0.00000000 | ⋯ | 0.00000000 | 0.0000000 | 0.000000e+00 | 0.0000000000 | 0.000000000 | 0.3621134 | 0.0000000000 | 0.0000000000 | 0.0000000000 | 0.0000000000 |\n",
       "| 1982 | 0.0000000000 | 0.000000000 | 0.000000e+00 | 0.0000000000 | 0.00000000 | 0.001995109 | 0.000000e+00 | 0.000000e+00 | 0.00000000 | ⋯ | 0.00000000 | 0.0000000 | 0.000000e+00 | 0.0000000000 | 0.000000000 | 0.3552465 | 0.0000000000 | 0.0000000000 | 0.0000000000 | 0.0000000000 |\n",
       "| 1983 | 0.0000000000 | 0.000000000 | 0.000000e+00 | 0.0000000000 | 0.00000000 | 0.002876600 | 0.000000e+00 | 0.000000e+00 | 0.00000000 | ⋯ | 0.00000000 | 0.0000000 | 0.000000e+00 | 0.0000000000 | 0.000000000 | 0.3482032 | 0.0000000000 | 0.0000000000 | 0.0000000000 | 0.0000000000 |\n",
       "| 1984 | 0.0000000000 | 0.000000000 | 0.000000e+00 | 0.0000000000 | 0.00000000 | 0.003775803 | 0.000000e+00 | 0.000000e+00 | 0.00000000 | ⋯ | 0.00000000 | 0.0000000 | 0.000000e+00 | 0.0000000000 | 0.000000000 | 0.3412265 | 0.0000000000 | 0.0000000000 | 0.0000000000 | 0.0000000000 |\n",
       "| 1985 | 0.0000000000 | 0.000000000 | 0.000000e+00 | 0.0000000000 | 0.00000000 | 0.005741061 | 0.000000e+00 | 0.000000e+00 | 0.00000000 | ⋯ | 0.00000000 | 0.0000000 | 0.000000e+00 | 0.0000000000 | 0.000000000 | 0.3341260 | 0.0000000000 | 0.0000000000 | 0.0000000000 | 0.0000000000 |\n",
       "| 1986 | 0.0000000000 | 0.000000000 | 0.000000e+00 | 0.0000000000 | 0.00000000 | 0.007625807 | 0.000000e+00 | 0.000000e+00 | 0.00000000 | ⋯ | 0.00000000 | 0.0000000 | 0.000000e+00 | 0.0000000000 | 0.000000000 | 0.3273151 | 0.0000000000 | 0.0000000000 | 0.0000000000 | 0.0000000000 |\n",
       "| 1987 | 0.0000000000 | 0.000000000 | 0.000000e+00 | 0.0000000000 | 0.00000000 | 0.008693395 | 0.000000e+00 | 0.000000e+00 | 0.00000000 | ⋯ | 0.00000000 | 0.0000000 | 0.000000e+00 | 0.0000000000 | 0.000000000 | 0.3205933 | 0.0000000000 | 0.0000000000 | 0.0000000000 | 0.0000000000 |\n",
       "| 1988 | 0.0000000000 | 0.000000000 | 0.000000e+00 | 0.0000000000 | 0.00000000 | 0.008196327 | 0.000000e+00 | 0.000000e+00 | 0.00000000 | ⋯ | 0.00000000 | 0.0000000 | 0.000000e+00 | 0.0000000000 | 0.000000000 | 0.3137912 | 0.0000000000 | 0.0000000000 | 0.0000000000 | 0.0000000000 |\n",
       "| 1989 | 0.0000000000 | 0.000000000 | 0.000000e+00 | 0.0000000000 | 0.00000000 | 0.013896330 | 7.150459e-05 | 0.000000e+00 | 0.00000000 | ⋯ | 0.00000000 | 0.0000000 | 0.000000e+00 | 0.0000000000 | 0.000000000 | 0.3076081 | 0.0000000000 | 0.0001029257 | 0.0000000000 | 0.0000000000 |\n",
       "| 1990 | 0.0000000000 | 0.000000000 | 0.000000e+00 | 0.0000000000 | 0.00000000 | 0.017682805 | 3.676735e-04 | 0.000000e+00 | 0.00000000 | ⋯ | 0.00000000 | 0.0000000 | 0.000000e+00 | 0.0000000000 | 0.000000000 | 0.3018260 | 0.0000000000 | 0.0001424360 | 0.0000000000 | 0.0000000000 |\n",
       "| 1991 | 0.0000000000 | 0.000000000 | 0.000000e+00 | 0.0000000000 | 0.00000000 | 0.021410259 | 7.551555e-04 | 0.000000e+00 | 0.00000000 | ⋯ | 0.07458048 | 0.1526616 | 0.000000e+00 | 0.0000000000 | 0.000000000 | 0.2961012 | 0.0000000000 | 0.0001735476 | 0.0000000000 | 0.0000000000 |\n",
       "| 1992 | 0.0002849328 | 0.000000000 | 0.000000e+00 | 0.0000000000 | 0.01344203 | 0.023107118 | 1.388215e-03 | 0.000000e+00 | 0.01397819 | ⋯ | 0.07283321 | 0.1513546 | 1.146317e-05 | 0.0000000000 | 0.000000000 | 0.2908903 | 0.0001073870 | 0.0002993241 | 0.0000000000 | 0.0000000000 |\n",
       "| 1993 | 0.0237700387 | 0.000000000 | 8.436702e-05 | 0.0000000000 | 0.01318548 | 0.031754828 | 3.291481e-03 | 0.000000e+00 | 0.01758706 | ⋯ | 0.07119549 | 0.1501248 | 5.704137e-05 | 0.0000000000 | 0.000000000 | 0.2860051 | 0.0003449415 | 0.0009406134 | 0.0000000000 | 0.0000000000 |\n",
       "| 1994 | 0.0230223531 | 0.000000000 | 1.351951e-04 | 0.0000000000 | 0.01284467 | 0.039286843 | 6.987797e-03 | 0.000000e+00 | 0.02294982 | ⋯ | 0.06954506 | 0.1490896 | 1.724112e-04 | 0.0003842459 | 0.000000000 | 0.2814221 | 0.0005265807 | 0.0078580046 | 0.0000000000 | 0.0000000000 |\n",
       "| 1995 | 0.0223231668 | 0.000000000 | 1.430394e-04 | 0.0000000000 | 0.04497203 | 0.052999440 | 1.158927e-02 | 0.000000e+00 | 0.02340780 | ⋯ | 0.06789634 | 0.1483982 | 3.186047e-04 | 0.0007092115 | 0.000000000 | 0.2769837 | 0.0005123161 | 0.0121629377 | 0.0001784864 | 0.0000000000 |\n",
       "| 1996 | 0.0377752874 | 0.000000000 | 2.294319e-04 | 0.0007260025 | 0.08558467 | 0.075406134 | 1.884747e-02 | 9.093946e-05 | 0.02385321 | ⋯ | 0.06622517 | 0.1480179 | 9.193231e-04 | 0.0008814405 | 0.000000000 | 0.2729480 | 0.0005302653 | 0.0213382399 | 0.0003055487 | 0.0000000000 |\n",
       "| 1997 | 0.0415353417 | 0.000000000 | 4.740724e-04 | 0.0010481911 | 0.13326737 | 0.112522436 | 5.612022e-02 | 1.528389e-03 | 0.02518982 | ⋯ | 0.43031574 | 0.1476600 | 2.103641e-03 | 0.0011572586 | 0.004290283 | 0.2694151 | 0.0007130883 | 0.0406315126 | 0.0004981849 | 0.0005042948 |\n",
       "| 1998 | 0.0637780807 | 0.000000000 | 6.390373e-04 | 0.0017899780 | 0.21630411 | 0.168770305 | 7.368933e-02 | 2.416256e-03 | 0.02650036 | ⋯ | 0.41930919 | 0.2303362 | 2.891282e-03 | 0.0012016080 | 0.008204673 | 0.2858596 | 0.0009143502 | 0.0728427966 | 0.0008813083 | 0.0016452547 |\n",
       "| 1999 | 0.1381422174 | 0.000000000 | 1.512216e-03 | 0.0035383678 | 0.31376133 | 0.268598250 | 1.050391e-01 | 2.545204e-03 | 0.03125326 | ⋯ | 0.40845502 | 0.2762456 | 4.211269e-03 | 0.0016005805 | 0.013336187 | 0.3189557 | 0.0015291573 | 0.1119386543 | 0.0029310157 | 0.0148509097 |\n",
       "| 2000 | 0.1683482789 | 0.000000000 | 1.573741e-03 | 0.0096470507 | 0.35553807 | 0.436596828 | 1.750705e-01 | 5.523078e-03 | 0.03417482 | ⋯ | 0.39793076 | 0.3221590 | 9.987197e-03 | 0.0019003093 | 0.013586366 | 0.3305882 | 0.0017177796 | 0.1781546282 | 0.0099988515 | 0.0224763230 |\n",
       "| 2001 | 0.5844019804 | 0.000000000 | 4.426976e-03 | 0.1284241120 | 0.43350044 | 0.552950352 | 1.798269e-01 | 8.138818e-03 | 0.03703450 | ⋯ | 0.38727792 | 0.3777096 | 1.566067e-02 | 0.0017763432 | 0.013474910 | 0.3303640 | 0.0077311010 | 0.2286696041 | 0.0118720984 | 0.0263622349 |\n",
       "| 2002 | 0.6733419771 | 0.001190462 | 7.992629e-03 | 0.2789240284 | 0.46295643 | 0.668748134 | 1.734194e-01 | 2.296269e-02 | 0.03506540 | ⋯ | 0.37579857 | 0.4156337 | 2.356083e-02 | 0.0242424242 | 0.014467127 | 0.3301396 | 0.0247702861 | 0.2874436595 | 0.0132276467 | 0.0282861969 |\n",
       "| 2003 | 0.7551159103 | 0.008831921 | 1.931105e-02 | 0.3618878174 | 0.70223389 | 0.778823756 | 2.048165e-01 | 3.696376e-02 | 0.03624377 | ⋯ | 0.94167956 | 0.4543569 | 3.362961e-02 | 0.0376342530 | 0.056017926 | 0.3299156 | 0.0334343811 | 0.3513217848 | 0.0222366304 | 0.0301428606 |\n",
       "| 2004 | 1.0519563823 | 0.025473866 | 3.942225e-02 | 0.4162621051 | 0.75910208 | 0.921534585 | 3.491187e-01 | 6.621555e-02 | 0.03904488 | ⋯ | 0.91129210 | 0.5918905 | 6.025909e-02 | 0.0494299084 | 0.085073349 | 0.3296919 | 0.0713823865 | 0.4283707386 | 0.0414728585 | 0.0350303568 |\n",
       "| 2005 | 1.0901432004 | 0.049157782 | 8.277227e-02 | 0.5080546587 | 0.80926014 | 1.058165711 | 5.682036e-01 | 1.043565e-01 | 0.03929856 | ⋯ | 0.88096353 | 0.7404129 | 1.153447e-01 | 0.0583553889 | 0.127235906 | 0.3294680 | 0.1069384730 | 0.6936348213 | 0.0821453246 | 0.0529254047 |\n",
       "| 2006 | 1.1400958099 | 0.099045142 | 1.512721e-01 | 0.6382522981 | 0.86012391 | 1.126771143 | 7.979360e-01 | 4.163244e-01 | 0.03958689 | ⋯ | 0.85104633 | 0.7409868 | 2.251292e-01 | 0.0672878079 | 0.240258952 | 0.3268324 | 0.1356623679 | 0.8021537971 | 0.1386618811 | 0.0688537114 |\n",
       "| 2007 | 1.1778441320 | 0.180285903 | 2.372107e-01 | 0.7811403100 | 0.81235288 | 1.316277017 | 1.013138e+00 | 6.257504e-01 | 0.03990565 | ⋯ | 0.82172204 | 0.7412057 | 5.308966e-01 | 0.1138627953 | 0.451495711 | 0.3242176 | 0.1921247576 | 0.8460660947 | 0.2128676391 | 0.0987906736 |\n",
       "| 2008 | 1.2347442753 | 0.298934443 | 3.121035e-01 | 0.6310830811 | 0.84412596 | 1.339307752 | 1.154598e+00 | 4.826674e-01 | 0.04025693 | ⋯ | 0.88071989 | 0.7407954 | 8.750282e-01 | 0.1538777185 | 0.469270597 | 0.3216238 | 0.2764798703 | 0.8899293459 | 0.2754228090 | 0.1314704685 |\n",
       "| 2009 | 1.2901665121 | 0.383417283 | 3.603216e-01 | 0.8403019758 | 0.87336836 | 1.338730963 | 1.290423e+00 | 7.387926e-01 | 0.04063866 | ⋯ | 1.73790859 | 0.7407476 | 1.135484e+00 | 0.5507136331 | 0.465896385 | 0.3190510 | 0.3458236427 | 0.9067675128 | 0.3311286373 | 0.3146734849 |\n",
       "| 2010 | 1.3155140969 | 0.361834646 | 4.023252e-01 | 0.9234399615 | 0.91584055 | 1.285108971 | 1.399906e+00 | 1.313515e+00 | 0.04102171 | ⋯ | 1.72376252 | 0.7410689 | 1.281303e+00 | 0.6925969534 | 0.462316101 | 0.3164985 | 0.4485945774 | 0.9732562883 | 0.3951541485 | 0.5996991691 |\n",
       "| 2011 | 1.3328331095 | 0.471808470 | 4.987817e-01 | 1.0670540187 | 0.92111043 | 1.364398869 | 1.471105e+00 | 1.095946e+00 | 0.04142883 | ⋯ | 1.66654746 | 0.7415274 | 1.437479e+00 | 0.5451781579 | 0.509292033 | 0.3137912 | 0.4592628008 | 1.2203650322 | 0.5719968030 | 0.7062914059 |\n",
       "| 2012 | 1.3220777186 | 0.502191277 | 5.081726e-01 | 1.2067296901 | 0.89983524 | 1.592619662 | 1.540737e+00 | 1.139163e+00 | 0.04190646 | ⋯ | 1.71352169 | 0.7422265 | 1.478142e+00 | 0.5674023466 | 0.504734409 | 0.3109945 | 0.5300611199 | 1.2870440780 | 0.7121223158 | 0.9498443725 |\n",
       "| 2013 | 1.3510886470 | 0.532636526 | 5.086625e-01 | 1.2745708945 | 0.89537181 | 1.839611684 | 1.597045e+00 | 1.154621e+00 | 0.04245684 | ⋯ | 1.86341906 | 0.7432364 | 1.373691e+00 | 0.4819112524 | 0.499652394 | 0.3091110 | 0.6225911190 | 1.4274148593 | 0.6826397364 | 1.0032885734 |\n",
       "| 2014 | 1.3514296195 | 0.562412333 | 5.197517e-01 | 1.1629903250 | 0.92430991 | 1.901323355 | 1.434280e+00 | 1.197261e+00 | 0.04308942 | ⋯ | 1.89154672 | 0.7443318 | 1.490648e+00 | 0.5779340340 | 0.530340955 | 0.3100226 | 0.6161428564 | 1.4489430034 | 0.6417672414 | 0.8516318095 |\n",
       "| 2015 | 1.3524271752 | 0.583643195 | 4.941744e-01 | 1.1802674555 | 0.99378363 | 2.007424330 | 1.432812e+00 | 1.201975e+00 | 0.04380159 | ⋯ | 1.94783082 | 0.7455065 | 1.301640e+00 | 0.6330533429 | 0.594387216 | 0.3142832 | 0.5260104266 | 1.5749016796 | 0.7139239166 | 0.9042781328 |\n",
       "| 2016 | 1.3444705075 | 0.623624867 | 4.458965e-01 | 1.1717251932 | 1.04907637 | 2.212521471 | 1.461332e+00 | 1.196859e+00 | 0.04460038 | ⋯ | 1.33494738 | 0.7468656 | 1.299308e+00 | 0.7732559371 | 0.734635893 | 0.3161643 | 0.5602240514 | 1.4604161470 | 0.7156590555 | 0.8925665398 |\n",
       "| 2017 | 1.3372660970 | 0.670530531 | 4.402716e-01 | 1.2632866961 | 1.08753064 | 2.183431154 | 1.405387e+00 | 1.223736e+00 | 0.04548855 | ⋯ | 1.46373919 | 0.7485016 | 1.276147e+00 | 0.7855594872 | 0.597216202 | 0.3137907 | 0.5127455731 | 1.5624666486 | 0.7746536113 | 0.9558608540 |\n",
       "| 2018 | 1.3306657103 | 0.599670988 | 4.252797e-01 | 0.9454447009 | 1.10114247 | 2.199084065 | 1.317017e+00 | 1.262093e+00 | 0.04646456 | ⋯ | 1.31860887 | 0.7504603 | 1.485550e+00 | 0.8442707317 | 0.591318115 | 0.3127287 | 0.4969063036 | 1.6114507879 | 0.8690341437 | 0.8570184898 |\n",
       "| 2019 | 1.3246650758 | 0.598366423 | 4.574454e-01 | 0.9214519981 | 1.15138258 | 2.127738799 | 1.303998e+00 | 1.283414e+00 | 0.04754760 | ⋯ | 1.30676250 | 0.7527960 | 1.419969e+00 | 0.8705536064 | 0.585167882 | 0.3141634 | 0.4849953994 | 1.6699073485 | 0.9357754970 | 0.8596767824 |\n",
       "\n"
      ],
      "text/plain": [
       "   year Aruba        Afghanistan Angola       Albania      Andorra   \n",
       "1  1960 0.0000000000 0.000000000 0.000000e+00 0.0000000000 0.00000000\n",
       "2  1965 0.0000000000 0.000000000 0.000000e+00 0.0000000000 0.00000000\n",
       "3  1966 0.0000000000 0.000000000 0.000000e+00 0.0000000000 0.00000000\n",
       "4  1967 0.0000000000 0.000000000 0.000000e+00 0.0000000000 0.00000000\n",
       "5  1968 0.0000000000 0.000000000 0.000000e+00 0.0000000000 0.00000000\n",
       "6  1969 0.0000000000 0.000000000 0.000000e+00 0.0000000000 0.00000000\n",
       "7  1970 0.0000000000 0.000000000 0.000000e+00 0.0000000000 0.00000000\n",
       "8  1971 0.0000000000 0.000000000 0.000000e+00 0.0000000000 0.00000000\n",
       "9  1972 0.0000000000 0.000000000 0.000000e+00 0.0000000000 0.00000000\n",
       "10 1973 0.0000000000 0.000000000 0.000000e+00 0.0000000000 0.00000000\n",
       "11 1974 0.0000000000 0.000000000 0.000000e+00 0.0000000000 0.00000000\n",
       "12 1975 0.0000000000 0.000000000 0.000000e+00 0.0000000000 0.00000000\n",
       "13 1976 0.0000000000 0.000000000 0.000000e+00 0.0000000000 0.00000000\n",
       "14 1977 0.0000000000 0.000000000 0.000000e+00 0.0000000000 0.00000000\n",
       "15 1978 0.0000000000 0.000000000 0.000000e+00 0.0000000000 0.00000000\n",
       "16 1979 0.0000000000 0.000000000 0.000000e+00 0.0000000000 0.00000000\n",
       "17 1980 0.0000000000 0.000000000 0.000000e+00 0.0000000000 0.00000000\n",
       "18 1981 0.0000000000 0.000000000 0.000000e+00 0.0000000000 0.00000000\n",
       "19 1982 0.0000000000 0.000000000 0.000000e+00 0.0000000000 0.00000000\n",
       "20 1983 0.0000000000 0.000000000 0.000000e+00 0.0000000000 0.00000000\n",
       "21 1984 0.0000000000 0.000000000 0.000000e+00 0.0000000000 0.00000000\n",
       "22 1985 0.0000000000 0.000000000 0.000000e+00 0.0000000000 0.00000000\n",
       "23 1986 0.0000000000 0.000000000 0.000000e+00 0.0000000000 0.00000000\n",
       "24 1987 0.0000000000 0.000000000 0.000000e+00 0.0000000000 0.00000000\n",
       "25 1988 0.0000000000 0.000000000 0.000000e+00 0.0000000000 0.00000000\n",
       "26 1989 0.0000000000 0.000000000 0.000000e+00 0.0000000000 0.00000000\n",
       "27 1990 0.0000000000 0.000000000 0.000000e+00 0.0000000000 0.00000000\n",
       "28 1991 0.0000000000 0.000000000 0.000000e+00 0.0000000000 0.00000000\n",
       "29 1992 0.0002849328 0.000000000 0.000000e+00 0.0000000000 0.01344203\n",
       "30 1993 0.0237700387 0.000000000 8.436702e-05 0.0000000000 0.01318548\n",
       "31 1994 0.0230223531 0.000000000 1.351951e-04 0.0000000000 0.01284467\n",
       "32 1995 0.0223231668 0.000000000 1.430394e-04 0.0000000000 0.04497203\n",
       "33 1996 0.0377752874 0.000000000 2.294319e-04 0.0007260025 0.08558467\n",
       "34 1997 0.0415353417 0.000000000 4.740724e-04 0.0010481911 0.13326737\n",
       "35 1998 0.0637780807 0.000000000 6.390373e-04 0.0017899780 0.21630411\n",
       "36 1999 0.1381422174 0.000000000 1.512216e-03 0.0035383678 0.31376133\n",
       "37 2000 0.1683482789 0.000000000 1.573741e-03 0.0096470507 0.35553807\n",
       "38 2001 0.5844019804 0.000000000 4.426976e-03 0.1284241120 0.43350044\n",
       "39 2002 0.6733419771 0.001190462 7.992629e-03 0.2789240284 0.46295643\n",
       "40 2003 0.7551159103 0.008831921 1.931105e-02 0.3618878174 0.70223389\n",
       "41 2004 1.0519563823 0.025473866 3.942225e-02 0.4162621051 0.75910208\n",
       "42 2005 1.0901432004 0.049157782 8.277227e-02 0.5080546587 0.80926014\n",
       "43 2006 1.1400958099 0.099045142 1.512721e-01 0.6382522981 0.86012391\n",
       "44 2007 1.1778441320 0.180285903 2.372107e-01 0.7811403100 0.81235288\n",
       "45 2008 1.2347442753 0.298934443 3.121035e-01 0.6310830811 0.84412596\n",
       "46 2009 1.2901665121 0.383417283 3.603216e-01 0.8403019758 0.87336836\n",
       "47 2010 1.3155140969 0.361834646 4.023252e-01 0.9234399615 0.91584055\n",
       "48 2011 1.3328331095 0.471808470 4.987817e-01 1.0670540187 0.92111043\n",
       "49 2012 1.3220777186 0.502191277 5.081726e-01 1.2067296901 0.89983524\n",
       "50 2013 1.3510886470 0.532636526 5.086625e-01 1.2745708945 0.89537181\n",
       "51 2014 1.3514296195 0.562412333 5.197517e-01 1.1629903250 0.92430991\n",
       "52 2015 1.3524271752 0.583643195 4.941744e-01 1.1802674555 0.99378363\n",
       "53 2016 1.3444705075 0.623624867 4.458965e-01 1.1717251932 1.04907637\n",
       "54 2017 1.3372660970 0.670530531 4.402716e-01 1.2632866961 1.08753064\n",
       "55 2018 1.3306657103 0.599670988 4.252797e-01 0.9454447009 1.10114247\n",
       "56 2019 1.3246650758 0.598366423 4.574454e-01 0.9214519981 1.15138258\n",
       "   United Arab Emirates Argentina    Armenia      American Samoa ⋯\n",
       "1  0.000000000          0.000000e+00 0.000000e+00 0.00000000     ⋯\n",
       "2  0.000000000          0.000000e+00 0.000000e+00 0.00000000     ⋯\n",
       "3  0.000000000          0.000000e+00 0.000000e+00 0.00000000     ⋯\n",
       "4  0.000000000          0.000000e+00 0.000000e+00 0.00000000     ⋯\n",
       "5  0.000000000          0.000000e+00 0.000000e+00 0.00000000     ⋯\n",
       "6  0.000000000          0.000000e+00 0.000000e+00 0.00000000     ⋯\n",
       "7  0.000000000          0.000000e+00 0.000000e+00 0.00000000     ⋯\n",
       "8  0.000000000          0.000000e+00 0.000000e+00 0.00000000     ⋯\n",
       "9  0.000000000          0.000000e+00 0.000000e+00 0.00000000     ⋯\n",
       "10 0.000000000          0.000000e+00 0.000000e+00 0.00000000     ⋯\n",
       "11 0.000000000          0.000000e+00 0.000000e+00 0.00000000     ⋯\n",
       "12 0.000000000          0.000000e+00 0.000000e+00 0.00000000     ⋯\n",
       "13 0.000000000          0.000000e+00 0.000000e+00 0.00000000     ⋯\n",
       "14 0.000000000          0.000000e+00 0.000000e+00 0.00000000     ⋯\n",
       "15 0.000000000          0.000000e+00 0.000000e+00 0.00000000     ⋯\n",
       "16 0.000000000          0.000000e+00 0.000000e+00 0.00000000     ⋯\n",
       "17 0.002297722          0.000000e+00 0.000000e+00 0.00000000     ⋯\n",
       "18 0.002117835          0.000000e+00 0.000000e+00 0.00000000     ⋯\n",
       "19 0.001995109          0.000000e+00 0.000000e+00 0.00000000     ⋯\n",
       "20 0.002876600          0.000000e+00 0.000000e+00 0.00000000     ⋯\n",
       "21 0.003775803          0.000000e+00 0.000000e+00 0.00000000     ⋯\n",
       "22 0.005741061          0.000000e+00 0.000000e+00 0.00000000     ⋯\n",
       "23 0.007625807          0.000000e+00 0.000000e+00 0.00000000     ⋯\n",
       "24 0.008693395          0.000000e+00 0.000000e+00 0.00000000     ⋯\n",
       "25 0.008196327          0.000000e+00 0.000000e+00 0.00000000     ⋯\n",
       "26 0.013896330          7.150459e-05 0.000000e+00 0.00000000     ⋯\n",
       "27 0.017682805          3.676735e-04 0.000000e+00 0.00000000     ⋯\n",
       "28 0.021410259          7.551555e-04 0.000000e+00 0.00000000     ⋯\n",
       "29 0.023107118          1.388215e-03 0.000000e+00 0.01397819     ⋯\n",
       "30 0.031754828          3.291481e-03 0.000000e+00 0.01758706     ⋯\n",
       "31 0.039286843          6.987797e-03 0.000000e+00 0.02294982     ⋯\n",
       "32 0.052999440          1.158927e-02 0.000000e+00 0.02340780     ⋯\n",
       "33 0.075406134          1.884747e-02 9.093946e-05 0.02385321     ⋯\n",
       "34 0.112522436          5.612022e-02 1.528389e-03 0.02518982     ⋯\n",
       "35 0.168770305          7.368933e-02 2.416256e-03 0.02650036     ⋯\n",
       "36 0.268598250          1.050391e-01 2.545204e-03 0.03125326     ⋯\n",
       "37 0.436596828          1.750705e-01 5.523078e-03 0.03417482     ⋯\n",
       "38 0.552950352          1.798269e-01 8.138818e-03 0.03703450     ⋯\n",
       "39 0.668748134          1.734194e-01 2.296269e-02 0.03506540     ⋯\n",
       "40 0.778823756          2.048165e-01 3.696376e-02 0.03624377     ⋯\n",
       "41 0.921534585          3.491187e-01 6.621555e-02 0.03904488     ⋯\n",
       "42 1.058165711          5.682036e-01 1.043565e-01 0.03929856     ⋯\n",
       "43 1.126771143          7.979360e-01 4.163244e-01 0.03958689     ⋯\n",
       "44 1.316277017          1.013138e+00 6.257504e-01 0.03990565     ⋯\n",
       "45 1.339307752          1.154598e+00 4.826674e-01 0.04025693     ⋯\n",
       "46 1.338730963          1.290423e+00 7.387926e-01 0.04063866     ⋯\n",
       "47 1.285108971          1.399906e+00 1.313515e+00 0.04102171     ⋯\n",
       "48 1.364398869          1.471105e+00 1.095946e+00 0.04142883     ⋯\n",
       "49 1.592619662          1.540737e+00 1.139163e+00 0.04190646     ⋯\n",
       "50 1.839611684          1.597045e+00 1.154621e+00 0.04245684     ⋯\n",
       "51 1.901323355          1.434280e+00 1.197261e+00 0.04308942     ⋯\n",
       "52 2.007424330          1.432812e+00 1.201975e+00 0.04380159     ⋯\n",
       "53 2.212521471          1.461332e+00 1.196859e+00 0.04460038     ⋯\n",
       "54 2.183431154          1.405387e+00 1.223736e+00 0.04548855     ⋯\n",
       "55 2.199084065          1.317017e+00 1.262093e+00 0.04646456     ⋯\n",
       "56 2.127738799          1.303998e+00 1.283414e+00 0.04754760     ⋯\n",
       "   Virgin Islands (British) Virgin Islands (U.S.) Viet Nam     Vanuatu     \n",
       "1  0.00000000               0.0000000             0.000000e+00 0.0000000000\n",
       "2  0.00000000               0.0000000             0.000000e+00 0.0000000000\n",
       "3  0.00000000               0.0000000             0.000000e+00 0.0000000000\n",
       "4  0.00000000               0.0000000             0.000000e+00 0.0000000000\n",
       "5  0.00000000               0.0000000             0.000000e+00 0.0000000000\n",
       "6  0.00000000               0.0000000             0.000000e+00 0.0000000000\n",
       "7  0.00000000               0.0000000             0.000000e+00 0.0000000000\n",
       "8  0.00000000               0.0000000             0.000000e+00 0.0000000000\n",
       "9  0.00000000               0.0000000             0.000000e+00 0.0000000000\n",
       "10 0.00000000               0.0000000             0.000000e+00 0.0000000000\n",
       "11 0.00000000               0.0000000             0.000000e+00 0.0000000000\n",
       "12 0.00000000               0.0000000             0.000000e+00 0.0000000000\n",
       "13 0.00000000               0.0000000             0.000000e+00 0.0000000000\n",
       "14 0.00000000               0.0000000             0.000000e+00 0.0000000000\n",
       "15 0.00000000               0.0000000             0.000000e+00 0.0000000000\n",
       "16 0.00000000               0.0000000             0.000000e+00 0.0000000000\n",
       "17 0.00000000               0.0000000             0.000000e+00 0.0000000000\n",
       "18 0.00000000               0.0000000             0.000000e+00 0.0000000000\n",
       "19 0.00000000               0.0000000             0.000000e+00 0.0000000000\n",
       "20 0.00000000               0.0000000             0.000000e+00 0.0000000000\n",
       "21 0.00000000               0.0000000             0.000000e+00 0.0000000000\n",
       "22 0.00000000               0.0000000             0.000000e+00 0.0000000000\n",
       "23 0.00000000               0.0000000             0.000000e+00 0.0000000000\n",
       "24 0.00000000               0.0000000             0.000000e+00 0.0000000000\n",
       "25 0.00000000               0.0000000             0.000000e+00 0.0000000000\n",
       "26 0.00000000               0.0000000             0.000000e+00 0.0000000000\n",
       "27 0.00000000               0.0000000             0.000000e+00 0.0000000000\n",
       "28 0.07458048               0.1526616             0.000000e+00 0.0000000000\n",
       "29 0.07283321               0.1513546             1.146317e-05 0.0000000000\n",
       "30 0.07119549               0.1501248             5.704137e-05 0.0000000000\n",
       "31 0.06954506               0.1490896             1.724112e-04 0.0003842459\n",
       "32 0.06789634               0.1483982             3.186047e-04 0.0007092115\n",
       "33 0.06622517               0.1480179             9.193231e-04 0.0008814405\n",
       "34 0.43031574               0.1476600             2.103641e-03 0.0011572586\n",
       "35 0.41930919               0.2303362             2.891282e-03 0.0012016080\n",
       "36 0.40845502               0.2762456             4.211269e-03 0.0016005805\n",
       "37 0.39793076               0.3221590             9.987197e-03 0.0019003093\n",
       "38 0.38727792               0.3777096             1.566067e-02 0.0017763432\n",
       "39 0.37579857               0.4156337             2.356083e-02 0.0242424242\n",
       "40 0.94167956               0.4543569             3.362961e-02 0.0376342530\n",
       "41 0.91129210               0.5918905             6.025909e-02 0.0494299084\n",
       "42 0.88096353               0.7404129             1.153447e-01 0.0583553889\n",
       "43 0.85104633               0.7409868             2.251292e-01 0.0672878079\n",
       "44 0.82172204               0.7412057             5.308966e-01 0.1138627953\n",
       "45 0.88071989               0.7407954             8.750282e-01 0.1538777185\n",
       "46 1.73790859               0.7407476             1.135484e+00 0.5507136331\n",
       "47 1.72376252               0.7410689             1.281303e+00 0.6925969534\n",
       "48 1.66654746               0.7415274             1.437479e+00 0.5451781579\n",
       "49 1.71352169               0.7422265             1.478142e+00 0.5674023466\n",
       "50 1.86341906               0.7432364             1.373691e+00 0.4819112524\n",
       "51 1.89154672               0.7443318             1.490648e+00 0.5779340340\n",
       "52 1.94783082               0.7455065             1.301640e+00 0.6330533429\n",
       "53 1.33494738               0.7468656             1.299308e+00 0.7732559371\n",
       "54 1.46373919               0.7485016             1.276147e+00 0.7855594872\n",
       "55 1.31860887               0.7504603             1.485550e+00 0.8442707317\n",
       "56 1.30676250               0.7527960             1.419969e+00 0.8705536064\n",
       "   Samoa       NA        Yemen        South Africa Zambia       Zimbabwe    \n",
       "1  0.000000000 0.0000000 0.0000000000 0.0000000000 0.0000000000 0.0000000000\n",
       "2  0.000000000 0.0000000 0.0000000000 0.0000000000 0.0000000000 0.0000000000\n",
       "3  0.000000000 0.0000000 0.0000000000 0.0000000000 0.0000000000 0.0000000000\n",
       "4  0.000000000 0.0000000 0.0000000000 0.0000000000 0.0000000000 0.0000000000\n",
       "5  0.000000000 0.0000000 0.0000000000 0.0000000000 0.0000000000 0.0000000000\n",
       "6  0.000000000 0.0000000 0.0000000000 0.0000000000 0.0000000000 0.0000000000\n",
       "7  0.000000000 0.0000000 0.0000000000 0.0000000000 0.0000000000 0.0000000000\n",
       "8  0.000000000 0.0000000 0.0000000000 0.0000000000 0.0000000000 0.0000000000\n",
       "9  0.000000000 0.0000000 0.0000000000 0.0000000000 0.0000000000 0.0000000000\n",
       "10 0.000000000 0.0000000 0.0000000000 0.0000000000 0.0000000000 0.0000000000\n",
       "11 0.000000000 0.0000000 0.0000000000 0.0000000000 0.0000000000 0.0000000000\n",
       "12 0.000000000 0.0000000 0.0000000000 0.0000000000 0.0000000000 0.0000000000\n",
       "13 0.000000000 0.0000000 0.0000000000 0.0000000000 0.0000000000 0.0000000000\n",
       "14 0.000000000 0.0000000 0.0000000000 0.0000000000 0.0000000000 0.0000000000\n",
       "15 0.000000000 0.0000000 0.0000000000 0.0000000000 0.0000000000 0.0000000000\n",
       "16 0.000000000 0.0000000 0.0000000000 0.0000000000 0.0000000000 0.0000000000\n",
       "17 0.000000000 0.3694938 0.0000000000 0.0000000000 0.0000000000 0.0000000000\n",
       "18 0.000000000 0.3621134 0.0000000000 0.0000000000 0.0000000000 0.0000000000\n",
       "19 0.000000000 0.3552465 0.0000000000 0.0000000000 0.0000000000 0.0000000000\n",
       "20 0.000000000 0.3482032 0.0000000000 0.0000000000 0.0000000000 0.0000000000\n",
       "21 0.000000000 0.3412265 0.0000000000 0.0000000000 0.0000000000 0.0000000000\n",
       "22 0.000000000 0.3341260 0.0000000000 0.0000000000 0.0000000000 0.0000000000\n",
       "23 0.000000000 0.3273151 0.0000000000 0.0000000000 0.0000000000 0.0000000000\n",
       "24 0.000000000 0.3205933 0.0000000000 0.0000000000 0.0000000000 0.0000000000\n",
       "25 0.000000000 0.3137912 0.0000000000 0.0000000000 0.0000000000 0.0000000000\n",
       "26 0.000000000 0.3076081 0.0000000000 0.0001029257 0.0000000000 0.0000000000\n",
       "27 0.000000000 0.3018260 0.0000000000 0.0001424360 0.0000000000 0.0000000000\n",
       "28 0.000000000 0.2961012 0.0000000000 0.0001735476 0.0000000000 0.0000000000\n",
       "29 0.000000000 0.2908903 0.0001073870 0.0002993241 0.0000000000 0.0000000000\n",
       "30 0.000000000 0.2860051 0.0003449415 0.0009406134 0.0000000000 0.0000000000\n",
       "31 0.000000000 0.2814221 0.0005265807 0.0078580046 0.0000000000 0.0000000000\n",
       "32 0.000000000 0.2769837 0.0005123161 0.0121629377 0.0001784864 0.0000000000\n",
       "33 0.000000000 0.2729480 0.0005302653 0.0213382399 0.0003055487 0.0000000000\n",
       "34 0.004290283 0.2694151 0.0007130883 0.0406315126 0.0004981849 0.0005042948\n",
       "35 0.008204673 0.2858596 0.0009143502 0.0728427966 0.0008813083 0.0016452547\n",
       "36 0.013336187 0.3189557 0.0015291573 0.1119386543 0.0029310157 0.0148509097\n",
       "37 0.013586366 0.3305882 0.0017177796 0.1781546282 0.0099988515 0.0224763230\n",
       "38 0.013474910 0.3303640 0.0077311010 0.2286696041 0.0118720984 0.0263622349\n",
       "39 0.014467127 0.3301396 0.0247702861 0.2874436595 0.0132276467 0.0282861969\n",
       "40 0.056017926 0.3299156 0.0334343811 0.3513217848 0.0222366304 0.0301428606\n",
       "41 0.085073349 0.3296919 0.0713823865 0.4283707386 0.0414728585 0.0350303568\n",
       "42 0.127235906 0.3294680 0.1069384730 0.6936348213 0.0821453246 0.0529254047\n",
       "43 0.240258952 0.3268324 0.1356623679 0.8021537971 0.1386618811 0.0688537114\n",
       "44 0.451495711 0.3242176 0.1921247576 0.8460660947 0.2128676391 0.0987906736\n",
       "45 0.469270597 0.3216238 0.2764798703 0.8899293459 0.2754228090 0.1314704685\n",
       "46 0.465896385 0.3190510 0.3458236427 0.9067675128 0.3311286373 0.3146734849\n",
       "47 0.462316101 0.3164985 0.4485945774 0.9732562883 0.3951541485 0.5996991691\n",
       "48 0.509292033 0.3137912 0.4592628008 1.2203650322 0.5719968030 0.7062914059\n",
       "49 0.504734409 0.3109945 0.5300611199 1.2870440780 0.7121223158 0.9498443725\n",
       "50 0.499652394 0.3091110 0.6225911190 1.4274148593 0.6826397364 1.0032885734\n",
       "51 0.530340955 0.3100226 0.6161428564 1.4489430034 0.6417672414 0.8516318095\n",
       "52 0.594387216 0.3142832 0.5260104266 1.5749016796 0.7139239166 0.9042781328\n",
       "53 0.734635893 0.3161643 0.5602240514 1.4604161470 0.7156590555 0.8925665398\n",
       "54 0.597216202 0.3137907 0.5127455731 1.5624666486 0.7746536113 0.9558608540\n",
       "55 0.591318115 0.3127287 0.4969063036 1.6114507879 0.8690341437 0.8570184898\n",
       "56 0.585167882 0.3141634 0.4849953994 1.6699073485 0.9357754970 0.8596767824"
      ]
     },
     "metadata": {},
     "output_type": "display_data"
    }
   ],
   "source": [
    "cntry_p_cap<-cell_pop_df%>%\n",
    "select(year,phones_per_capita,name)%>%\n",
    "pivot_wider(names_from=name,values_from = phones_per_capita)\n",
    "\n"
   ]
  },
  {
   "cell_type": "markdown",
   "metadata": {},
   "source": [
    "Then we find the countries with the five highest phones per capita in 2019, and present a selection of the data in a table aswell as plot the phones per capita of these countries in the last 10 years. As the data ends in 2019 this means the years 2009-2019 are plotted."
   ]
  },
  {
   "cell_type": "code",
   "execution_count": 48,
   "metadata": {
    "vscode": {
     "languageId": "r"
    }
   },
   "outputs": [
    {
     "data": {
      "text/html": [
       "<table class=\"dataframe\">\n",
       "<caption>A tibble: 5 × 6</caption>\n",
       "<thead>\n",
       "\t<tr><th scope=col>year</th><th scope=col>United Arab Emirates</th><th scope=col>Antigua and Barbuda</th><th scope=col>Hong Kong</th><th scope=col>Macao</th><th scope=col>Seychelles</th></tr>\n",
       "\t<tr><th scope=col>&lt;int&gt;</th><th scope=col>&lt;dbl&gt;</th><th scope=col>&lt;dbl&gt;</th><th scope=col>&lt;dbl&gt;</th><th scope=col>&lt;dbl&gt;</th><th scope=col>&lt;dbl&gt;</th></tr>\n",
       "</thead>\n",
       "<tbody>\n",
       "\t<tr><td>2015</td><td>2.007424</td><td>1.956838</td><td>2.290401</td><td>3.088231</td><td>1.584260</td></tr>\n",
       "\t<tr><td>2016</td><td>2.212521</td><td>1.987545</td><td>2.398931</td><td>3.143510</td><td>1.605459</td></tr>\n",
       "\t<tr><td>2017</td><td>2.183431</td><td>2.019337</td><td>2.488773</td><td>3.210102</td><td>1.742433</td></tr>\n",
       "\t<tr><td>2018</td><td>2.199084</td><td>2.008164</td><td>2.670209</td><td>3.348741</td><td>1.849900</td></tr>\n",
       "\t<tr><td>2019</td><td>2.127739</td><td>1.997460</td><td>2.863650</td><td>3.284849</td><td>1.987196</td></tr>\n",
       "</tbody>\n",
       "</table>\n"
      ],
      "text/latex": [
       "A tibble: 5 × 6\n",
       "\\begin{tabular}{llllll}\n",
       " year & United Arab Emirates & Antigua and Barbuda & Hong Kong & Macao & Seychelles\\\\\n",
       " <int> & <dbl> & <dbl> & <dbl> & <dbl> & <dbl>\\\\\n",
       "\\hline\n",
       "\t 2015 & 2.007424 & 1.956838 & 2.290401 & 3.088231 & 1.584260\\\\\n",
       "\t 2016 & 2.212521 & 1.987545 & 2.398931 & 3.143510 & 1.605459\\\\\n",
       "\t 2017 & 2.183431 & 2.019337 & 2.488773 & 3.210102 & 1.742433\\\\\n",
       "\t 2018 & 2.199084 & 2.008164 & 2.670209 & 3.348741 & 1.849900\\\\\n",
       "\t 2019 & 2.127739 & 1.997460 & 2.863650 & 3.284849 & 1.987196\\\\\n",
       "\\end{tabular}\n"
      ],
      "text/markdown": [
       "\n",
       "A tibble: 5 × 6\n",
       "\n",
       "| year &lt;int&gt; | United Arab Emirates &lt;dbl&gt; | Antigua and Barbuda &lt;dbl&gt; | Hong Kong &lt;dbl&gt; | Macao &lt;dbl&gt; | Seychelles &lt;dbl&gt; |\n",
       "|---|---|---|---|---|---|\n",
       "| 2015 | 2.007424 | 1.956838 | 2.290401 | 3.088231 | 1.584260 |\n",
       "| 2016 | 2.212521 | 1.987545 | 2.398931 | 3.143510 | 1.605459 |\n",
       "| 2017 | 2.183431 | 2.019337 | 2.488773 | 3.210102 | 1.742433 |\n",
       "| 2018 | 2.199084 | 2.008164 | 2.670209 | 3.348741 | 1.849900 |\n",
       "| 2019 | 2.127739 | 1.997460 | 2.863650 | 3.284849 | 1.987196 |\n",
       "\n"
      ],
      "text/plain": [
       "  year United Arab Emirates Antigua and Barbuda Hong Kong Macao    Seychelles\n",
       "1 2015 2.007424             1.956838            2.290401  3.088231 1.584260  \n",
       "2 2016 2.212521             1.987545            2.398931  3.143510 1.605459  \n",
       "3 2017 2.183431             2.019337            2.488773  3.210102 1.742433  \n",
       "4 2018 2.199084             2.008164            2.670209  3.348741 1.849900  \n",
       "5 2019 2.127739             1.997460            2.863650  3.284849 1.987196  "
      ]
     },
     "metadata": {},
     "output_type": "display_data"
    }
   ],
   "source": [
    "candidate_countries<-cntry_p_cap%>%pivot_longer(cols=!year,values_to=\"per_cap\",names_to = \"Country\")%>%\n",
    "filter(year==2019)%>%filter(min_rank(desc(per_cap)) <= 5)\n",
    "\n",
    "cntry_p_cap%>%select(year,as.character(candidate_countries$Country))%>%filter((year>=2015) & (year <=2019) )\n",
    "\n"
   ]
  },
  {
   "cell_type": "code",
   "execution_count": 47,
   "metadata": {
    "vscode": {
     "languageId": "r"
    }
   },
   "outputs": [
    {
     "data": {
      "image/png": "[encoded data removed]",
      "text/plain": [
       "plot without title"
      ]
     },
     "metadata": {
      "image/png": {
       "height": 420,
       "width": 420
      }
     },
     "output_type": "display_data"
    }
   ],
   "source": [
    "plot_df<-cntry_p_cap%>%pivot_longer(cols=!year,values_to=\"per_cap\",names_to = \"Country\")%>%\n",
    "filter(year>=2009,Country %in% (candidate_countries$Country))\n",
    "ggplot(data=plot_df)+geom_line(mapping=aes(x=year,y=per_cap,color=Country),show.legend = TRUE)+ scale_x_continuous(breaks=seq(2009, 2019, 1))\n"
   ]
  },
  {
   "cell_type": "markdown",
   "metadata": {},
   "source": [
    "We can quite clearly see that Macao seems to have the highest growth in phones per capita in the last 10 years."
   ]
  },
  {
   "cell_type": "markdown",
   "metadata": {},
   "source": [
    "# SQL\n",
    "We start by creating a SQL table by reading the user_actions.db file."
   ]
  },
  {
   "cell_type": "code",
   "execution_count": 33,
   "metadata": {
    "vscode": {
     "languageId": "r"
    }
   },
   "outputs": [],
   "source": [
    "table<-dbConnect(RSQLite::SQLite(), \"data/user_actions.db\")\n"
   ]
  },
  {
   "cell_type": "markdown",
   "metadata": {},
   "source": [
    "In order to find users that have performed the signup action, we create a query that from all actions selects the unique usernames of each user that has performed the action \"signup\" then the query is sorted by user_id just to make it more readable."
   ]
  },
  {
   "cell_type": "code",
   "execution_count": 22,
   "metadata": {
    "vscode": {
     "languageId": "r"
    }
   },
   "outputs": [
    {
     "data": {
      "text/html": [
       "<table class=\"dataframe\">\n",
       "<caption>A data.frame: 35 × 1</caption>\n",
       "<thead>\n",
       "\t<tr><th scope=col>username</th></tr>\n",
       "\t<tr><th scope=col>&lt;chr&gt;</th></tr>\n",
       "</thead>\n",
       "<tbody>\n",
       "\t<tr><td>user1 </td></tr>\n",
       "\t<tr><td>user2 </td></tr>\n",
       "\t<tr><td>user3 </td></tr>\n",
       "\t<tr><td>user4 </td></tr>\n",
       "\t<tr><td>user5 </td></tr>\n",
       "\t<tr><td>user6 </td></tr>\n",
       "\t<tr><td>user7 </td></tr>\n",
       "\t<tr><td>user8 </td></tr>\n",
       "\t<tr><td>user9 </td></tr>\n",
       "\t<tr><td>user10</td></tr>\n",
       "\t<tr><td>user11</td></tr>\n",
       "\t<tr><td>user12</td></tr>\n",
       "\t<tr><td>user13</td></tr>\n",
       "\t<tr><td>user14</td></tr>\n",
       "\t<tr><td>user15</td></tr>\n",
       "\t<tr><td>user16</td></tr>\n",
       "\t<tr><td>user17</td></tr>\n",
       "\t<tr><td>user18</td></tr>\n",
       "\t<tr><td>user19</td></tr>\n",
       "\t<tr><td>user20</td></tr>\n",
       "\t<tr><td>user21</td></tr>\n",
       "\t<tr><td>user22</td></tr>\n",
       "\t<tr><td>user23</td></tr>\n",
       "\t<tr><td>user24</td></tr>\n",
       "\t<tr><td>user25</td></tr>\n",
       "\t<tr><td>user26</td></tr>\n",
       "\t<tr><td>user27</td></tr>\n",
       "\t<tr><td>user28</td></tr>\n",
       "\t<tr><td>user29</td></tr>\n",
       "\t<tr><td>user30</td></tr>\n",
       "\t<tr><td>user31</td></tr>\n",
       "\t<tr><td>user32</td></tr>\n",
       "\t<tr><td>user33</td></tr>\n",
       "\t<tr><td>user34</td></tr>\n",
       "\t<tr><td>user35</td></tr>\n",
       "</tbody>\n",
       "</table>\n"
      ],
      "text/latex": [
       "A data.frame: 35 × 1\n",
       "\\begin{tabular}{l}\n",
       " username\\\\\n",
       " <chr>\\\\\n",
       "\\hline\n",
       "\t user1 \\\\\n",
       "\t user2 \\\\\n",
       "\t user3 \\\\\n",
       "\t user4 \\\\\n",
       "\t user5 \\\\\n",
       "\t user6 \\\\\n",
       "\t user7 \\\\\n",
       "\t user8 \\\\\n",
       "\t user9 \\\\\n",
       "\t user10\\\\\n",
       "\t user11\\\\\n",
       "\t user12\\\\\n",
       "\t user13\\\\\n",
       "\t user14\\\\\n",
       "\t user15\\\\\n",
       "\t user16\\\\\n",
       "\t user17\\\\\n",
       "\t user18\\\\\n",
       "\t user19\\\\\n",
       "\t user20\\\\\n",
       "\t user21\\\\\n",
       "\t user22\\\\\n",
       "\t user23\\\\\n",
       "\t user24\\\\\n",
       "\t user25\\\\\n",
       "\t user26\\\\\n",
       "\t user27\\\\\n",
       "\t user28\\\\\n",
       "\t user29\\\\\n",
       "\t user30\\\\\n",
       "\t user31\\\\\n",
       "\t user32\\\\\n",
       "\t user33\\\\\n",
       "\t user34\\\\\n",
       "\t user35\\\\\n",
       "\\end{tabular}\n"
      ],
      "text/markdown": [
       "\n",
       "A data.frame: 35 × 1\n",
       "\n",
       "| username &lt;chr&gt; |\n",
       "|---|\n",
       "| user1  |\n",
       "| user2  |\n",
       "| user3  |\n",
       "| user4  |\n",
       "| user5  |\n",
       "| user6  |\n",
       "| user7  |\n",
       "| user8  |\n",
       "| user9  |\n",
       "| user10 |\n",
       "| user11 |\n",
       "| user12 |\n",
       "| user13 |\n",
       "| user14 |\n",
       "| user15 |\n",
       "| user16 |\n",
       "| user17 |\n",
       "| user18 |\n",
       "| user19 |\n",
       "| user20 |\n",
       "| user21 |\n",
       "| user22 |\n",
       "| user23 |\n",
       "| user24 |\n",
       "| user25 |\n",
       "| user26 |\n",
       "| user27 |\n",
       "| user28 |\n",
       "| user29 |\n",
       "| user30 |\n",
       "| user31 |\n",
       "| user32 |\n",
       "| user33 |\n",
       "| user34 |\n",
       "| user35 |\n",
       "\n"
      ],
      "text/plain": [
       "   username\n",
       "1  user1   \n",
       "2  user2   \n",
       "3  user3   \n",
       "4  user4   \n",
       "5  user5   \n",
       "6  user6   \n",
       "7  user7   \n",
       "8  user8   \n",
       "9  user9   \n",
       "10 user10  \n",
       "11 user11  \n",
       "12 user12  \n",
       "13 user13  \n",
       "14 user14  \n",
       "15 user15  \n",
       "16 user16  \n",
       "17 user17  \n",
       "18 user18  \n",
       "19 user19  \n",
       "20 user20  \n",
       "21 user21  \n",
       "22 user22  \n",
       "23 user23  \n",
       "24 user24  \n",
       "25 user25  \n",
       "26 user26  \n",
       "27 user27  \n",
       "28 user28  \n",
       "29 user29  \n",
       "30 user30  \n",
       "31 user31  \n",
       "32 user32  \n",
       "33 user33  \n",
       "34 user34  \n",
       "35 user35  "
      ]
     },
     "metadata": {},
     "output_type": "display_data"
    }
   ],
   "source": [
    "\n",
    "dbGetQuery(table, 'SELECT DISTINCT(username) FROM user_actions WHERE action == \"signup\" ORDER BY user_id;')\n"
   ]
  },
  {
   "cell_type": "markdown",
   "metadata": {},
   "source": [
    "Its not surprising that every user is returned as all of them mustve signed up at some point.\n",
    "\n",
    "To get the total number of log entries for each user, a query is mad where we select user_id, username and the count of all actions grouped by user_id and username, then once again the results are ordered by user_id so its easier to read.\n"
   ]
  },
  {
   "cell_type": "code",
   "execution_count": 23,
   "metadata": {
    "vscode": {
     "languageId": "r"
    }
   },
   "outputs": [
    {
     "data": {
      "text/html": [
       "<table class=\"dataframe\">\n",
       "<caption>A data.frame: 35 × 3</caption>\n",
       "<thead>\n",
       "\t<tr><th scope=col>user_id</th><th scope=col>username</th><th scope=col>count</th></tr>\n",
       "\t<tr><th scope=col>&lt;int&gt;</th><th scope=col>&lt;chr&gt;</th><th scope=col>&lt;int&gt;</th></tr>\n",
       "</thead>\n",
       "<tbody>\n",
       "\t<tr><td> 1</td><td>user1 </td><td>104</td></tr>\n",
       "\t<tr><td> 2</td><td>user2 </td><td>149</td></tr>\n",
       "\t<tr><td> 3</td><td>user3 </td><td>108</td></tr>\n",
       "\t<tr><td> 4</td><td>user4 </td><td>436</td></tr>\n",
       "\t<tr><td> 5</td><td>user5 </td><td>192</td></tr>\n",
       "\t<tr><td> 6</td><td>user6 </td><td>457</td></tr>\n",
       "\t<tr><td> 7</td><td>user7 </td><td>362</td></tr>\n",
       "\t<tr><td> 8</td><td>user8 </td><td>329</td></tr>\n",
       "\t<tr><td> 9</td><td>user9 </td><td>118</td></tr>\n",
       "\t<tr><td>10</td><td>user10</td><td>170</td></tr>\n",
       "\t<tr><td>11</td><td>user11</td><td>328</td></tr>\n",
       "\t<tr><td>12</td><td>user12</td><td>209</td></tr>\n",
       "\t<tr><td>13</td><td>user13</td><td>470</td></tr>\n",
       "\t<tr><td>14</td><td>user14</td><td>320</td></tr>\n",
       "\t<tr><td>15</td><td>user15</td><td> 35</td></tr>\n",
       "\t<tr><td>16</td><td>user16</td><td>379</td></tr>\n",
       "\t<tr><td>17</td><td>user17</td><td>367</td></tr>\n",
       "\t<tr><td>18</td><td>user18</td><td>122</td></tr>\n",
       "\t<tr><td>19</td><td>user19</td><td> 58</td></tr>\n",
       "\t<tr><td>20</td><td>user20</td><td>362</td></tr>\n",
       "\t<tr><td>21</td><td>user21</td><td>323</td></tr>\n",
       "\t<tr><td>22</td><td>user22</td><td>275</td></tr>\n",
       "\t<tr><td>23</td><td>user23</td><td>309</td></tr>\n",
       "\t<tr><td>24</td><td>user24</td><td>162</td></tr>\n",
       "\t<tr><td>25</td><td>user25</td><td>136</td></tr>\n",
       "\t<tr><td>26</td><td>user26</td><td>217</td></tr>\n",
       "\t<tr><td>27</td><td>user27</td><td>211</td></tr>\n",
       "\t<tr><td>28</td><td>user28</td><td> 91</td></tr>\n",
       "\t<tr><td>29</td><td>user29</td><td> 49</td></tr>\n",
       "\t<tr><td>30</td><td>user30</td><td>165</td></tr>\n",
       "\t<tr><td>31</td><td>user31</td><td>389</td></tr>\n",
       "\t<tr><td>32</td><td>user32</td><td> 32</td></tr>\n",
       "\t<tr><td>33</td><td>user33</td><td> 32</td></tr>\n",
       "\t<tr><td>34</td><td>user34</td><td>180</td></tr>\n",
       "\t<tr><td>35</td><td>user35</td><td>394</td></tr>\n",
       "</tbody>\n",
       "</table>\n"
      ],
      "text/latex": [
       "A data.frame: 35 × 3\n",
       "\\begin{tabular}{lll}\n",
       " user\\_id & username & count\\\\\n",
       " <int> & <chr> & <int>\\\\\n",
       "\\hline\n",
       "\t  1 & user1  & 104\\\\\n",
       "\t  2 & user2  & 149\\\\\n",
       "\t  3 & user3  & 108\\\\\n",
       "\t  4 & user4  & 436\\\\\n",
       "\t  5 & user5  & 192\\\\\n",
       "\t  6 & user6  & 457\\\\\n",
       "\t  7 & user7  & 362\\\\\n",
       "\t  8 & user8  & 329\\\\\n",
       "\t  9 & user9  & 118\\\\\n",
       "\t 10 & user10 & 170\\\\\n",
       "\t 11 & user11 & 328\\\\\n",
       "\t 12 & user12 & 209\\\\\n",
       "\t 13 & user13 & 470\\\\\n",
       "\t 14 & user14 & 320\\\\\n",
       "\t 15 & user15 &  35\\\\\n",
       "\t 16 & user16 & 379\\\\\n",
       "\t 17 & user17 & 367\\\\\n",
       "\t 18 & user18 & 122\\\\\n",
       "\t 19 & user19 &  58\\\\\n",
       "\t 20 & user20 & 362\\\\\n",
       "\t 21 & user21 & 323\\\\\n",
       "\t 22 & user22 & 275\\\\\n",
       "\t 23 & user23 & 309\\\\\n",
       "\t 24 & user24 & 162\\\\\n",
       "\t 25 & user25 & 136\\\\\n",
       "\t 26 & user26 & 217\\\\\n",
       "\t 27 & user27 & 211\\\\\n",
       "\t 28 & user28 &  91\\\\\n",
       "\t 29 & user29 &  49\\\\\n",
       "\t 30 & user30 & 165\\\\\n",
       "\t 31 & user31 & 389\\\\\n",
       "\t 32 & user32 &  32\\\\\n",
       "\t 33 & user33 &  32\\\\\n",
       "\t 34 & user34 & 180\\\\\n",
       "\t 35 & user35 & 394\\\\\n",
       "\\end{tabular}\n"
      ],
      "text/markdown": [
       "\n",
       "A data.frame: 35 × 3\n",
       "\n",
       "| user_id &lt;int&gt; | username &lt;chr&gt; | count &lt;int&gt; |\n",
       "|---|---|---|\n",
       "|  1 | user1  | 104 |\n",
       "|  2 | user2  | 149 |\n",
       "|  3 | user3  | 108 |\n",
       "|  4 | user4  | 436 |\n",
       "|  5 | user5  | 192 |\n",
       "|  6 | user6  | 457 |\n",
       "|  7 | user7  | 362 |\n",
       "|  8 | user8  | 329 |\n",
       "|  9 | user9  | 118 |\n",
       "| 10 | user10 | 170 |\n",
       "| 11 | user11 | 328 |\n",
       "| 12 | user12 | 209 |\n",
       "| 13 | user13 | 470 |\n",
       "| 14 | user14 | 320 |\n",
       "| 15 | user15 |  35 |\n",
       "| 16 | user16 | 379 |\n",
       "| 17 | user17 | 367 |\n",
       "| 18 | user18 | 122 |\n",
       "| 19 | user19 |  58 |\n",
       "| 20 | user20 | 362 |\n",
       "| 21 | user21 | 323 |\n",
       "| 22 | user22 | 275 |\n",
       "| 23 | user23 | 309 |\n",
       "| 24 | user24 | 162 |\n",
       "| 25 | user25 | 136 |\n",
       "| 26 | user26 | 217 |\n",
       "| 27 | user27 | 211 |\n",
       "| 28 | user28 |  91 |\n",
       "| 29 | user29 |  49 |\n",
       "| 30 | user30 | 165 |\n",
       "| 31 | user31 | 389 |\n",
       "| 32 | user32 |  32 |\n",
       "| 33 | user33 |  32 |\n",
       "| 34 | user34 | 180 |\n",
       "| 35 | user35 | 394 |\n",
       "\n"
      ],
      "text/plain": [
       "   user_id username count\n",
       "1   1      user1    104  \n",
       "2   2      user2    149  \n",
       "3   3      user3    108  \n",
       "4   4      user4    436  \n",
       "5   5      user5    192  \n",
       "6   6      user6    457  \n",
       "7   7      user7    362  \n",
       "8   8      user8    329  \n",
       "9   9      user9    118  \n",
       "10 10      user10   170  \n",
       "11 11      user11   328  \n",
       "12 12      user12   209  \n",
       "13 13      user13   470  \n",
       "14 14      user14   320  \n",
       "15 15      user15    35  \n",
       "16 16      user16   379  \n",
       "17 17      user17   367  \n",
       "18 18      user18   122  \n",
       "19 19      user19    58  \n",
       "20 20      user20   362  \n",
       "21 21      user21   323  \n",
       "22 22      user22   275  \n",
       "23 23      user23   309  \n",
       "24 24      user24   162  \n",
       "25 25      user25   136  \n",
       "26 26      user26   217  \n",
       "27 27      user27   211  \n",
       "28 28      user28    91  \n",
       "29 29      user29    49  \n",
       "30 30      user30   165  \n",
       "31 31      user31   389  \n",
       "32 32      user32    32  \n",
       "33 33      user33    32  \n",
       "34 34      user34   180  \n",
       "35 35      user35   394  "
      ]
     },
     "metadata": {},
     "output_type": "display_data"
    }
   ],
   "source": [
    "dbGetQuery(table, 'SELECT user_id,username,COUNT(*) as count \n",
    "FROM user_actions \n",
    "GROUP BY user_id,username \n",
    "ORDER BY user_id;')"
   ]
  },
  {
   "cell_type": "markdown",
   "metadata": {},
   "source": [
    "From this query we can se that the number of logs vary greatly with each user.\n",
    "\n",
    "To find all users that have both signed up and logged in on the same day we make two queries act1 and act2. Such that act1 is \"login\" and act2 \"signup\" and such that they occured on the same day, lastly the query is ordered by user_id."
   ]
  },
  {
   "cell_type": "code",
   "execution_count": 34,
   "metadata": {
    "vscode": {
     "languageId": "r"
    }
   },
   "outputs": [
    {
     "data": {
      "text/html": [
       "<table class=\"dataframe\">\n",
       "<caption>A data.frame: 29 × 2</caption>\n",
       "<thead>\n",
       "\t<tr><th scope=col>user_id</th><th scope=col>username</th></tr>\n",
       "\t<tr><th scope=col>&lt;int&gt;</th><th scope=col>&lt;chr&gt;</th></tr>\n",
       "</thead>\n",
       "<tbody>\n",
       "\t<tr><td> 1</td><td>user1 </td></tr>\n",
       "\t<tr><td> 2</td><td>user2 </td></tr>\n",
       "\t<tr><td> 4</td><td>user4 </td></tr>\n",
       "\t<tr><td> 5</td><td>user5 </td></tr>\n",
       "\t<tr><td> 6</td><td>user6 </td></tr>\n",
       "\t<tr><td> 7</td><td>user7 </td></tr>\n",
       "\t<tr><td> 8</td><td>user8 </td></tr>\n",
       "\t<tr><td> 9</td><td>user9 </td></tr>\n",
       "\t<tr><td>10</td><td>user10</td></tr>\n",
       "\t<tr><td>11</td><td>user11</td></tr>\n",
       "\t<tr><td>12</td><td>user12</td></tr>\n",
       "\t<tr><td>13</td><td>user13</td></tr>\n",
       "\t<tr><td>14</td><td>user14</td></tr>\n",
       "\t<tr><td>16</td><td>user16</td></tr>\n",
       "\t<tr><td>17</td><td>user17</td></tr>\n",
       "\t<tr><td>20</td><td>user20</td></tr>\n",
       "\t<tr><td>21</td><td>user21</td></tr>\n",
       "\t<tr><td>22</td><td>user22</td></tr>\n",
       "\t<tr><td>23</td><td>user23</td></tr>\n",
       "\t<tr><td>24</td><td>user24</td></tr>\n",
       "\t<tr><td>25</td><td>user25</td></tr>\n",
       "\t<tr><td>26</td><td>user26</td></tr>\n",
       "\t<tr><td>27</td><td>user27</td></tr>\n",
       "\t<tr><td>28</td><td>user28</td></tr>\n",
       "\t<tr><td>29</td><td>user29</td></tr>\n",
       "\t<tr><td>30</td><td>user30</td></tr>\n",
       "\t<tr><td>31</td><td>user31</td></tr>\n",
       "\t<tr><td>32</td><td>user32</td></tr>\n",
       "\t<tr><td>34</td><td>user34</td></tr>\n",
       "</tbody>\n",
       "</table>\n"
      ],
      "text/latex": [
       "A data.frame: 29 × 2\n",
       "\\begin{tabular}{ll}\n",
       " user\\_id & username\\\\\n",
       " <int> & <chr>\\\\\n",
       "\\hline\n",
       "\t  1 & user1 \\\\\n",
       "\t  2 & user2 \\\\\n",
       "\t  4 & user4 \\\\\n",
       "\t  5 & user5 \\\\\n",
       "\t  6 & user6 \\\\\n",
       "\t  7 & user7 \\\\\n",
       "\t  8 & user8 \\\\\n",
       "\t  9 & user9 \\\\\n",
       "\t 10 & user10\\\\\n",
       "\t 11 & user11\\\\\n",
       "\t 12 & user12\\\\\n",
       "\t 13 & user13\\\\\n",
       "\t 14 & user14\\\\\n",
       "\t 16 & user16\\\\\n",
       "\t 17 & user17\\\\\n",
       "\t 20 & user20\\\\\n",
       "\t 21 & user21\\\\\n",
       "\t 22 & user22\\\\\n",
       "\t 23 & user23\\\\\n",
       "\t 24 & user24\\\\\n",
       "\t 25 & user25\\\\\n",
       "\t 26 & user26\\\\\n",
       "\t 27 & user27\\\\\n",
       "\t 28 & user28\\\\\n",
       "\t 29 & user29\\\\\n",
       "\t 30 & user30\\\\\n",
       "\t 31 & user31\\\\\n",
       "\t 32 & user32\\\\\n",
       "\t 34 & user34\\\\\n",
       "\\end{tabular}\n"
      ],
      "text/markdown": [
       "\n",
       "A data.frame: 29 × 2\n",
       "\n",
       "| user_id &lt;int&gt; | username &lt;chr&gt; |\n",
       "|---|---|\n",
       "|  1 | user1  |\n",
       "|  2 | user2  |\n",
       "|  4 | user4  |\n",
       "|  5 | user5  |\n",
       "|  6 | user6  |\n",
       "|  7 | user7  |\n",
       "|  8 | user8  |\n",
       "|  9 | user9  |\n",
       "| 10 | user10 |\n",
       "| 11 | user11 |\n",
       "| 12 | user12 |\n",
       "| 13 | user13 |\n",
       "| 14 | user14 |\n",
       "| 16 | user16 |\n",
       "| 17 | user17 |\n",
       "| 20 | user20 |\n",
       "| 21 | user21 |\n",
       "| 22 | user22 |\n",
       "| 23 | user23 |\n",
       "| 24 | user24 |\n",
       "| 25 | user25 |\n",
       "| 26 | user26 |\n",
       "| 27 | user27 |\n",
       "| 28 | user28 |\n",
       "| 29 | user29 |\n",
       "| 30 | user30 |\n",
       "| 31 | user31 |\n",
       "| 32 | user32 |\n",
       "| 34 | user34 |\n",
       "\n"
      ],
      "text/plain": [
       "   user_id username\n",
       "1   1      user1   \n",
       "2   2      user2   \n",
       "3   4      user4   \n",
       "4   5      user5   \n",
       "5   6      user6   \n",
       "6   7      user7   \n",
       "7   8      user8   \n",
       "8   9      user9   \n",
       "9  10      user10  \n",
       "10 11      user11  \n",
       "11 12      user12  \n",
       "12 13      user13  \n",
       "13 14      user14  \n",
       "14 16      user16  \n",
       "15 17      user17  \n",
       "16 20      user20  \n",
       "17 21      user21  \n",
       "18 22      user22  \n",
       "19 23      user23  \n",
       "20 24      user24  \n",
       "21 25      user25  \n",
       "22 26      user26  \n",
       "23 27      user27  \n",
       "24 28      user28  \n",
       "25 29      user29  \n",
       "26 30      user30  \n",
       "27 31      user31  \n",
       "28 32      user32  \n",
       "29 34      user34  "
      ]
     },
     "metadata": {},
     "output_type": "display_data"
    }
   ],
   "source": [
    "dbGetQuery(table, '\n",
    "SELECT DISTINCT(user_id), username\n",
    "FROM \n",
    "    user_actions act1\n",
    "WHERE EXISTS\n",
    "(\n",
    "    SELECT *\n",
    "    FROM \n",
    "        user_actions act2\n",
    "    WHERE \n",
    "        act2.action==\"signup\" \n",
    "        AND \n",
    "        strftime(\"%Y-%m-%d\",act1.timestamp)=strftime(\"%Y-%m-%d\",act2.timestamp) \n",
    ") \n",
    "AND \n",
    "act1.action=\"login\"\n",
    "ORDER BY user_id;')"
   ]
  },
  {
   "cell_type": "markdown",
   "metadata": {},
   "source": [
    "Once again its not that surprising that most of the users that have signed up also log in during the same day as there would be no point in signing up if the user did not intend to use the service.\n",
    "\n",
    "Finally we close the connection to the database before we continue."
   ]
  },
  {
   "cell_type": "code",
   "execution_count": 26,
   "metadata": {
    "vscode": {
     "languageId": "r"
    }
   },
   "outputs": [],
   "source": [
    "dbDisconnect(table, \"data/user_actions.db\")"
   ]
  },
  {
   "cell_type": "markdown",
   "metadata": {},
   "source": [
    "# Regex\n"
   ]
  },
  {
   "cell_type": "markdown",
   "metadata": {},
   "source": [
    "In order to use regular expression to find different hashtags we start by reading each line from the file comments.txt.\n",
    "\n",
    "We look closer at the first comment before we try to extract the hashtags from it."
   ]
  },
  {
   "cell_type": "code",
   "execution_count": 27,
   "metadata": {
    "vscode": {
     "languageId": "r"
    }
   },
   "outputs": [
    {
     "name": "stdout",
     "output_type": "stream",
     "text": [
      "1. Great post! #programming #tips"
     ]
    }
   ],
   "source": [
    "comments<-readLines(\"data/comments.txt\")\n",
    "cat(comments[1])"
   ]
  },
  {
   "cell_type": "markdown",
   "metadata": {},
   "source": [
    "So the hashtags extracted from this comment should be #programing and #tips.\n",
    "\n",
    "We can the select all strings matching the pattern (#[\\w]+) which matches text that starts with # followed by one or more word characters"
   ]
  },
  {
   "cell_type": "code",
   "execution_count": 28,
   "metadata": {
    "vscode": {
     "languageId": "r"
    }
   },
   "outputs": [
    {
     "name": "stdout",
     "output_type": "stream",
     "text": [
      "#programming #tips"
     ]
    }
   ],
   "source": [
    "mod_comment<-str_extract_all(comments,pattern=\"(#[\\\\w]+)\")\n",
    "cat(mod_comment[[1]][1],mod_comment[[1]][2])\n"
   ]
  },
  {
   "cell_type": "markdown",
   "metadata": {},
   "source": [
    "As we can see the regular expression matches are the hashtags that we excpected.\n",
    "\n",
    "In order to return all comments containing both #programming and #tips we start by matching zero or more of all characters that are not \" . \n",
    "Then we match one or more of either #programming or #python followed by zero or more of any character then we once again match one ore more of either #programming or #python followed by zero or more of any character except \".\n",
    "\n",
    "We then check if this matches comment two"
   ]
  },
  {
   "cell_type": "code",
   "execution_count": 29,
   "metadata": {
    "vscode": {
     "languageId": "r"
    }
   },
   "outputs": [
    {
     "data": {
      "text/html": [],
      "text/latex": [],
      "text/markdown": [],
      "text/plain": [
       "character(0)"
      ]
     },
     "metadata": {},
     "output_type": "display_data"
    }
   ],
   "source": [
    "prog_pyt<-str_extract_all(comments,pattern='[^\\\"]*(#(python)|#(programming))+.*(#(python)|#(programming))+[^\\\"]*')\n",
    "prog_pyt[[2]]\n"
   ]
  },
  {
   "cell_type": "markdown",
   "metadata": {},
   "source": [
    "Comment two does not match, we therefore check what the commment was"
   ]
  },
  {
   "cell_type": "code",
   "execution_count": 30,
   "metadata": {
    "vscode": {
     "languageId": "r"
    }
   },
   "outputs": [
    {
     "name": "stdout",
     "output_type": "stream",
     "text": [
      "2. \"Enjoyed the article. #coding #python\""
     ]
    }
   ],
   "source": [
    "cat(comments[[2]])"
   ]
  },
  {
   "cell_type": "markdown",
   "metadata": {},
   "source": [
    "As the comment only contained #python it is correct as it should not have matched. \n",
    "But if we look at comment 6 we get"
   ]
  },
  {
   "cell_type": "code",
   "execution_count": 31,
   "metadata": {
    "vscode": {
     "languageId": "r"
    }
   },
   "outputs": [
    {
     "name": "stdout",
     "output_type": "stream",
     "text": [
      "I learned a lot. #programming #python #tips"
     ]
    }
   ],
   "source": [
    "cat(prog_pyt[[6]])"
   ]
  },
  {
   "cell_type": "markdown",
   "metadata": {},
   "source": [
    "Which is the correct output as the comment contained both #programming and #python."
   ]
  }
 ],
 "metadata": {
  "kernelspec": {
   "display_name": "R",
   "language": "R",
   "name": "ir"
  },
  "language_info": {
   "codemirror_mode": "r",
   "file_extension": ".r",
   "mimetype": "text/x-r-source",
   "name": "R",
   "pygments_lexer": "r",
   "version": "4.4.1"
  }
 },
 "nbformat": 4,
 "nbformat_minor": 2
}
